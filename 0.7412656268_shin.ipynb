{
 "cells": [
  {
   "cell_type": "markdown",
   "metadata": {},
   "source": [
    "### Libraries"
   ]
  },
  {
   "cell_type": "code",
   "execution_count": 1,
   "metadata": {},
   "outputs": [],
   "source": [
    "import numpy as np\n",
    "import pandas as pd\n",
    "import warnings\n",
    "\n",
    "from catboost import CatBoostClassifier\n",
    "from xgboost import XGBClassifier\n",
    "from lightgbm import LGBMClassifier\n",
    "from sklearn.model_selection import train_test_split, StratifiedKFold\n",
    "from sklearn.preprocessing import LabelEncoder\n",
    "from sklearn.ensemble import VotingClassifier, AdaBoostClassifier\n",
    "from sklearn.tree import DecisionTreeClassifier\n",
    "from sklearn.metrics import accuracy_score, precision_score, recall_score, f1_score, roc_auc_score, confusion_matrix"
   ]
  },
  {
   "cell_type": "markdown",
   "metadata": {},
   "source": [
    "### Load data"
   ]
  },
  {
   "cell_type": "code",
   "execution_count": 2,
   "metadata": {},
   "outputs": [],
   "source": [
    "from dotenv import load_dotenv\n",
    "import os \n",
    "load_dotenv()\n",
    "df_train = pd.read_csv(os.getenv('TRAIN_DATA_PATH')).drop(columns=['ID'])\n",
    "df_test = pd.read_csv(os.getenv('TEST_DATA_PATH')).drop(columns=['ID'])\n",
    "\n",
    "df_train.head(8).to_csv('train_sample.csv', encoding = 'utf-8-sig', index = False)\n",
    "\n",
    "# df_train = pd.read_csv('data/train.csv').drop(columns=['ID'])\n",
    "# df_test = pd.read_csv('data/test.csv').drop(columns=['ID'])"
   ]
  },
  {
   "cell_type": "code",
   "execution_count": 4,
   "metadata": {},
   "outputs": [],
   "source": [
    "# print(df_train.shape)\n",
    "# df_train.head(2)"
   ]
  },
  {
   "cell_type": "code",
   "execution_count": 5,
   "metadata": {},
   "outputs": [],
   "source": [
    "# print(df_test.shape)\n",
    "# df_test.head(2)"
   ]
  },
  {
   "cell_type": "markdown",
   "metadata": {},
   "source": [
    "### Preprocessing"
   ]
  },
  {
   "cell_type": "markdown",
   "metadata": {},
   "source": [
    "#### 컬럼 제거"
   ]
  },
  {
   "cell_type": "code",
   "execution_count": 6,
   "metadata": {},
   "outputs": [
    {
     "name": "stdout",
     "output_type": "stream",
     "text": [
      "제거된 컬럼 개수: 9\n",
      "제거된 컬럼: ['PGS 시술 여부', '난자 채취 경과일', '난자 해동 경과일', '착상 전 유전 검사 사용 여부', '배란 유도 유형', '배아 해동 경과일', 'PGD 시술 여부', '임신 시도 또는 마지막 임신 경과 연수', '불임 원인 - 여성 요인']\n",
      "df_train.shape: (256351, 59)\n",
      "df_test.shape: (90067, 58)\n"
     ]
    }
   ],
   "source": [
    "# 결측 비율 80% 이상 제거\n",
    "missing_ratio = df_train.isnull().mean()\n",
    "column_missing = missing_ratio[missing_ratio >= 0.8].index.tolist()\n",
    "\n",
    "# nunique = 1 제거 \n",
    "unique_counts = df_train.nunique()\n",
    "column_nunique = unique_counts[unique_counts == 1].index.tolist()\n",
    "\n",
    "# 컬럼 제거\n",
    "dropped_columns = list(set(column_missing + column_nunique + ['배란 유도 유형']))\n",
    "\n",
    "df_train = df_train.drop(columns=dropped_columns)\n",
    "df_test = df_test.drop(columns=dropped_columns)\n",
    "\n",
    "print(\"제거된 컬럼 개수:\", len(dropped_columns))\n",
    "print(\"제거된 컬럼:\", dropped_columns)\n",
    "print(\"df_train.shape:\", df_train.shape)\n",
    "print(\"df_test.shape:\", df_test.shape)"
   ]
  },
  {
   "cell_type": "markdown",
   "metadata": {},
   "source": [
    "#### 29-38. astype(int)"
   ]
  },
  {
   "cell_type": "code",
   "execution_count": 7,
   "metadata": {},
   "outputs": [
    {
     "name": "stdout",
     "output_type": "stream",
     "text": [
      "변환된 컬럼: ['총 시술 횟수', '클리닉 내 총 시술 횟수', 'IVF 시술 횟수', 'DI 시술 횟수', '총 임신 횟수', 'IVF 임신 횟수', 'DI 임신 횟수', '총 출산 횟수', 'IVF 출산 횟수', 'DI 출산 횟수']\n"
     ]
    }
   ],
   "source": [
    "# '횟수'를 포함하는 컬럼 찾기\n",
    "count_columns = [col for col in df_train.columns if '횟수' in col]\n",
    "\n",
    "def extract_number(value):\n",
    "    if isinstance(value, str):\n",
    "        return int(value[0])  # 맨 앞자리 숫자로 변환\n",
    "    return value\n",
    "\n",
    "for col in count_columns:\n",
    "    df_train[col] = df_train[col].apply(extract_number).astype(int)\n",
    "    df_test[col] = df_test[col].apply(extract_number).astype(int)\n",
    "print(\"변환된 컬럼:\", count_columns)"
   ]
  },
  {
   "cell_type": "markdown",
   "metadata": {},
   "source": [
    "#### 29,31,32. 총 시술 횟수 재정의"
   ]
  },
  {
   "cell_type": "code",
   "execution_count": 8,
   "metadata": {},
   "outputs": [],
   "source": [
    "# 총 시술 횟수 재정의\n",
    "def update_total_counts(df):\n",
    "    df['총 시술 횟수'] = df['IVF 시술 횟수'] + df['DI 시술 횟수']\n",
    "    df['총 임신 횟수'] = df['IVF 임신 횟수'] + df['DI 임신 횟수']\n",
    "    df['총 출산 횟수'] = df['IVF 출산 횟수'] + df['DI 출산 횟수']\n",
    "    return df\n",
    "\n",
    "df_train = update_total_counts(df_train)\n",
    "df_test = update_total_counts(df_test)"
   ]
  },
  {
   "cell_type": "markdown",
   "metadata": {},
   "source": [
    "#### 2. 55-56. 나이"
   ]
  },
  {
   "cell_type": "code",
   "execution_count": 9,
   "metadata": {},
   "outputs": [],
   "source": [
    "# # 중앙값으로 나이 변환\n",
    "# def mapping_age(df, column, age):\n",
    "#     df[column] = df[column].map(age)\n",
    "#     return df\n",
    "\n",
    "# patient_age = {\n",
    "#     '만18-34세': 26,  \n",
    "#     '만35-37세': 36,  \n",
    "#     '만38-39세': 38.5,  \n",
    "#     '만40-42세': 41,  \n",
    "#     '만43-44세': 43.5,  \n",
    "#     '만45-50세': 47.5,  \n",
    "# #     '알 수 없음': (38.5 + 41) / 2  # value_counts = 329 / 999 or 0 or np.nan or 중앙값으로 대체\n",
    "#     '알 수 없음': 999\n",
    "# }\n",
    "\n",
    "# egg_age = {\n",
    "#     '만20세 이하': 18,  \n",
    "#     '만21-25세': 23,  \n",
    "#     '만26-30세': 28,  \n",
    "#     '만31-35세': 33,  \n",
    "# #     '알 수 없음': (23 + 28) / 2\n",
    "#     '알 수 없음': 999\n",
    "# }\n",
    "\n",
    "# sperm_age = {\n",
    "#     '만20세 이하': 18,  \n",
    "#     '만21-25세': 23,  \n",
    "#     '만26-30세': 28,  \n",
    "#     '만31-35세': 33,  \n",
    "#     '만36-40세': 38,  \n",
    "#     '만41-45세': 43,  \n",
    "# #     '알 수 없음': (28 + 33) / 2\n",
    "#     '알 수 없음': 999\n",
    "# }\n",
    "\n",
    "# df_train = mapping_age(df_train, '시술 당시 나이', patient_age)\n",
    "# df_test = mapping_age(df_test, '시술 당시 나이', patient_age)\n",
    "# df_train = mapping_age(df_train, '난자 기증자 나이', egg_age)\n",
    "# df_test = mapping_age(df_test, '난자 기증자 나이', egg_age)\n",
    "# df_train = mapping_age(df_train, '정자 기증자 나이', sperm_age)\n",
    "# df_test = mapping_age(df_test, '정자 기증자 나이', sperm_age)"
   ]
  },
  {
   "cell_type": "markdown",
   "metadata": {},
   "source": [
    "#### 5. 특정 시술 유형 > One-hot encoding / 추가 시술 여부 컬럼 생성"
   ]
  },
  {
   "cell_type": "code",
   "execution_count": 10,
   "metadata": {
    "scrolled": true
   },
   "outputs": [],
   "source": [
    "# def add_trt(df):\n",
    "#     types = ['IVF', 'ICSI', 'IUI', 'ICI', 'GIFT', 'FER', 'Generic DI', 'IVI', 'BLASTOCYST', 'AH', 'Unknown']\n",
    "#     df['추가 시술 여부'] = df['특정 시술 유형'].apply(lambda x: 1 if sum(t in str(x) for t in types) >= 2 else 0)\n",
    "    \n",
    "#     return df\n",
    "\n",
    "# df_train = add_trt(df_train)\n",
    "# df_test = add_trt(df_test)"
   ]
  },
  {
   "cell_type": "code",
   "execution_count": 11,
   "metadata": {},
   "outputs": [],
   "source": [
    "def ICSI_check(df):\n",
    "    df['특정 시술 유형 - ICSI'] = np.where(df['시술 유형'] != 'IVF', -1,  # 시술 유형이 DI\n",
    "                             np.where(df['특정 시술 유형'].str.contains('ICSI', na=False), 2, 1))\n",
    "\n",
    "    df = df.drop(columns=['특정 시술 유형'])\n",
    "    \n",
    "    return df\n",
    "\n",
    "df_train = ICSI_check(df_train)\n",
    "df_test = ICSI_check(df_test)"
   ]
  },
  {
   "cell_type": "markdown",
   "metadata": {},
   "source": [
    "#### 28. 배아 생성 주요 이유: 기증용, 난자 저장용, 배아 저장용, 연구용, 현재 시술용"
   ]
  },
  {
   "cell_type": "code",
   "execution_count": 12,
   "metadata": {},
   "outputs": [],
   "source": [
    "def get_dummies(df):\n",
    "#     df['배아 생성 주요 이유 - 현재 시술용'] = np.where(df['시술 유형'] != 'IVF', -1, \n",
    "#                              np.where(df['배아 생성 주요 이유'].str.contains('현재 시술용', na=False), 2, 1))\n",
    "    \n",
    "    df = df.drop(columns=['배아 생성 주요 이유'])\n",
    "    \n",
    "    return df\n",
    "\n",
    "df_train = get_dummies(df_train)\n",
    "df_test = get_dummies(df_test)"
   ]
  },
  {
   "cell_type": "markdown",
   "metadata": {},
   "source": [
    "#### 남성/여성/부부 주/부 불임 원인 제거"
   ]
  },
  {
   "cell_type": "code",
   "execution_count": 13,
   "metadata": {},
   "outputs": [],
   "source": [
    "# # 남성, 여성, 부부의 불임 원인 통합 (주, 부)\n",
    "# def infertility_cause(df):\n",
    "#     df['남성 불임 원인'] = ((df['남성 주 불임 원인'] == 1) | (df['남성 부 불임 원인'] == 1)).astype(int)\n",
    "#     df['여성 불임 원인'] = ((df['여성 주 불임 원인'] == 1) | (df['여성 부 불임 원인'] == 1)).astype(int)\n",
    "#     df['부부 불임 원인'] = ((df['부부 주 불임 원인'] == 1) | (df['부부 부 불임 원인'] == 1)).astype(int)\n",
    "    \n",
    "#     drop_cols = ['남성 주 불임 원인', '남성 부 불임 원인',\n",
    "#                  '여성 주 불임 원인', '여성 부 불임 원인',\n",
    "#                  '부부 주 불임 원인', '부부 부 불임 원인']\n",
    "    \n",
    "#     df = df.drop(columns=drop_cols, errors='ignore')\n",
    "\n",
    "#     return df\n",
    "\n",
    "# df_train = infertility_cause(df_train)\n",
    "# df_test = infertility_cause(df_test)"
   ]
  },
  {
   "cell_type": "code",
   "execution_count": 14,
   "metadata": {},
   "outputs": [],
   "source": [
    "# def drop_cols(df):\n",
    "# #     cols = ['불임 원인 - 난관 질환', '불임 원인 - 남성 요인', \n",
    "# #             '불임 원인 - 배란 장애', '불임 원인 - 자궁경부 문제',\n",
    "# #             '불임 원인 - 자궁내막증', '불임 원인 - 정자 농도', \n",
    "# #             '불임 원인 - 정자 면역학적 요인', '불임 원인 - 정자 운동성', \n",
    "# #             '불임 원인 - 정자 형태' ]\n",
    "#     cols = ['불임 원인 - 자궁경부 문제', '불임 원인 - 정자 면역학적 요인']\n",
    "    \n",
    "#     df = df.drop(columns=cols, errors='ignore')\n",
    "\n",
    "#     return df\n",
    "\n",
    "# df_train = drop_cols(df_train)\n",
    "# df_test = drop_cols(df_test)"
   ]
  },
  {
   "cell_type": "code",
   "execution_count": 15,
   "metadata": {},
   "outputs": [],
   "source": [
    "def drop_cols(df):\n",
    "    cols = ['남성 주 불임 원인', '남성 부 불임 원인', \n",
    "            '여성 주 불임 원인', '여성 부 불임 원인',\n",
    "            '부부 주 불임 원인', '부부 부 불임 원인']\n",
    "    \n",
    "    df = df.drop(columns=cols, errors='ignore')\n",
    "\n",
    "    return df\n",
    "\n",
    "df_train = drop_cols(df_train)\n",
    "df_test = drop_cols(df_test)"
   ]
  },
  {
   "cell_type": "code",
   "execution_count": 16,
   "metadata": {},
   "outputs": [],
   "source": [
    "def advanced_features(df):\n",
    "    epsilon = 1e-5  # 분모 0 방지를 위한 작은 값\n",
    "\n",
    "\n",
    "#  바이너리(Yes/No) 변수 조합: \n",
    "    # 배란 자극, 단일 배아 이식, 착상 전 유전 진단, 동결/신선/기증 배아 사용, 대리모 여부\n",
    "    binary_cols = [\n",
    "        '배란 자극 여부', '단일 배아 이식 여부', '착상 전 유전 진단 사용 여부',\n",
    "        '동결 배아 사용 여부', '신선 배아 사용 여부', '기증 배아 사용 여부', '대리모 여부'\n",
    "    ]\n",
    "    # 이미 0/1로 변환되어 있다고 가정하고, 총 개수 합산\n",
    "    df['바이너리_합'] = df[binary_cols].sum(axis=1)\n",
    "    # 예시로 특정 두 변수 간 상호작용 (배란 자극과 단일 배아 이식)\n",
    "    df['배란자극x단일이식'] = df['배란 자극 여부'] * df['단일 배아 이식 여부']\n",
    "    \n",
    "    # 6. 경과일 차이: 배아 이식 경과일과 난자 혼합 경과일의 차이\n",
    "    df['경과일_차이'] = df['배아 이식 경과일'] - df['난자 혼합 경과일']\n",
    "    \n",
    "\n",
    "#  불임 원인 관련 피처: 여러 불임 원인 컬럼을 합쳐서 총 원인 수 산출\n",
    "    infertility_cols = [\n",
    "        '불명확 불임 원인', '불임 원인 - 난관 질환', '불임 원인 - 남성 요인',\n",
    "        '불임 원인 - 배란 장애', '불임 원인 - 자궁경부 문제', '불임 원인 - 자궁내막증',\n",
    "        '불임 원인 - 정자 농도', '불임 원인 - 정자 면역학적 요인',\n",
    "        '불임 원인 - 정자 운동성', '불임 원인 - 정자 형태'\n",
    "    ]\n",
    "    # 만약 해당 컬럼들이 문자열(Y/N)이라면 0/1로 변환\n",
    "    for col in infertility_cols:\n",
    "        if df[col].dtype == 'object':\n",
    "            df[col] = df[col].map({'Y': 1, 'N': 0})\n",
    "    df['불임원인_수'] = df[infertility_cols].sum(axis=1)\n",
    "    \n",
    "    #  ICSI와 배란자극 여부 상호작용: ICSI 효과가 배란자극 여부와 어떻게 연관되는지\n",
    "    df['ICSIx배란자극'] = df['특정 시술 유형 - ICSI'] * df['배란 자극 여부']\n",
    "    \n",
    "    #  배아 저장 비율: 생성된 배아 중 얼마나 많은 배아가 저장되었는지\n",
    "    df['배아저장비율'] = df['저장된 배아 수'] / (df['총 생성 배아 수'] + epsilon)\n",
    "    \n",
    "    return df\n",
    "\n",
    "# 학습/테스트 데이터에 적용\n",
    "df_train = advanced_features(df_train)\n",
    "df_test  = advanced_features(df_test)"
   ]
  },
  {
   "cell_type": "markdown",
   "metadata": {},
   "source": [
    "### Feature engineering"
   ]
  },
  {
   "cell_type": "code",
   "execution_count": 17,
   "metadata": {
    "scrolled": true
   },
   "outputs": [],
   "source": [
    "def feature_engineering_ivf(df):\n",
    "    # IVF에만 적용\n",
    "#     df = df[df['시술 유형'] == 'IVF']\n",
    "    \n",
    "    # 임신 성공률\n",
    "    df['IVF 임신 성공률'] = df['IVF 임신 횟수'] / df['IVF 시술 횟수']\n",
    "    df['배아 이식 대비 임신 성공률'] = df['총 임신 횟수'] / df['이식된 배아 수']\n",
    "    \n",
    "    # 출산 성공률\n",
    "    df['IVF 출산 성공률'] = df['IVF 출산 횟수'] / df['IVF 임신 횟수']\n",
    "    df['배아 이식 대비 출산 성공률'] = df['총 출산 횟수'] / df['이식된 배아 수']\n",
    "    \n",
    "    # 배아 이식\n",
    "    df[\"이식된 배아 대비 이식 기간\"] = df[\"배아 이식 경과일\"] / df[\"이식된 배아 수\"]\n",
    "    \n",
    "    # 난자\n",
    "    df['총 난자 수'] = df['수집된 신선 난자 수'] + df['해동 난자 수']\n",
    "    df['난자 사용률'] = df['혼합된 난자 수'] / df['총 난자 수']\n",
    "    df['미세주입 X 난자 수'] = df['혼합된 난자 수'] - df['미세주입된 난자 수']\n",
    "    \n",
    "    # 배아\n",
    "    df['총 배아 수'] = df['총 생성 배아 수'] + df['해동된 배아 수']\n",
    "    df['미세주입 X 배아 수'] = df['총 생성 배아 수'] - df['미세주입에서 생성된 배아 수']\n",
    "    df['미세주입 배아 생성 확률'] = df['미세주입에서 생성된 배아 수'] / df['미세주입된 난자 수']\n",
    "    df['미세주입 배아 이식 확률'] = df['미세주입 배아 이식 수'] / df['미세주입에서 생성된 배아 수']\n",
    "    df['미세주입 X 배아 생성 확률'] = df['미세주입 X 배아 수'] / df['미세주입 X 난자 수']\n",
    "    df['총 배아 생성 확률'] = df['총 배아 수'] / df['총 난자 수']\n",
    "    df['배아 이식 확률'] = df['이식된 배아 수'] / df['총 배아 수']\n",
    "    df['동결&IVF 배아 이식 확률'] = (df['이식된 배아 수'] - df['미세주입 배아 이식 수']) / (df['총 배아 수'] - df['미세주입에서 생성된 배아 수'])\n",
    "    \n",
    "    # 나이\n",
    "    df.loc[df['시술 유형'] == 'IVF', '나이 그룹별 평균 생성 배아 수'] = df.groupby('시술 당시 나이')['총 배아 수'].transform('mean')\n",
    "    df.loc[df['시술 유형'] == 'IVF', '나이 그룹별 평균 이식 배아 수'] = df.groupby('시술 당시 나이')['이식된 배아 수'].transform('mean')\n",
    "    df.loc[df['시술 유형'] == 'IVF', '나이 그룹별 평균 배아 이식 확률'] = df.groupby('시술 당시 나이')['배아 이식 확률'].transform('mean')\n",
    "    df.loc[df['시술 유형'] == 'IVF', '나이 그룹별 평균 배아 생성 확률'] = df.groupby('시술 당시 나이')['총 배아 생성 확률'].transform('mean')\n",
    "    df.loc[df['시술 유형'] == 'IVF', '나이 그룹별 평균 배아 이식 경과일'] = df.groupby('시술 당시 나이')['배아 이식 경과일'].transform('mean')\n",
    "    \n",
    "#     df['나이 그룹별 평균 시술 확률'] = df.groupby('시술 당시 나이')['총 시술 횟수'].transform('mean')\n",
    "#     df['나이 그룹별 평균 임신 확률'] = df.groupby('시술 당시 나이')['총 임신 횟수'].transform('mean')\n",
    "#     df['나이 그룹별 평균 출산 확률'] = df.groupby('시술 당시 나이')['총 출산 횟수'].transform('mean')\n",
    "    \n",
    "    cols = ['총 난자 수','미세주입 X 난자 수','미세주입 X 배아 수','미세주입 X 배아 생성 확률','동결&IVF 배아 이식 확률']\n",
    "    df = df.drop(columns=cols, errors='ignore')\n",
    "    \n",
    "    return df\n",
    "\n",
    "df_train = feature_engineering_ivf(df_train)\n",
    "df_test = feature_engineering_ivf(df_test)"
   ]
  },
  {
   "cell_type": "raw",
   "metadata": {},
   "source": [
    "scaling 여기에 넣어주세요"
   ]
  },
  {
   "cell_type": "code",
   "execution_count": 18,
   "metadata": {},
   "outputs": [],
   "source": [
    "def di_null(df):\n",
    "    df.loc[df['시술 유형'] == 'DI'] = df.loc[df['시술 유형'] == 'DI'].fillna(-1)\n",
    "    return df\n",
    "\n",
    "df_train = di_null(df_train)\n",
    "df_test = di_null(df_test)"
   ]
  },
  {
   "cell_type": "code",
   "execution_count": 19,
   "metadata": {
    "scrolled": true
   },
   "outputs": [
    {
     "name": "stdout",
     "output_type": "stream",
     "text": [
      "시술 시기 코드                0.000000\n",
      "시술 당시 나이                0.000000\n",
      "시술 유형                   0.000000\n",
      "배란 자극 여부                0.000000\n",
      "단일 배아 이식 여부             0.000000\n",
      "                         ...    \n",
      "나이 그룹별 평균 생성 배아 수       0.000000\n",
      "나이 그룹별 평균 이식 배아 수       0.000000\n",
      "나이 그룹별 평균 배아 이식 확률     90.204836\n",
      "나이 그룹별 평균 배아 생성 확률     97.545943\n",
      "나이 그룹별 평균 배아 이식 경과일     0.128340\n",
      "Length: 74, dtype: float64\n"
     ]
    }
   ],
   "source": [
    "# 결측 비율\n",
    "missing_ratio = df_train.isnull().mean() * 100\n",
    "print(missing_ratio)"
   ]
  },
  {
   "cell_type": "code",
   "execution_count": 20,
   "metadata": {},
   "outputs": [],
   "source": [
    "# 결측값 대체\n",
    "def replace_inf_and_nan(df, value_inf, value_na):\n",
    "    df.replace([np.inf, -np.inf], value_inf, inplace=True)  # inf, -inf 변환\n",
    "    df.fillna(value_na, inplace=True)  # NaN 변환\n",
    "    return df\n",
    "\n",
    "# 변환 적용\n",
    "value_inf = 999 # 0, -2, median\n",
    "value_na = 999\n",
    "df_train = replace_inf_and_nan(df_train, value_inf, value_na)\n",
    "df_test = replace_inf_and_nan(df_test, value_inf, value_na)"
   ]
  },
  {
   "cell_type": "markdown",
   "metadata": {},
   "source": [
    "### Feature selection"
   ]
  },
  {
   "cell_type": "code",
   "execution_count": 21,
   "metadata": {},
   "outputs": [
    {
     "data": {
      "text/plain": [
       "['시술 시기 코드', '시술 당시 나이', '시술 유형', '난자 출처', '정자 출처', '난자 기증자 나이', '정자 기증자 나이']"
      ]
     },
     "execution_count": 21,
     "metadata": {},
     "output_type": "execute_result"
    }
   ],
   "source": [
    "# object 타입 컬럼 확인\n",
    "cat_features = list(df_train.select_dtypes(include=['object']).columns)\n",
    "cat_features"
   ]
  },
  {
   "cell_type": "code",
   "execution_count": 22,
   "metadata": {},
   "outputs": [],
   "source": [
    "# LabelEncoder 적용\n",
    "for col in cat_features:\n",
    "    le = LabelEncoder() \n",
    "    df_train[col] = le.fit_transform(df_train[col])  \n",
    "    df_test[col] = le.transform(df_test[col]) "
   ]
  },
  {
   "cell_type": "raw",
   "metadata": {},
   "source": [
    "catboost의 장점\n",
    "1. nan 처리를 하지 않아도 된다\n",
    "2. cat features encoding을 하지 않아도 된다"
   ]
  },
  {
   "cell_type": "markdown",
   "metadata": {},
   "source": [
    "### Modeling"
   ]
  },
  {
   "cell_type": "code",
   "execution_count": 23,
   "metadata": {},
   "outputs": [],
   "source": [
    "X = df_train.drop('임신 성공 여부', axis=1)\n",
    "y = df_train['임신 성공 여부']\n",
    "X_test = df_test"
   ]
  },
  {
   "cell_type": "markdown",
   "metadata": {},
   "source": [
    "#### Stratified K-Fold "
   ]
  },
  {
   "cell_type": "code",
   "execution_count": 24,
   "metadata": {
    "scrolled": true
   },
   "outputs": [
    {
     "name": "stdout",
     "output_type": "stream",
     "text": [
      "===== Fold 1 =====\n",
      "0:\ttotal: 74.3ms\tremaining: 51.9s\n",
      "100:\ttotal: 1.19s\tremaining: 7.03s\n",
      "200:\ttotal: 2.35s\tremaining: 5.83s\n",
      "300:\ttotal: 3.45s\tremaining: 4.58s\n",
      "400:\ttotal: 4.63s\tremaining: 3.46s\n",
      "500:\ttotal: 5.87s\tremaining: 2.33s\n",
      "600:\ttotal: 7.11s\tremaining: 1.17s\n",
      "699:\ttotal: 8.24s\tremaining: 0us\n",
      "===== Fold 2 =====\n",
      "0:\ttotal: 11.8ms\tremaining: 8.23s\n",
      "100:\ttotal: 1.11s\tremaining: 6.61s\n",
      "200:\ttotal: 2.21s\tremaining: 5.48s\n",
      "300:\ttotal: 3.29s\tremaining: 4.36s\n",
      "400:\ttotal: 4.36s\tremaining: 3.25s\n",
      "500:\ttotal: 5.52s\tremaining: 2.19s\n",
      "600:\ttotal: 6.73s\tremaining: 1.11s\n",
      "699:\ttotal: 7.87s\tremaining: 0us\n",
      "===== Fold 3 =====\n",
      "0:\ttotal: 11.1ms\tremaining: 7.72s\n",
      "100:\ttotal: 1.14s\tremaining: 6.74s\n",
      "200:\ttotal: 2.25s\tremaining: 5.59s\n",
      "300:\ttotal: 3.39s\tremaining: 4.5s\n",
      "400:\ttotal: 4.46s\tremaining: 3.33s\n",
      "500:\ttotal: 5.64s\tremaining: 2.24s\n",
      "600:\ttotal: 6.88s\tremaining: 1.13s\n",
      "699:\ttotal: 8.12s\tremaining: 0us\n",
      "===== Fold 4 =====\n",
      "0:\ttotal: 11.1ms\tremaining: 7.79s\n",
      "100:\ttotal: 1.1s\tremaining: 6.53s\n",
      "200:\ttotal: 2.21s\tremaining: 5.49s\n",
      "300:\ttotal: 3.28s\tremaining: 4.35s\n",
      "400:\ttotal: 4.38s\tremaining: 3.27s\n",
      "500:\ttotal: 5.55s\tremaining: 2.2s\n",
      "600:\ttotal: 6.75s\tremaining: 1.11s\n",
      "699:\ttotal: 7.91s\tremaining: 0us\n",
      "===== Fold 5 =====\n",
      "0:\ttotal: 13.6ms\tremaining: 9.47s\n",
      "100:\ttotal: 1.1s\tremaining: 6.5s\n",
      "200:\ttotal: 2.2s\tremaining: 5.45s\n",
      "300:\ttotal: 3.26s\tremaining: 4.32s\n",
      "400:\ttotal: 4.32s\tremaining: 3.22s\n",
      "500:\ttotal: 5.47s\tremaining: 2.17s\n",
      "600:\ttotal: 6.64s\tremaining: 1.09s\n",
      "699:\ttotal: 7.79s\tremaining: 0us\n"
     ]
    }
   ],
   "source": [
    "# Stratified K-Fold 설정\n",
    "n_splits = 5\n",
    "skf = StratifiedKFold(n_splits=n_splits, shuffle=True, random_state=123)\n",
    "\n",
    "metrics = {model: [] for model in ['CatBoost']} # Ensemble\n",
    "feature_importances = {model: [] for model in ['CatBoost']}\n",
    "test_proba = {model: [] for model in ['CatBoost']} # Ensemble\n",
    "\n",
    "# metrics = {model: [] for model in ['CatBoost', 'XGBoost', 'LightGBM', 'AdaBoost']} # Ensemble\n",
    "# feature_importances = {model: [] for model in ['CatBoost', 'XGBoost', 'LightGBM', 'AdaBoost']}\n",
    "# test_proba = {model: [] for model in ['CatBoost', 'XGBoost', 'LightGBM', 'AdaBoost']} # Ensemble\n",
    "\n",
    "for fold, (train_idx, val_idx) in enumerate(skf.split(X, y), 1):\n",
    "    print(f\"===== Fold {fold} =====\")\n",
    "\n",
    "    X_train, X_val = X.iloc[train_idx], X.iloc[val_idx]\n",
    "    y_train, y_val = y.iloc[train_idx], y.iloc[val_idx]\n",
    "\n",
    "    # 모델 정의\n",
    "    cat_model = CatBoostClassifier(\n",
    "        iterations=700, learning_rate=0.03, depth=8, l2_leaf_reg=10,\n",
    "        subsample=0.8, colsample_bylevel=0.8, random_strength=10, \n",
    "#         cat_features=cat_features, # 속도 너무 느려\n",
    "        loss_function='Logloss', eval_metric='AUC', verbose=100, random_seed=123\n",
    "    )\n",
    "\n",
    "    xgb_model = XGBClassifier(\n",
    "        n_estimators=700, learning_rate=0.03, max_depth=7, min_child_weight=3,\n",
    "        gamma=0.1, subsample=0.8, colsample_bytree=0.8, reg_alpha=0.1,\n",
    "        reg_lambda=1.0, verbosity=1, random_state=123\n",
    "    )\n",
    "\n",
    "    lgbm_model = LGBMClassifier(\n",
    "        n_estimators=700, learning_rate=0.03, max_depth=-1, num_leaves=64,\n",
    "        min_child_samples=20, subsample=0.8, colsample_bytree=0.8,\n",
    "        reg_alpha=0.1, reg_lambda=1.0, verbosity=1, random_state=123\n",
    "    )\n",
    "    \n",
    "    adaboost_model = AdaBoostClassifier(\n",
    "        estimator=DecisionTreeClassifier(max_depth=2, min_samples_split=10, min_samples_leaf=5, random_state=123),\n",
    "        n_estimators=500, learning_rate=0.05,\n",
    "        algorithm=\"SAMME\", random_state=123\n",
    "    )\n",
    "    \n",
    "#     ensemble_model = VotingClassifier(\n",
    "#         estimators=[('catboost', cat_model), ('xgboost', xgb_model), ('lightgbm', lgbm_model), ('adaboost', adaboost_model)],\n",
    "#         voting='soft', weights=[1, 1, 1, 0.8]\n",
    "#     )\n",
    "\n",
    "\n",
    "    # 모델 학습\n",
    "    for model in [cat_model]: # ensemble_model\n",
    "#     for model in [cat_model, xgb_model, lgbm_model, adaboost_model]: # ensemble_model\n",
    "        model.fit(X_train, y_train)\n",
    "\n",
    "    # 평가 함수\n",
    "    def evaluate_model(model, X_val, y_true):\n",
    "        y_pred = model.predict(X_val)\n",
    "        y_pred_proba = model.predict_proba(X_val)[:, 1]\n",
    "\n",
    "        return {\n",
    "            'Accuracy': accuracy_score(y_true, y_pred),\n",
    "            'Precision': precision_score(y_true, y_pred),\n",
    "            'Recall': recall_score(y_true, y_pred),\n",
    "            'F1 Score': f1_score(y_true, y_pred),\n",
    "            'ROC AUC Score': roc_auc_score(y_true, y_pred_proba)\n",
    "        }\n",
    "\n",
    "    # 평가 및 변수 중요도 저장\n",
    "    for model_name, model in zip(metrics.keys(), [cat_model]): # ensemble_model\n",
    "        metrics[model_name].append(evaluate_model(model, X_val, y_val))\n",
    "\n",
    "    for model_name, model in zip(['CatBoost'], [cat_model]):\n",
    "        feature_importances[model_name].append(model.feature_importances_)\n",
    "        \n",
    "    # 테스트 데이터 예측 확률 저장\n",
    "    test_proba['CatBoost'].append(cat_model.predict_proba(X_test)[:, 1])\n",
    "#     test_proba['XGBoost'].append(xgb_model.predict_proba(X_test)[:, 1])\n",
    "#     test_proba['LightGBM'].append(lgbm_model.predict_proba(X_test)[:, 1])\n",
    "#     test_proba['AdaBoost'].append(adaboost_model.predict_proba(X_test)[:, 1])\n",
    "#     test_proba['Ensemble'].append(ensemble_model.predict_proba(X_test)[:, 1])"
   ]
  },
  {
   "cell_type": "code",
   "execution_count": 25,
   "metadata": {},
   "outputs": [
    {
     "name": "stdout",
     "output_type": "stream",
     "text": [
      "===== Stratified K-Fold 평균 성능 =====\n",
      "\n",
      "== CatBoost Model ==\n",
      "Accuracy: 0.745895\n",
      "Precision: 0.539074\n",
      "Recall: 0.113185\n",
      "F1 Score: 0.187071\n",
      "ROC AUC Score: 0.739758\n"
     ]
    }
   ],
   "source": [
    "# 평가 지표 평균 출력\n",
    "print(\"===== Stratified K-Fold 평균 성능 =====\")\n",
    "for model_name, model_metrics in metrics.items():\n",
    "    avg_metrics = {metric: np.mean([fold_metric[metric] for fold_metric in model_metrics]) for metric in model_metrics[0]}\n",
    "    \n",
    "    print(f\"\\n== {model_name} Model ==\")\n",
    "    for metric, value in avg_metrics.items():\n",
    "        print(f\"{metric}: {value:.6f}\")"
   ]
  },
  {
   "cell_type": "code",
   "execution_count": 26,
   "metadata": {},
   "outputs": [
    {
     "data": {
      "text/html": [
       "<div>\n",
       "<style scoped>\n",
       "    .dataframe tbody tr th:only-of-type {\n",
       "        vertical-align: middle;\n",
       "    }\n",
       "\n",
       "    .dataframe tbody tr th {\n",
       "        vertical-align: top;\n",
       "    }\n",
       "\n",
       "    .dataframe thead th {\n",
       "        text-align: right;\n",
       "    }\n",
       "</style>\n",
       "<table border=\"1\" class=\"dataframe\">\n",
       "  <thead>\n",
       "    <tr style=\"text-align: right;\">\n",
       "      <th></th>\n",
       "      <th>Feature</th>\n",
       "      <th>CatBoost</th>\n",
       "    </tr>\n",
       "  </thead>\n",
       "  <tbody>\n",
       "    <tr>\n",
       "      <th>0</th>\n",
       "      <td>배아 이식 대비 출산 성공률</td>\n",
       "      <td>25.748214</td>\n",
       "    </tr>\n",
       "    <tr>\n",
       "      <th>1</th>\n",
       "      <td>배아 이식 대비 임신 성공률</td>\n",
       "      <td>21.267787</td>\n",
       "    </tr>\n",
       "    <tr>\n",
       "      <th>2</th>\n",
       "      <td>이식된 배아 수</td>\n",
       "      <td>12.886381</td>\n",
       "    </tr>\n",
       "    <tr>\n",
       "      <th>3</th>\n",
       "      <td>배아 이식 확률</td>\n",
       "      <td>3.769300</td>\n",
       "    </tr>\n",
       "    <tr>\n",
       "      <th>4</th>\n",
       "      <td>배아 이식 경과일</td>\n",
       "      <td>3.583155</td>\n",
       "    </tr>\n",
       "    <tr>\n",
       "      <th>...</th>\n",
       "      <td>...</td>\n",
       "      <td>...</td>\n",
       "    </tr>\n",
       "    <tr>\n",
       "      <th>68</th>\n",
       "      <td>불임 원인 - 정자 운동성</td>\n",
       "      <td>0.004609</td>\n",
       "    </tr>\n",
       "    <tr>\n",
       "      <th>69</th>\n",
       "      <td>불임 원인 - 정자 형태</td>\n",
       "      <td>0.002862</td>\n",
       "    </tr>\n",
       "    <tr>\n",
       "      <th>70</th>\n",
       "      <td>시술 유형</td>\n",
       "      <td>0.000583</td>\n",
       "    </tr>\n",
       "    <tr>\n",
       "      <th>71</th>\n",
       "      <td>불임 원인 - 자궁경부 문제</td>\n",
       "      <td>0.000368</td>\n",
       "    </tr>\n",
       "    <tr>\n",
       "      <th>72</th>\n",
       "      <td>불임 원인 - 정자 면역학적 요인</td>\n",
       "      <td>0.000004</td>\n",
       "    </tr>\n",
       "  </tbody>\n",
       "</table>\n",
       "<p>73 rows × 2 columns</p>\n",
       "</div>"
      ],
      "text/plain": [
       "               Feature   CatBoost\n",
       "0      배아 이식 대비 출산 성공률  25.748214\n",
       "1      배아 이식 대비 임신 성공률  21.267787\n",
       "2             이식된 배아 수  12.886381\n",
       "3             배아 이식 확률   3.769300\n",
       "4            배아 이식 경과일   3.583155\n",
       "..                 ...        ...\n",
       "68      불임 원인 - 정자 운동성   0.004609\n",
       "69       불임 원인 - 정자 형태   0.002862\n",
       "70               시술 유형   0.000583\n",
       "71     불임 원인 - 자궁경부 문제   0.000368\n",
       "72  불임 원인 - 정자 면역학적 요인   0.000004\n",
       "\n",
       "[73 rows x 2 columns]"
      ]
     },
     "execution_count": 26,
     "metadata": {},
     "output_type": "execute_result"
    }
   ],
   "source": [
    "# 최종 변수 중요도 평균 계산\n",
    "df_fi_list = []\n",
    "for model_name, fi_list in feature_importances.items():\n",
    "    avg_importance = np.mean(fi_list, axis=0)\n",
    "    df_fi = pd.DataFrame({\n",
    "        'Feature': X_train.columns,\n",
    "        model_name: avg_importance \n",
    "    })\n",
    "    df_fi = df_fi.sort_values(by=model_name, ascending=False).reset_index(drop=True)\n",
    "    df_fi_list.append(df_fi)\n",
    "    \n",
    "df_fi_final = pd.concat(df_fi_list, axis=1)\n",
    "df_fi_final"
   ]
  },
  {
   "cell_type": "code",
   "execution_count": 27,
   "metadata": {
    "scrolled": true
   },
   "outputs": [],
   "source": [
    "# # catboost 기준 변수 중요도 0.1 미만 변수 제거\n",
    "# df_cat = df_fi_final.iloc[:, :2]\n",
    "# df_selected = df_cat[df_cat['CatBoost'] > 0.05]\n",
    "# selected_features = df_selected['Feature'].tolist()\n",
    "\n",
    "# # 중요도가 높은 피처만 선택하여 새로운 데이터 생성\n",
    "# X = X[selected_features]\n",
    "# X_test = X_test[selected_features]"
   ]
  },
  {
   "cell_type": "markdown",
   "metadata": {},
   "source": [
    "### Re-modeling"
   ]
  },
  {
   "cell_type": "code",
   "execution_count": 28,
   "metadata": {
    "scrolled": true
   },
   "outputs": [],
   "source": [
    "# # Stratified K-Fold 설정\n",
    "# n_splits = 5\n",
    "# skf = StratifiedKFold(n_splits=n_splits, shuffle=True, random_state=123)\n",
    "\n",
    "# metrics = {model: [] for model in ['CatBoost']} # Ensemble\n",
    "# feature_importances = {model: [] for model in ['CatBoost']}\n",
    "# test_proba = {model: [] for model in ['CatBoost']} # Ensemble\n",
    "\n",
    "# # metrics = {model: [] for model in ['CatBoost', 'XGBoost', 'LightGBM', 'AdaBoost']} # Ensemble\n",
    "# # feature_importances = {model: [] for model in ['CatBoost', 'XGBoost', 'LightGBM', 'AdaBoost']}\n",
    "# # test_proba = {model: [] for model in ['CatBoost', 'XGBoost', 'LightGBM', 'AdaBoost']} # Ensemble\n",
    "\n",
    "# for fold, (train_idx, val_idx) in enumerate(skf.split(X, y), 1):\n",
    "#     print(f\"===== Fold {fold} =====\")\n",
    "\n",
    "#     X_train, X_val = X.iloc[train_idx], X.iloc[val_idx]\n",
    "#     y_train, y_val = y.iloc[train_idx], y.iloc[val_idx]\n",
    "\n",
    "#     # 모델 정의\n",
    "#     cat_model = CatBoostClassifier(\n",
    "#         iterations=700, learning_rate=0.03, depth=8, l2_leaf_reg=10,\n",
    "#         subsample=0.8, colsample_bylevel=0.8, random_strength=10,\n",
    "#         loss_function='Logloss', eval_metric='AUC', verbose=100, random_seed=123\n",
    "#     )\n",
    "\n",
    "#     xgb_model = XGBClassifier(\n",
    "#         n_estimators=700, learning_rate=0.03, max_depth=7, min_child_weight=3,\n",
    "#         gamma=0.1, subsample=0.8, colsample_bytree=0.8, reg_alpha=0.1,\n",
    "#         reg_lambda=1.0, verbosity=1, random_state=123\n",
    "#     )\n",
    "\n",
    "#     lgbm_model = LGBMClassifier(\n",
    "#         n_estimators=700, learning_rate=0.03, max_depth=-1, num_leaves=64,\n",
    "#         min_child_samples=20, subsample=0.8, colsample_bytree=0.8,\n",
    "#         reg_alpha=0.1, reg_lambda=1.0, verbosity=1, random_state=123\n",
    "#     )\n",
    "    \n",
    "#     adaboost_model = AdaBoostClassifier(\n",
    "#         estimator=DecisionTreeClassifier(max_depth=2, min_samples_split=10, min_samples_leaf=5, random_state=123),\n",
    "#         n_estimators=500, learning_rate=0.05,\n",
    "#         algorithm=\"SAMME\", random_state=123\n",
    "#     )\n",
    "    \n",
    "# #     ensemble_model = VotingClassifier(\n",
    "# #         estimators=[('catboost', cat_model), ('xgboost', xgb_model), ('lightgbm', lgbm_model), ('adaboost', adaboost_model)],\n",
    "# #         voting='soft', weights=[1, 1, 1, 0.8]\n",
    "# #     )\n",
    "\n",
    "\n",
    "#     # 모델 학습\n",
    "#     for model in [cat_model]: # ensemble_model\n",
    "# #     for model in [cat_model, xgb_model, lgbm_model, adaboost_model]: # ensemble_model\n",
    "#         model.fit(X_train, y_train)\n",
    "\n",
    "#     # 평가 함수\n",
    "#     def evaluate_model(model, X_val, y_true):\n",
    "#         y_pred = model.predict(X_val)\n",
    "#         y_pred_proba = model.predict_proba(X_val)[:, 1]\n",
    "\n",
    "#         return {\n",
    "#             'Accuracy': accuracy_score(y_true, y_pred),\n",
    "#             'Precision': precision_score(y_true, y_pred),\n",
    "#             'Recall': recall_score(y_true, y_pred),\n",
    "#             'F1 Score': f1_score(y_true, y_pred),\n",
    "#             'ROC AUC Score': roc_auc_score(y_true, y_pred_proba)\n",
    "#         }\n",
    "\n",
    "#     # 평가 및 변수 중요도 저장\n",
    "#     for model_name, model in zip(metrics.keys(), [cat_model]): # ensemble_model\n",
    "#         metrics[model_name].append(evaluate_model(model, X_val, y_val))\n",
    "\n",
    "#     for model_name, model in zip(['CatBoost'], [cat_model]):\n",
    "#         feature_importances[model_name].append(model.feature_importances_)\n",
    "        \n",
    "#     # 테스트 데이터 예측 확률 저장\n",
    "#     test_proba['CatBoost'].append(cat_model.predict_proba(X_test)[:, 1])\n",
    "# #     test_proba['XGBoost'].append(xgb_model.predict_proba(X_test)[:, 1])\n",
    "# #     test_proba['LightGBM'].append(lgbm_model.predict_proba(X_test)[:, 1])\n",
    "# #     test_proba['AdaBoost'].append(adaboost_model.predict_proba(X_test)[:, 1])\n",
    "# #     test_proba['Ensemble'].append(ensemble_model.predict_proba(X_test)[:, 1])"
   ]
  },
  {
   "cell_type": "code",
   "execution_count": 29,
   "metadata": {},
   "outputs": [],
   "source": [
    "# # 평가 지표 평균 출력\n",
    "# print(\"===== Stratified K-Fold 평균 성능 =====\")\n",
    "# for model_name, model_metrics in metrics.items():\n",
    "#     avg_metrics = {metric: np.mean([fold_metric[metric] for fold_metric in model_metrics]) for metric in model_metrics[0]}\n",
    "    \n",
    "#     print(f\"\\n== {model_name} Model ==\")\n",
    "#     for metric, value in avg_metrics.items():\n",
    "#         print(f\"{metric}: {value:.6f}\")"
   ]
  },
  {
   "cell_type": "markdown",
   "metadata": {},
   "source": [
    "### Prediction"
   ]
  },
  {
   "cell_type": "code",
   "execution_count": 30,
   "metadata": {
    "scrolled": true
   },
   "outputs": [],
   "source": [
    "# Best AUC 기록한 모델의 pred_proba로 선택\n",
    "pred_proba = np.mean(test_proba['CatBoost'], axis=0)\n",
    "# pred_proba = np.mean(test_proba['XGBoost'], axis=0)\n",
    "# pred_proba = np.mean(test_proba['LightGBM'], axis=0)\n",
    "# pred_proba = np.mean(test_proba['AdaBoost'], axis=0)\n",
    "# pred_proba = np.mean(test_proba['Ensemble'], axis=0)"
   ]
  },
  {
   "cell_type": "markdown",
   "metadata": {},
   "source": [
    "### Submission"
   ]
  },
  {
   "cell_type": "code",
   "execution_count": 31,
   "metadata": {},
   "outputs": [
    {
     "data": {
      "text/html": [
       "<div>\n",
       "<style scoped>\n",
       "    .dataframe tbody tr th:only-of-type {\n",
       "        vertical-align: middle;\n",
       "    }\n",
       "\n",
       "    .dataframe tbody tr th {\n",
       "        vertical-align: top;\n",
       "    }\n",
       "\n",
       "    .dataframe thead th {\n",
       "        text-align: right;\n",
       "    }\n",
       "</style>\n",
       "<table border=\"1\" class=\"dataframe\">\n",
       "  <thead>\n",
       "    <tr style=\"text-align: right;\">\n",
       "      <th></th>\n",
       "      <th>ID</th>\n",
       "      <th>probability</th>\n",
       "    </tr>\n",
       "  </thead>\n",
       "  <tbody>\n",
       "    <tr>\n",
       "      <th>0</th>\n",
       "      <td>TEST_00000</td>\n",
       "      <td>0.0</td>\n",
       "    </tr>\n",
       "    <tr>\n",
       "      <th>1</th>\n",
       "      <td>TEST_00001</td>\n",
       "      <td>0.0</td>\n",
       "    </tr>\n",
       "    <tr>\n",
       "      <th>2</th>\n",
       "      <td>TEST_00002</td>\n",
       "      <td>0.0</td>\n",
       "    </tr>\n",
       "    <tr>\n",
       "      <th>3</th>\n",
       "      <td>TEST_00003</td>\n",
       "      <td>0.0</td>\n",
       "    </tr>\n",
       "    <tr>\n",
       "      <th>4</th>\n",
       "      <td>TEST_00004</td>\n",
       "      <td>0.0</td>\n",
       "    </tr>\n",
       "  </tbody>\n",
       "</table>\n",
       "</div>"
      ],
      "text/plain": [
       "           ID  probability\n",
       "0  TEST_00000          0.0\n",
       "1  TEST_00001          0.0\n",
       "2  TEST_00002          0.0\n",
       "3  TEST_00003          0.0\n",
       "4  TEST_00004          0.0"
      ]
     },
     "execution_count": 31,
     "metadata": {},
     "output_type": "execute_result"
    }
   ],
   "source": [
    "# sample_submission = pd.read_csv('data/sample_submission.csv')\n",
    "# sample_submission.head()\n",
    "\n",
    "sample_submission = pd.read_csv(os.getenv('SUBMISSION_DATA_PATH'))\n",
    "sample_submission.head()"
   ]
  },
  {
   "cell_type": "code",
   "execution_count": 32,
   "metadata": {},
   "outputs": [
    {
     "data": {
      "text/html": [
       "<div>\n",
       "<style scoped>\n",
       "    .dataframe tbody tr th:only-of-type {\n",
       "        vertical-align: middle;\n",
       "    }\n",
       "\n",
       "    .dataframe tbody tr th {\n",
       "        vertical-align: top;\n",
       "    }\n",
       "\n",
       "    .dataframe thead th {\n",
       "        text-align: right;\n",
       "    }\n",
       "</style>\n",
       "<table border=\"1\" class=\"dataframe\">\n",
       "  <thead>\n",
       "    <tr style=\"text-align: right;\">\n",
       "      <th></th>\n",
       "      <th>ID</th>\n",
       "      <th>probability</th>\n",
       "    </tr>\n",
       "  </thead>\n",
       "  <tbody>\n",
       "    <tr>\n",
       "      <th>0</th>\n",
       "      <td>TEST_00000</td>\n",
       "      <td>0.001140</td>\n",
       "    </tr>\n",
       "    <tr>\n",
       "      <th>1</th>\n",
       "      <td>TEST_00001</td>\n",
       "      <td>0.001607</td>\n",
       "    </tr>\n",
       "    <tr>\n",
       "      <th>2</th>\n",
       "      <td>TEST_00002</td>\n",
       "      <td>0.148315</td>\n",
       "    </tr>\n",
       "    <tr>\n",
       "      <th>3</th>\n",
       "      <td>TEST_00003</td>\n",
       "      <td>0.122321</td>\n",
       "    </tr>\n",
       "    <tr>\n",
       "      <th>4</th>\n",
       "      <td>TEST_00004</td>\n",
       "      <td>0.499203</td>\n",
       "    </tr>\n",
       "  </tbody>\n",
       "</table>\n",
       "</div>"
      ],
      "text/plain": [
       "           ID  probability\n",
       "0  TEST_00000     0.001140\n",
       "1  TEST_00001     0.001607\n",
       "2  TEST_00002     0.148315\n",
       "3  TEST_00003     0.122321\n",
       "4  TEST_00004     0.499203"
      ]
     },
     "execution_count": 32,
     "metadata": {},
     "output_type": "execute_result"
    }
   ],
   "source": [
    "# sample_submission['probability'] = pred_proba\n",
    "# # 저장\n",
    "# sample_submission.to_csv('data/submission.csv', index=False)\n",
    "# sample_submission.head()\n",
    "\n",
    "sample_submission['probability'] = pred_proba\n",
    "# 저장\n",
    "import datetime \n",
    "now = datetime.datetime.now()\n",
    "save_path = os.path.join(f'./log/submission/{now.strftime(\"%Y%m%d_%H%M%S\")}_eiden.csv')\n",
    "sample_submission.to_csv(save_path, index=False)\n",
    "sample_submission.head()"
   ]
  },
  {
   "cell_type": "code",
   "execution_count": 33,
   "metadata": {},
   "outputs": [
    {
     "ename": "FileNotFoundError",
     "evalue": "[Errno 2] No such file or directory: 'data/submission.csv'",
     "output_type": "error",
     "traceback": [
      "\u001b[0;31m---------------------------------------------------------------------------\u001b[0m",
      "\u001b[0;31mFileNotFoundError\u001b[0m                         Traceback (most recent call last)",
      "Cell \u001b[0;32mIn[33], line 2\u001b[0m\n\u001b[1;32m      1\u001b[0m \u001b[38;5;66;03m# 확인용\u001b[39;00m\n\u001b[0;32m----> 2\u001b[0m submission \u001b[38;5;241m=\u001b[39m \u001b[43mpd\u001b[49m\u001b[38;5;241;43m.\u001b[39;49m\u001b[43mread_csv\u001b[49m\u001b[43m(\u001b[49m\u001b[38;5;124;43m'\u001b[39;49m\u001b[38;5;124;43mdata/submission.csv\u001b[39;49m\u001b[38;5;124;43m'\u001b[39;49m\u001b[43m)\u001b[49m\n\u001b[1;32m      3\u001b[0m submission\u001b[38;5;241m.\u001b[39mhead()\n",
      "File \u001b[0;32m~/miniconda3/envs/cv/lib/python3.8/site-packages/pandas/io/parsers/readers.py:912\u001b[0m, in \u001b[0;36mread_csv\u001b[0;34m(filepath_or_buffer, sep, delimiter, header, names, index_col, usecols, dtype, engine, converters, true_values, false_values, skipinitialspace, skiprows, skipfooter, nrows, na_values, keep_default_na, na_filter, verbose, skip_blank_lines, parse_dates, infer_datetime_format, keep_date_col, date_parser, date_format, dayfirst, cache_dates, iterator, chunksize, compression, thousands, decimal, lineterminator, quotechar, quoting, doublequote, escapechar, comment, encoding, encoding_errors, dialect, on_bad_lines, delim_whitespace, low_memory, memory_map, float_precision, storage_options, dtype_backend)\u001b[0m\n\u001b[1;32m    899\u001b[0m kwds_defaults \u001b[38;5;241m=\u001b[39m _refine_defaults_read(\n\u001b[1;32m    900\u001b[0m     dialect,\n\u001b[1;32m    901\u001b[0m     delimiter,\n\u001b[0;32m   (...)\u001b[0m\n\u001b[1;32m    908\u001b[0m     dtype_backend\u001b[38;5;241m=\u001b[39mdtype_backend,\n\u001b[1;32m    909\u001b[0m )\n\u001b[1;32m    910\u001b[0m kwds\u001b[38;5;241m.\u001b[39mupdate(kwds_defaults)\n\u001b[0;32m--> 912\u001b[0m \u001b[38;5;28;01mreturn\u001b[39;00m \u001b[43m_read\u001b[49m\u001b[43m(\u001b[49m\u001b[43mfilepath_or_buffer\u001b[49m\u001b[43m,\u001b[49m\u001b[43m \u001b[49m\u001b[43mkwds\u001b[49m\u001b[43m)\u001b[49m\n",
      "File \u001b[0;32m~/miniconda3/envs/cv/lib/python3.8/site-packages/pandas/io/parsers/readers.py:577\u001b[0m, in \u001b[0;36m_read\u001b[0;34m(filepath_or_buffer, kwds)\u001b[0m\n\u001b[1;32m    574\u001b[0m _validate_names(kwds\u001b[38;5;241m.\u001b[39mget(\u001b[38;5;124m\"\u001b[39m\u001b[38;5;124mnames\u001b[39m\u001b[38;5;124m\"\u001b[39m, \u001b[38;5;28;01mNone\u001b[39;00m))\n\u001b[1;32m    576\u001b[0m \u001b[38;5;66;03m# Create the parser.\u001b[39;00m\n\u001b[0;32m--> 577\u001b[0m parser \u001b[38;5;241m=\u001b[39m \u001b[43mTextFileReader\u001b[49m\u001b[43m(\u001b[49m\u001b[43mfilepath_or_buffer\u001b[49m\u001b[43m,\u001b[49m\u001b[43m \u001b[49m\u001b[38;5;241;43m*\u001b[39;49m\u001b[38;5;241;43m*\u001b[39;49m\u001b[43mkwds\u001b[49m\u001b[43m)\u001b[49m\n\u001b[1;32m    579\u001b[0m \u001b[38;5;28;01mif\u001b[39;00m chunksize \u001b[38;5;129;01mor\u001b[39;00m iterator:\n\u001b[1;32m    580\u001b[0m     \u001b[38;5;28;01mreturn\u001b[39;00m parser\n",
      "File \u001b[0;32m~/miniconda3/envs/cv/lib/python3.8/site-packages/pandas/io/parsers/readers.py:1407\u001b[0m, in \u001b[0;36mTextFileReader.__init__\u001b[0;34m(self, f, engine, **kwds)\u001b[0m\n\u001b[1;32m   1404\u001b[0m     \u001b[38;5;28mself\u001b[39m\u001b[38;5;241m.\u001b[39moptions[\u001b[38;5;124m\"\u001b[39m\u001b[38;5;124mhas_index_names\u001b[39m\u001b[38;5;124m\"\u001b[39m] \u001b[38;5;241m=\u001b[39m kwds[\u001b[38;5;124m\"\u001b[39m\u001b[38;5;124mhas_index_names\u001b[39m\u001b[38;5;124m\"\u001b[39m]\n\u001b[1;32m   1406\u001b[0m \u001b[38;5;28mself\u001b[39m\u001b[38;5;241m.\u001b[39mhandles: IOHandles \u001b[38;5;241m|\u001b[39m \u001b[38;5;28;01mNone\u001b[39;00m \u001b[38;5;241m=\u001b[39m \u001b[38;5;28;01mNone\u001b[39;00m\n\u001b[0;32m-> 1407\u001b[0m \u001b[38;5;28mself\u001b[39m\u001b[38;5;241m.\u001b[39m_engine \u001b[38;5;241m=\u001b[39m \u001b[38;5;28;43mself\u001b[39;49m\u001b[38;5;241;43m.\u001b[39;49m\u001b[43m_make_engine\u001b[49m\u001b[43m(\u001b[49m\u001b[43mf\u001b[49m\u001b[43m,\u001b[49m\u001b[43m \u001b[49m\u001b[38;5;28;43mself\u001b[39;49m\u001b[38;5;241;43m.\u001b[39;49m\u001b[43mengine\u001b[49m\u001b[43m)\u001b[49m\n",
      "File \u001b[0;32m~/miniconda3/envs/cv/lib/python3.8/site-packages/pandas/io/parsers/readers.py:1661\u001b[0m, in \u001b[0;36mTextFileReader._make_engine\u001b[0;34m(self, f, engine)\u001b[0m\n\u001b[1;32m   1659\u001b[0m     \u001b[38;5;28;01mif\u001b[39;00m \u001b[38;5;124m\"\u001b[39m\u001b[38;5;124mb\u001b[39m\u001b[38;5;124m\"\u001b[39m \u001b[38;5;129;01mnot\u001b[39;00m \u001b[38;5;129;01min\u001b[39;00m mode:\n\u001b[1;32m   1660\u001b[0m         mode \u001b[38;5;241m+\u001b[39m\u001b[38;5;241m=\u001b[39m \u001b[38;5;124m\"\u001b[39m\u001b[38;5;124mb\u001b[39m\u001b[38;5;124m\"\u001b[39m\n\u001b[0;32m-> 1661\u001b[0m \u001b[38;5;28mself\u001b[39m\u001b[38;5;241m.\u001b[39mhandles \u001b[38;5;241m=\u001b[39m \u001b[43mget_handle\u001b[49m\u001b[43m(\u001b[49m\n\u001b[1;32m   1662\u001b[0m \u001b[43m    \u001b[49m\u001b[43mf\u001b[49m\u001b[43m,\u001b[49m\n\u001b[1;32m   1663\u001b[0m \u001b[43m    \u001b[49m\u001b[43mmode\u001b[49m\u001b[43m,\u001b[49m\n\u001b[1;32m   1664\u001b[0m \u001b[43m    \u001b[49m\u001b[43mencoding\u001b[49m\u001b[38;5;241;43m=\u001b[39;49m\u001b[38;5;28;43mself\u001b[39;49m\u001b[38;5;241;43m.\u001b[39;49m\u001b[43moptions\u001b[49m\u001b[38;5;241;43m.\u001b[39;49m\u001b[43mget\u001b[49m\u001b[43m(\u001b[49m\u001b[38;5;124;43m\"\u001b[39;49m\u001b[38;5;124;43mencoding\u001b[39;49m\u001b[38;5;124;43m\"\u001b[39;49m\u001b[43m,\u001b[49m\u001b[43m \u001b[49m\u001b[38;5;28;43;01mNone\u001b[39;49;00m\u001b[43m)\u001b[49m\u001b[43m,\u001b[49m\n\u001b[1;32m   1665\u001b[0m \u001b[43m    \u001b[49m\u001b[43mcompression\u001b[49m\u001b[38;5;241;43m=\u001b[39;49m\u001b[38;5;28;43mself\u001b[39;49m\u001b[38;5;241;43m.\u001b[39;49m\u001b[43moptions\u001b[49m\u001b[38;5;241;43m.\u001b[39;49m\u001b[43mget\u001b[49m\u001b[43m(\u001b[49m\u001b[38;5;124;43m\"\u001b[39;49m\u001b[38;5;124;43mcompression\u001b[39;49m\u001b[38;5;124;43m\"\u001b[39;49m\u001b[43m,\u001b[49m\u001b[43m \u001b[49m\u001b[38;5;28;43;01mNone\u001b[39;49;00m\u001b[43m)\u001b[49m\u001b[43m,\u001b[49m\n\u001b[1;32m   1666\u001b[0m \u001b[43m    \u001b[49m\u001b[43mmemory_map\u001b[49m\u001b[38;5;241;43m=\u001b[39;49m\u001b[38;5;28;43mself\u001b[39;49m\u001b[38;5;241;43m.\u001b[39;49m\u001b[43moptions\u001b[49m\u001b[38;5;241;43m.\u001b[39;49m\u001b[43mget\u001b[49m\u001b[43m(\u001b[49m\u001b[38;5;124;43m\"\u001b[39;49m\u001b[38;5;124;43mmemory_map\u001b[39;49m\u001b[38;5;124;43m\"\u001b[39;49m\u001b[43m,\u001b[49m\u001b[43m \u001b[49m\u001b[38;5;28;43;01mFalse\u001b[39;49;00m\u001b[43m)\u001b[49m\u001b[43m,\u001b[49m\n\u001b[1;32m   1667\u001b[0m \u001b[43m    \u001b[49m\u001b[43mis_text\u001b[49m\u001b[38;5;241;43m=\u001b[39;49m\u001b[43mis_text\u001b[49m\u001b[43m,\u001b[49m\n\u001b[1;32m   1668\u001b[0m \u001b[43m    \u001b[49m\u001b[43merrors\u001b[49m\u001b[38;5;241;43m=\u001b[39;49m\u001b[38;5;28;43mself\u001b[39;49m\u001b[38;5;241;43m.\u001b[39;49m\u001b[43moptions\u001b[49m\u001b[38;5;241;43m.\u001b[39;49m\u001b[43mget\u001b[49m\u001b[43m(\u001b[49m\u001b[38;5;124;43m\"\u001b[39;49m\u001b[38;5;124;43mencoding_errors\u001b[39;49m\u001b[38;5;124;43m\"\u001b[39;49m\u001b[43m,\u001b[49m\u001b[43m \u001b[49m\u001b[38;5;124;43m\"\u001b[39;49m\u001b[38;5;124;43mstrict\u001b[39;49m\u001b[38;5;124;43m\"\u001b[39;49m\u001b[43m)\u001b[49m\u001b[43m,\u001b[49m\n\u001b[1;32m   1669\u001b[0m \u001b[43m    \u001b[49m\u001b[43mstorage_options\u001b[49m\u001b[38;5;241;43m=\u001b[39;49m\u001b[38;5;28;43mself\u001b[39;49m\u001b[38;5;241;43m.\u001b[39;49m\u001b[43moptions\u001b[49m\u001b[38;5;241;43m.\u001b[39;49m\u001b[43mget\u001b[49m\u001b[43m(\u001b[49m\u001b[38;5;124;43m\"\u001b[39;49m\u001b[38;5;124;43mstorage_options\u001b[39;49m\u001b[38;5;124;43m\"\u001b[39;49m\u001b[43m,\u001b[49m\u001b[43m \u001b[49m\u001b[38;5;28;43;01mNone\u001b[39;49;00m\u001b[43m)\u001b[49m\u001b[43m,\u001b[49m\n\u001b[1;32m   1670\u001b[0m \u001b[43m\u001b[49m\u001b[43m)\u001b[49m\n\u001b[1;32m   1671\u001b[0m \u001b[38;5;28;01massert\u001b[39;00m \u001b[38;5;28mself\u001b[39m\u001b[38;5;241m.\u001b[39mhandles \u001b[38;5;129;01mis\u001b[39;00m \u001b[38;5;129;01mnot\u001b[39;00m \u001b[38;5;28;01mNone\u001b[39;00m\n\u001b[1;32m   1672\u001b[0m f \u001b[38;5;241m=\u001b[39m \u001b[38;5;28mself\u001b[39m\u001b[38;5;241m.\u001b[39mhandles\u001b[38;5;241m.\u001b[39mhandle\n",
      "File \u001b[0;32m~/miniconda3/envs/cv/lib/python3.8/site-packages/pandas/io/common.py:859\u001b[0m, in \u001b[0;36mget_handle\u001b[0;34m(path_or_buf, mode, encoding, compression, memory_map, is_text, errors, storage_options)\u001b[0m\n\u001b[1;32m    854\u001b[0m \u001b[38;5;28;01melif\u001b[39;00m \u001b[38;5;28misinstance\u001b[39m(handle, \u001b[38;5;28mstr\u001b[39m):\n\u001b[1;32m    855\u001b[0m     \u001b[38;5;66;03m# Check whether the filename is to be opened in binary mode.\u001b[39;00m\n\u001b[1;32m    856\u001b[0m     \u001b[38;5;66;03m# Binary mode does not support 'encoding' and 'newline'.\u001b[39;00m\n\u001b[1;32m    857\u001b[0m     \u001b[38;5;28;01mif\u001b[39;00m ioargs\u001b[38;5;241m.\u001b[39mencoding \u001b[38;5;129;01mand\u001b[39;00m \u001b[38;5;124m\"\u001b[39m\u001b[38;5;124mb\u001b[39m\u001b[38;5;124m\"\u001b[39m \u001b[38;5;129;01mnot\u001b[39;00m \u001b[38;5;129;01min\u001b[39;00m ioargs\u001b[38;5;241m.\u001b[39mmode:\n\u001b[1;32m    858\u001b[0m         \u001b[38;5;66;03m# Encoding\u001b[39;00m\n\u001b[0;32m--> 859\u001b[0m         handle \u001b[38;5;241m=\u001b[39m \u001b[38;5;28;43mopen\u001b[39;49m\u001b[43m(\u001b[49m\n\u001b[1;32m    860\u001b[0m \u001b[43m            \u001b[49m\u001b[43mhandle\u001b[49m\u001b[43m,\u001b[49m\n\u001b[1;32m    861\u001b[0m \u001b[43m            \u001b[49m\u001b[43mioargs\u001b[49m\u001b[38;5;241;43m.\u001b[39;49m\u001b[43mmode\u001b[49m\u001b[43m,\u001b[49m\n\u001b[1;32m    862\u001b[0m \u001b[43m            \u001b[49m\u001b[43mencoding\u001b[49m\u001b[38;5;241;43m=\u001b[39;49m\u001b[43mioargs\u001b[49m\u001b[38;5;241;43m.\u001b[39;49m\u001b[43mencoding\u001b[49m\u001b[43m,\u001b[49m\n\u001b[1;32m    863\u001b[0m \u001b[43m            \u001b[49m\u001b[43merrors\u001b[49m\u001b[38;5;241;43m=\u001b[39;49m\u001b[43merrors\u001b[49m\u001b[43m,\u001b[49m\n\u001b[1;32m    864\u001b[0m \u001b[43m            \u001b[49m\u001b[43mnewline\u001b[49m\u001b[38;5;241;43m=\u001b[39;49m\u001b[38;5;124;43m\"\u001b[39;49m\u001b[38;5;124;43m\"\u001b[39;49m\u001b[43m,\u001b[49m\n\u001b[1;32m    865\u001b[0m \u001b[43m        \u001b[49m\u001b[43m)\u001b[49m\n\u001b[1;32m    866\u001b[0m     \u001b[38;5;28;01melse\u001b[39;00m:\n\u001b[1;32m    867\u001b[0m         \u001b[38;5;66;03m# Binary mode\u001b[39;00m\n\u001b[1;32m    868\u001b[0m         handle \u001b[38;5;241m=\u001b[39m \u001b[38;5;28mopen\u001b[39m(handle, ioargs\u001b[38;5;241m.\u001b[39mmode)\n",
      "\u001b[0;31mFileNotFoundError\u001b[0m: [Errno 2] No such file or directory: 'data/submission.csv'"
     ]
    }
   ],
   "source": [
    "# 확인용\n",
    "submission = pd.read_csv('data/submission.csv')\n",
    "submission.head()"
   ]
  },
  {
   "cell_type": "code",
   "execution_count": null,
   "metadata": {},
   "outputs": [],
   "source": []
  }
 ],
 "metadata": {
  "kernelspec": {
   "display_name": "Python 3 (ipykernel)",
   "language": "python",
   "name": "python3"
  },
  "language_info": {
   "codemirror_mode": {
    "name": "ipython",
    "version": 3
   },
   "file_extension": ".py",
   "mimetype": "text/x-python",
   "name": "python",
   "nbconvert_exporter": "python",
   "pygments_lexer": "ipython3",
   "version": "3.8.10"
  }
 },
 "nbformat": 4,
 "nbformat_minor": 2
}
