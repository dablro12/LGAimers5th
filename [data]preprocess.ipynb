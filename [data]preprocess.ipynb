{
 "cells": [
  {
   "cell_type": "code",
   "execution_count": null,
   "metadata": {},
   "outputs": [],
   "source": [
    "from dotenv import load_dotenv\n",
    "import os\n",
    "load_dotenv()"
   ]
  },
  {
   "cell_type": "code",
   "execution_count": null,
   "metadata": {},
   "outputs": [],
   "source": [
    "from utils.public import *"
   ]
  },
  {
   "cell_type": "code",
   "execution_count": null,
   "metadata": {},
   "outputs": [],
   "source": [
    "TRAIN_PATH = os.getenv('TRAIN_DATA_PATH')\n",
    "TEST_PATH = os.getenv('TEST_DATA_PATH')\n",
    "SUBMISSION_PATH = os.getenv('SUBMISSION_DATA_PATH')\n",
    "\n",
    "train = pd.read_csv(TRAIN_PATH).drop(columns=['ID'])\n",
    "test = pd.read_csv(TEST_PATH).drop(columns=['ID'])\n",
    "\n",
    "train.info()"
   ]
  },
  {
   "cell_type": "markdown",
   "metadata": {},
   "source": [
    "## 시술 시기 코드"
   ]
  },
  {
   "cell_type": "code",
   "execution_count": null,
   "metadata": {},
   "outputs": [],
   "source": [
    "print(f\"null sum : \", train['시술 시기 코드'].isnull().sum())\n",
    "\n",
    "train['시술 시기 코드'].value_counts()\n",
    "\n",
    "le = LabelEncoder()\n",
    "train['시술 시기 코드'] = le.fit_transform(train['시술 시기 코드'])\n",
    "\n",
    "label_map = dict(zip(le.classes_, le.transform(le.classes_)))\n",
    "\n",
    "print(label_map)\n",
    "\n",
    "train['시술 시기 코드'].value_counts()\n"
   ]
  },
  {
   "cell_type": "markdown",
   "metadata": {},
   "source": [
    "## 시술 당시 나이"
   ]
  },
  {
   "cell_type": "code",
   "execution_count": null,
   "metadata": {},
   "outputs": [],
   "source": [
    "print(f\"null sum : \", train['시술 당시 나이'].isnull().sum())\n",
    "# Label Encoding\n",
    "train['시술 당시 나이'] = train['시술 당시 나이'].map({\n",
    "    '만18-34세': 0,\n",
    "    '만35-37세': 1,\n",
    "    '만38-39세': 2,\n",
    "    '만40-42세': 3,\n",
    "    '만43-44세': 4,\n",
    "    '만45-50세': 5,\n",
    "    '알 수 없음' : 999\n",
    "})\n",
    "train['시술 당시 나이'].unique()"
   ]
  },
  {
   "cell_type": "markdown",
   "metadata": {},
   "source": [
    "## 임신 시도 또는 마지막 임신 경과 연수"
   ]
  },
  {
   "cell_type": "code",
   "execution_count": null,
   "metadata": {},
   "outputs": [],
   "source": [
    "print(f\"null sum : \", train['임신 시도 또는 마지막 임신 경과 연수'].isnull().sum())\n",
    "# nan 의 경우 999로 채움\n",
    "train['임신 시도 또는 마지막 임신 경과 연수'] = train['임신 시도 또는 마지막 임신 경과 연수'].fillna(999)\n",
    "train['임신 시도 또는 마지막 임신 경과 연수'].unique()\n"
   ]
  },
  {
   "cell_type": "markdown",
   "metadata": {},
   "source": [
    "## 시술 유형"
   ]
  },
  {
   "cell_type": "code",
   "execution_count": null,
   "metadata": {},
   "outputs": [],
   "source": [
    "print(f\"null sum : \", train['시술 유형'].isnull().sum())\n",
    "# IVF -> 1 / DI -> 2   \n",
    "train['시술 유형'] = train['시술 유형'].fillna(0)\n",
    "train['시술 유형'] = train['시술 유형'].map({'IVF': 1, 'DI': 2})\n",
    "train['시술 유형'].value_counts()"
   ]
  },
  {
   "cell_type": "markdown",
   "metadata": {},
   "source": [
    "## 특정 시술 유형"
   ]
  },
  {
   "cell_type": "code",
   "execution_count": null,
   "metadata": {},
   "outputs": [],
   "source": [
    "\n",
    "print(f\"null sum : \", train['특정 시술 유형'].isnull().sum())\n",
    "\n",
    "train['특정 시술 유형'].value_counts()\n",
    "train['특정 시술 유형'] = train['특정 시술 유형'].fillna('0')\n",
    "\n",
    "le = LabelEncoder()\n",
    "train['특정 시술 유형'] = le.fit_transform(train['특정 시술 유형'])\n",
    "\n",
    "label_map = dict(zip(le.classes_, le.transform(le.classes_)))\n",
    "label_map"
   ]
  },
  {
   "cell_type": "markdown",
   "metadata": {},
   "source": [
    "## 배란 자극 여부"
   ]
  },
  {
   "cell_type": "code",
   "execution_count": null,
   "metadata": {},
   "outputs": [],
   "source": [
    "print(f\"null sum : \", train['배란 자극 여부'].isnull().sum())\n",
    "train['배란 자극 여부'].value_counts()"
   ]
  },
  {
   "cell_type": "markdown",
   "metadata": {},
   "source": [
    "## 배란 유도 유형"
   ]
  },
  {
   "cell_type": "code",
   "execution_count": null,
   "metadata": {},
   "outputs": [],
   "source": [
    "print(f\"null sum : \", train['배란 유도 유형'].isnull().sum())\n",
    "\n",
    "# 배란 유도 유형에서 세트로타이드, 생식선 자극 호르몬 제거  -> 소수 데이터 sampling\n",
    "train = train[train['배란 유도 유형'] != '세트로타이드 (억제제)']\n",
    "train = train[train['배란 유도 유형'] != '생식선 자극 호르몬']\n",
    "\n",
    "# 기록되지 않은 시행 -> 1 / 알 수 없음 -> 0\n",
    "train['배란 유도 유형'] = train['배란 유도 유형'].map({\n",
    "    '기록되지 않은 시행' : 1,\n",
    "    '알 수 없음' : 0\n",
    "})\n",
    "\n",
    "train['배란 유도 유형'].value_counts()\n"
   ]
  },
  {
   "cell_type": "markdown",
   "metadata": {},
   "source": [
    "## 단일 배아 이식 여부"
   ]
  },
  {
   "cell_type": "code",
   "execution_count": null,
   "metadata": {},
   "outputs": [],
   "source": [
    "print(f\"null sum : \", train['단일 배아 이식 여부'].isnull().sum())\n",
    "# 단일 배아 이식 여부 형 변환 -> 1 / 0\n",
    "train['단일 배아 이식 여부'] = train['단일 배아 이식 여부'].fillna(0)\n",
    "train['단일 배아 이식 여부'].value_counts()"
   ]
  },
  {
   "cell_type": "markdown",
   "metadata": {},
   "source": [
    "## 착상 전 유전 검사 사용 여부"
   ]
  },
  {
   "cell_type": "code",
   "execution_count": 60,
   "metadata": {},
   "outputs": [
    {
     "name": "stdout",
     "output_type": "stream",
     "text": [
      "null sum :  0\n"
     ]
    },
    {
     "data": {
      "text/plain": [
       "착상 전 유전 검사 사용 여부\n",
       "0.0    257720\n",
       "1.0      2719\n",
       "Name: count, dtype: int64"
      ]
     },
     "execution_count": 60,
     "metadata": {},
     "output_type": "execute_result"
    }
   ],
   "source": [
    "print(f\"null sum : \", train['착상 전 유전 검사 사용 여부'].isnull().sum())\n",
    "train['착상 전 유전 검사 사용 여부'] = train['착상 전 유전 검사 사용 여부'].fillna(0)\n",
    "train['착상 전 유전 검사 사용 여부'].value_counts()"
   ]
  },
  {
   "cell_type": "markdown",
   "metadata": {},
   "source": [
    "## 착상 전 유전 진단 사용 여부"
   ]
  },
  {
   "cell_type": "code",
   "execution_count": null,
   "metadata": {},
   "outputs": [],
   "source": [
    "print(f\"null sum : \", train['착상 전 유전 진단 사용 여부'].isnull().sum())\n",
    "train['착상 전 유전 진단 사용 여부'] = train['착상 전 유전 진단 사용 여부'].fillna(999) # -> \n",
    "train['착상 전 유전 진단 사용 여부'].value_counts()"
   ]
  },
  {
   "cell_type": "markdown",
   "metadata": {},
   "source": [
    "## 남성 주 불임 원인"
   ]
  },
  {
   "cell_type": "code",
   "execution_count": null,
   "metadata": {},
   "outputs": [],
   "source": [
    "print(train['남성 주 불임 원인'].isnull().sum())\n",
    "train['남성 주 불임 원인'].value_counts()"
   ]
  },
  {
   "cell_type": "markdown",
   "metadata": {},
   "source": [
    "## 남성 부 불임 원인"
   ]
  },
  {
   "cell_type": "code",
   "execution_count": null,
   "metadata": {},
   "outputs": [],
   "source": [
    "print(f\"null sum : \", train['남성 부 불임 원인'].isnull().sum())\n",
    "train['남성 부 불임 원인'].value_counts()\n"
   ]
  },
  {
   "cell_type": "markdown",
   "metadata": {},
   "source": [
    "## 여성 주 불임 원인"
   ]
  },
  {
   "cell_type": "code",
   "execution_count": null,
   "metadata": {},
   "outputs": [],
   "source": [
    "print(f\"null sum : \", train['여성 주 불임 원인'].isnull().sum())\n",
    "train['여성 주 불임 원인'].value_counts()\n"
   ]
  },
  {
   "cell_type": "markdown",
   "metadata": {},
   "source": [
    "## 여성 부 불임 원인"
   ]
  },
  {
   "cell_type": "code",
   "execution_count": null,
   "metadata": {},
   "outputs": [],
   "source": [
    "print(f\"null sum : \", train['여성 부 불임 원인'].isnull().sum())\n",
    "train['여성 부 불임 원인'].value_counts()"
   ]
  },
  {
   "cell_type": "markdown",
   "metadata": {},
   "source": [
    "## 부부 주 불임 원인"
   ]
  },
  {
   "cell_type": "code",
   "execution_count": null,
   "metadata": {},
   "outputs": [],
   "source": [
    "print(f\"null sum : \", train['부부 부 불임 원인'].isnull().sum())\n",
    "train['부부 부 불임 원인'].value_counts()"
   ]
  },
  {
   "cell_type": "markdown",
   "metadata": {},
   "source": [
    "## 부부 부 불임 원인"
   ]
  },
  {
   "cell_type": "code",
   "execution_count": null,
   "metadata": {},
   "outputs": [],
   "source": [
    "print(f\"null sum : \", train['부부 부 불임 원인'].isnull().sum())\n",
    "train['부부 부 불임 원인'].value_counts()"
   ]
  },
  {
   "cell_type": "markdown",
   "metadata": {},
   "source": [
    "## 불임 원인 - 난관 질환"
   ]
  },
  {
   "cell_type": "code",
   "execution_count": null,
   "metadata": {},
   "outputs": [],
   "source": [
    "print(f\"null sum : \", train['불임 원인 - 난관 질환'].isnull().sum())\n",
    "train['불임 원인 - 난관 질환'].value_counts()"
   ]
  },
  {
   "cell_type": "markdown",
   "metadata": {},
   "source": [
    "## 불임 원인 - 남성 요인"
   ]
  },
  {
   "cell_type": "code",
   "execution_count": null,
   "metadata": {},
   "outputs": [],
   "source": [
    "print(f\"null sum : \", train['불임 원인 - 남성 요인'].isnull().sum())\n",
    "train['불임 원인 - 남성 요인'].value_counts()"
   ]
  },
  {
   "cell_type": "markdown",
   "metadata": {},
   "source": [
    "## 불임 원인 - 배란 장애"
   ]
  },
  {
   "cell_type": "code",
   "execution_count": null,
   "metadata": {},
   "outputs": [],
   "source": [
    "print(f\"null sum : \", train['불임 원인 - 배란 장애'].isnull().sum())\n",
    "train['불임 원인 - 배란 장애'].value_counts()"
   ]
  },
  {
   "cell_type": "markdown",
   "metadata": {},
   "source": [
    "## 배아 생성 주요 이유"
   ]
  },
  {
   "cell_type": "code",
   "execution_count": null,
   "metadata": {},
   "outputs": [],
   "source": [
    "print(f\"null sum : \", train['배아 생성 주요 이유'].isnull().sum())\n",
    "\n",
    "train['배아 생성 주요 이유'] = train['배아 생성 주요 이유'].fillna('0')\n",
    "\n",
    "train['배아 생성 주요 이유'] = train['배아 생성 주요 이유'].str.split(',')\n",
    "train = train.explode('배아 생성 주요 이유') # 여러 행 분리 \n",
    "train['배아 생성 주요 이유'] = train['배아 생성 주요 이유'].str.strip() # 좌우 공백 제거\n",
    "\n",
    "train['배아 생성 주요 이유'].value_counts()\n",
    "\n",
    "# Label Encoding\n",
    "le = LabelEncoder()\n",
    "train['배아 생성 주요 이유'] = le.fit_transform(train['배아 생성 주요 이유'])\n",
    "\n",
    "label_map = dict(zip(le.classes_, le.transform(le.classes_)))\n",
    "print(label_map)\n",
    "\n",
    "train['배아 생성 주요 이유'].value_counts()"
   ]
  },
  {
   "cell_type": "markdown",
   "metadata": {},
   "source": [
    "## 총 시술 횟수"
   ]
  },
  {
   "cell_type": "code",
   "execution_count": null,
   "metadata": {},
   "outputs": [],
   "source": [
    "print(f\"null sum : \", train['총 시술 횟수'].isnull().sum())\n",
    "train['총 시술 횟수'] = train['총 시술 횟수'].map({\n",
    "    '0회' : 0,\n",
    "    '1회' : 1,\n",
    "    '2회' : 2,\n",
    "    '3회' : 3,\n",
    "    '4회' : 4,\n",
    "    '5회' : 5,\n",
    "    '6회 이상' : 6,\n",
    "})\n",
    "\n",
    "train['총 시술 횟수'].value_counts()\n"
   ]
  },
  {
   "cell_type": "markdown",
   "metadata": {},
   "source": [
    "## 클리닉 내 총 시술 횟수"
   ]
  },
  {
   "cell_type": "code",
   "execution_count": null,
   "metadata": {},
   "outputs": [],
   "source": [
    "print(f\"null sum : \", train['클리닉 내 총 시술 횟수'].isnull().sum())\n",
    "train['클리닉 내 총 시술 횟수'] = train['클리닉 내 총 시술 횟수'].map({\n",
    "    '0회' : 0,\n",
    "    '1회' : 1,\n",
    "    '2회' : 2,\n",
    "    '3회' : 3,\n",
    "    '4회' : 4,\n",
    "    '5회' : 5,\n",
    "    '6회 이상' : 6,\n",
    "})\n",
    "\n",
    "train['클리닉 내 총 시술 횟수'].value_counts()\n"
   ]
  },
  {
   "cell_type": "markdown",
   "metadata": {},
   "source": [
    "## IVF 시술 횟수"
   ]
  },
  {
   "cell_type": "code",
   "execution_count": null,
   "metadata": {},
   "outputs": [],
   "source": [
    "print(f\"null sum : \", train['IVF 시술 횟수'].isnull().sum())\n",
    "train['IVF 시술 횟수'] = train['IVF 시술 횟수'].map({\n",
    "    '0회' : 0,\n",
    "    '1회' : 1,\n",
    "    '2회' : 2,\n",
    "    '3회' : 3,\n",
    "    '4회' : 4,\n",
    "    '5회' : 5,\n",
    "    '6회 이상' : 6,\n",
    "})\n",
    "\n",
    "train['IVF 시술 횟수'].value_counts()\n"
   ]
  },
  {
   "cell_type": "markdown",
   "metadata": {},
   "source": [
    "## DI 시술 횟수"
   ]
  },
  {
   "cell_type": "code",
   "execution_count": null,
   "metadata": {},
   "outputs": [],
   "source": [
    "print(f\"null sum : \", train['DI 시술 횟수'].isnull().sum())\n",
    "train['DI 시술 횟수'] = train['DI 시술 횟수'].map({\n",
    "    '0회' : 0,\n",
    "    '1회' : 1,\n",
    "    '2회' : 2,\n",
    "    '3회' : 3,\n",
    "    '4회' : 4,\n",
    "    '5회' : 5,\n",
    "    '6회 이상' : 6,\n",
    "})\n",
    "\n",
    "train['DI 시술 횟수'].value_counts()\n"
   ]
  },
  {
   "cell_type": "markdown",
   "metadata": {},
   "source": [
    "## 총 임신 횟수"
   ]
  },
  {
   "cell_type": "code",
   "execution_count": null,
   "metadata": {},
   "outputs": [],
   "source": [
    "print(f\"null sum : \", train['총 임신 횟수'].isnull().sum())\n",
    "train['총 임신 횟수'] = train['총 임신 횟수'].map({\n",
    "    '0회' : 0,\n",
    "    '1회' : 1,\n",
    "    '2회' : 2,\n",
    "    '3회' : 3,\n",
    "    '4회' : 4,\n",
    "    '5회' : 5,\n",
    "    '6회 이상' : 6,\n",
    "})\n",
    "\n",
    "train['총 임신 횟수'].value_counts()\n"
   ]
  },
  {
   "cell_type": "markdown",
   "metadata": {},
   "source": [
    "## IVF 임신 횟수"
   ]
  },
  {
   "cell_type": "code",
   "execution_count": null,
   "metadata": {},
   "outputs": [],
   "source": [
    "print(f\"null sum : \", train['IVF 임신 횟수'].isnull().sum())\n",
    "train['IVF 임신 횟수'] = train['IVF 임신 횟수'].map({\n",
    "    '0회' : 0,\n",
    "    '1회' : 1,\n",
    "    '2회' : 2,\n",
    "    '3회' : 3,\n",
    "    '4회' : 4,\n",
    "    '5회' : 5,\n",
    "    '6회 이상' : 6,\n",
    "})\n",
    "\n",
    "train['IVF 임신 횟수'].value_counts()\n"
   ]
  },
  {
   "cell_type": "markdown",
   "metadata": {},
   "source": [
    "## DI 임신 횟수"
   ]
  },
  {
   "cell_type": "code",
   "execution_count": null,
   "metadata": {},
   "outputs": [],
   "source": [
    "print(f\"null sum : \", train['DI 임신 횟수'].isnull().sum())\n",
    "train['DI 임신 횟수'] = train['DI 임신 횟수'].map({\n",
    "    '0회' : 0,\n",
    "    '1회' : 1,\n",
    "    '2회' : 2,\n",
    "    '3회' : 3,\n",
    "    '4회' : 4,\n",
    "    '5회' : 5,\n",
    "    '6회 이상' : 6,\n",
    "})\n",
    "\n",
    "train['DI 임신 횟수'].value_counts()\n"
   ]
  },
  {
   "cell_type": "markdown",
   "metadata": {},
   "source": [
    "## 총 출산 횟수"
   ]
  },
  {
   "cell_type": "code",
   "execution_count": null,
   "metadata": {},
   "outputs": [],
   "source": [
    "print(f\"null sum : \", train['총 출산 횟수'].isnull().sum())\n",
    "train['총 출산 횟수'] = train['총 출산 횟수'].map({\n",
    "    '0회' : 0,\n",
    "    '1회' : 1,\n",
    "    '2회' : 2,\n",
    "    '3회' : 3,\n",
    "    '4회' : 4,\n",
    "    '5회' : 5,\n",
    "    '6회 이상' : 6,\n",
    "})\n",
    "\n",
    "train['총 출산 횟수'].value_counts()\n"
   ]
  },
  {
   "cell_type": "markdown",
   "metadata": {},
   "source": [
    "## IVF 출산 횟수"
   ]
  },
  {
   "cell_type": "code",
   "execution_count": null,
   "metadata": {},
   "outputs": [],
   "source": [
    "print(f\"null sum : \", train['IVF 출산 횟수'].isnull().sum())\n",
    "train['IVF 출산 횟수'] = train['IVF 출산 횟수'].map({\n",
    "    '0회' : 0,\n",
    "    '1회' : 1,\n",
    "    '2회' : 2,\n",
    "    '3회' : 3,\n",
    "    '4회' : 4,\n",
    "    '5회' : 5,\n",
    "    '6회 이상' : 6,\n",
    "})\n",
    "\n",
    "train['IVF 출산 횟수'].value_counts()\n"
   ]
  },
  {
   "cell_type": "markdown",
   "metadata": {},
   "source": [
    "## DI 출산 횟수"
   ]
  },
  {
   "cell_type": "code",
   "execution_count": null,
   "metadata": {},
   "outputs": [],
   "source": [
    "print(f\"null sum : \", train['DI 출산 횟수'].isnull().sum())\n",
    "train['DI 출산 횟수'] = train['DI 출산 횟수'].map({\n",
    "    '0회' : 0,\n",
    "    '1회' : 1,\n",
    "    '2회' : 2,\n",
    "    '3회' : 3,\n",
    "    '4회' : 4,\n",
    "    '5회' : 5,\n",
    "    '6회 이상' : 6,\n",
    "})\n",
    "\n",
    "train['DI 출산 횟수'].value_counts()\n"
   ]
  },
  {
   "cell_type": "markdown",
   "metadata": {},
   "source": [
    "## 총 생성 배아 수"
   ]
  },
  {
   "cell_type": "code",
   "execution_count": null,
   "metadata": {},
   "outputs": [],
   "source": [
    "print(f\"null sum : \", train['총 생성 배아 수'].isnull().sum())\n",
    "train['총 생성 배아 수'] = train['총 생성 배아 수'].fillna(999)\n",
    "train['총 생성 배아 수'].value_counts()\n"
   ]
  },
  {
   "cell_type": "markdown",
   "metadata": {},
   "source": [
    "## 미세주입된 난자 수"
   ]
  },
  {
   "cell_type": "code",
   "execution_count": null,
   "metadata": {},
   "outputs": [],
   "source": [
    "print(f\"null sum : \", train['미세주입된 난자 수'].isnull().sum())\n",
    "train['미세주입된 난자 수'] = train['미세주입된 난자 수'].fillna(999)\n",
    "train['미세주입된 난자 수'].value_counts()\n"
   ]
  },
  {
   "cell_type": "markdown",
   "metadata": {},
   "source": [
    "## 미세주입에서 생성된 배아 수"
   ]
  },
  {
   "cell_type": "code",
   "execution_count": null,
   "metadata": {},
   "outputs": [],
   "source": [
    "print(f\"null sum : \", train['미세주입에서 생성된 배아 수'].isnull().sum())\n",
    "train['미세주입에서 생성된 배아 수'] = train['미세주입에서 생성된 배아 수'].fillna(999)\n",
    "train['미세주입에서 생성된 배아 수'].value_counts()\n"
   ]
  },
  {
   "cell_type": "markdown",
   "metadata": {},
   "source": [
    "## 이식된 배아 수"
   ]
  },
  {
   "cell_type": "code",
   "execution_count": null,
   "metadata": {},
   "outputs": [],
   "source": [
    "print(f\"null sum : \", train['이식된 배아 수'].isnull().sum())\n",
    "train['이식된 배아 수'] = train['이식된 배아 수'].fillna(999)\n",
    "train['이식된 배아 수'].value_counts()\n"
   ]
  },
  {
   "cell_type": "markdown",
   "metadata": {},
   "source": [
    "## 미세주입 배아 이식 수"
   ]
  },
  {
   "cell_type": "code",
   "execution_count": null,
   "metadata": {},
   "outputs": [],
   "source": [
    "print(f\"null sum : \", train['미세주입 배아 이식 수'].isnull().sum())\n",
    "train['미세주입 배아 이식 수'] = train['미세주입 배아 이식 수'].fillna(999)\n",
    "train['미세주입 배아 이식 수'].value_counts()\n"
   ]
  },
  {
   "cell_type": "markdown",
   "metadata": {},
   "source": [
    "## 저장된 배아 수 -> not accept"
   ]
  },
  {
   "cell_type": "code",
   "execution_count": null,
   "metadata": {},
   "outputs": [],
   "source": [
    "print(f\"null sum : \", train['저장된 배아 수'].isnull().sum())\n",
    "train['저장된 배아 수'] = train['저장된 배아 수'].fillna(999)\n",
    "train['저장된 배아 수'].value_counts()\n"
   ]
  },
  {
   "cell_type": "markdown",
   "metadata": {},
   "source": [
    "## 혼합된 난자 수"
   ]
  },
  {
   "cell_type": "code",
   "execution_count": null,
   "metadata": {},
   "outputs": [],
   "source": [
    "print(f\"null sum : \", train['혼합된 난자 수'].isnull().sum())\n",
    "train['혼합된 난자 수'] = train['혼합된 난자 수'].fillna(999)\n",
    "train['혼합된 난자 수'].value_counts()"
   ]
  },
  {
   "cell_type": "markdown",
   "metadata": {},
   "source": [
    "## 파트너 정자와 혼합된 난자 수"
   ]
  },
  {
   "cell_type": "code",
   "execution_count": null,
   "metadata": {},
   "outputs": [],
   "source": [
    "print(f\"null sum : \", train['파트너 정자와 혼합된 난자 수'].isnull().sum())\n",
    "train['파트너 정자와 혼합된 난자 수'] = train['파트너 정자와 혼합된 난자 수'].fillna(999)\n",
    "train['파트너 정자와 혼합된 난자 수'].value_counts()"
   ]
  },
  {
   "cell_type": "markdown",
   "metadata": {},
   "source": [
    "## 기증자 정자와 혼합된 난자 수 -> 6291개는 제거하는게 좋을 것 같음"
   ]
  },
  {
   "cell_type": "code",
   "execution_count": null,
   "metadata": {},
   "outputs": [],
   "source": [
    "print(f\"null sum : \", train['기증자 정자와 혼합된 난자 수'].isnull().sum())\n",
    "\n",
    "#null인 경우 row에서 제거하기 \n",
    "train = train[train['기증자 정자와 혼합된 난자 수'].notnull()]\n",
    "\n",
    "# train['기증자 정자와 혼합된 난자 수'] = train['기증자 정자와 혼합된 난자 수'].fillna(999)\n",
    "\n",
    "train['기증자 정자와 혼합된 난자 수'].value_counts()"
   ]
  },
  {
   "cell_type": "markdown",
   "metadata": {},
   "source": [
    "## 난자 기증자 나이"
   ]
  },
  {
   "cell_type": "code",
   "execution_count": null,
   "metadata": {},
   "outputs": [],
   "source": [
    "print(f\"null sum : \", train['난자 기증자 나이'].isnull().sum())\n",
    "\n",
    "train['난자 기증자 나이'] = train['난자 기증자 나이'].map({\n",
    "    '알 수 없음' : 999,\n",
    "    '만20세 이하' : 0,\n",
    "    '만21-25세' : 1,\n",
    "    '만26-30세' : 2,\n",
    "    '만31-35세' : 3,\n",
    "})\n",
    "\n",
    "train['난자 기증자 나이'].value_counts()"
   ]
  },
  {
   "cell_type": "markdown",
   "metadata": {},
   "source": [
    "## 정자 기증자 나이"
   ]
  },
  {
   "cell_type": "code",
   "execution_count": null,
   "metadata": {},
   "outputs": [],
   "source": [
    "print(f\"null sum : \", train['정자 기증자 나이'].isnull().sum())\n",
    "\n",
    "train['정자 기증자 나이'] = train['정자 기증자 나이'].map({\n",
    "    '알 수 없음' : 999,\n",
    "    '만20세 이하' : 0,\n",
    "    '만21-25세' : 1,\n",
    "    '만26-30세' : 2,\n",
    "    '만31-35세' : 3,\n",
    "    '만36-40세' : 4,\n",
    "    '만41-45세' : 5,\n",
    "})\n",
    "\n",
    "train['정자 기증자 나이'].value_counts()"
   ]
  },
  {
   "cell_type": "markdown",
   "metadata": {},
   "source": [
    "## 동결 배아 사용 여부"
   ]
  },
  {
   "cell_type": "code",
   "execution_count": null,
   "metadata": {},
   "outputs": [],
   "source": [
    "print(f\"null sum : \", train['동결 배아 사용 여부'].isnull().sum())\n",
    "train['동결 배아 사용 여부'] = train['동결 배아 사용 여부'].fillna(999)\n",
    "train['동결 배아 사용 여부'].value_counts()"
   ]
  },
  {
   "cell_type": "markdown",
   "metadata": {},
   "source": [
    "## 신선 배아 사용 여부"
   ]
  },
  {
   "cell_type": "code",
   "execution_count": null,
   "metadata": {},
   "outputs": [],
   "source": [
    "print(f\"null sum : \", train['신선 배아 사용 여부'].isnull().sum())\n",
    "train['신선 배아 사용 여부'] = train['신선 배아 사용 여부'].fillna(999)\n",
    "train['신선 배아 사용 여부'].value_counts()"
   ]
  },
  {
   "cell_type": "markdown",
   "metadata": {},
   "source": [
    "## 난자 채취 경과일"
   ]
  },
  {
   "cell_type": "code",
   "execution_count": 61,
   "metadata": {},
   "outputs": [
    {
     "ename": "KeyError",
     "evalue": "'난자 채취 경과일'",
     "output_type": "error",
     "traceback": [
      "\u001b[0;31m---------------------------------------------------------------------------\u001b[0m",
      "\u001b[0;31mKeyError\u001b[0m                                  Traceback (most recent call last)",
      "File \u001b[0;32m~/miniconda3/envs/cv/lib/python3.8/site-packages/pandas/core/indexes/base.py:3653\u001b[0m, in \u001b[0;36mIndex.get_loc\u001b[0;34m(self, key)\u001b[0m\n\u001b[1;32m   3652\u001b[0m \u001b[38;5;28;01mtry\u001b[39;00m:\n\u001b[0;32m-> 3653\u001b[0m     \u001b[38;5;28;01mreturn\u001b[39;00m \u001b[38;5;28;43mself\u001b[39;49m\u001b[38;5;241;43m.\u001b[39;49m\u001b[43m_engine\u001b[49m\u001b[38;5;241;43m.\u001b[39;49m\u001b[43mget_loc\u001b[49m\u001b[43m(\u001b[49m\u001b[43mcasted_key\u001b[49m\u001b[43m)\u001b[49m\n\u001b[1;32m   3654\u001b[0m \u001b[38;5;28;01mexcept\u001b[39;00m \u001b[38;5;167;01mKeyError\u001b[39;00m \u001b[38;5;28;01mas\u001b[39;00m err:\n",
      "File \u001b[0;32m~/miniconda3/envs/cv/lib/python3.8/site-packages/pandas/_libs/index.pyx:147\u001b[0m, in \u001b[0;36mpandas._libs.index.IndexEngine.get_loc\u001b[0;34m()\u001b[0m\n",
      "File \u001b[0;32m~/miniconda3/envs/cv/lib/python3.8/site-packages/pandas/_libs/index.pyx:176\u001b[0m, in \u001b[0;36mpandas._libs.index.IndexEngine.get_loc\u001b[0;34m()\u001b[0m\n",
      "File \u001b[0;32mpandas/_libs/hashtable_class_helper.pxi:7080\u001b[0m, in \u001b[0;36mpandas._libs.hashtable.PyObjectHashTable.get_item\u001b[0;34m()\u001b[0m\n",
      "File \u001b[0;32mpandas/_libs/hashtable_class_helper.pxi:7088\u001b[0m, in \u001b[0;36mpandas._libs.hashtable.PyObjectHashTable.get_item\u001b[0;34m()\u001b[0m\n",
      "\u001b[0;31mKeyError\u001b[0m: '난자 채취 경과일'",
      "\nThe above exception was the direct cause of the following exception:\n",
      "\u001b[0;31mKeyError\u001b[0m                                  Traceback (most recent call last)",
      "Cell \u001b[0;32mIn[61], line 1\u001b[0m\n\u001b[0;32m----> 1\u001b[0m \u001b[38;5;28mprint\u001b[39m(\u001b[38;5;124mf\u001b[39m\u001b[38;5;124m\"\u001b[39m\u001b[38;5;124mnull sum : \u001b[39m\u001b[38;5;124m\"\u001b[39m, \u001b[43mtrain\u001b[49m\u001b[43m[\u001b[49m\u001b[38;5;124;43m'\u001b[39;49m\u001b[38;5;124;43m난자 채취 경과일\u001b[39;49m\u001b[38;5;124;43m'\u001b[39;49m\u001b[43m]\u001b[49m\u001b[38;5;241m.\u001b[39misnull()\u001b[38;5;241m.\u001b[39msum())\n\u001b[1;32m      2\u001b[0m \u001b[38;5;66;03m# train['난자 채취 경과일'] = train['난자 채취 경과일'].fillna(999)\u001b[39;00m\n\u001b[1;32m      3\u001b[0m train[\u001b[38;5;124m'\u001b[39m\u001b[38;5;124m난자 채취 경과일\u001b[39m\u001b[38;5;124m'\u001b[39m]\u001b[38;5;241m.\u001b[39mvalue_counts()\n",
      "File \u001b[0;32m~/miniconda3/envs/cv/lib/python3.8/site-packages/pandas/core/frame.py:3761\u001b[0m, in \u001b[0;36mDataFrame.__getitem__\u001b[0;34m(self, key)\u001b[0m\n\u001b[1;32m   3759\u001b[0m \u001b[38;5;28;01mif\u001b[39;00m \u001b[38;5;28mself\u001b[39m\u001b[38;5;241m.\u001b[39mcolumns\u001b[38;5;241m.\u001b[39mnlevels \u001b[38;5;241m>\u001b[39m \u001b[38;5;241m1\u001b[39m:\n\u001b[1;32m   3760\u001b[0m     \u001b[38;5;28;01mreturn\u001b[39;00m \u001b[38;5;28mself\u001b[39m\u001b[38;5;241m.\u001b[39m_getitem_multilevel(key)\n\u001b[0;32m-> 3761\u001b[0m indexer \u001b[38;5;241m=\u001b[39m \u001b[38;5;28;43mself\u001b[39;49m\u001b[38;5;241;43m.\u001b[39;49m\u001b[43mcolumns\u001b[49m\u001b[38;5;241;43m.\u001b[39;49m\u001b[43mget_loc\u001b[49m\u001b[43m(\u001b[49m\u001b[43mkey\u001b[49m\u001b[43m)\u001b[49m\n\u001b[1;32m   3762\u001b[0m \u001b[38;5;28;01mif\u001b[39;00m is_integer(indexer):\n\u001b[1;32m   3763\u001b[0m     indexer \u001b[38;5;241m=\u001b[39m [indexer]\n",
      "File \u001b[0;32m~/miniconda3/envs/cv/lib/python3.8/site-packages/pandas/core/indexes/base.py:3655\u001b[0m, in \u001b[0;36mIndex.get_loc\u001b[0;34m(self, key)\u001b[0m\n\u001b[1;32m   3653\u001b[0m     \u001b[38;5;28;01mreturn\u001b[39;00m \u001b[38;5;28mself\u001b[39m\u001b[38;5;241m.\u001b[39m_engine\u001b[38;5;241m.\u001b[39mget_loc(casted_key)\n\u001b[1;32m   3654\u001b[0m \u001b[38;5;28;01mexcept\u001b[39;00m \u001b[38;5;167;01mKeyError\u001b[39;00m \u001b[38;5;28;01mas\u001b[39;00m err:\n\u001b[0;32m-> 3655\u001b[0m     \u001b[38;5;28;01mraise\u001b[39;00m \u001b[38;5;167;01mKeyError\u001b[39;00m(key) \u001b[38;5;28;01mfrom\u001b[39;00m \u001b[38;5;21;01merr\u001b[39;00m\n\u001b[1;32m   3656\u001b[0m \u001b[38;5;28;01mexcept\u001b[39;00m \u001b[38;5;167;01mTypeError\u001b[39;00m:\n\u001b[1;32m   3657\u001b[0m     \u001b[38;5;66;03m# If we have a listlike key, _check_indexing_error will raise\u001b[39;00m\n\u001b[1;32m   3658\u001b[0m     \u001b[38;5;66;03m#  InvalidIndexError. Otherwise we fall through and re-raise\u001b[39;00m\n\u001b[1;32m   3659\u001b[0m     \u001b[38;5;66;03m#  the TypeError.\u001b[39;00m\n\u001b[1;32m   3660\u001b[0m     \u001b[38;5;28mself\u001b[39m\u001b[38;5;241m.\u001b[39m_check_indexing_error(key)\n",
      "\u001b[0;31mKeyError\u001b[0m: '난자 채취 경과일'"
     ]
    }
   ],
   "source": [
    "print(f\"null sum : \", train['난자 채취 경과일'].isnull().sum())\n",
    "# train['난자 채취 경과일'] = train['난자 채취 경과일'].fillna(999)\n",
    "train['난자 채취 경과일'].value_counts()"
   ]
  },
  {
   "cell_type": "markdown",
   "metadata": {},
   "source": [
    "## 난자 해동 경과일"
   ]
  },
  {
   "cell_type": "code",
   "execution_count": null,
   "metadata": {},
   "outputs": [],
   "source": [
    "print(f\"null sum : \", train['난자 해동 경과일'].isnull().sum())\n",
    "# train['난자 해동 경과일'] = train['난자 해동 경과일'].fillna(999)\n",
    "train['난자 해동 경과일'].value_counts()"
   ]
  },
  {
   "cell_type": "markdown",
   "metadata": {},
   "source": [
    "## 난자 혼합 경과일"
   ]
  },
  {
   "cell_type": "code",
   "execution_count": null,
   "metadata": {},
   "outputs": [],
   "source": [
    "print(f\"null sum : \", train['난자 혼합 경과일'].isnull().sum())\n",
    "train['난자 혼합 경과일'] = train['난자 혼합 경과일'].fillna(999)\n",
    "train['난자 혼합 경과일'].value_counts()"
   ]
  },
  {
   "cell_type": "markdown",
   "metadata": {},
   "source": [
    "## 배아 이식 경과일"
   ]
  },
  {
   "cell_type": "code",
   "execution_count": null,
   "metadata": {},
   "outputs": [],
   "source": [
    "print(f\"null sum : \", train['배아 이식 경과일'].isnull().sum())\n",
    "train['배아 이식 경과일'] = train['배아 이식 경과일'].fillna(999)\n",
    "train['배아 이식 경과일'].value_counts()"
   ]
  },
  {
   "cell_type": "markdown",
   "metadata": {},
   "source": [
    "## 배아 해동 경과일"
   ]
  },
  {
   "cell_type": "code",
   "execution_count": null,
   "metadata": {},
   "outputs": [],
   "source": [
    "print(f\"null sum : \", train['배아 해동 경과일'].isnull().sum())\n",
    "train['배아 해동 경과일'] = train['배아 해동 경과일'].fillna(999)\n",
    "train['배아 해동 경과일'].value_counts()"
   ]
  },
  {
   "cell_type": "markdown",
   "metadata": {},
   "source": [
    "## output "
   ]
  },
  {
   "cell_type": "code",
   "execution_count": null,
   "metadata": {},
   "outputs": [],
   "source": [
    "print(f\"null sum : \", train['임신 성공 여부'].isnull().sum())\n",
    "train['임신 성공 여부'].value_counts()"
   ]
  },
  {
   "cell_type": "markdown",
   "metadata": {},
   "source": [
    "# Data 가져오기"
   ]
  },
  {
   "cell_type": "code",
   "execution_count": null,
   "metadata": {},
   "outputs": [],
   "source": [
    "from utils.feature import get_feature"
   ]
  },
  {
   "cell_type": "code",
   "execution_count": null,
   "metadata": {},
   "outputs": [],
   "source": [
    "train = get_feature(train)\n",
    "train"
   ]
  },
  {
   "cell_type": "code",
   "execution_count": null,
   "metadata": {},
   "outputs": [],
   "source": [
    "# null check\n",
    "print(f\"null sum : \", train.isnull().sum())"
   ]
  },
  {
   "cell_type": "code",
   "execution_count": 59,
   "metadata": {},
   "outputs": [],
   "source": [
    "train.to_csv('./repo/train.csv', index=False)"
   ]
  },
  {
   "cell_type": "markdown",
   "metadata": {},
   "source": [
    "## Paper 참고\n",
    "\n",
    "- 배아수와 임신성공률의 관계 논문 분석\n",
    "- 혼합난자수 임신성공률 관계 분석\n",
    "- 난자 기능 나이와 임신 성공률 예측 논문\n",
    "- 정자 기능 나이와 임신 성공률 예측 논문 "
   ]
  }
 ],
 "metadata": {
  "kernelspec": {
   "display_name": "cv",
   "language": "python",
   "name": "python3"
  },
  "language_info": {
   "codemirror_mode": {
    "name": "ipython",
    "version": 3
   },
   "file_extension": ".py",
   "mimetype": "text/x-python",
   "name": "python",
   "nbconvert_exporter": "python",
   "pygments_lexer": "ipython3",
   "version": "3.8.10"
  }
 },
 "nbformat": 4,
 "nbformat_minor": 2
}
