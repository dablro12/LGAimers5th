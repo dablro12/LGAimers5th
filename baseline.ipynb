{
 "cells": [
  {
   "cell_type": "code",
   "execution_count": null,
   "metadata": {},
   "outputs": [],
   "source": [
    "from dotenv import load_dotenv\n",
    "import os\n",
    "load_dotenv()"
   ]
  },
  {
   "cell_type": "markdown",
   "metadata": {},
   "source": [
    "### Data Load"
   ]
  },
  {
   "cell_type": "code",
   "execution_count": null,
   "metadata": {},
   "outputs": [],
   "source": [
    "from utils.public import *\n",
    "from utils.feature import preprocess\n",
    "\n",
    "TRAIN_PATH = os.getenv('TRAIN_DATA_PATH')\n",
    "TEST_PATH = os.getenv('TEST_DATA_PATH')\n",
    "SUBMISSION_PATH = os.getenv('SUBMISSION_DATA_PATH')\n",
    "\n",
    "train = pd.read_csv(TRAIN_PATH)\n",
    "test = pd.read_csv(TEST_PATH)\n",
    "\n",
    "print(f\"#------------Load Data Length------------#\")\n",
    "print(f\"Train Data Length : {len(train)}\")\n",
    "print(f\"Test Data Length : {len(test)}\")\n",
    "\n",
    "\n",
    "train = preprocess(train, validation = False)\n",
    "test = preprocess(test, validation = True)\n",
    "\n",
    "print(f\"#------------After Pre Data Length------------#\")\n",
    "print(f\"Train Data Length : {len(train)}\")\n",
    "print(f\"Test Data Length : {len(test)}\")"
   ]
  },
  {
   "cell_type": "markdown",
   "metadata": {},
   "source": [
    "# Modeling"
   ]
  },
  {
   "cell_type": "code",
   "execution_count": null,
   "metadata": {},
   "outputs": [],
   "source": [
    "from sklearn.model_selection import train_test_split\n",
    "X_train, X_valid, y_train, y_valid = train_test_split(train.drop('임신 성공 여부', axis=1), train['임신 성공 여부'], test_size=0.1, random_state=42)\n",
    "\n"
   ]
  },
  {
   "cell_type": "markdown",
   "metadata": {},
   "source": [
    "### Train - Voting"
   ]
  },
  {
   "cell_type": "code",
   "execution_count": null,
   "metadata": {},
   "outputs": [],
   "source": [
    "from catboost import CatBoostClassifier\n",
    "from xgboost import XGBClassifier\n",
    "from lightgbm import LGBMClassifier\n",
    "from sklearn.ensemble import VotingClassifier\n",
    "\n",
    "# 개별 모델 정의\n",
    "cat_model = CatBoostClassifier(iterations=500, learning_rate=0.05, depth=8, verbose=100)\n",
    "xgb_model = XGBClassifier(n_estimators=500, learning_rate=0.05, max_depth=8, verbosity=1)\n",
    "lgbm_model = LGBMClassifier(n_estimators=500, learning_rate=0.05, max_depth=8, verbose=1)\n",
    "\n",
    "\n",
    "# 앙상블 모델 (VotingClassifier) 정의\n",
    "ensemble_model = VotingClassifier(\n",
    "    estimators=[\n",
    "        ('catboost', cat_model),\n",
    "        ('xgboost', xgb_model),\n",
    "        ('lightgbm', lgbm_model)\n",
    "    ],\n",
    "    voting='soft'  # 소프트 투표 (각 모델의 확률값을 평균)\n",
    ")\n",
    "\n",
    "# 모델 학습\n",
    "ensemble_model.fit(X_train, y_train)\n",
    "\n",
    "\n",
    "y_valid_pred = ensemble_model.predict_proba(X_valid)[:, 1]\n",
    "\n",
    "# roc score\n",
    "roc_score = roc_auc_score(y_valid, y_valid_pred)\n",
    "print(f\"ROC AUC Score : {roc_score}\")\n"
   ]
  },
  {
   "cell_type": "markdown",
   "metadata": {},
   "source": [
    "### Train - Bagging"
   ]
  },
  {
   "cell_type": "code",
   "execution_count": 13,
   "metadata": {},
   "outputs": [],
   "source": [
    "from sklearn.ensemble import RandomForestClassifier\n",
    "from sklearn.model_selection import GridSearchCV\n",
    "\n",
    "params = {\n",
    "    'n_estimators':[100],\n",
    "    'max_depth' : [6, 8, 10, 12], \n",
    "    'min_samples_leaf' : [8, 12, 18 ],\n",
    "    'min_samples_split' : [8, 16, 20]\n",
    "}\n",
    "\n",
    "\n",
    "rf_clf = RandomForestClassifier(random_state=0, n_jobs=-1)\n",
    "grid_cv = GridSearchCV(rf_clf , param_grid=params , cv=2, n_jobs=-1 )\n",
    "grid_cv.fit(X_train , y_train)\n",
    "\n",
    "print('최적 하이퍼 파라미터:\\n', grid_cv.best_params_)\n",
    "print('\\n최고 예측 정확도: {0:.4f}'.format(grid_cv.best_score_))"
   ]
  },
  {
   "cell_type": "markdown",
   "metadata": {},
   "source": [
    "### Train - TabPFN"
   ]
  },
  {
   "cell_type": "code",
   "execution_count": null,
   "metadata": {},
   "outputs": [],
   "source": [
    "from tabpfn import TabPFNClassifier\n",
    "X_train_sample = X_train.sample(n=5000, random_state=42)\n",
    "y_train_sample = y_train.loc[X_train_sample.index]\n",
    "\n",
    "clf = TabPFNClassifier(\n",
    "    device = 'cuda',\n",
    "    seed = 42,\n",
    "    N_ensemble_configurations = 1,\n",
    ")\n",
    "clf.fit(X_train_sample, y_train_sample, overwrite_warning= True)\n",
    "\n",
    "y_pred = clf.predict_proba(X_valid)[:, 1]\n",
    "\n",
    "# roc score\n",
    "roc_score = roc_auc_score(y_valid, y_pred)\n",
    "print(f\"ROC AUC Score : {roc_score}\")"
   ]
  },
  {
   "cell_type": "markdown",
   "metadata": {},
   "source": [
    "### Train - TabNet"
   ]
  },
  {
   "cell_type": "code",
   "execution_count": null,
   "metadata": {},
   "outputs": [],
   "source": [
    "from pytorch_tabnet.tab_model import TabNetClassifier, TabNetRegressor\n",
    "# Model\n",
    "clf = TabNetClassifier(optimizer_params=dict(lr=0.05), verbose=0)\n",
    "from pytorch_tabnet.augmentations import ClassificationSMOTE\n",
    "aug = ClassificationSMOTE(p=0.2)\n",
    "\n",
    "\n",
    "clf.fit(\n",
    "    X_train.values, y_train.values,\n",
    "    eval_set=[(X_valid.values, y_valid.values)],\n",
    "    eval_metric=[\"auc\"],\n",
    "    max_epochs=20,\n",
    "    augmentations=aug, #aug, None\n",
    ")\n",
    "y_pred = clf.predict_proba(X_valid.values)[:, 1]\n",
    "\n",
    "# roc score\n",
    "roc_score = roc_auc_score(y_valid, y_pred)\n",
    "print(f\"ROC AUC Score : {roc_score}\")\n"
   ]
  },
  {
   "cell_type": "markdown",
   "metadata": {},
   "source": [
    "### Final Predict"
   ]
  },
  {
   "cell_type": "code",
   "execution_count": null,
   "metadata": {},
   "outputs": [],
   "source": [
    "pred_proba=ensemble_model.predict_proba(X_test)[:,1]\n",
    "\n",
    "print(pred_proba.shape)"
   ]
  },
  {
   "cell_type": "markdown",
   "metadata": {},
   "source": [
    "### Submission"
   ]
  },
  {
   "cell_type": "code",
   "execution_count": null,
   "metadata": {},
   "outputs": [],
   "source": [
    "sample_submission = pd.read_csv(os.getenv('SUBMISSION_DATA_PATH'))\n",
    "sample_submission['probability'] = pred_proba\n",
    "sample_submission"
   ]
  },
  {
   "cell_type": "code",
   "execution_count": null,
   "metadata": {},
   "outputs": [],
   "source": [
    "sample_submission.to_csv('log/baseline_submit.csv', index=False)"
   ]
  }
 ],
 "metadata": {
  "kernelspec": {
   "display_name": "med_chatbot",
   "language": "python",
   "name": "python3"
  },
  "language_info": {
   "codemirror_mode": {
    "name": "ipython",
    "version": 3
   },
   "file_extension": ".py",
   "mimetype": "text/x-python",
   "name": "python",
   "nbconvert_exporter": "python",
   "pygments_lexer": "ipython3",
   "version": "3.8.10"
  }
 },
 "nbformat": 4,
 "nbformat_minor": 2
}
