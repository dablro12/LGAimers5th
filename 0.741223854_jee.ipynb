{
 "cells": [
  {
   "cell_type": "markdown",
   "metadata": {},
   "source": [
    "### Libraries"
   ]
  },
  {
   "cell_type": "code",
   "execution_count": null,
   "metadata": {},
   "outputs": [],
   "source": [
    "import numpy as np\n",
    "import pandas as pd\n",
    "import warnings\n",
    "\n",
    "from catboost import CatBoostClassifier\n",
    "from xgboost import XGBClassifier\n",
    "from lightgbm import LGBMClassifier\n",
    "from sklearn.model_selection import train_test_split, StratifiedKFold\n",
    "from sklearn.preprocessing import LabelEncoder\n",
    "from sklearn.ensemble import VotingClassifier, AdaBoostClassifier\n",
    "from sklearn.tree import DecisionTreeClassifier\n",
    "from sklearn.metrics import accuracy_score, precision_score, recall_score, f1_score, roc_auc_score, confusion_matrix"
   ]
  },
  {
   "cell_type": "markdown",
   "metadata": {},
   "source": [
    "### Load data"
   ]
  },
  {
   "cell_type": "code",
   "execution_count": null,
   "metadata": {},
   "outputs": [],
   "source": [
    "from dotenv import load_dotenv\n",
    "import os \n",
    "load_dotenv()"
   ]
  },
  {
   "cell_type": "code",
   "execution_count": null,
   "metadata": {},
   "outputs": [],
   "source": [
    "df_train = pd.read_csv(os.getenv('TRAIN_DATA_PATH')).drop(columns=['ID'])\n",
    "df_test = pd.read_csv(os.getenv('TEST_DATA_PATH')).drop(columns=['ID'])\n",
    "\n",
    "df_train.head(8).to_csv('train_sample.csv', encoding = 'utf-8-sig', index = False)"
   ]
  },
  {
   "cell_type": "code",
   "execution_count": null,
   "metadata": {},
   "outputs": [],
   "source": [
    "# object 타입 컬럼 확인\n",
    "cat_features = list(df_train.select_dtypes(include=['object']).columns)\n",
    "df_train[cat_features].isnull().mean() * 100"
   ]
  },
  {
   "cell_type": "code",
   "execution_count": null,
   "metadata": {},
   "outputs": [],
   "source": [
    "print(df_train.shape)\n",
    "df_train.head(2)"
   ]
  },
  {
   "cell_type": "code",
   "execution_count": null,
   "metadata": {},
   "outputs": [],
   "source": [
    "print(df_test.shape)\n",
    "df_test.head(2)"
   ]
  },
  {
   "cell_type": "markdown",
   "metadata": {},
   "source": [
    "### Preprocessing"
   ]
  },
  {
   "cell_type": "markdown",
   "metadata": {},
   "source": [
    "#### 컬럼 제거"
   ]
  },
  {
   "cell_type": "code",
   "execution_count": null,
   "metadata": {},
   "outputs": [],
   "source": [
    "# 결측 비율 80% 이상 제거\n",
    "missing_ratio = df_train.isnull().mean()\n",
    "column_missing = missing_ratio[missing_ratio >= 0.8].index.tolist()\n",
    "\n",
    "# nunique = 1 제거 \n",
    "unique_counts = df_train.nunique()\n",
    "column_nunique = unique_counts[unique_counts == 1].index.tolist()\n",
    "\n",
    "# 컬럼 제거\n",
    "dropped_columns = list(set(column_missing + column_nunique + ['배란 유도 유형'])) # 배란 유도 유형 제외\n",
    "\n",
    "df_train = df_train.drop(columns=dropped_columns)\n",
    "df_test = df_test.drop(columns=dropped_columns)\n",
    "\n",
    "print(\"제거된 컬럼 개수:\", len(dropped_columns))\n",
    "print(\"제거된 컬럼:\", dropped_columns)\n",
    "print(\"df_train.shape:\", df_train.shape)\n",
    "print(\"df_test.shape:\", df_test.shape)"
   ]
  },
  {
   "cell_type": "markdown",
   "metadata": {},
   "source": [
    "#### 29-38. astype(int)"
   ]
  },
  {
   "cell_type": "code",
   "execution_count": null,
   "metadata": {},
   "outputs": [],
   "source": [
    "# '횟수'를 포함하는 컬럼 찾기\n",
    "count_columns = [col for col in df_train.columns if '횟수' in col]\n",
    "\n",
    "def extract_number(value):\n",
    "    if isinstance(value, str):\n",
    "        return int(value[0])  # 맨 앞자리 숫자로 변환\n",
    "    return value\n",
    "\n",
    "for col in count_columns:\n",
    "    df_train[col] = df_train[col].apply(extract_number).astype(int)\n",
    "    df_test[col] = df_test[col].apply(extract_number).astype(int)\n",
    "print(\"변환된 컬럼:\", count_columns)"
   ]
  },
  {
   "cell_type": "markdown",
   "metadata": {},
   "source": [
    "#### 29,31,32. 총 시술 횟수 재정의"
   ]
  },
  {
   "cell_type": "code",
   "execution_count": null,
   "metadata": {},
   "outputs": [],
   "source": [
    "# 총 시술 횟수 재정의\n",
    "def update_total_counts(df):\n",
    "    df['총 시술 횟수'] = df['IVF 시술 횟수'] + df['DI 시술 횟수']\n",
    "    df['총 임신 횟수'] = df['IVF 임신 횟수'] + df['DI 임신 횟수']\n",
    "    df['총 출산 횟수'] = df['IVF 출산 횟수'] + df['DI 출산 횟수']\n",
    "    return df\n",
    "\n",
    "df_train = update_total_counts(df_train)\n",
    "df_test = update_total_counts(df_test)"
   ]
  },
  {
   "cell_type": "markdown",
   "metadata": {},
   "source": [
    "#### 2. 55-56. 나이"
   ]
  },
  {
   "cell_type": "code",
   "execution_count": null,
   "metadata": {},
   "outputs": [],
   "source": [
    "# 중앙값으로 나이 변환\n",
    "def mapping_age(df, column, age):\n",
    "    df[column] = df[column].map(age)\n",
    "    return df\n",
    "\n",
    "patient_age = {\n",
    "    '만18-34세': 26,  \n",
    "    '만35-37세': 36,  \n",
    "    '만38-39세': 38.5,  \n",
    "    '만40-42세': 41,  \n",
    "    '만43-44세': 43.5,  \n",
    "    '만45-50세': 47.5,  \n",
    "    '알 수 없음': 999  # value_counts = 329, 999 또는 NaN로 대체\n",
    "}\n",
    "\n",
    "egg_age = {\n",
    "    '만20세 이하': 18,  \n",
    "    '만21-25세': 23,  \n",
    "    '만26-30세': 28,  \n",
    "    '만31-35세': 33,  \n",
    "    '알 수 없음': 999\n",
    "}\n",
    "\n",
    "sperm_age = {\n",
    "    '만20세 이하': 18,  \n",
    "    '만21-25세': 23,  \n",
    "    '만26-30세': 28,  \n",
    "    '만31-35세': 33,  \n",
    "    '만36-40세': 38,  \n",
    "    '만41-45세': 43,  \n",
    "    '알 수 없음': 999 \n",
    "}\n",
    "\n",
    "df_train = mapping_age(df_train, '시술 당시 나이', patient_age)\n",
    "df_test = mapping_age(df_test, '시술 당시 나이', patient_age)\n",
    "df_train = mapping_age(df_train, '난자 기증자 나이', egg_age)\n",
    "df_test = mapping_age(df_test, '난자 기증자 나이', egg_age)\n",
    "df_train = mapping_age(df_train, '정자 기증자 나이', sperm_age)\n",
    "df_test = mapping_age(df_test, '정자 기증자 나이', sperm_age)"
   ]
  },
  {
   "cell_type": "markdown",
   "metadata": {},
   "source": [
    "#### 5. 특정 시술 유형"
   ]
  },
  {
   "cell_type": "code",
   "execution_count": null,
   "metadata": {},
   "outputs": [],
   "source": [
    "def ICSI_check(df):\n",
    "    df['특정 시술 유형 - ICSI'] = np.where(df['시술 유형'] != 'IVF', -1, \n",
    "                             np.where(df['특정 시술 유형'].str.contains('ICSI', na=False), 2, 1))\n",
    "\n",
    "    df = df.drop(columns=['특정 시술 유형'])\n",
    "    \n",
    "    return df\n",
    "\n",
    "df_train = ICSI_check(df_train)\n",
    "df_test = ICSI_check(df_test)"
   ]
  },
  {
   "cell_type": "markdown",
   "metadata": {},
   "source": [
    "#### 28. 배아 생성 주요 이유: 기증용, 난자 저장용, 배아 저장용, 연구용, 현재 시술용"
   ]
  },
  {
   "cell_type": "code",
   "execution_count": null,
   "metadata": {},
   "outputs": [],
   "source": [
    "def treatment_use(df):\n",
    "\n",
    "    # df['시술용_여부'] = df['배아 생성 주요 이유'].astype(str).apply(lambda x: 1 if '현재 시술용' in x else 0)\n",
    "    df.drop('배아 생성 주요 이유',axis=1, inplace=True)\n",
    "    return df\n",
    "df_train=treatment_use(df_train)\n",
    "df_test=treatment_use(df_test)"
   ]
  },
  {
   "cell_type": "code",
   "execution_count": null,
   "metadata": {},
   "outputs": [],
   "source": [
    "def drop_cols(df):\n",
    "    cols = ['남성 주 불임 원인', '남성 부 불임 원인', \n",
    "            '여성 주 불임 원인', '여성 부 불임 원인',\n",
    "            '부부 주 불임 원인', '부부 부 불임 원인']\n",
    "    df = df.drop(columns=cols, errors='ignore')\n",
    "    return df\n",
    "\n",
    "df_train = drop_cols(df_train)\n",
    "df_test = drop_cols(df_test)"
   ]
  },
  {
   "cell_type": "code",
   "execution_count": null,
   "metadata": {},
   "outputs": [],
   "source": [
    "df_train.columns"
   ]
  },
  {
   "cell_type": "markdown",
   "metadata": {},
   "source": [
    "## 새롭게 추가하는 것들_다은"
   ]
  },
  {
   "cell_type": "code",
   "execution_count": null,
   "metadata": {},
   "outputs": [],
   "source": [
    "\n",
    "def advanced_features(df):\n",
    "    epsilon = 1e-5  # 분모 0 방지를 위한 작은 값\n",
    "\n",
    "    binary_cols = [\n",
    "        '배란 자극 여부', '단일 배아 이식 여부', '착상 전 유전 진단 사용 여부',\n",
    "        '동결 배아 사용 여부', '신선 배아 사용 여부', '기증 배아 사용 여부', '대리모 여부'\n",
    "    ]\n",
    "    # 이미 0/1로 변환되어 있다고 가정하고, 총 개수 합산\n",
    "    df['바이너리_합'] = df[binary_cols].sum(axis=1)\n",
    "    # 예시로 특정 두 변수 간 상호작용 (배란 자극과 단일 배아 이식)\n",
    "    df['배란자극x단일이식'] = df['배란 자극 여부'] * df['단일 배아 이식 여부']\n",
    "    \n",
    "    # 6. 경과일 차이: 배아 이식 경과일과 난자 혼합 경과일의 차이\n",
    "    df['경과일_차이'] = df['배아 이식 경과일'] - df['난자 혼합 경과일']\n",
    "    \n",
    "    # 10. 불임 원인 관련 피처: 여러 불임 원인 컬럼을 합쳐서 총 원인 수 산출\n",
    "    infertility_cols = [\n",
    "        '불명확 불임 원인', '불임 원인 - 난관 질환', '불임 원인 - 남성 요인',\n",
    "        '불임 원인 - 배란 장애', '불임 원인 - 자궁경부 문제', '불임 원인 - 자궁내막증',\n",
    "        '불임 원인 - 정자 농도', '불임 원인 - 정자 면역학적 요인',\n",
    "        '불임 원인 - 정자 운동성', '불임 원인 - 정자 형태'\n",
    "    ]\n",
    "    # 만약 해당 컬럼들이 문자열(Y/N)이라면 0/1로 변환\n",
    "    for col in infertility_cols:\n",
    "        if df[col].dtype == 'object':\n",
    "            df[col] = df[col].map({'Y': 1, 'N': 0})\n",
    "    df['불임원인_수'] = df[infertility_cols].sum(axis=1)\n",
    "    \n",
    "    # 11. ICSI와 배란자극 여부 상호작용: ICSI 효과가 배란자극 여부와 어떻게 연관되는지\n",
    "    df['ICSIx배란자극'] = df['특정 시술 유형 - ICSI'] * df['배란 자극 여부']\n",
    "    \n",
    "    # 12. 배아 저장 비율: 생성된 배아 중 얼마나 많은 배아가 저장되었는지\n",
    "    df['배아저장비율'] = df['저장된 배아 수'] / (df['총 생성 배아 수'] + epsilon)\n",
    "    \n",
    "    return df\n",
    "\n",
    "# 학습/테스트 데이터에 적용\n",
    "df_train = advanced_features(df_train)\n",
    "df_test  = advanced_features(df_test)"
   ]
  },
  {
   "cell_type": "markdown",
   "metadata": {},
   "source": [
    "### Feature engineering"
   ]
  },
  {
   "cell_type": "code",
   "execution_count": null,
   "metadata": {},
   "outputs": [],
   "source": [
    "def feature_engineering(df):\n",
    "    \n",
    "    # 임신 성공률\n",
    "    # df['총 임신 성공률'] = df['총 임신 횟수'] / df['총 시술 횟수']\n",
    "    df['IVF 임신 성공률'] = df['IVF 임신 횟수'] / df['IVF 시술 횟수']\n",
    "    df['배아 이식 대비 임신 성공률'] = df['총 임신 횟수'] / df['이식된 배아 수']\n",
    "    # [ADD] 배아 이식 대비 임신 실패률\n",
    "    df['배아 이식 대비 임신 실패률'] = 1- df['배아 이식 대비 임신 성공률']\n",
    "    \n",
    "    # 출산 성공률\n",
    "    # df['총 출산 성공률'] = df['총 출산 횟수'] / df['총 임신 횟수']\n",
    "    df['IVF 출산 성공률'] = df['IVF 출산 횟수'] / df['IVF 임신 횟수']\n",
    "    df['배아 이식 대비 출산 성공률'] = df['총 출산 횟수'] / df['이식된 배아 수']\n",
    "    # [ADD] 배아 이식 대비 출산 실패률\n",
    "    df['배아 이식 대비 출산 실패률'] = 1-df['배아 이식 대비 출산 성공률']\n",
    "    \n",
    "    # 나이 \n",
    "    # df['나이 대비 임신 확률'] = df['총 임신 횟수'] / df['시술 당시 나이']\n",
    "    # df['나이 대비 배아 생성 확률'] = df['총 생성 배아 수'] / df['시술 당시 나이']\n",
    "    # df['나이 대비 배아 이식 확률'] = df['이식된 배아 수'] / df['시술 당시 나이']\n",
    "    \n",
    "    # 시술 효율성\n",
    "    # df['시술당 평균 배아 생성 수'] = df['총 생성 배아 수'] / df['총 시술 횟수'] \n",
    "    # df['시술당 평균 이식 배아 수'] = df['이식된 배아 수'] / df['총 시술 횟수'] \n",
    "    # df['총 배아 이식 확률'] = df['이식된 배아 수'] / df['총 생성 배아 수']\n",
    "    # df['미세주입 배아 생성 확률'] = df['미세주입에서 생성된 배아 수'] / df['미세주입된 난자 수']\n",
    "    # df['미세주입 배아 이식 확률'] = df['미세주입 배아 이식 수'] / df['미세주입에서 생성된 배아 수']\n",
    "    \n",
    "    # 이식 경과일\n",
    "    # df[\"배아 이식 경과 카테고리\"] = pd.cut(df[\"배아 이식 경과일\"], \n",
    "    #                          bins=[0, 2, 4, df[\"배아 이식 경과일\"].max()], \n",
    "    #                          labels=[0, 1, 2])\n",
    "    # df[\"배아 이식 경과 카테고리\"] = df[\"배아 이식 경과 카테고리\"].astype(str)\n",
    "\n",
    "    # df[\"배아 저장 대비 이식 기간\"] = df[\"배아 이식 경과일\"] / (df[\"저장된 배아 수\"])\n",
    "    df[\"이식된 배아 대비 이식 기간\"] = df[\"배아 이식 경과일\"] / (df[\"이식된 배아 수\"])\n",
    "\n",
    "    df['총 난자 수']=df['수집된 신선 난자 수']+df['해동 난자 수']\n",
    "        \n",
    "    df['난자 사용률']=df['혼합된 난자 수']/(df['총 난자 수'])\n",
    "    # [ADD] 난자 사용 실패률\n",
    "    df['난자 사용 실패률'] = 1 - df['난자 사용률']\n",
    "    \n",
    "    df['IVF 난자 수']=df['혼합된 난자 수']-df['미세주입된 난자 수']\n",
    "\n",
    "    df['총 배아 수']=df['총 생성 배아 수']+df['해동된 배아 수']\n",
    "    \n",
    "    df['IVF 배아 수']=df['총 생성 배아 수']-df['미세주입에서 생성된 배아 수']\n",
    "\n",
    "    df['미세주입 배아 생성 확률'] = df['미세주입에서 생성된 배아 수'] / df['미세주입된 난자 수']\n",
    "    # [ADD] 미세주입 배아 생성 실패 확률\n",
    "    df['미세주입 배아 생성 실패 확률'] = 1 - df['미세주입 배아 생성 확률']\n",
    "    \n",
    "    df['IVF 배아 생성 확률']= df['IVF 배아 수']/(df['IVF 난자 수'])\n",
    "    # [ADD] IVF 배아 생성 실패 확률\n",
    "    df['IVF 배아 생성 실패 확률'] = 1 - df['IVF 배아 생성 확률']\n",
    "    \n",
    "    df['총 배아 생성 확률']=df['총 배아 수']/(df['총 난자 수'])\n",
    "    # [ADD] 총 배아 생성 실패 확률\n",
    "    df['총 배아 생성 실패 확률'] = 1 - df['총 배아 생성 확률']\n",
    "    \n",
    "    df['이식률']=df['이식된 배아 수']/(df['총 배아 수'])\n",
    "    #[ADD] 이식 실패률\n",
    "    df['이식실패률'] = 1 - df['이식률']\n",
    "    \n",
    "    df['미세주입 배아 이식 확률'] = df['미세주입 배아 이식 수'] / (df['미세주입에서 생성된 배아 수'])\n",
    "    #[ADD] 미세주입 배아 시식 실패 확률\n",
    "    df['미세주입 배아 이식 실패률'] = 1 - df['미세주입 배아 이식 확률']\n",
    "    \n",
    "    df['동결&IVF 배아 이식 확률'] = (df['이식된 배아 수']-df['미세주입 배아 이식 수'])/(df['총 배아 수']-df['미세주입에서 생성된 배아 수'])\n",
    "    #[ADD] 동결&IVF 배아 이식 실패 확률\n",
    "    df['동결&IVF 배아 이식 실패 확률'] = 1 - df['동결&IVF 배아 이식 확률']\n",
    "    # df['임신횟수*나이']=df['총 임신 횟수'] * df['시술 당시 나이']\n",
    "    # df['시술횟수*나이']=df['총 시술 횟수'] * df['시술 당시 나이']\n",
    "    # df['난자사용률*배아수']=df['난자 사용률']*df['총 배아 수']\n",
    "    # df['이식률*경과일']=df['이식률']*df['배아 이식 경과일']\n",
    "    # df['이식률/나이']=df['이식률']/df['시술 당시 나이']\n",
    "    return df\n",
    "\n",
    "df_train = feature_engineering(df_train)\n",
    "df_test = feature_engineering(df_test)\n",
    "\n"
   ]
  },
  {
   "cell_type": "code",
   "execution_count": null,
   "metadata": {},
   "outputs": [],
   "source": [
    "def drop_cols(df):\n",
    "    cols = ['총 난자 수','IVF 난자 수','IVF 배아 수','IVF 배아 생성 확률','동결&IVF 배아 이식 확률']\n",
    "    \n",
    "    df = df.drop(columns=cols, errors='ignore')\n",
    "\n",
    "    return df\n",
    "\n",
    "df_train = drop_cols(df_train)\n",
    "df_test = drop_cols(df_test)"
   ]
  },
  {
   "cell_type": "code",
   "execution_count": null,
   "metadata": {},
   "outputs": [],
   "source": [
    "def di_null(df):\n",
    "    df.loc[df['시술 유형'] == 'DI'] = df.loc[df['시술 유형'] == 'DI'].fillna(-1)\n",
    "    return df\n",
    "\n",
    "df_train=di_null(df_train)\n",
    "df_test=di_null(df_test)"
   ]
  },
  {
   "cell_type": "code",
   "execution_count": null,
   "metadata": {},
   "outputs": [],
   "source": [
    "# 결측값 대체\n",
    "def replace_inf_and_nan(df, value):\n",
    "    df.replace([np.inf, -np.inf], value, inplace=True)  # inf, -inf를 999로 변환\n",
    "    df.fillna(value, inplace=True)  # NaN도 999로 변환\n",
    "    return df\n",
    "\n",
    "# 변환 적용\n",
    "value = 999\n",
    "df_train = replace_inf_and_nan(df_train, value)\n",
    "df_test = replace_inf_and_nan(df_test, value)"
   ]
  },
  {
   "cell_type": "markdown",
   "metadata": {},
   "source": [
    "### Feature selection"
   ]
  },
  {
   "cell_type": "code",
   "execution_count": null,
   "metadata": {},
   "outputs": [],
   "source": [
    "# object 타입 컬럼 확인\n",
    "cat_features = list(df_train.select_dtypes(include=['object']).columns)\n",
    "df_train[cat_features].isnull().mean() * 100"
   ]
  },
  {
   "cell_type": "raw",
   "metadata": {},
   "source": [
    "LabelEncoder, OneHotEncoder, OrdinalEncoder, category_encoders.BinaryEncoder"
   ]
  },
  {
   "cell_type": "code",
   "execution_count": null,
   "metadata": {},
   "outputs": [],
   "source": [
    "from sklearn.preprocessing import OneHotEncoder\n",
    "def onehot_category_encoding(df: pd.DataFrame, column_name: str) -> pd.DataFrame:\n",
    "    oe = OneHotEncoder(sparse=False)\n",
    "    # df_train 대신 전달된 df를 사용하고, 결과를 int로 변환\n",
    "    onehot_encoded = oe.fit_transform(df[[column_name]]).astype(int)\n",
    "    column_names = oe.get_feature_names_out([column_name])\n",
    "    df_onehot = pd.DataFrame(onehot_encoded, columns=column_names, index=df.index)\n",
    "    df = df.join(df_onehot)\n",
    "    \n",
    "    # 기존 컬럼 삭제\n",
    "    df.drop(columns=[column_name], inplace=True)\n",
    "    return df"
   ]
  },
  {
   "cell_type": "code",
   "execution_count": null,
   "metadata": {},
   "outputs": [],
   "source": [
    "# LabelEncoder 적용\n",
    "for col in cat_features:\n",
    "    # [BEFORE] Label Encoding\n",
    "    le = LabelEncoder() \n",
    "    df_train[col] = le.fit_transform(df_train[col])  \n",
    "    df_test[col] = le.transform(df_test[col]) \n",
    "    \n",
    "    # [AFTER] Onehot Encoding\n",
    "    # df_train = onehot_category_encoding(df_train, col)\n",
    "    # df_test = onehot_category_encoding(df_test, col)"
   ]
  },
  {
   "cell_type": "markdown",
   "metadata": {},
   "source": [
    "# [ADD]\n",
    "모두 0~1 정규형 바꾸기\n"
   ]
  },
  {
   "cell_type": "code",
   "execution_count": null,
   "metadata": {},
   "outputs": [],
   "source": [
    "# 정규화\n",
    "df_train = (df_train - df_train.mean()) / df_train.std()\n",
    "df_train"
   ]
  },
  {
   "cell_type": "code",
   "execution_count": null,
   "metadata": {},
   "outputs": [],
   "source": [
    "# 결측 비율\n",
    "missing_ratio = df_train.isnull().mean() * 100\n",
    "print(missing_ratio)"
   ]
  },
  {
   "cell_type": "markdown",
   "metadata": {},
   "source": [
    "### Modeling"
   ]
  },
  {
   "cell_type": "code",
   "execution_count": null,
   "metadata": {},
   "outputs": [],
   "source": [
    "X = df_train.drop('임신 성공 여부', axis=1)\n",
    "y = df_train['임신 성공 여부']\n",
    "X_test = df_test"
   ]
  },
  {
   "cell_type": "markdown",
   "metadata": {},
   "source": [
    "#### Stratified K-Fold "
   ]
  },
  {
   "cell_type": "code",
   "execution_count": null,
   "metadata": {
    "scrolled": false
   },
   "outputs": [],
   "source": [
    "# Stratified K-Fold 설정\n",
    "n_splits = 5\n",
    "skf = StratifiedKFold(n_splits=n_splits, shuffle=True, random_state=123)\n",
    "\n",
    "metrics = {model: [] for model in ['CatBoost']}\n",
    "feature_importances = {model: [] for model in ['CatBoost']}\n",
    "test_proba = {model: [] for model in ['CatBoost']}\n",
    "\n",
    "for fold, (train_idx, val_idx) in enumerate(skf.split(X, y), 1):\n",
    "    print(f\"===== Fold {fold} =====\")\n",
    "\n",
    "    X_train, X_val = X.iloc[train_idx], X.iloc[val_idx]\n",
    "    y_train, y_val = y.iloc[train_idx], y.iloc[val_idx]\n",
    "\n",
    "    # 모델 정의\n",
    "    cat_model = CatBoostClassifier(\n",
    "        iterations=700, learning_rate=0.03, depth=8, l2_leaf_reg=10,\n",
    "        subsample=0.8, colsample_bylevel=0.8, random_strength=10,\n",
    "        loss_function='Logloss', eval_metric='AUC', verbose=100,random_seed=123\n",
    "    )\n",
    "\n",
    "\n",
    "    # 모델 학습\n",
    "    for model in [cat_model]:\n",
    "        model.fit(X_train, y_train)\n",
    "\n",
    "    # 평가 함수\n",
    "    def evaluate_model(model, X_val, y_true):\n",
    "        y_pred = model.predict(X_val)\n",
    "        y_pred_proba = model.predict_proba(X_val)[:, 1]\n",
    "\n",
    "        return {\n",
    "            'Accuracy': accuracy_score(y_true, y_pred),\n",
    "            'Precision': precision_score(y_true, y_pred),\n",
    "            'Recall': recall_score(y_true, y_pred),\n",
    "            'F1 Score': f1_score(y_true, y_pred),\n",
    "            'ROC AUC Score': roc_auc_score(y_true, y_pred_proba)\n",
    "        }\n",
    "\n",
    "    # 평가 및 변수 중요도 저장\n",
    "    for model_name, model in zip(metrics.keys(), [cat_model]):\n",
    "        metrics[model_name].append(evaluate_model(model, X_val, y_val))\n",
    "\n",
    "    for model_name, model in zip(['CatBoost'], [cat_model]):\n",
    "        feature_importances[model_name].append(model.feature_importances_)\n",
    "        \n",
    "    # 테스트 데이터 예측 확률 저장\n",
    "    test_proba['CatBoost'].append(cat_model.predict_proba(X_test)[:, 1])"
   ]
  },
  {
   "cell_type": "code",
   "execution_count": null,
   "metadata": {},
   "outputs": [],
   "source": [
    "# 평가 지표 평균 출력\n",
    "print(\"===== Stratified K-Fold 평균 성능 =====\")\n",
    "for model_name, model_metrics in metrics.items():\n",
    "    avg_metrics = {metric: np.mean([fold_metric[metric] for fold_metric in model_metrics]) for metric in model_metrics[0]}\n",
    "    \n",
    "    print(f\"\\n== {model_name} Model ==\")\n",
    "    for metric, value in avg_metrics.items():\n",
    "        print(f\"{metric}: {value:.6f}\")\n",
    "        "
   ]
  },
  {
   "cell_type": "code",
   "execution_count": null,
   "metadata": {
    "scrolled": true
   },
   "outputs": [],
   "source": [
    "# 최종 변수 중요도 평균 계산\n",
    "df_fi_list = []\n",
    "for model_name, fi_list in feature_importances.items():\n",
    "    avg_importance = np.mean(fi_list, axis=0)\n",
    "    df_fi = pd.DataFrame({\n",
    "        'Feature': X_train.columns,\n",
    "        model_name: avg_importance \n",
    "    })\n",
    "    df_fi = df_fi.sort_values(by=model_name, ascending=False).reset_index(drop=True)\n",
    "    df_fi_list.append(df_fi)\n",
    "    \n",
    "df_fi_final = pd.concat(df_fi_list, axis=1)\n",
    "df_fi_final.to_csv('feature_importances.csv', encoding = 'utf-8-sig', index = False)\n",
    "df_fi_final"
   ]
  },
  {
   "cell_type": "code",
   "execution_count": null,
   "metadata": {},
   "outputs": [],
   "source": [
    "df_train.columns.drop(df_fi_final.Feature)"
   ]
  },
  {
   "cell_type": "code",
   "execution_count": null,
   "metadata": {
    "scrolled": true
   },
   "outputs": [],
   "source": [
    "# catboost 기준 변수 중요도 0.1 미만 변수 제거\n",
    "df_cat = df_fi_final.iloc[:, :2]\n",
    "df_selected = df_cat[df_cat['CatBoost'] > 0.05]\n",
    "selected_features = df_selected['Feature'].tolist()\n",
    "\n",
    "# 중요도가 높은 피처만 선택하여 새로운 데이터 생성\n",
    "X = X[selected_features]\n",
    "X_test = X_test[selected_features]"
   ]
  },
  {
   "cell_type": "markdown",
   "metadata": {},
   "source": [
    "### Re-modeling"
   ]
  },
  {
   "cell_type": "code",
   "execution_count": null,
   "metadata": {
    "scrolled": true
   },
   "outputs": [],
   "source": [
    "# Stratified K-Fold 설정\n",
    "n_splits = 5\n",
    "skf = StratifiedKFold(n_splits=n_splits, shuffle=True, random_state=123)\n",
    "\n",
    "metrics = {model: [] for model in ['CatBoost']}\n",
    "feature_importances = {model: [] for model in ['CatBoost']}\n",
    "test_proba = {model: [] for model in ['CatBoost', 'XGBoost']}\n",
    "\n",
    "for fold, (train_idx, val_idx) in enumerate(skf.split(X, y), 1):\n",
    "    print(f\"===== Fold {fold} =====\")\n",
    "\n",
    "    X_train, X_val = X.iloc[train_idx], X.iloc[val_idx]\n",
    "    y_train, y_val = y.iloc[train_idx], y.iloc[val_idx]\n",
    "\n",
    "    # 모델 정의\n",
    "    cat_model = CatBoostClassifier(\n",
    "        iterations=700, learning_rate=0.03, depth=8, l2_leaf_reg=10,\n",
    "        subsample=0.8, colsample_bylevel=0.8, random_strength=10,\n",
    "        loss_function='Logloss', eval_metric='AUC', verbose=100, random_seed=123\n",
    "    )\n",
    "\n",
    "    # 모델 학습\n",
    "    for model in [cat_model]:\n",
    "        model.fit(X_train, y_train)\n",
    "\n",
    "    # 평가 함수\n",
    "    def evaluate_model(model, X_val, y_true):\n",
    "        y_pred = model.predict(X_val)\n",
    "        y_pred_proba = model.predict_proba(X_val)[:, 1]\n",
    "\n",
    "        return {\n",
    "            'Accuracy': accuracy_score(y_true, y_pred),\n",
    "            'Precision': precision_score(y_true, y_pred),\n",
    "            'Recall': recall_score(y_true, y_pred),\n",
    "            'F1 Score': f1_score(y_true, y_pred),\n",
    "            'ROC AUC Score': roc_auc_score(y_true, y_pred_proba)\n",
    "        }\n",
    "\n",
    "    # 평가 및 변수 중요도 저장\n",
    "    for model_name, model in zip(metrics.keys(), [cat_model]):\n",
    "        metrics[model_name].append(evaluate_model(model, X_val, y_val))\n",
    "\n",
    "    for model_name, model in zip(['CatBoost'], [cat_model]):\n",
    "        feature_importances[model_name].append(model.feature_importances_)\n",
    "        \n",
    "    # 테스트 데이터 예측 확률 저장\n",
    "    test_proba['CatBoost'].append(cat_model.predict_proba(X_test)[:, 1])"
   ]
  },
  {
   "cell_type": "code",
   "execution_count": null,
   "metadata": {},
   "outputs": [],
   "source": [
    "# 평가 지표 평균 출력\n",
    "print(\"===== Stratified K-Fold 평균 성능 =====\")\n",
    "for model_name, model_metrics in metrics.items():\n",
    "    avg_metrics = {metric: np.mean([fold_metric[metric] for fold_metric in model_metrics]) for metric in model_metrics[0]}\n",
    "    \n",
    "    print(f\"\\n== {model_name} Model ==\")\n",
    "    for metric, value in avg_metrics.items():\n",
    "        print(f\"{metric}: {value:.6f}\")"
   ]
  },
  {
   "cell_type": "markdown",
   "metadata": {},
   "source": [
    "### Prediction"
   ]
  },
  {
   "cell_type": "code",
   "execution_count": null,
   "metadata": {
    "scrolled": true
   },
   "outputs": [],
   "source": [
    "# Best AUC 기록한 모델의 pred_proba로 선택\n",
    "pred_proba = np.mean(test_proba['CatBoost'], axis=0)\n",
    "# pred_proba = np.mean(test_proba['XGBoost'], axis=0)\n",
    "# pred_proba = np.mean(test_proba['LightGBM'], axis=0)\n",
    "# pred_proba = np.mean(test_proba['AdaBoost'], axis=0)\n",
    "# pred_proba = np.mean(test_proba['Ensemble'], axis=0)"
   ]
  },
  {
   "cell_type": "markdown",
   "metadata": {},
   "source": [
    "### Submission"
   ]
  },
  {
   "cell_type": "code",
   "execution_count": null,
   "metadata": {},
   "outputs": [],
   "source": [
    "sample_submission = pd.read_csv(os.getenv('SUBMISSION_DATA_PATH'))\n",
    "sample_submission.head()"
   ]
  },
  {
   "cell_type": "code",
   "execution_count": null,
   "metadata": {},
   "outputs": [],
   "source": [
    "sample_submission['probability'] = pred_proba\n",
    "# 저장\n",
    "import datetime \n",
    "now = datetime.datetime.now()\n",
    "save_path = os.path.join(f'./log/submission/{now.strftime(\"%Y%m%d_%H%M%S\")}_eiden.csv')\n",
    "sample_submission.to_csv(save_path, index=False)\n",
    "sample_submission.head()"
   ]
  },
  {
   "cell_type": "code",
   "execution_count": null,
   "metadata": {},
   "outputs": [],
   "source": [
    "# 확인용\n",
    "submission = pd.read_csv(save_path)\n",
    "submission.head()"
   ]
  },
  {
   "cell_type": "code",
   "execution_count": null,
   "metadata": {},
   "outputs": [],
   "source": []
  }
 ],
 "metadata": {
  "kernelspec": {
   "display_name": "bert_KCI",
   "language": "python",
   "name": "python3"
  },
  "language_info": {
   "codemirror_mode": {
    "name": "ipython",
    "version": 3
   },
   "file_extension": ".py",
   "mimetype": "text/x-python",
   "name": "python",
   "nbconvert_exporter": "python",
   "pygments_lexer": "ipython3",
   "version": "3.8.10"
  }
 },
 "nbformat": 4,
 "nbformat_minor": 2
}
