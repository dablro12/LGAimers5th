{
 "cells": [
  {
   "cell_type": "markdown",
   "metadata": {},
   "source": [
    "### Libraries"
   ]
  },
  {
   "cell_type": "code",
   "execution_count": 1,
   "metadata": {},
   "outputs": [],
   "source": [
    "import numpy as np\n",
    "import pandas as pd\n",
    "import warnings\n",
    "\n",
    "from catboost import CatBoostClassifier\n",
    "from xgboost import XGBClassifier\n",
    "from lightgbm import LGBMClassifier\n",
    "from sklearn.model_selection import train_test_split, StratifiedKFold\n",
    "from sklearn.preprocessing import LabelEncoder, StandardScaler, MinMaxScaler\n",
    "from sklearn.ensemble import VotingClassifier, AdaBoostClassifier\n",
    "from sklearn.tree import DecisionTreeClassifier\n",
    "from sklearn.metrics import accuracy_score, precision_score, recall_score, f1_score, roc_auc_score, confusion_matrix"
   ]
  },
  {
   "cell_type": "code",
   "execution_count": 2,
   "metadata": {},
   "outputs": [],
   "source": [
    "warnings.filterwarnings(\"ignore\")\n",
    "\n",
    "# 한글 처리\n",
    "import matplotlib.pyplot as plt\n",
    "import matplotlib.font_manager as fm\n",
    "\n",
    "# 한글 폰트 경로 설정\n",
    "font_path = '/usr/share/fonts/truetype/nanum/NanumBarunGothic.ttf'\n",
    "\n",
    "# 폰트 이름 얻어오기\n",
    "font_name = fm.FontProperties(fname=font_path).get_name()\n",
    "\n",
    "# 폰트 설정\n",
    "plt.rcParams['font.family'] = font_name\n"
   ]
  },
  {
   "cell_type": "markdown",
   "metadata": {},
   "source": [
    "### Load data"
   ]
  },
  {
   "cell_type": "code",
   "execution_count": 3,
   "metadata": {},
   "outputs": [],
   "source": [
    "from dotenv import load_dotenv\n",
    "import os \n",
    "load_dotenv()\n",
    "df_train = pd.read_csv(os.getenv('TRAIN_DATA_PATH')).drop(columns=['ID'])\n",
    "df_test = pd.read_csv(os.getenv('TEST_DATA_PATH')).drop(columns=['ID'])\n",
    "\n",
    "df_train.head(8).to_csv('train_sample.csv', encoding = 'utf-8-sig', index = False)\n",
    "\n",
    "# df_train = pd.read_csv('data/train.csv').drop(columns=['ID'])\n",
    "# df_test = pd.read_csv('data/test.csv').drop(columns=['ID'])"
   ]
  },
  {
   "cell_type": "markdown",
   "metadata": {},
   "source": [
    "### Preprocessing"
   ]
  },
  {
   "cell_type": "markdown",
   "metadata": {},
   "source": [
    "#### 컬럼 제거"
   ]
  },
  {
   "cell_type": "code",
   "execution_count": 4,
   "metadata": {},
   "outputs": [
    {
     "name": "stdout",
     "output_type": "stream",
     "text": [
      "제거된 컬럼 개수: 9\n",
      "제거된 컬럼: ['배란 유도 유형', '불임 원인 - 여성 요인', '난자 해동 경과일', '임신 시도 또는 마지막 임신 경과 연수', '난자 채취 경과일', 'PGD 시술 여부', 'PGS 시술 여부', '착상 전 유전 검사 사용 여부', '배아 해동 경과일']\n",
      "df_train.shape: (256351, 59)\n",
      "df_test.shape: (90067, 58)\n"
     ]
    }
   ],
   "source": [
    "# 결측 비율 80% 이상 제거\n",
    "missing_ratio = df_train.isnull().mean()\n",
    "column_missing = missing_ratio[missing_ratio >= 0.8].index.tolist()\n",
    "\n",
    "# nunique = 1 제거 \n",
    "unique_counts = df_train.nunique()\n",
    "column_nunique = unique_counts[unique_counts == 1].index.tolist()\n",
    "\n",
    "# 컬럼 제거\n",
    "dropped_columns = list(set(column_missing + column_nunique + ['배란 유도 유형']))\n",
    "\n",
    "df_train = df_train.drop(columns=dropped_columns)\n",
    "df_test = df_test.drop(columns=dropped_columns)\n",
    "\n",
    "print(\"제거된 컬럼 개수:\", len(dropped_columns))\n",
    "print(\"제거된 컬럼:\", dropped_columns)\n",
    "print(\"df_train.shape:\", df_train.shape)\n",
    "print(\"df_test.shape:\", df_test.shape)"
   ]
  },
  {
   "cell_type": "markdown",
   "metadata": {},
   "source": [
    "#### astype(int)"
   ]
  },
  {
   "cell_type": "code",
   "execution_count": 5,
   "metadata": {},
   "outputs": [
    {
     "name": "stdout",
     "output_type": "stream",
     "text": [
      "변환된 컬럼: ['총 시술 횟수', '클리닉 내 총 시술 횟수', 'IVF 시술 횟수', 'DI 시술 횟수', '총 임신 횟수', 'IVF 임신 횟수', 'DI 임신 횟수', '총 출산 횟수', 'IVF 출산 횟수', 'DI 출산 횟수']\n"
     ]
    }
   ],
   "source": [
    "# '횟수'를 포함하는 컬럼 찾기\n",
    "count_columns = [col for col in df_train.columns if '횟수' in col]\n",
    "\n",
    "def extract_number(value):\n",
    "    if isinstance(value, str):\n",
    "        return int(value[0])  # 맨 앞자리 숫자로 변환\n",
    "    return value\n",
    "\n",
    "for col in count_columns:\n",
    "    df_train[col] = df_train[col].apply(extract_number).astype(int)\n",
    "    df_test[col] = df_test[col].apply(extract_number).astype(int)\n",
    "print(\"변환된 컬럼:\", count_columns)"
   ]
  },
  {
   "cell_type": "markdown",
   "metadata": {},
   "source": [
    "####  총 시술 횟수 재정의"
   ]
  },
  {
   "cell_type": "code",
   "execution_count": 6,
   "metadata": {},
   "outputs": [],
   "source": [
    "# 총 시술 횟수 재정의\n",
    "def update_total_counts(df):\n",
    "    df['총 시술 횟수'] = df['IVF 시술 횟수'] + df['DI 시술 횟수']\n",
    "    df['총 임신 횟수'] = df['IVF 임신 횟수'] + df['DI 임신 횟수']\n",
    "    df['총 출산 횟수'] = df['IVF 출산 횟수'] + df['DI 출산 횟수']\n",
    "    return df\n",
    "\n",
    "df_train = update_total_counts(df_train)\n",
    "df_test = update_total_counts(df_test)"
   ]
  },
  {
   "cell_type": "markdown",
   "metadata": {},
   "source": [
    "#### 특정 시술 유형 - ICSI / 배아 생성 주요 이유 - 현재 시술용"
   ]
  },
  {
   "cell_type": "code",
   "execution_count": 7,
   "metadata": {},
   "outputs": [],
   "source": [
    "def get_dummies(df):\n",
    "    # 특정 시술 유형 - ICSI\n",
    "    df['특정 시술 유형 - ICSI'] = np.where(df['시술 유형'] != 'IVF', np.nan,  # 시술 유형이 DI\n",
    "                             np.where(df['특정 시술 유형'].str.contains('ICSI', na=False), 2, 1))\n",
    "    \n",
    "#     # 배아 생성 주요 이유 - 현재 시술용\n",
    "#     df['배아 생성 주요 이유 - 현재 시술용'] = np.where(df['시술 유형'] != 'IVF', np.nan,  # 시술 유형이 DI\n",
    "#                              np.where(df['배아 생성 주요 이유'].str.contains('현재 시술용', na=False), 2, 1))\n",
    "\n",
    "    df = df.drop(columns=['특정 시술 유형', '배아 생성 주요 이유'])\n",
    "    \n",
    "    return df\n",
    "\n",
    "df_train = get_dummies(df_train)\n",
    "df_test = get_dummies(df_test)"
   ]
  },
  {
   "cell_type": "markdown",
   "metadata": {},
   "source": [
    "#### 남성/여성/부부 주/부 불임 원인 제거"
   ]
  },
  {
   "cell_type": "code",
   "execution_count": 8,
   "metadata": {},
   "outputs": [],
   "source": [
    "def drop_cols(df):\n",
    "    cols = ['남성 주 불임 원인', '남성 부 불임 원인', \n",
    "            '여성 주 불임 원인', '여성 부 불임 원인',\n",
    "            '부부 주 불임 원인', '부부 부 불임 원인']\n",
    "    \n",
    "    df = df.drop(columns=cols, errors='ignore')\n",
    "\n",
    "    return df\n",
    "\n",
    "df_train = drop_cols(df_train)\n",
    "df_test = drop_cols(df_test)"
   ]
  },
  {
   "cell_type": "markdown",
   "metadata": {},
   "source": [
    "#### 난자 혼합 경과일, 배아 이식 경과일 groupby median fillna"
   ]
  },
  {
   "cell_type": "code",
   "execution_count": 9,
   "metadata": {},
   "outputs": [],
   "source": [
    "def fill_nan(df_train, df_test):\n",
    "    value1 = 0\n",
    "    value2 = df_train[df_train['시술 유형'] == 'IVF'].groupby(['신선 배아 사용 여부', '총 생성 배아 수'])['배아 이식 경과일'].median().fillna(5)\n",
    "\n",
    "    for df in [df_train, df_test]:\n",
    "        df.loc[df['시술 유형'] == 'IVF', '난자 혼합 경과일'] = df.loc[df['시술 유형'] == 'IVF', '난자 혼합 경과일'].fillna(value1)\n",
    "        df.loc[df['시술 유형'] == 'IVF', '배아 이식 경과일'] = df[df['시술 유형'] == 'IVF'].apply(\n",
    "            lambda row: value2.get((row['신선 배아 사용 여부'], row['총 생성 배아 수']), 5) \n",
    "            if pd.isna(row['배아 이식 경과일']) else row['배아 이식 경과일'], axis=1\n",
    "        )\n",
    "\n",
    "    return df_train, df_test\n",
    "\n",
    "df_train, df_test = fill_nan(df_train, df_test)"
   ]
  },
  {
   "cell_type": "markdown",
   "metadata": {},
   "source": [
    "### Feature engineering"
   ]
  },
  {
   "cell_type": "code",
   "execution_count": 10,
   "metadata": {},
   "outputs": [],
   "source": [
    "def feature_engineering(df):\n",
    "    epsilon = 1e-5\n",
    "    \n",
    "    # 임신/출산 성공률\n",
    "    df['IVF 시술 대비 임신 성공률'] = df['IVF 임신 횟수'] / df['IVF 시술 횟수']\n",
    "    df['IVF 임신 대비 출산 성공률'] = df['IVF 출산 횟수'] / df['IVF 임신 횟수']\n",
    "    df['총 임신 대비 출산 성공률'] = df['총 출산 횟수'] / df['총 임신 횟수']\n",
    "    df['총 임신 대비 출산 실패율'] = 1 - df['총 임신 대비 출산 성공률']\n",
    "    \n",
    "    # 난자\n",
    "    df['총 난자 수'] = df['수집된 신선 난자 수'] + df['해동 난자 수']\n",
    "    df['난자 사용률'] = df['혼합된 난자 수'] / df['총 난자 수']\n",
    "    \n",
    "    # 배아\n",
    "    df['총 배아 수'] = df['총 생성 배아 수'] + df['해동된 배아 수']\n",
    "    df['미세주입 배아 생성 확률'] = df['미세주입에서 생성된 배아 수'] / df['미세주입된 난자 수']\n",
    "    df['미세주입 배아 이식 확률'] = df['미세주입 배아 이식 수'] / df['미세주입에서 생성된 배아 수']\n",
    "    df['총 배아 생성 확률'] = df['총 배아 수'] / df['총 난자 수']\n",
    "    df['신선 + 기증 + 동결'] = df[['신선 배아 사용 여부', '기증 배아 사용 여부', '동결 배아 사용 여부']].sum(axis=1)\n",
    "    df['배아 저장 비율'] = df['저장된 배아 수'] / (df['총 생성 배아 수'] + epsilon)\n",
    "    \n",
    "    # 이식된 배아 수 관련\n",
    "    df['배아 이식 대비 임신 성공률'] = df['총 임신 횟수'] / df['이식된 배아 수']\n",
    "    df['배아 이식 대비 출산 성공률'] = df['총 출산 횟수'] / df['이식된 배아 수']\n",
    "    df['배아 이식 확률'] = df['이식된 배아 수'] / df['총 배아 수']\n",
    "    df['이식된 배아 대비 이식 기간'] = df['배아 이식 경과일'] / df['이식된 배아 수']\n",
    "#     df.loc[df['배아 이식 경과일'] == 0, '이식된 배아 대비 이식 기간'] = 0\n",
    "    df['혼합된 난자 수 대비 이식된 배아 수'] =  df['이식된 배아 수'] / df['혼합된 난자 수']\n",
    "    df.loc[df['이식된 배아 수'] == 0, '혼합된 난자 수 대비 이식된 배아 수'] = 0\n",
    "    \n",
    "    # 나이\n",
    "    df.loc[df['시술 유형'] == 'IVF', '나이 그룹별 평균 생성 배아 수'] = df.groupby('시술 당시 나이')['총 배아 수'].transform('mean')\n",
    "    df.loc[df['시술 유형'] == 'IVF', '나이 그룹별 평균 이식 배아 수'] = df.groupby('시술 당시 나이')['이식된 배아 수'].transform('mean')\n",
    "    df.loc[df['시술 유형'] == 'IVF', '나이 그룹별 평균 배아 이식 경과일'] = df.groupby('시술 당시 나이')['배아 이식 경과일'].transform('mean')\n",
    "\n",
    "    # 기타\n",
    "    df['배란자극 * 단일이식'] = df['배란 자극 여부'] * df['단일 배아 이식 여부']\n",
    "    df['배란자극 * ICSI'] = df['배란 자극 여부'] * df['특정 시술 유형 - ICSI'] \n",
    "    df['경과일 차이'] = np.abs(df['배아 이식 경과일'] - df['난자 혼합 경과일'])\n",
    "    \n",
    "    # 바이너리 합\n",
    "    binary_cols = [\n",
    "        '배란 자극 여부', '단일 배아 이식 여부', '착상 전 유전 진단 사용 여부',\n",
    "        '동결 배아 사용 여부', '신선 배아 사용 여부', '기증 배아 사용 여부', '대리모 여부'\n",
    "    ]\n",
    "    df['바이너리 합'] = df[binary_cols].sum(axis=1)\n",
    "    \n",
    "    # 불임 원인 점수\n",
    "    infertility_cols = [\n",
    "        '불명확 불임 원인', '불임 원인 - 난관 질환', '불임 원인 - 남성 요인',\n",
    "        '불임 원인 - 배란 장애', '불임 원인 - 자궁경부 문제', '불임 원인 - 자궁내막증',\n",
    "        '불임 원인 - 정자 농도', '불임 원인 - 정자 면역학적 요인',\n",
    "        '불임 원인 - 정자 운동성', '불임 원인 - 정자 형태'\n",
    "    ]\n",
    "    for col in infertility_cols:\n",
    "        if df[col].dtype == 'object':\n",
    "            df[col] = df[col].map({'Y': 1, 'N': 0})\n",
    "    df['불임원인 수'] = df[infertility_cols].sum(axis=1)\n",
    "    \n",
    "    # 변수 제거\n",
    "    cols = ['총 난자 수']\n",
    "    df = df.drop(columns=cols, errors='ignore')\n",
    "    \n",
    "    return df\n",
    "\n",
    "df_train = feature_engineering(df_train)\n",
    "df_test = feature_engineering(df_test)"
   ]
  },
  {
   "cell_type": "markdown",
   "metadata": {},
   "source": [
    "#### 시술 유형이 DI인 경우 -1로 채우기"
   ]
  },
  {
   "cell_type": "code",
   "execution_count": 11,
   "metadata": {},
   "outputs": [],
   "source": [
    "def di_null(df):\n",
    "    df.loc[df['시술 유형'] == 'DI'] = df.loc[df['시술 유형'] == 'DI'].fillna(-1)\n",
    "    return df\n",
    "\n",
    "df_train = di_null(df_train)\n",
    "df_test = di_null(df_test)"
   ]
  },
  {
   "cell_type": "code",
   "execution_count": 12,
   "metadata": {
    "scrolled": true
   },
   "outputs": [
    {
     "name": "stdout",
     "output_type": "stream",
     "text": [
      "시술 시기 코드       0.0\n",
      "시술 당시 나이       0.0\n",
      "시술 유형          0.0\n",
      "배란 자극 여부       0.0\n",
      "단일 배아 이식 여부    0.0\n",
      "              ... \n",
      "배란자극 * 단일이식    0.0\n",
      "배란자극 * ICSI    0.0\n",
      "경과일 차이         0.0\n",
      "바이너리 합         0.0\n",
      "불임원인 수         0.0\n",
      "Length: 76, dtype: float64\n"
     ]
    }
   ],
   "source": [
    "# 결측 비율\n",
    "missing_ratio = df_train.isnull().mean() * 100\n",
    "print(missing_ratio)"
   ]
  },
  {
   "cell_type": "markdown",
   "metadata": {},
   "source": [
    "#### NaN, inf 처리"
   ]
  },
  {
   "cell_type": "code",
   "execution_count": 13,
   "metadata": {},
   "outputs": [],
   "source": [
    "# 결측값 대체\n",
    "def replace_inf_and_nan(df, value_inf, value_na):\n",
    "    df.replace([np.inf, -np.inf], value_inf, inplace=True)  # inf, -inf 변환\n",
    "    df.fillna(value_na, inplace=True)  # NaN 변환\n",
    "    return df\n",
    "\n",
    "# 변환 적용\n",
    "value_inf = 999 # 3 / 0\n",
    "value_na = 999 # 0 / 0\n",
    "df_train = replace_inf_and_nan(df_train, value_inf, value_na)\n",
    "df_test = replace_inf_and_nan(df_test, value_inf, value_na)"
   ]
  },
  {
   "cell_type": "markdown",
   "metadata": {},
   "source": [
    "#### Encoding"
   ]
  },
  {
   "cell_type": "code",
   "execution_count": 14,
   "metadata": {},
   "outputs": [
    {
     "data": {
      "text/plain": [
       "['시술 시기 코드', '시술 당시 나이', '시술 유형', '난자 출처', '정자 출처', '난자 기증자 나이', '정자 기증자 나이']"
      ]
     },
     "execution_count": 14,
     "metadata": {},
     "output_type": "execute_result"
    }
   ],
   "source": [
    "# object 타입 컬럼 확인\n",
    "cat_features = list(df_train.select_dtypes(include=['object']).columns)\n",
    "cat_features"
   ]
  },
  {
   "cell_type": "code",
   "execution_count": 15,
   "metadata": {},
   "outputs": [],
   "source": [
    "# LabelEncoder 적용\n",
    "for col in cat_features:\n",
    "    le = LabelEncoder() \n",
    "    df_train[col] = le.fit_transform(df_train[col])  \n",
    "    df_test[col] = le.transform(df_test[col]) "
   ]
  },
  {
   "cell_type": "markdown",
   "metadata": {},
   "source": [
    "### Eiden Part"
   ]
  },
  {
   "cell_type": "code",
   "execution_count": 16,
   "metadata": {},
   "outputs": [],
   "source": [
    "def eiden_feature(df):\n",
    "    \"\"\"\n",
    "    DI 와 IVF 모두 나이에 대한 음 Corr 을 가지고,\n",
    "    나이가 많아질 수록 배아 이식을 해도 임신이 잘 되지 않기에\n",
    "    나이대를 나누어서 배아 이식에 대한 퀄리티를 나누어주는 피쳐 생성\n",
    "    \"\"\"\n",
    "    # 나이대별 차등 퀄리티를 활용해 로그화(퀄리티를 조정 적당한 기울기를 찾기 위해 로그화)\n",
    "    df['adjusted_quality'] = np.abs(df['이식된 배아 수']) / np.log1p(df['시술 당시 나이'] + 1)\n",
    "    return df\n",
    "\n",
    "df_train = eiden_feature(df_train)\n",
    "df_test = eiden_feature(df_test)\n"
   ]
  },
  {
   "cell_type": "code",
   "execution_count": 17,
   "metadata": {},
   "outputs": [],
   "source": [
    "from utils.EDA import analysis_임신성공여부, vis_numeric_corr_matrix\n",
    "# DI : 0 / IVF : 1\n",
    "# df_train['시술 유형']\n",
    "# DI_df_train = df_train.loc[df_train['시술 유형'] == 1]\n",
    "\n",
    "# def eiden_feature(df):\n",
    "#     \"\"\"\n",
    "#     DI 와 IVF 모두 나이에 대한 음 Corr 을 가지고,\n",
    "#     나이가 많아질 수록 배아 이식을 해도 임신이 잘 되지 않기에\n",
    "#     나이대를 나누어서 배아 이식에 대한 퀄리티를 나누어주는 피쳐 생성\n",
    "#     \"\"\"\n",
    "#     # 나이대별 차등 퀄리티를 활용해 로그화(퀄리티를 조정 적당한 기울기를 찾기 위해 로그화)\n",
    "#     df['adjusted_quality'] = np.abs(df['이식된 배아 수']) / np.log1p(df['시술 당시 나이'] + 1)\n",
    "#     return df\n",
    "# df_train['이식된 배아 수']\n",
    "\n",
    "# df_train = eiden_feature(df_train)\n",
    "# df_test = eiden_feature(df_test)\n",
    "# analysis_임신성공여부(df_train.loc[df_train['시술 유형'] == 1], column_name = '이식된 배아 수')\n",
    "# analysis_임신성공여부(df_train, column_name = '이식된 배아 수 에 대한 나이별 차등 퀄리티')\n",
    "# df_train['시술 유형'] == 0"
   ]
  },
  {
   "cell_type": "markdown",
   "metadata": {},
   "source": [
    "#### Scaling"
   ]
  },
  {
   "cell_type": "code",
   "execution_count": 18,
   "metadata": {
    "scrolled": true
   },
   "outputs": [],
   "source": [
    "# scaling_cols = [\n",
    "#     '총 생성 배아 수', '미세주입된 난자 수', '미세주입에서 생성된 배아 수', '이식된 배아 수', \n",
    "#     '미세주입 배아 이식 수', '저장된 배아 수', '미세주입 후 저장된 배아 수', '해동된 배아 수',\n",
    "#     '해동 난자 수', '수집된 신선 난자 수', '저장된 신선 난자 수', '혼합된 난자 수',\n",
    "#     '파트너 정자와 혼합된 난자 수', '기증자 정자와 혼합된 난자 수', '난자 혼합 경과일',\n",
    "#     '배아 이식 경과일', '경과일_차이', '불임원인_수', '배아저장비율', '이식된 배아 대비 이식 기간',\n",
    "#     '총 배아 수', '나이 그룹별 평균 생성 배아 수', '나이 그룹별 평균 이식 배아 수', '나이 그룹별 평균 배아 이식 경과일'\n",
    "# ]\n",
    "\n",
    "# scaler = MinMaxScaler()\n",
    "# df_train[scaling_cols] = scaler.fit_transform(df_train[scaling_cols])\n",
    "# df_test[scaling_cols] = scaler.transform(df_test[scaling_cols])"
   ]
  },
  {
   "cell_type": "code",
   "execution_count": null,
   "metadata": {},
   "outputs": [],
   "source": [
    "def eiden_feature(df):\n",
    "    \"\"\"\n",
    "    DI 와 IVF 모두 나이에 대한 음 Corr 을 가지고,\n",
    "    나이가 많아질 수록 배아 이식을 해도 임신이 잘 되지 않기에\n",
    "    나이대를 나누어서 배아 이식에 대한 퀄리티를 나누어주는 피쳐 생성\n",
    "    \"\"\"\n",
    "    # 나이대별 차등 퀄리티를 활용해 로그화(퀄리티를 조정 적당한 기울기를 찾기 위해 로그화)\n",
    "    df['adjusted_quality'] = np.abs(df['이식된 배아 수']) / np.log1p(df['시술 당시 나이'] + 1)\n",
    "    return df\n",
    "\n",
    "df_train = eiden_feature(df_train)\n",
    "df_test = eiden_feature(df_test)"
   ]
  },
  {
   "cell_type": "markdown",
   "metadata": {},
   "source": [
    "### Modeling"
   ]
  },
  {
   "cell_type": "code",
   "execution_count": 19,
   "metadata": {},
   "outputs": [],
   "source": [
    "X = df_train.drop('임신 성공 여부', axis=1)\n",
    "y = df_train['임신 성공 여부']\n",
    "X_test = df_test"
   ]
  },
  {
   "cell_type": "markdown",
   "metadata": {},
   "source": [
    "#### Stratified K-Fold "
   ]
  },
  {
   "cell_type": "code",
   "execution_count": 20,
   "metadata": {
    "scrolled": true
   },
   "outputs": [
    {
     "name": "stdout",
     "output_type": "stream",
     "text": [
      "===== Fold 1 =====\n",
      "0:\ttotal: 70.4ms\tremaining: 52.4s\n",
      "100:\ttotal: 1.07s\tremaining: 6.81s\n",
      "200:\ttotal: 1.97s\tremaining: 5.34s\n",
      "300:\ttotal: 2.77s\tremaining: 4.08s\n",
      "400:\ttotal: 3.52s\tremaining: 3.02s\n",
      "500:\ttotal: 4.28s\tremaining: 2.08s\n",
      "600:\ttotal: 5.06s\tremaining: 1.21s\n",
      "700:\ttotal: 5.81s\tremaining: 365ms\n",
      "744:\ttotal: 6.15s\tremaining: 0us\n",
      "===== Fold 2 =====\n",
      "0:\ttotal: 10.3ms\tremaining: 7.65s\n",
      "100:\ttotal: 1.03s\tremaining: 6.6s\n",
      "200:\ttotal: 1.93s\tremaining: 5.24s\n",
      "300:\ttotal: 2.74s\tremaining: 4.04s\n",
      "400:\ttotal: 3.5s\tremaining: 3s\n",
      "500:\ttotal: 4.27s\tremaining: 2.08s\n",
      "600:\ttotal: 5.05s\tremaining: 1.21s\n",
      "700:\ttotal: 5.83s\tremaining: 366ms\n",
      "744:\ttotal: 6.21s\tremaining: 0us\n",
      "===== Fold 3 =====\n",
      "0:\ttotal: 15.6ms\tremaining: 11.6s\n",
      "100:\ttotal: 960ms\tremaining: 6.12s\n",
      "200:\ttotal: 1.86s\tremaining: 5.03s\n",
      "300:\ttotal: 2.64s\tremaining: 3.9s\n",
      "400:\ttotal: 3.43s\tremaining: 2.94s\n",
      "500:\ttotal: 4.25s\tremaining: 2.07s\n",
      "600:\ttotal: 5.05s\tremaining: 1.21s\n",
      "700:\ttotal: 5.85s\tremaining: 367ms\n",
      "744:\ttotal: 6.2s\tremaining: 0us\n",
      "===== Fold 4 =====\n",
      "0:\ttotal: 11.7ms\tremaining: 8.72s\n",
      "100:\ttotal: 950ms\tremaining: 6.06s\n",
      "200:\ttotal: 1.85s\tremaining: 5.01s\n",
      "300:\ttotal: 2.75s\tremaining: 4.06s\n",
      "400:\ttotal: 3.54s\tremaining: 3.03s\n",
      "500:\ttotal: 4.28s\tremaining: 2.09s\n",
      "600:\ttotal: 5.05s\tremaining: 1.21s\n",
      "700:\ttotal: 5.81s\tremaining: 365ms\n",
      "744:\ttotal: 6.13s\tremaining: 0us\n",
      "===== Fold 5 =====\n",
      "0:\ttotal: 10.2ms\tremaining: 7.57s\n",
      "100:\ttotal: 950ms\tremaining: 6.06s\n",
      "200:\ttotal: 1.86s\tremaining: 5.03s\n",
      "300:\ttotal: 2.58s\tremaining: 3.81s\n",
      "400:\ttotal: 3.34s\tremaining: 2.87s\n",
      "500:\ttotal: 4.08s\tremaining: 1.99s\n",
      "600:\ttotal: 4.84s\tremaining: 1.16s\n",
      "700:\ttotal: 5.6s\tremaining: 352ms\n",
      "744:\ttotal: 5.95s\tremaining: 0us\n"
     ]
    }
   ],
   "source": [
    "# Stratified K-Fold 설정\n",
    "n_splits = 5\n",
    "skf = StratifiedKFold(n_splits=n_splits, shuffle=True, random_state=123)\n",
    "\n",
    "metrics = {model: [] for model in ['CatBoost']} # Ensemble\n",
    "feature_importances = {model: [] for model in ['CatBoost']}\n",
    "test_proba = {model: [] for model in ['CatBoost']} # Ensemble\n",
    "\n",
    "# metrics = {model: [] for model in ['CatBoost', 'XGBoost', 'LightGBM', 'AdaBoost']} # Ensemble\n",
    "# feature_importances = {model: [] for model in ['CatBoost', 'XGBoost', 'LightGBM', 'AdaBoost']}\n",
    "# test_proba = {model: [] for model in ['CatBoost', 'XGBoost', 'LightGBM', 'AdaBoost']} # Ensemble\n",
    "\n",
    "for fold, (train_idx, val_idx) in enumerate(skf.split(X, y), 1):\n",
    "    print(f\"===== Fold {fold} =====\")\n",
    "\n",
    "    X_train, X_val = X.iloc[train_idx], X.iloc[val_idx]\n",
    "    y_train, y_val = y.iloc[train_idx], y.iloc[val_idx]\n",
    "\n",
    "#     # 모델 정의\n",
    "    cat_model = CatBoostClassifier(\n",
    "    iterations=745, \n",
    "    learning_rate=0.038577, \n",
    "    depth=8, \n",
    "    l2_leaf_reg=9.587765,\n",
    "    subsample=0.748324, \n",
    "    random_strength=0.0,  # 0으로 설정\n",
    "    min_data_in_leaf=59, \n",
    "    leaf_estimation_iterations=1, \n",
    "    loss_function='Logloss', \n",
    "    eval_metric='AUC', \n",
    "    verbose=100, \n",
    "    random_seed=123)\n",
    "\n",
    "    # xgb_model = XGBClassifier(\n",
    "    #     n_estimators=700, learning_rate=0.03, max_depth=7, min_child_weight=3,\n",
    "    #     gamma=0.1, subsample=0.8, colsample_bytree=0.8, reg_alpha=0.1,\n",
    "    #     reg_lambda=1.0, verbosity=1, random_state=123\n",
    "    # )\n",
    "\n",
    "    # lgbm_model = LGBMClassifier(\n",
    "    #     n_estimators=700, learning_rate=0.03, max_depth=-1, num_leaves=64,\n",
    "    #     min_child_samples=20, subsample=0.8, colsample_bytree=0.8,\n",
    "    #     reg_alpha=0.1, reg_lambda=1.0, verbosity=1, random_state=123\n",
    "    # )\n",
    "    \n",
    "    # adaboost_model = AdaBoostClassifier(\n",
    "    #     estimator=DecisionTreeClassifier(max_depth=2, min_samples_split=10, min_samples_leaf=5, random_state=123),\n",
    "    #     n_estimators=500, learning_rate=0.05,\n",
    "    #     algorithm=\"SAMME\", random_state=123\n",
    "    # )\n",
    "    \n",
    "#     ensemble_model = VotingClassifier(\n",
    "#         estimators=[('catboost', cat_model), ('xgboost', xgb_model), ('lightgbm', lgbm_model), ('adaboost', adaboost_model)],\n",
    "#         voting='soft', weights=[1, 1, 1, 0.8]\n",
    "#     )\n",
    "\n",
    "\n",
    "    # 모델 학습\n",
    "    for model in [cat_model]: # ensemble_model\n",
    "#     for model in [cat_model, xgb_model, lgbm_model, adaboost_model]: # ensemble_model\n",
    "        model.fit(X_train, y_train)\n",
    "\n",
    "    # 평가 함수\n",
    "    def evaluate_model(model, X_val, y_true):\n",
    "        y_pred = model.predict(X_val)\n",
    "        y_pred_proba = model.predict_proba(X_val)[:, 1]\n",
    "\n",
    "        return {\n",
    "            'Accuracy': accuracy_score(y_true, y_pred),\n",
    "            'Precision': precision_score(y_true, y_pred),\n",
    "            'Recall': recall_score(y_true, y_pred),\n",
    "            'F1 Score': f1_score(y_true, y_pred),\n",
    "            'ROC AUC Score': roc_auc_score(y_true, y_pred_proba)\n",
    "        }\n",
    "\n",
    "    # 평가 및 변수 중요도 저장\n",
    "    for model_name, model in zip(metrics.keys(), [cat_model]): # ensemble_model\n",
    "        metrics[model_name].append(evaluate_model(model, X_val, y_val))\n",
    "\n",
    "    for model_name, model in zip(['CatBoost'], [cat_model]):\n",
    "        feature_importances[model_name].append(model.feature_importances_)\n",
    "        \n",
    "    # 테스트 데이터 예측 확률 저장\n",
    "    test_proba['CatBoost'].append(cat_model.predict_proba(X_test)[:, 1])\n",
    "#     test_proba['XGBoost'].append(xgb_model.predict_proba(X_test)[:, 1])\n",
    "#     test_proba['LightGBM'].append(lgbm_model.predict_proba(X_test)[:, 1])\n",
    "#     test_proba['AdaBoost'].append(adaboost_model.predict_proba(X_test)[:, 1])\n",
    "#     test_proba['Ensemble'].append(ensemble_model.predict_proba(X_test)[:, 1])\n"
   ]
  },
  {
   "cell_type": "code",
   "execution_count": 21,
   "metadata": {},
   "outputs": [
    {
     "name": "stdout",
     "output_type": "stream",
     "text": [
      "===== Stratified K-Fold 평균 성능 =====\n",
      "\n",
      "== CatBoost Model ==\n",
      "Accuracy: 0.746200\n",
      "Precision: 0.538430\n",
      "Recall: 0.123437\n",
      "F1 Score: 0.200821\n",
      "ROC AUC Score: 0.739842\n"
     ]
    }
   ],
   "source": [
    "# 평가 지표 평균 출력\n",
    "print(\"===== Stratified K-Fold 평균 성능 =====\")\n",
    "for model_name, model_metrics in metrics.items():\n",
    "    avg_metrics = {metric: np.mean([fold_metric[metric] for fold_metric in model_metrics]) for metric in model_metrics[0]}\n",
    "    \n",
    "    print(f\"\\n== {model_name} Model ==\")\n",
    "    for metric, value in avg_metrics.items():\n",
    "        print(f\"{metric}: {value:.6f}\")"
   ]
  },
  {
   "cell_type": "markdown",
   "metadata": {},
   "source": [
    "Not remodeling\n",
    "Before 0.739842\n",
    "After 0.739914"
   ]
  },
  {
   "cell_type": "code",
   "execution_count": 22,
   "metadata": {},
   "outputs": [
    {
     "data": {
      "text/html": [
       "<div>\n",
       "<style scoped>\n",
       "    .dataframe tbody tr th:only-of-type {\n",
       "        vertical-align: middle;\n",
       "    }\n",
       "\n",
       "    .dataframe tbody tr th {\n",
       "        vertical-align: top;\n",
       "    }\n",
       "\n",
       "    .dataframe thead th {\n",
       "        text-align: right;\n",
       "    }\n",
       "</style>\n",
       "<table border=\"1\" class=\"dataframe\">\n",
       "  <thead>\n",
       "    <tr style=\"text-align: right;\">\n",
       "      <th></th>\n",
       "      <th>Feature</th>\n",
       "      <th>CatBoost</th>\n",
       "    </tr>\n",
       "  </thead>\n",
       "  <tbody>\n",
       "    <tr>\n",
       "      <th>0</th>\n",
       "      <td>adjusted_quality</td>\n",
       "      <td>17.576478</td>\n",
       "    </tr>\n",
       "    <tr>\n",
       "      <th>1</th>\n",
       "      <td>혼합된 난자 수 대비 이식된 배아 수</td>\n",
       "      <td>13.896197</td>\n",
       "    </tr>\n",
       "    <tr>\n",
       "      <th>2</th>\n",
       "      <td>배아 이식 대비 출산 성공률</td>\n",
       "      <td>12.665275</td>\n",
       "    </tr>\n",
       "    <tr>\n",
       "      <th>3</th>\n",
       "      <td>이식된 배아 대비 이식 기간</td>\n",
       "      <td>8.436894</td>\n",
       "    </tr>\n",
       "    <tr>\n",
       "      <th>4</th>\n",
       "      <td>배아 저장 비율</td>\n",
       "      <td>4.067216</td>\n",
       "    </tr>\n",
       "    <tr>\n",
       "      <th>...</th>\n",
       "      <td>...</td>\n",
       "      <td>...</td>\n",
       "    </tr>\n",
       "    <tr>\n",
       "      <th>71</th>\n",
       "      <td>불임 원인 - 자궁경부 문제</td>\n",
       "      <td>0.000205</td>\n",
       "    </tr>\n",
       "    <tr>\n",
       "      <th>72</th>\n",
       "      <td>불임 원인 - 정자 형태</td>\n",
       "      <td>0.000130</td>\n",
       "    </tr>\n",
       "    <tr>\n",
       "      <th>73</th>\n",
       "      <td>나이 그룹별 평균 배아 이식 경과일</td>\n",
       "      <td>0.000000</td>\n",
       "    </tr>\n",
       "    <tr>\n",
       "      <th>74</th>\n",
       "      <td>불임 원인 - 정자 면역학적 요인</td>\n",
       "      <td>0.000000</td>\n",
       "    </tr>\n",
       "    <tr>\n",
       "      <th>75</th>\n",
       "      <td>시술 유형</td>\n",
       "      <td>0.000000</td>\n",
       "    </tr>\n",
       "  </tbody>\n",
       "</table>\n",
       "<p>76 rows × 2 columns</p>\n",
       "</div>"
      ],
      "text/plain": [
       "                 Feature   CatBoost\n",
       "0       adjusted_quality  17.576478\n",
       "1   혼합된 난자 수 대비 이식된 배아 수  13.896197\n",
       "2        배아 이식 대비 출산 성공률  12.665275\n",
       "3        이식된 배아 대비 이식 기간   8.436894\n",
       "4               배아 저장 비율   4.067216\n",
       "..                   ...        ...\n",
       "71       불임 원인 - 자궁경부 문제   0.000205\n",
       "72         불임 원인 - 정자 형태   0.000130\n",
       "73   나이 그룹별 평균 배아 이식 경과일   0.000000\n",
       "74    불임 원인 - 정자 면역학적 요인   0.000000\n",
       "75                 시술 유형   0.000000\n",
       "\n",
       "[76 rows x 2 columns]"
      ]
     },
     "execution_count": 22,
     "metadata": {},
     "output_type": "execute_result"
    }
   ],
   "source": [
    "# 최종 변수 중요도 평균 계산\n",
    "df_fi_list = []\n",
    "for model_name, fi_list in feature_importances.items():\n",
    "    avg_importance = np.mean(fi_list, axis=0)\n",
    "    df_fi = pd.DataFrame({\n",
    "        'Feature': X_train.columns,\n",
    "        model_name: avg_importance \n",
    "    })\n",
    "    df_fi = df_fi.sort_values(by=model_name, ascending=False).reset_index(drop=True)\n",
    "    df_fi_list.append(df_fi)\n",
    "    \n",
    "df_fi_final = pd.concat(df_fi_list, axis=1)\n",
    "df_fi_final"
   ]
  },
  {
   "cell_type": "code",
   "execution_count": 23,
   "metadata": {
    "scrolled": true
   },
   "outputs": [],
   "source": [
    "# catboost 기준 변수 중요도 0.05 미만 변수 제거\n",
    "df_cat = df_fi_final.iloc[:, :2]\n",
    "df_selected = df_cat[df_cat['CatBoost'] > 0.05]\n",
    "selected_features = df_selected['Feature'].tolist()\n",
    "\n",
    "# 중요도가 높은 피처만 선택하여 새로운 데이터 생성\n",
    "X = X[selected_features]\n",
    "X_test = X_test[selected_features]"
   ]
  },
  {
   "cell_type": "markdown",
   "metadata": {},
   "source": [
    "### Re-modeling"
   ]
  },
  {
   "cell_type": "code",
   "execution_count": 24,
   "metadata": {
    "scrolled": true
   },
   "outputs": [
    {
     "name": "stdout",
     "output_type": "stream",
     "text": [
      "===== Fold 1 =====\n"
     ]
    },
    {
     "name": "stdout",
     "output_type": "stream",
     "text": [
      "0:\ttotal: 8.39ms\tremaining: 6.25s\n",
      "100:\ttotal: 808ms\tremaining: 5.15s\n",
      "200:\ttotal: 1.62s\tremaining: 4.38s\n",
      "300:\ttotal: 2.33s\tremaining: 3.44s\n",
      "400:\ttotal: 2.97s\tremaining: 2.55s\n",
      "500:\ttotal: 3.62s\tremaining: 1.76s\n",
      "600:\ttotal: 4.28s\tremaining: 1.02s\n",
      "700:\ttotal: 4.96s\tremaining: 311ms\n",
      "744:\ttotal: 5.24s\tremaining: 0us\n",
      "===== Fold 2 =====\n",
      "0:\ttotal: 8.68ms\tremaining: 6.46s\n",
      "100:\ttotal: 800ms\tremaining: 5.1s\n",
      "200:\ttotal: 1.58s\tremaining: 4.28s\n",
      "300:\ttotal: 2.24s\tremaining: 3.3s\n",
      "400:\ttotal: 2.88s\tremaining: 2.47s\n",
      "500:\ttotal: 3.52s\tremaining: 1.72s\n",
      "600:\ttotal: 4.2s\tremaining: 1s\n",
      "700:\ttotal: 4.88s\tremaining: 306ms\n",
      "744:\ttotal: 5.17s\tremaining: 0us\n",
      "===== Fold 3 =====\n",
      "0:\ttotal: 10.6ms\tremaining: 7.92s\n",
      "100:\ttotal: 803ms\tremaining: 5.12s\n",
      "200:\ttotal: 1.58s\tremaining: 4.27s\n",
      "300:\ttotal: 2.23s\tremaining: 3.28s\n",
      "400:\ttotal: 2.86s\tremaining: 2.45s\n",
      "500:\ttotal: 3.5s\tremaining: 1.7s\n",
      "600:\ttotal: 4.15s\tremaining: 995ms\n",
      "700:\ttotal: 4.84s\tremaining: 304ms\n",
      "744:\ttotal: 5.15s\tremaining: 0us\n",
      "===== Fold 4 =====\n",
      "0:\ttotal: 8.4ms\tremaining: 6.25s\n",
      "100:\ttotal: 803ms\tremaining: 5.12s\n",
      "200:\ttotal: 1.57s\tremaining: 4.25s\n",
      "300:\ttotal: 2.28s\tremaining: 3.37s\n",
      "400:\ttotal: 2.95s\tremaining: 2.53s\n",
      "500:\ttotal: 3.61s\tremaining: 1.76s\n",
      "600:\ttotal: 4.27s\tremaining: 1.02s\n",
      "700:\ttotal: 4.94s\tremaining: 310ms\n",
      "744:\ttotal: 5.23s\tremaining: 0us\n",
      "===== Fold 5 =====\n",
      "0:\ttotal: 9.44ms\tremaining: 7.02s\n",
      "100:\ttotal: 802ms\tremaining: 5.11s\n",
      "200:\ttotal: 1.56s\tremaining: 4.22s\n",
      "300:\ttotal: 2.18s\tremaining: 3.21s\n",
      "400:\ttotal: 2.8s\tremaining: 2.4s\n",
      "500:\ttotal: 3.44s\tremaining: 1.68s\n",
      "600:\ttotal: 4.07s\tremaining: 975ms\n",
      "700:\ttotal: 4.68s\tremaining: 294ms\n",
      "744:\ttotal: 4.97s\tremaining: 0us\n"
     ]
    }
   ],
   "source": [
    "# Stratified K-Fold 설정\n",
    "n_splits = 5\n",
    "skf = StratifiedKFold(n_splits=n_splits, shuffle=True, random_state=123)\n",
    "\n",
    "metrics = {model: [] for model in ['CatBoost']} # Ensemble\n",
    "feature_importances = {model: [] for model in ['CatBoost']}\n",
    "test_proba = {model: [] for model in ['CatBoost']} # Ensemble\n",
    "\n",
    "# metrics = {model: [] for model in ['CatBoost', 'XGBoost', 'LightGBM', 'AdaBoost']} # Ensemble\n",
    "# feature_importances = {model: [] for model in ['CatBoost', 'XGBoost', 'LightGBM', 'AdaBoost']}\n",
    "# test_proba = {model: [] for model in ['CatBoost', 'XGBoost', 'LightGBM', 'AdaBoost']} # Ensemble\n",
    "\n",
    "for fold, (train_idx, val_idx) in enumerate(skf.split(X, y), 1):\n",
    "    print(f\"===== Fold {fold} =====\")\n",
    "\n",
    "    X_train, X_val = X.iloc[train_idx], X.iloc[val_idx]\n",
    "    y_train, y_val = y.iloc[train_idx], y.iloc[val_idx]\n",
    "\n",
    "    # 모델 정의\n",
    "    cat_model = CatBoostClassifier(\n",
    "    iterations=745, \n",
    "    learning_rate=0.038577, \n",
    "    depth=8, \n",
    "    l2_leaf_reg=9.587765,\n",
    "    subsample=0.748324, \n",
    "    random_strength=0.0,  # 0으로 설정\n",
    "    min_data_in_leaf=59, \n",
    "    leaf_estimation_iterations=1, \n",
    "    loss_function='Logloss', \n",
    "    eval_metric='AUC', \n",
    "    verbose=100, \n",
    "    random_seed=123)\n",
    "\n",
    "    # xgb_model = XGBClassifier(\n",
    "    #     n_estimators=700, learning_rate=0.03, max_depth=7, min_child_weight=3,\n",
    "    #     gamma=0.1, subsample=0.8, colsample_bytree=0.8, reg_alpha=0.1,\n",
    "    #     reg_lambda=1.0, verbosity=1, random_state=123\n",
    "    # )\n",
    "\n",
    "    # lgbm_model = LGBMClassifier(\n",
    "    #     n_estimators=700, learning_rate=0.03, max_depth=-1, num_leaves=64,\n",
    "    #     min_child_samples=20, subsample=0.8, colsample_bytree=0.8,\n",
    "    #     reg_alpha=0.1, reg_lambda=1.0, verbosity=1, random_state=123\n",
    "    # )\n",
    "    \n",
    "    # adaboost_model = AdaBoostClassifier(\n",
    "    #     estimator=DecisionTreeClassifier(max_depth=2, min_samples_split=10, min_samples_leaf=5, random_state=123),\n",
    "    #     n_estimators=500, learning_rate=0.05,\n",
    "    #     algorithm=\"SAMME\", random_state=123\n",
    "    # )\n",
    "    \n",
    "#     ensemble_model = VotingClassifier(\n",
    "#         estimators=[('catboost', cat_model), ('xgboost', xgb_model), ('lightgbm', lgbm_model), ('adaboost', adaboost_model)],\n",
    "#         voting='soft', weights=[1, 1, 1, 0.8]\n",
    "#     )\n",
    "\n",
    "\n",
    "    # 모델 학습\n",
    "    for model in [cat_model]: # ensemble_model\n",
    "#     for model in [cat_model, xgb_model, lgbm_model, adaboost_model]: # ensemble_model\n",
    "        model.fit(X_train, y_train)\n",
    "\n",
    "    # 평가 함수\n",
    "    def evaluate_model(model, X_val, y_true):\n",
    "        y_pred = model.predict(X_val)\n",
    "        y_pred_proba = model.predict_proba(X_val)[:, 1]\n",
    "        \n",
    "        # X_val의 이식된 배아 수가 0이면 y_pred_proba가 0이 되게 함\n",
    "        y_pred_proba = np.where(X_val['이식된 배아 수'] == 0, 0, y_pred_proba)\n",
    "\n",
    "        return {\n",
    "            'Accuracy': accuracy_score(y_true, y_pred),\n",
    "            'Precision': precision_score(y_true, y_pred),\n",
    "            'Recall': recall_score(y_true, y_pred),\n",
    "            'F1 Score': f1_score(y_true, y_pred),\n",
    "            'ROC AUC Score': roc_auc_score(y_true, y_pred_proba)\n",
    "        }\n",
    "\n",
    "    # 평가 및 변수 중요도 저장\n",
    "    for model_name, model in zip(metrics.keys(), [cat_model]): # ensemble_model\n",
    "        metrics[model_name].append(evaluate_model(model, X_val, y_val))\n",
    "\n",
    "    for model_name, model in zip(['CatBoost'], [cat_model]):\n",
    "        feature_importances[model_name].append(model.feature_importances_)\n",
    "        \n",
    "    # 테스트 데이터 예측 확률 저장\n",
    "    # [ADD] 이식된 배아 수가 0이면 0으로 예측하도록 함.\n",
    "    y_test_proba = cat_model.predict_proba(X_test)[:, 1]\n",
    "    y_test_proba = np.where(X_test['이식된 배아 수'] == 0, 0, y_test_proba)\n",
    "    \n",
    "    test_proba['CatBoost'].append(y_test_proba)\n",
    "#     test_proba['XGBoost'].append(xgb_model.predict_proba(X_test)[:, 1])\n",
    "#     test_proba['LightGBM'].append(lgbm_model.predict_proba(X_test)[:, 1])\n",
    "#     test_proba['AdaBoost'].append(adaboost_model.predict_proba(X_test)[:, 1])\n",
    "#     test_proba['Ensemble'].append(ensemble_model.predict_proba(X_test)[:, 1])"
   ]
  },
  {
   "cell_type": "code",
   "execution_count": 25,
   "metadata": {},
   "outputs": [
    {
     "name": "stdout",
     "output_type": "stream",
     "text": [
      "===== Stratified K-Fold 평균 성능 =====\n",
      "\n",
      "== CatBoost Model ==\n",
      "Accuracy: 0.746235\n",
      "Precision: 0.539049\n",
      "Recall: 0.122456\n",
      "F1 Score: 0.199568\n",
      "ROC AUC Score: 0.739848\n"
     ]
    }
   ],
   "source": [
    "# 평가 지표 평균 출력\n",
    "print(\"===== Stratified K-Fold 평균 성능 =====\")\n",
    "for model_name, model_metrics in metrics.items():\n",
    "    avg_metrics = {metric: np.mean([fold_metric[metric] for fold_metric in model_metrics]) for metric in model_metrics[0]}\n",
    "    \n",
    "    print(f\"\\n== {model_name} Model ==\")\n",
    "    for metric, value in avg_metrics.items():\n",
    "        print(f\"{metric}: {value:.6f}\")"
   ]
  },
  {
   "cell_type": "code",
   "execution_count": 26,
   "metadata": {},
   "outputs": [
    {
     "ename": "SyntaxError",
     "evalue": "invalid syntax (3041440494.py, line 3)",
     "output_type": "error",
     "traceback": [
      "\u001b[0;36m  Cell \u001b[0;32mIn[26], line 3\u001b[0;36m\u001b[0m\n\u001b[0;31m    Not remodeling\u001b[0m\n\u001b[0m        ^\u001b[0m\n\u001b[0;31mSyntaxError\u001b[0m\u001b[0;31m:\u001b[0m invalid syntax\n"
     ]
    }
   ],
   "source": [
    "# 0.739848\n",
    "\n",
    "Not remodeling\n",
    "Before 0.739842\n",
    "After 0.739914\n",
    "\n",
    "Remodeling\n",
    "Before 0.739848\n",
    "After 0.739884"
   ]
  },
  {
   "cell_type": "markdown",
   "metadata": {},
   "source": [
    "### Prediction"
   ]
  },
  {
   "cell_type": "code",
   "execution_count": null,
   "metadata": {
    "scrolled": true
   },
   "outputs": [],
   "source": [
    "# Best AUC 기록한 모델의 pred_proba로 선택\n",
    "pred_proba = np.mean(test_proba['CatBoost'], axis=0)\n",
    "# pred_proba = np.mean(test_proba['XGBoost'], axis=0)\n",
    "# pred_proba = np.mean(test_proba['LightGBM'], axis=0)\n",
    "# pred_proba = np.mean(test_proba['AdaBoost'], axis=0)\n",
    "# pred_proba = np.mean(test_proba['Ensemble'], axis=0)"
   ]
  },
  {
   "cell_type": "code",
   "execution_count": null,
   "metadata": {},
   "outputs": [],
   "source": [
    "roc_auc_scores = np.array([fold_metrics['ROC AUC Score'] for fold_metrics in metrics['CatBoost']])\n",
    "\n",
    "weights = roc_auc_scores / np.sum(roc_auc_scores)  # 합이 1이 되도록 정규화\n",
    "\n",
    "test_proba_array = np.array(test_proba['CatBoost'])  # (n_folds, n_samples) 형태\n",
    "\n",
    "pred_proba = np.average(test_proba_array, axis=0, weights=weights)"
   ]
  },
  {
   "cell_type": "markdown",
   "metadata": {},
   "source": [
    "### Submission"
   ]
  },
  {
   "cell_type": "code",
   "execution_count": null,
   "metadata": {},
   "outputs": [
    {
     "data": {
      "text/html": [
       "<div>\n",
       "<style scoped>\n",
       "    .dataframe tbody tr th:only-of-type {\n",
       "        vertical-align: middle;\n",
       "    }\n",
       "\n",
       "    .dataframe tbody tr th {\n",
       "        vertical-align: top;\n",
       "    }\n",
       "\n",
       "    .dataframe thead th {\n",
       "        text-align: right;\n",
       "    }\n",
       "</style>\n",
       "<table border=\"1\" class=\"dataframe\">\n",
       "  <thead>\n",
       "    <tr style=\"text-align: right;\">\n",
       "      <th></th>\n",
       "      <th>ID</th>\n",
       "      <th>probability</th>\n",
       "    </tr>\n",
       "  </thead>\n",
       "  <tbody>\n",
       "    <tr>\n",
       "      <th>0</th>\n",
       "      <td>TEST_00000</td>\n",
       "      <td>0.0</td>\n",
       "    </tr>\n",
       "    <tr>\n",
       "      <th>1</th>\n",
       "      <td>TEST_00001</td>\n",
       "      <td>0.0</td>\n",
       "    </tr>\n",
       "    <tr>\n",
       "      <th>2</th>\n",
       "      <td>TEST_00002</td>\n",
       "      <td>0.0</td>\n",
       "    </tr>\n",
       "    <tr>\n",
       "      <th>3</th>\n",
       "      <td>TEST_00003</td>\n",
       "      <td>0.0</td>\n",
       "    </tr>\n",
       "    <tr>\n",
       "      <th>4</th>\n",
       "      <td>TEST_00004</td>\n",
       "      <td>0.0</td>\n",
       "    </tr>\n",
       "  </tbody>\n",
       "</table>\n",
       "</div>"
      ],
      "text/plain": [
       "           ID  probability\n",
       "0  TEST_00000          0.0\n",
       "1  TEST_00001          0.0\n",
       "2  TEST_00002          0.0\n",
       "3  TEST_00003          0.0\n",
       "4  TEST_00004          0.0"
      ]
     },
     "execution_count": 29,
     "metadata": {},
     "output_type": "execute_result"
    }
   ],
   "source": [
    "# sample_submission = pd.read_csv('data/sample_submission.csv')\n",
    "# sample_submission.head()\n",
    "\n",
    "sample_submission = pd.read_csv(os.getenv('SUBMISSION_DATA_PATH'))\n",
    "sample_submission.head()"
   ]
  },
  {
   "cell_type": "code",
   "execution_count": null,
   "metadata": {},
   "outputs": [
    {
     "data": {
      "text/html": [
       "<div>\n",
       "<style scoped>\n",
       "    .dataframe tbody tr th:only-of-type {\n",
       "        vertical-align: middle;\n",
       "    }\n",
       "\n",
       "    .dataframe tbody tr th {\n",
       "        vertical-align: top;\n",
       "    }\n",
       "\n",
       "    .dataframe thead th {\n",
       "        text-align: right;\n",
       "    }\n",
       "</style>\n",
       "<table border=\"1\" class=\"dataframe\">\n",
       "  <thead>\n",
       "    <tr style=\"text-align: right;\">\n",
       "      <th></th>\n",
       "      <th>ID</th>\n",
       "      <th>probability</th>\n",
       "    </tr>\n",
       "  </thead>\n",
       "  <tbody>\n",
       "    <tr>\n",
       "      <th>0</th>\n",
       "      <td>TEST_00000</td>\n",
       "      <td>0.000000</td>\n",
       "    </tr>\n",
       "    <tr>\n",
       "      <th>1</th>\n",
       "      <td>TEST_00001</td>\n",
       "      <td>0.000000</td>\n",
       "    </tr>\n",
       "    <tr>\n",
       "      <th>2</th>\n",
       "      <td>TEST_00002</td>\n",
       "      <td>0.144539</td>\n",
       "    </tr>\n",
       "    <tr>\n",
       "      <th>3</th>\n",
       "      <td>TEST_00003</td>\n",
       "      <td>0.116595</td>\n",
       "    </tr>\n",
       "    <tr>\n",
       "      <th>4</th>\n",
       "      <td>TEST_00004</td>\n",
       "      <td>0.499316</td>\n",
       "    </tr>\n",
       "  </tbody>\n",
       "</table>\n",
       "</div>"
      ],
      "text/plain": [
       "           ID  probability\n",
       "0  TEST_00000     0.000000\n",
       "1  TEST_00001     0.000000\n",
       "2  TEST_00002     0.144539\n",
       "3  TEST_00003     0.116595\n",
       "4  TEST_00004     0.499316"
      ]
     },
     "execution_count": 30,
     "metadata": {},
     "output_type": "execute_result"
    }
   ],
   "source": [
    "# sample_submission['probability'] = pred_proba\n",
    "# # 저장\n",
    "# sample_submission.to_csv('data/submission.csv', index=False)\n",
    "# sample_submission.head()\n",
    "\n",
    "sample_submission['probability'] = pred_proba\n",
    "# 저장\n",
    "import datetime \n",
    "now = datetime.datetime.now()\n",
    "save_path = os.path.join(f'./log/submission/{now.strftime(\"%Y%m%d_%H%M%S\")}_{avg_metrics[\"ROC AUC Score\"]:.5f}_eiden.csv')\n",
    "sample_submission.to_csv(save_path, index=False)\n",
    "sample_submission.head()"
   ]
  },
  {
   "cell_type": "code",
   "execution_count": null,
   "metadata": {},
   "outputs": [
    {
     "data": {
      "text/html": [
       "<div>\n",
       "<style scoped>\n",
       "    .dataframe tbody tr th:only-of-type {\n",
       "        vertical-align: middle;\n",
       "    }\n",
       "\n",
       "    .dataframe tbody tr th {\n",
       "        vertical-align: top;\n",
       "    }\n",
       "\n",
       "    .dataframe thead th {\n",
       "        text-align: right;\n",
       "    }\n",
       "</style>\n",
       "<table border=\"1\" class=\"dataframe\">\n",
       "  <thead>\n",
       "    <tr style=\"text-align: right;\">\n",
       "      <th></th>\n",
       "      <th>ID</th>\n",
       "      <th>probability</th>\n",
       "    </tr>\n",
       "  </thead>\n",
       "  <tbody>\n",
       "    <tr>\n",
       "      <th>0</th>\n",
       "      <td>TEST_00000</td>\n",
       "      <td>0.000000</td>\n",
       "    </tr>\n",
       "    <tr>\n",
       "      <th>1</th>\n",
       "      <td>TEST_00001</td>\n",
       "      <td>0.000000</td>\n",
       "    </tr>\n",
       "    <tr>\n",
       "      <th>2</th>\n",
       "      <td>TEST_00002</td>\n",
       "      <td>0.144539</td>\n",
       "    </tr>\n",
       "    <tr>\n",
       "      <th>3</th>\n",
       "      <td>TEST_00003</td>\n",
       "      <td>0.116595</td>\n",
       "    </tr>\n",
       "    <tr>\n",
       "      <th>4</th>\n",
       "      <td>TEST_00004</td>\n",
       "      <td>0.499316</td>\n",
       "    </tr>\n",
       "  </tbody>\n",
       "</table>\n",
       "</div>"
      ],
      "text/plain": [
       "           ID  probability\n",
       "0  TEST_00000     0.000000\n",
       "1  TEST_00001     0.000000\n",
       "2  TEST_00002     0.144539\n",
       "3  TEST_00003     0.116595\n",
       "4  TEST_00004     0.499316"
      ]
     },
     "execution_count": 31,
     "metadata": {},
     "output_type": "execute_result"
    }
   ],
   "source": [
    "# 확인용\n",
    "submission = pd.read_csv(save_path)\n",
    "submission.head()"
   ]
  },
  {
   "cell_type": "code",
   "execution_count": null,
   "metadata": {},
   "outputs": [],
   "source": []
  }
 ],
 "metadata": {
  "kernelspec": {
   "display_name": "bert_KCI",
   "language": "python",
   "name": "python3"
  },
  "language_info": {
   "codemirror_mode": {
    "name": "ipython",
    "version": 3
   },
   "file_extension": ".py",
   "mimetype": "text/x-python",
   "name": "python",
   "nbconvert_exporter": "python",
   "pygments_lexer": "ipython3",
   "version": "3.8.10"
  }
 },
 "nbformat": 4,
 "nbformat_minor": 2
}
