{
 "cells": [
  {
   "cell_type": "markdown",
   "metadata": {},
   "source": [
    "### Libraries"
   ]
  },
  {
   "cell_type": "code",
   "execution_count": 1,
   "metadata": {},
   "outputs": [],
   "source": [
    "# pip install catboost"
   ]
  },
  {
   "cell_type": "code",
   "execution_count": 2,
   "metadata": {},
   "outputs": [],
   "source": [
    "import numpy as np\n",
    "import pandas as pd\n",
    "import warnings\n",
    "\n",
    "from catboost import CatBoostClassifier\n",
    "from sklearn.model_selection import StratifiedKFold\n",
    "from sklearn.preprocessing import LabelEncoder, MinMaxScaler\n",
    "from sklearn.metrics import accuracy_score, precision_score, recall_score, f1_score, roc_auc_score, confusion_matrix"
   ]
  },
  {
   "cell_type": "code",
   "execution_count": 3,
   "metadata": {},
   "outputs": [],
   "source": [
    "warnings.filterwarnings(\"ignore\")\n",
    "\n",
    "# 한글 처리\n",
    "import matplotlib.pyplot as plt\n",
    "import matplotlib.font_manager as fm\n",
    "\n",
    "# 한글 폰트 경로 설정\n",
    "font_path = '/usr/share/fonts/truetype/nanum/NanumBarunGothic.ttf'\n",
    "\n",
    "# 폰트 이름 얻어오기\n",
    "font_name = fm.FontProperties(fname=font_path).get_name()\n",
    "\n",
    "# 폰트 설정\n",
    "plt.rcParams['font.family'] = font_name\n"
   ]
  },
  {
   "cell_type": "markdown",
   "metadata": {},
   "source": [
    "### Load data"
   ]
  },
  {
   "cell_type": "code",
   "execution_count": 4,
   "metadata": {},
   "outputs": [],
   "source": [
    "from dotenv import load_dotenv\n",
    "import os\n",
    "from utils.EDA import analysis_임신성공여부, vis_numeric_corr_matrix\n",
    "load_dotenv()\n",
    "df_train = pd.read_csv(os.getenv('TRAIN_DATA_PATH')).drop(columns=['ID'])\n",
    "df_test = pd.read_csv(os.getenv('TEST_DATA_PATH')).drop(columns=['ID'])\n",
    "\n",
    "df_train.head(8).to_csv('train_sample.csv', encoding = 'utf-8-sig', index = False)\n",
    "\n",
    "# df_train = pd.read_csv('data/train.csv').drop(columns=['ID'])\n",
    "# df_test = pd.read_csv('data/test.csv').drop(columns=['ID'])"
   ]
  },
  {
   "cell_type": "markdown",
   "metadata": {},
   "source": [
    "### Preprocessing"
   ]
  },
  {
   "cell_type": "markdown",
   "metadata": {},
   "source": [
    "#### 컬럼 제거"
   ]
  },
  {
   "cell_type": "code",
   "execution_count": 5,
   "metadata": {},
   "outputs": [
    {
     "name": "stdout",
     "output_type": "stream",
     "text": [
      "제거된 컬럼 개수: 1\n",
      "제거된 컬럼: ['불임 원인 - 여성 요인']\n",
      "df_train.shape: (256351, 67)\n",
      "df_test.shape: (90067, 66)\n"
     ]
    }
   ],
   "source": [
    "# 컬럼 제거\n",
    "dropped_columns = ['불임 원인 - 여성 요인']\n",
    "\n",
    "df_train = df_train.drop(columns=dropped_columns, axis=1)\n",
    "df_test = df_test.drop(columns=dropped_columns, axis=1)\n",
    "\n",
    "print(\"제거된 컬럼 개수:\", len(dropped_columns))\n",
    "print(\"제거된 컬럼:\", dropped_columns)\n",
    "print(\"df_train.shape:\", df_train.shape)\n",
    "print(\"df_test.shape:\", df_test.shape)"
   ]
  },
  {
   "cell_type": "markdown",
   "metadata": {},
   "source": [
    "#### astype(int)"
   ]
  },
  {
   "cell_type": "code",
   "execution_count": 6,
   "metadata": {},
   "outputs": [
    {
     "name": "stdout",
     "output_type": "stream",
     "text": [
      "변환된 컬럼: ['총 시술 횟수', '클리닉 내 총 시술 횟수', 'IVF 시술 횟수', 'DI 시술 횟수', '총 임신 횟수', 'IVF 임신 횟수', 'DI 임신 횟수', '총 출산 횟수', 'IVF 출산 횟수', 'DI 출산 횟수']\n"
     ]
    }
   ],
   "source": [
    "# '횟수'를 포함하는 컬럼 찾기\n",
    "count_columns = [col for col in df_train.columns if '횟수' in col]\n",
    "\n",
    "def extract_number(value):\n",
    "    if isinstance(value, str):\n",
    "        return int(value[0])  # 맨 앞자리 숫자로 변환\n",
    "    return value\n",
    "\n",
    "for col in count_columns:\n",
    "    df_train[col] = df_train[col].apply(extract_number).astype(int)\n",
    "    df_test[col] = df_test[col].apply(extract_number).astype(int)\n",
    "print(\"변환된 컬럼:\", count_columns)"
   ]
  },
  {
   "cell_type": "code",
   "execution_count": 7,
   "metadata": {},
   "outputs": [
    {
     "data": {
      "text/plain": [
       "특정 시술 유형\n",
       "ICSI                                   122368\n",
       "IVF                                     91755\n",
       "Unknown                                 26939\n",
       "IUI                                      6100\n",
       "ICSI:ICSI                                2314\n",
       "ICSI / BLASTOCYST                        1609\n",
       "IVF / BLASTOCYST                         1248\n",
       "IVF:IVF                                  1146\n",
       "ICSI:IVF                                  873\n",
       "ICSI / AH                                 769\n",
       "IVF:ICSI                                  392\n",
       "IVF / AH                                  319\n",
       "ICSI:Unknown                              207\n",
       "IVF:Unknown                               100\n",
       "ICI                                        96\n",
       "Generic DI                                 71\n",
       "IVI                                        23\n",
       "ICSI / BLASTOCYST:IVF / BLASTOCYST          6\n",
       "ICSI / BLASTOCYST :IVF / BLASTOCYST         4\n",
       "FER                                         3\n",
       "IVF / AH:ICSI / AH                          2\n",
       "GIFT                                        2\n",
       "ICSI / AH:Unknown                           2\n",
       "ICSI / BLASTOCYST :ICSI                     1\n",
       "Name: count, dtype: int64"
      ]
     },
     "execution_count": 7,
     "metadata": {},
     "output_type": "execute_result"
    }
   ],
   "source": [
    "df_train['특정 시술 유형'].value_counts()"
   ]
  },
  {
   "cell_type": "markdown",
   "metadata": {},
   "source": [
    "#### 특정 시술 유형 - ICSI / 배아 생성 주요 이유 - 현재 시술용"
   ]
  },
  {
   "cell_type": "code",
   "execution_count": 8,
   "metadata": {},
   "outputs": [],
   "source": [
    "def get_dummies(df):\n",
    "    # 특정 시술 유형 - ICSI\n",
    "    df['특정 시술 유형 - ICSI'] = np.where(df['시술 유형'] != 'IVF', np.nan,  # 시술 유형이 DI\n",
    "                            np.where(df['특정 시술 유형'].str.contains('ICSI', na=False), 1, 0))\n",
    "    df['특정 시술 유형 - unknown'] = np.where(df['시술 유형'] != 'IVF', np.nan,  # 시술 유형이 DI\n",
    "                            np.where(df['특정 시술 유형'].str.contains('Unknown', na=False), 1, 0))\n",
    "    df['배아 이유 - 현재 시술용'] = np.where(df['시술 유형'] != 'IVF', np.nan,  # 시술 유형이 DI\n",
    "                            np.where(df['배아 생성 주요 이유'].str.contains('현재 시술용', na=False), 1, 0))\n",
    "    df['배아 이유 - 배아 저장용'] = np.where(df['시술 유형'] != 'IVF', np.nan,  # 시술 유형이 DI\n",
    "                            np.where(df['배아 생성 주요 이유'].str.contains('배아 저장용', na=False), 1, 0))\n",
    "    df['배아 이유 - 기증용'] = np.where(df['시술 유형'] != 'IVF', np.nan,  # 시술 유형이 DI\n",
    "                            np.where(df['배아 생성 주요 이유'].str.contains('기증용', na=False), 1, 0))\n",
    "    df = df.drop(columns=['특정 시술 유형','배아 생성 주요 이유'])\n",
    "    \n",
    "    return df\n",
    "\n",
    "df_train = get_dummies(df_train)\n",
    "df_test = get_dummies(df_test)"
   ]
  },
  {
   "cell_type": "markdown",
   "metadata": {},
   "source": [
    "#### 남성/여성/부부 주/부 불임 원인 제거"
   ]
  },
  {
   "cell_type": "code",
   "execution_count": 9,
   "metadata": {},
   "outputs": [],
   "source": [
    "def drop_cols(df):\n",
    "    cols = ['남성 주 불임 원인', '남성 부 불임 원인', \n",
    "            '여성 주 불임 원인', '여성 부 불임 원인',\n",
    "            '부부 주 불임 원인', '부부 부 불임 원인']\n",
    "    \n",
    "    df = df.drop(columns=cols, errors='ignore')\n",
    "\n",
    "    return df\n",
    "\n",
    "df_train = drop_cols(df_train)\n",
    "df_test = drop_cols(df_test)"
   ]
  },
  {
   "cell_type": "markdown",
   "metadata": {},
   "source": [
    "#### 배아 해동 경과일이 0보다 큰 값을 가지는 경우 동결 배아 사용 여부 1로 바꾸기"
   ]
  },
  {
   "cell_type": "code",
   "execution_count": 10,
   "metadata": {},
   "outputs": [],
   "source": [
    "def process(df):\n",
    "    df.loc[(df['배아 해동 경과일'] > 0), '동결 배아 사용 여부'] = 1\n",
    "    # df.loc[(df['미세주입된 난자 수'] > 0), '특정 시술 유형 - ICSI'] = 1\n",
    "    return df\n",
    "\n",
    "df_train = process(df_train)\n",
    "df_test = process(df_test)"
   ]
  },
  {
   "cell_type": "markdown",
   "metadata": {},
   "source": [
    "#### 난자 혼합 경과일, 배아 이식 경과일 groupby median fillna"
   ]
  },
  {
   "cell_type": "code",
   "execution_count": 11,
   "metadata": {},
   "outputs": [],
   "source": [
    "def fill_nan(df_train, df_test):\n",
    "    value1 = 0\n",
    "    value2 = df_train[df_train['시술 유형'] == 'IVF'].groupby(['신선 배아 사용 여부', '총 생성 배아 수'])['배아 이식 경과일'].median().fillna(5)\n",
    "\n",
    "    for df in [df_train, df_test]:\n",
    "        # 난자 혼합 경과일\n",
    "        df.loc[df['시술 유형'] == 'IVF', '난자 혼합 경과일'] = df.loc[df['시술 유형'] == 'IVF', '난자 혼합 경과일'].fillna(value1)\n",
    "        # 배아 이식 경과일\n",
    "        df.loc[df['시술 유형'] == 'IVF', '배아 이식 경과일'] = df[df['시술 유형'] == 'IVF'].apply(\n",
    "            lambda row: value2.get((row['신선 배아 사용 여부'], row['총 생성 배아 수']), row['배아 이식 경과일']) \n",
    "            if pd.isna(row['배아 이식 경과일']) else row['배아 이식 경과일'], axis=1\n",
    "        )\n",
    "\n",
    "    return df_train, df_test\n",
    "\n",
    "df_train, df_test = fill_nan(df_train, df_test)"
   ]
  },
  {
   "cell_type": "markdown",
   "metadata": {},
   "source": [
    "### Feature engineering"
   ]
  },
  {
   "cell_type": "code",
   "execution_count": 12,
   "metadata": {
    "scrolled": true
   },
   "outputs": [],
   "source": [
    "def feature_engineering(df):\n",
    "    epsilon = 1e-5\n",
    "    \n",
    "    # 임신/출산 성공률\n",
    "    df['IVF 시술 대비 임신 성공률'] = df['IVF 임신 횟수'] / df['IVF 시술 횟수']\n",
    "    \n",
    "    # 난자\n",
    "    df['총 난자 수'] = df['수집된 신선 난자 수'] + df['해동 난자 수']\n",
    "    df['난자 사용률'] = df['혼합된 난자 수'] / df['총 난자 수']\n",
    "    \n",
    "    # 배아\n",
    "    df['총 배아 수'] = df['총 생성 배아 수'] + df['해동된 배아 수']\n",
    "    df['미세주입 배아 생성 확률'] = df['미세주입에서 생성된 배아 수'] / df['미세주입된 난자 수']\n",
    "    df['미세주입 배아 이식 확률'] = df['미세주입 배아 이식 수'] / df['미세주입에서 생성된 배아 수']\n",
    "    df['총 배아 생성 확률'] = df['총 배아 수'] / df['총 난자 수']\n",
    "    df['신선 + 기증 + 동결'] = df[['신선 배아 사용 여부', '기증 배아 사용 여부', '동결 배아 사용 여부']].sum(axis=1)\n",
    "    df['배아 저장 비율'] = df['저장된 배아 수'] / (df['총 생성 배아 수'] + epsilon)\n",
    "    \n",
    "    # 이식된 배아 수 관련\n",
    "    df['배아 이식 대비 임신 성공률'] = df['총 임신 횟수'] / df['이식된 배아 수']\n",
    "    df['배아 이식 대비 출산 성공률'] = df['총 출산 횟수'] / df['이식된 배아 수']\n",
    "    df['배아 이식 확률'] = df['이식된 배아 수'] / df['총 배아 수']\n",
    "    df['이식된 배아 대비 이식 기간'] = df['배아 이식 경과일'] / df['이식된 배아 수']\n",
    "\n",
    "    # 기타\n",
    "    df['배란자극 * 단일이식'] = df['배란 자극 여부'] * df['단일 배아 이식 여부']\n",
    "    df['배란자극 * ICSI'] = df['배란 자극 여부'] * df['특정 시술 유형 - ICSI'] \n",
    "    df['경과일 차이 - 난자 혼합 * 배아 이식'] = np.abs(df['배아 이식 경과일'] - df['난자 혼합 경과일'])\n",
    "    df['경과일 차이 - 배아 해동 * 배아 이식'] = np.abs(df['배아 이식 경과일'] - df['배아 해동 경과일'])\n",
    "    df['경과일 합'] = df[['난자 채취 경과일', '난자 해동 경과일', '난자 혼합 경과일', '배아 해동 경과일', '배아 이식 경과일']].sum(axis=1)\n",
    "    \n",
    "\n",
    "    # 바이너리 합\n",
    "    binary_cols = ['배란 자극 여부', '단일 배아 이식 여부', '동결 배아 사용 여부', '신선 배아 사용 여부', '기증 배아 사용 여부', '대리모 여부']\n",
    "    df['바이너리 합'] = df[binary_cols].sum(axis=1)\n",
    "\n",
    "    # PGD, PGS 합\n",
    "    pgd_pgs = ['착상 전 유전 검사 사용 여부', '착상 전 유전 진단 사용 여부', 'PGD 시술 여부', 'PGS 시술 여부']\n",
    "    df['PGD * PGS 합'] = df[pgd_pgs].sum(axis=1)\n",
    "    \n",
    "    # 불임 원인 점수\n",
    "    infertility_cols = ['불명확 불임 원인', '불임 원인 - 난관 질환', '불임 원인 - 남성 요인', '불임 원인 - 배란 장애', \n",
    "                        '불임 원인 - 자궁경부 문제', '불임 원인 - 자궁내막증', '불임 원인 - 정자 농도', '불임 원인 - 정자 면역학적 요인',\n",
    "                        '불임 원인 - 정자 운동성', '불임 원인 - 정자 형태']\n",
    "    for col in infertility_cols:\n",
    "        if df[col].dtype == 'object':\n",
    "            df[col] = df[col].map({'Y': 1, 'N': 0})\n",
    "    df['불임원인 수'] = df[infertility_cols].sum(axis=1)\n",
    "    \n",
    "    # [FIX] 변수 제거 \n",
    "    # cols = ['총 난자 수', '난자 해동 경과일']\n",
    "    # df = df.drop(columns=cols, errors='ignore')\n",
    "\n",
    "    # [ADD] 변수 추가\n",
    "    # df['배아 이식 * 이식된 배아 수'] = df['배아 이식 경과일'] * df['이식된 배아 수']\n",
    "    # df['배아 이식 * 이식된 배아 수'].fillna(999)\n",
    "    return df\n",
    "\n",
    "df_train = feature_engineering(df_train)\n",
    "df_test = feature_engineering(df_test)"
   ]
  },
  {
   "cell_type": "markdown",
   "metadata": {},
   "source": [
    "#### 환자 & 난자 기증자 나이 비교"
   ]
  },
  {
   "cell_type": "code",
   "execution_count": 13,
   "metadata": {},
   "outputs": [],
   "source": [
    "import numpy as np\n",
    "def compare_age(df):\n",
    "    patient_age_map = {'만18-34세': 4, '만35-37세': 5, '만38-39세': 5, '만40-42세': 6, '만43-44세': 6, '만45-50세': 7, '알 수 없음': np.nan}\n",
    "    donor_age_map = {'만20세 이하': 1, '만21-25세': 2, '만26-30세': 3, '만31-35세': 4, '만36-40세': 5, '만41-45세': 6, '알 수 없음': np.nan}\n",
    "\n",
    "\n",
    "    df['시술 당시 나이 순위'] = df['시술 당시 나이'].map(patient_age_map)\n",
    "    df['난자 기증자 나이 순위'] = df['난자 기증자 나이'].map(donor_age_map)\n",
    "\n",
    "    df['여성 나이 비교'] = df.apply(lambda row: 2 if row['시술 당시 나이 순위'] > row['난자 기증자 나이 순위']\n",
    "                                  else (1 if row['시술 당시 나이 순위'] == row['난자 기증자 나이 순위'] else 0), axis=1)\n",
    "\n",
    "    df = df.drop(columns=['시술 당시 나이 순위', '난자 기증자 나이 순위'], errors='ignore')\n",
    "\n",
    "    return df\n",
    "\n",
    "df_train = compare_age(df_train)\n",
    "df_test = compare_age(df_test)"
   ]
  },
  {
   "cell_type": "markdown",
   "metadata": {},
   "source": [
    "#### 시술 유형이 DI인 경우 -1로 채우기"
   ]
  },
  {
   "cell_type": "code",
   "execution_count": 14,
   "metadata": {},
   "outputs": [],
   "source": [
    "def di_null(df):\n",
    "    mask = df['시술 유형'] == 'DI'\n",
    "    columns_to_fill = [col for col in df.columns if col != '임신 시도 또는 마지막 임신 경과 연수']\n",
    "    df.loc[mask, columns_to_fill] = df.loc[mask, columns_to_fill].fillna(-1)\n",
    "    return df\n",
    "\n",
    "df_train = di_null(df_train)\n",
    "df_test = di_null(df_test)"
   ]
  },
  {
   "cell_type": "code",
   "execution_count": 15,
   "metadata": {
    "scrolled": true
   },
   "outputs": [
    {
     "name": "stdout",
     "output_type": "stream",
     "text": [
      "시술 시기 코드                  0.000000\n",
      "시술 당시 나이                  0.000000\n",
      "임신 시도 또는 마지막 임신 경과 연수    96.344855\n",
      "시술 유형                     0.000000\n",
      "배란 자극 여부                  0.000000\n",
      "                           ...    \n",
      "경과일 합                     0.000000\n",
      "바이너리 합                    0.000000\n",
      "PGD * PGS 합               0.000000\n",
      "불임원인 수                    0.000000\n",
      "여성 나이 비교                  0.000000\n",
      "Length: 86, dtype: float64\n"
     ]
    }
   ],
   "source": [
    "# 결측 비율\n",
    "missing_ratio = df_train.isnull().mean() * 100\n",
    "print(missing_ratio)"
   ]
  },
  {
   "cell_type": "markdown",
   "metadata": {},
   "source": [
    "#### NaN, inf 처리"
   ]
  },
  {
   "cell_type": "code",
   "execution_count": 16,
   "metadata": {},
   "outputs": [],
   "source": [
    "# 결측값 대체\n",
    "def replace_inf_and_nan(df, value_inf, value_na):\n",
    "    df.replace([np.inf, -np.inf], value_inf, inplace=True)  # inf, -inf 변환\n",
    "    df.fillna(value_na, inplace=True)  # NaN 변환\n",
    "    return df\n",
    "\n",
    "# 변환 적용\n",
    "value_inf = 999 # 3 / 0\n",
    "value_na = 999 # 0 / 0\n",
    "df_train = replace_inf_and_nan(df_train, value_inf, value_na)\n",
    "df_test = replace_inf_and_nan(df_test, value_inf, value_na)"
   ]
  },
  {
   "cell_type": "markdown",
   "metadata": {},
   "source": [
    "#### 로직\n",
    "'난자 채취 경과일' -> '난자 해동 경과일' -> '난자 혼합 경과일' -> '배아 해동 경과일' -> '배아 이식 경과일'"
   ]
  },
  {
   "cell_type": "code",
   "execution_count": 17,
   "metadata": {},
   "outputs": [
    {
     "data": {
      "image/png": "[encoded data removed]",
      "text/plain": [
       "<Figure size 1500x500 with 2 Axes>"
      ]
     },
     "metadata": {},
     "output_type": "display_data"
    },
    {
     "data": {
      "image/png": "[encoded data removed]",
      "text/plain": [
       "<Figure size 1500x500 with 2 Axes>"
      ]
     },
     "metadata": {},
     "output_type": "display_data"
    },
    {
     "data": {
      "image/png": "[encoded data removed]",
      "text/plain": [
       "<Figure size 1500x500 with 2 Axes>"
      ]
     },
     "metadata": {},
     "output_type": "display_data"
    },
    {
     "data": {
      "image/png": "[encoded data removed]",
      "text/plain": [
       "<Figure size 1500x500 with 2 Axes>"
      ]
     },
     "metadata": {},
     "output_type": "display_data"
    }
   ],
   "source": [
    "# histogram\n",
    "\n",
    "def plot_hist(df, col):\n",
    "    # 임신 성공 여부에 따른 분포 임신 성공 여부는 0, 1로 되어있으므로, 각각 파악\n",
    "    plt.figure(figsize=(15, 5))\n",
    "    plt.subplot(1, 2, 1)\n",
    "    plt.title(f'{col} - 임신 성공 여부 0')\n",
    "    df[df['임신 성공 여부'] == 0][col].hist()\n",
    "    plt.subplot(1, 2, 2)\n",
    "    plt.title(f'{col} - 임신 성공 여부 1')\n",
    "    df[df['임신 성공 여부'] == 1][col].hist()\n",
    "    plt.show()\n",
    "for col in ['난자 채취 경과일', '난자 혼합 경과일', '배아 해동 경과일', '배아 이식 경과일']:\n",
    "    plot_hist(df_train, col)"
   ]
  },
  {
   "cell_type": "code",
   "execution_count": 18,
   "metadata": {},
   "outputs": [],
   "source": [
    "\n",
    "# # [ADD] 변수 추가\n",
    "# def feature_Age_engineering(df):\n",
    "#     # 시술 당시 나이 컬럼을 일단 문자열로 변환\n",
    "#     시술_당시_나이 = df['시술 당시 나이'].astype(str)\n",
    "    \n",
    "#     # \"만\", \"세\" 제거\n",
    "#     시술_당시_나이 = 시술_당시_나이.str.replace('만', '', regex=False)\n",
    "#     시술_당시_나이 = 시술_당시_나이.str.replace('세', '', regex=False)\n",
    "    \n",
    "#     # 예: \"18-34\" 혹은 \"35-37\" 같은 형태에서 하한/상한 추출\n",
    "#     # 여기서는 상한 값만 사용한다고 가정\n",
    "#     시술_당시_나이 = 시술_당시_나이.str.split('-').str[-1]\n",
    "#     # 알 수 없음 이면 15로 변환\n",
    "#     # 나이를 int로 변환해서 계산\n",
    "\n",
    "#     시술_당시_나이 = 시술_당시_나이.replace('알 수 없음', 0)\n",
    "#     임신_가능_횟수 = (시술_당시_나이.astype(int) - 15) * 12  # 평균적으로 연간 12번\n",
    "\n",
    "#     # 임신_가능_횟수가 0인 것을 999 결측치로 변환\n",
    "#     임신_가능_횟수 = np.where(임신_가능_횟수 == 0, np.nan, 임신_가능_횟수)\n",
    "    \n",
    "#     df['시술 당시 나이'] = 임신_가능_횟수\n",
    "#     # df = df.drop(columns=['시술 당시 나이'])\n",
    "#     return df\n",
    "\n",
    "# df_train = feature_Age_engineering(df_train)\n",
    "# df_test = feature_Age_engineering(df_test)\n",
    "\n",
    "# # df_train['임신 가능 횟수'].value_counts()\n",
    "\n",
    "\n",
    "\n",
    "# # [ADD] 변수 추가\n",
    "# def feature_success_rate_engineering(df):\n",
    "#     df['과거기록 출산 성공률'] = df['총 출산 횟수'] / df['총 임신 횟수']\n",
    "#     # 총 임신 횟수가 0이면 0으로 변환\n",
    "#     df['과거기록 출산 성공률'] = np.where(df['총 임신 횟수'] == 0, 0, df['과거기록 출산 성공률'])\n",
    "    \n",
    "#     return df\n",
    "\n",
    "# df_train = feature_success_rate_engineering(df_train)\n",
    "# df_test = feature_success_rate_engineering(df_test)\n",
    "\n",
    "# df_train['과거기록 출산 성공률'].isna().sum()\n",
    "\n",
    "\n",
    "# def feature_4(df):\n",
    "#     df['총 시술 대비 임신 횟수'] = (df['총 임신 횟수'] / df['클리닉 내 총 시술 횟수'])\n",
    "#     df['총 시술 대비 임신 횟수'] = np.where(df['클리닉 내 총 시술 횟수'] == 0, 0, df['총 시술 대비 임신 횟수'])\n",
    "#     df['총 시술 대비 임신 횟수'] = np.where(df['총 임신 횟수'] == 0, 0, df['총 시술 대비 임신 횟수'])\n",
    "    \n",
    "#     return df\n",
    "# df_train = feature_4(df_train)\n",
    "# df_test = feature_4(df_test)\n",
    "    \n",
    "\n",
    "# def feature_5(df):\n",
    "#     아몰라 = (df['클리닉 내 총 시술 횟수'] / df['이식된 배아 수'])\n",
    "#     아몰라 = np.where(df['클리닉 내 총 시술 횟수'] == 0, 0, 아몰라)\n",
    "#     아몰라 = np.where(df['이식된 배아 수'] == 0, 0, 아몰라)\n",
    "    \n",
    "#     df['아몰라'] = 아몰라\n",
    "    \n",
    "#     return df\n",
    "# df_train = feature_5(df_train)\n",
    "# df_test = feature_5(df_test)\n",
    "\n",
    "import pandas as pd\n",
    "\n",
    "def feature_6(df):\n",
    "    # 시술 대비 임신 성공률: (총 임신 횟수 / 총 시술 횟수)\n",
    "    df['시술 대비 임신 성공률_전체'] = df['총 임신 횟수'] / df['총 시술 횟수'].replace(0, 1) * df['이식된 배아 수'].replace(0, 1)\n",
    "    \n",
    "    # 시술 대비 출산 성공률: (총 출산 횟수 / 총 시술 횟수)\n",
    "    df['시술 대비 출산 성공률_전체'] = df['총 출산 횟수'] / df['총 시술 횟수'].replace(0, 1) * df['이식된 배아 수'].replace(0, 1)\n",
    "    \n",
    "    return df\n",
    "\n",
    "df_train = feature_6(df_train)\n",
    "df_test = feature_6(df_test)\n"
   ]
  },
  {
   "cell_type": "markdown",
   "metadata": {},
   "source": [
    "#### Encoding"
   ]
  },
  {
   "cell_type": "code",
   "execution_count": 19,
   "metadata": {},
   "outputs": [],
   "source": [
    "# # 시술 시기 코드 one-hot encoding\n",
    "# df_train = pd.get_dummies(df_train['시술 시기 코드'], prefix='시술_시기', dtype=int).join(df_train)\n",
    "# df_test = pd.get_dummies(df_test['시술 시기 코드'], prefix='시술_시기', dtype=int).join(df_test)\n",
    "\n",
    "# df_train.drop(columns=['시술 시기 코드'], inplace=True, axis=1)\n",
    "# df_test.drop(columns=['시술 시기 코드'], inplace=True, axis=1)"
   ]
  },
  {
   "cell_type": "code",
   "execution_count": 20,
   "metadata": {},
   "outputs": [
    {
     "data": {
      "text/plain": [
       "Index(['시술 시기 코드', '시술 당시 나이', '임신 시도 또는 마지막 임신 경과 연수', '시술 유형', '배란 자극 여부',\n",
       "       '배란 유도 유형', '단일 배아 이식 여부', '착상 전 유전 검사 사용 여부', '착상 전 유전 진단 사용 여부',\n",
       "       '불명확 불임 원인', '불임 원인 - 난관 질환', '불임 원인 - 남성 요인', '불임 원인 - 배란 장애',\n",
       "       '불임 원인 - 자궁경부 문제', '불임 원인 - 자궁내막증', '불임 원인 - 정자 농도',\n",
       "       '불임 원인 - 정자 면역학적 요인', '불임 원인 - 정자 운동성', '불임 원인 - 정자 형태', '총 시술 횟수',\n",
       "       '클리닉 내 총 시술 횟수', 'IVF 시술 횟수', 'DI 시술 횟수', '총 임신 횟수', 'IVF 임신 횟수',\n",
       "       'DI 임신 횟수', '총 출산 횟수', 'IVF 출산 횟수', 'DI 출산 횟수', '총 생성 배아 수',\n",
       "       '미세주입된 난자 수', '미세주입에서 생성된 배아 수', '이식된 배아 수', '미세주입 배아 이식 수', '저장된 배아 수',\n",
       "       '미세주입 후 저장된 배아 수', '해동된 배아 수', '해동 난자 수', '수집된 신선 난자 수', '저장된 신선 난자 수',\n",
       "       '혼합된 난자 수', '파트너 정자와 혼합된 난자 수', '기증자 정자와 혼합된 난자 수', '난자 출처', '정자 출처',\n",
       "       '난자 기증자 나이', '정자 기증자 나이', '동결 배아 사용 여부', '신선 배아 사용 여부', '기증 배아 사용 여부',\n",
       "       '대리모 여부', 'PGD 시술 여부', 'PGS 시술 여부', '난자 채취 경과일', '난자 해동 경과일',\n",
       "       '난자 혼합 경과일', '배아 이식 경과일', '배아 해동 경과일', '임신 성공 여부', '특정 시술 유형 - ICSI',\n",
       "       '특정 시술 유형 - unknown', '배아 이유 - 현재 시술용', '배아 이유 - 배아 저장용', '배아 이유 - 기증용',\n",
       "       'IVF 시술 대비 임신 성공률', '총 난자 수', '난자 사용률', '총 배아 수', '미세주입 배아 생성 확률',\n",
       "       '미세주입 배아 이식 확률', '총 배아 생성 확률', '신선 + 기증 + 동결', '배아 저장 비율',\n",
       "       '배아 이식 대비 임신 성공률', '배아 이식 대비 출산 성공률', '배아 이식 확률', '이식된 배아 대비 이식 기간',\n",
       "       '배란자극 * 단일이식', '배란자극 * ICSI', '경과일 차이 - 난자 혼합 * 배아 이식',\n",
       "       '경과일 차이 - 배아 해동 * 배아 이식', '경과일 합', '바이너리 합', 'PGD * PGS 합', '불임원인 수',\n",
       "       '여성 나이 비교', '시술 대비 임신 성공률_전체', '시술 대비 출산 성공률_전체'],\n",
       "      dtype='object')"
      ]
     },
     "execution_count": 20,
     "metadata": {},
     "output_type": "execute_result"
    }
   ],
   "source": [
    "df_train.columns"
   ]
  },
  {
   "cell_type": "code",
   "execution_count": 21,
   "metadata": {},
   "outputs": [
    {
     "data": {
      "text/plain": [
       "['시술 시기 코드',\n",
       " '시술 당시 나이',\n",
       " '시술 유형',\n",
       " '배란 유도 유형',\n",
       " '난자 출처',\n",
       " '정자 출처',\n",
       " '난자 기증자 나이',\n",
       " '정자 기증자 나이']"
      ]
     },
     "execution_count": 21,
     "metadata": {},
     "output_type": "execute_result"
    }
   ],
   "source": [
    "# object 타입 컬럼 확인\n",
    "cat_features = list(df_train.select_dtypes(include=['object']).columns)\n",
    "cat_features"
   ]
  },
  {
   "cell_type": "code",
   "execution_count": 22,
   "metadata": {},
   "outputs": [],
   "source": [
    "# LabelEncoder 적용\n",
    "for col in cat_features:\n",
    "    le = LabelEncoder() \n",
    "    df_train[col] = le.fit_transform(df_train[col])  \n",
    "    df_test[col] = le.transform(df_test[col]) "
   ]
  },
  {
   "cell_type": "code",
   "execution_count": 23,
   "metadata": {
    "scrolled": true
   },
   "outputs": [],
   "source": [
    "# abs(df_train.corr()['임신 성공 여부']).sort_values(ascending=False)"
   ]
  },
  {
   "cell_type": "markdown",
   "metadata": {},
   "source": [
    "#### Scaling"
   ]
  },
  {
   "cell_type": "code",
   "execution_count": 24,
   "metadata": {
    "scrolled": true
   },
   "outputs": [],
   "source": [
    "# scaling_cols = [\n",
    "#     '총 생성 배아 수', '미세주입된 난자 수', '미세주입에서 생성된 배아 수', '이식된 배아 수', \n",
    "#     '미세주입 배아 이식 수', '저장된 배아 수', '미세주입 후 저장된 배아 수', '해동된 배아 수',\n",
    "#     '해동 난자 수', '수집된 신선 난자 수', '저장된 신선 난자 수', '혼합된 난자 수',\n",
    "#     '파트너 정자와 혼합된 난자 수', '기증자 정자와 혼합된 난자 수', '난자 혼합 경과일',\n",
    "#     '배아 이식 경과일', '경과일_차이', '불임원인_수', '배아저장비율', '이식된 배아 대비 이식 기간',\n",
    "#     '총 배아 수', '나이 그룹별 평균 생성 배아 수', '나이 그룹별 평균 이식 배아 수', '나이 그룹별 평균 배아 이식 경과일'\n",
    "# ]\n",
    "\n",
    "# scaler = MinMaxScaler()\n",
    "# df_train[scaling_cols] = scaler.fit_transform(df_train[scaling_cols])\n",
    "# df_test[scaling_cols] = scaler.transform(df_test[scaling_cols])"
   ]
  },
  {
   "cell_type": "markdown",
   "metadata": {},
   "source": [
    "### Modeling"
   ]
  },
  {
   "cell_type": "code",
   "execution_count": 25,
   "metadata": {},
   "outputs": [],
   "source": [
    "X = df_train.drop('임신 성공 여부', axis=1)\n",
    "y = df_train['임신 성공 여부']\n",
    "X_test = df_test"
   ]
  },
  {
   "cell_type": "code",
   "execution_count": 26,
   "metadata": {},
   "outputs": [
    {
     "data": {
      "text/plain": [
       "시술 당시 나이\n",
       "0    102476\n",
       "1     57780\n",
       "2     39247\n",
       "3     37348\n",
       "4     12253\n",
       "5      6918\n",
       "6       329\n",
       "Name: count, dtype: int64"
      ]
     },
     "execution_count": 26,
     "metadata": {},
     "output_type": "execute_result"
    }
   ],
   "source": [
    "df_train['시술 당시 나이'].value_counts()"
   ]
  },
  {
   "cell_type": "markdown",
   "metadata": {},
   "source": [
    "#### Stratified K-Fold "
   ]
  },
  {
   "cell_type": "code",
   "execution_count": 27,
   "metadata": {
    "scrolled": true
   },
   "outputs": [
    {
     "name": "stdout",
     "output_type": "stream",
     "text": [
      "===== Fold 1 =====\n",
      "0:\ttotal: 72.4ms\tremaining: 53.9s\n",
      "100:\ttotal: 1.12s\tremaining: 7.17s\n",
      "200:\ttotal: 2.12s\tremaining: 5.73s\n",
      "300:\ttotal: 2.99s\tremaining: 4.41s\n",
      "400:\ttotal: 3.78s\tremaining: 3.24s\n",
      "500:\ttotal: 4.58s\tremaining: 2.23s\n",
      "600:\ttotal: 5.43s\tremaining: 1.3s\n",
      "700:\ttotal: 6.27s\tremaining: 393ms\n",
      "744:\ttotal: 6.66s\tremaining: 0us\n",
      "===== Fold 2 =====\n",
      "0:\ttotal: 10.7ms\tremaining: 7.99s\n",
      "100:\ttotal: 1.04s\tremaining: 6.62s\n",
      "200:\ttotal: 2.03s\tremaining: 5.49s\n",
      "300:\ttotal: 2.93s\tremaining: 4.32s\n",
      "400:\ttotal: 3.77s\tremaining: 3.23s\n",
      "500:\ttotal: 4.63s\tremaining: 2.26s\n",
      "600:\ttotal: 5.45s\tremaining: 1.3s\n",
      "700:\ttotal: 6.3s\tremaining: 395ms\n",
      "744:\ttotal: 6.67s\tremaining: 0us\n",
      "===== Fold 3 =====\n",
      "0:\ttotal: 17ms\tremaining: 12.7s\n",
      "100:\ttotal: 1.04s\tremaining: 6.66s\n",
      "200:\ttotal: 2s\tremaining: 5.42s\n",
      "300:\ttotal: 2.9s\tremaining: 4.28s\n",
      "400:\ttotal: 3.75s\tremaining: 3.22s\n",
      "500:\ttotal: 4.57s\tremaining: 2.23s\n",
      "600:\ttotal: 5.43s\tremaining: 1.3s\n",
      "700:\ttotal: 6.29s\tremaining: 395ms\n",
      "744:\ttotal: 6.69s\tremaining: 0us\n",
      "===== Fold 4 =====\n",
      "0:\ttotal: 10.2ms\tremaining: 7.58s\n",
      "100:\ttotal: 1.02s\tremaining: 6.53s\n",
      "200:\ttotal: 1.99s\tremaining: 5.37s\n",
      "300:\ttotal: 2.9s\tremaining: 4.28s\n",
      "400:\ttotal: 3.74s\tremaining: 3.21s\n",
      "500:\ttotal: 4.56s\tremaining: 2.22s\n",
      "600:\ttotal: 5.39s\tremaining: 1.29s\n",
      "700:\ttotal: 6.22s\tremaining: 390ms\n",
      "744:\ttotal: 6.59s\tremaining: 0us\n",
      "===== Fold 5 =====\n",
      "0:\ttotal: 10.5ms\tremaining: 7.82s\n",
      "100:\ttotal: 1.02s\tremaining: 6.53s\n",
      "200:\ttotal: 2s\tremaining: 5.42s\n",
      "300:\ttotal: 2.83s\tremaining: 4.17s\n",
      "400:\ttotal: 3.62s\tremaining: 3.11s\n",
      "500:\ttotal: 4.42s\tremaining: 2.15s\n",
      "600:\ttotal: 5.23s\tremaining: 1.25s\n",
      "700:\ttotal: 6.05s\tremaining: 380ms\n",
      "744:\ttotal: 6.41s\tremaining: 0us\n"
     ]
    }
   ],
   "source": [
    "# Stratified K-Fold 설정\n",
    "n_splits = 5\n",
    "skf = StratifiedKFold(n_splits=n_splits, shuffle=True, random_state=123)\n",
    "\n",
    "metrics = {model: [] for model in ['CatBoost']} # Ensemble\n",
    "feature_importances = {model: [] for model in ['CatBoost']}\n",
    "test_proba = {model: [] for model in ['CatBoost']} # Ensemble\n",
    "\n",
    "\n",
    "for fold, (train_idx, val_idx) in enumerate(skf.split(X, y), 1):\n",
    "    print(f\"===== Fold {fold} =====\")\n",
    "\n",
    "    X_train, X_val = X.iloc[train_idx], X.iloc[val_idx]\n",
    "    y_train, y_val = y.iloc[train_idx], y.iloc[val_idx]\n",
    "\n",
    "    # 모델 정의\n",
    "    cat_model = CatBoostClassifier(\n",
    "        iterations=745, learning_rate=0.038577, depth=8, l2_leaf_reg=9.587765,subsample=0.748324, random_strength=0.0,\n",
    "        min_data_in_leaf=59, leaf_estimation_iterations=1, loss_function='Logloss', eval_metric='AUC', verbose=100, random_seed=123\n",
    "    )\n",
    "\n",
    "\n",
    "    # 모델 학습\n",
    "    for model in [cat_model]: # ensemble_model\n",
    "        model.fit(X_train, y_train)\n",
    "\n",
    "    # 평가 함수\n",
    "    def evaluate_model(model, X_val, y_true):\n",
    "        y_pred = model.predict(X_val)\n",
    "        y_pred_proba = model.predict_proba(X_val)[:, 1]\n",
    "\n",
    "        y_pred_proba = np.where(X_val['시술 당시 나이'] == 6, 0, y_pred_proba)\n",
    "\n",
    "        return {\n",
    "            'Accuracy': accuracy_score(y_true, y_pred),\n",
    "            'Precision': precision_score(y_true, y_pred),\n",
    "            'Recall': recall_score(y_true, y_pred),\n",
    "            'F1 Score': f1_score(y_true, y_pred),\n",
    "            'ROC AUC Score': roc_auc_score(y_true, y_pred_proba)\n",
    "        }\n",
    "\n",
    "    # 평가 및 변수 중요도 저장\n",
    "    for model_name, model in zip(metrics.keys(), [cat_model]): # ensemble_model\n",
    "        metrics[model_name].append(evaluate_model(model, X_val, y_val))\n",
    "\n",
    "    for model_name, model in zip(['CatBoost'], [cat_model]):\n",
    "        feature_importances[model_name].append(model.feature_importances_)\n",
    "\n",
    "    y_test_proba = cat_model.predict_proba(X_test)[:, 1]\n",
    "    y_test_proba = np.where(X_test['시술 당시 나이'] == 6, 0, y_test_proba)\n",
    "    # 테스트 데이터 예측 확률 저장\n",
    "    test_proba['CatBoost'].append(y_test_proba)"
   ]
  },
  {
   "cell_type": "code",
   "execution_count": 28,
   "metadata": {},
   "outputs": [
    {
     "name": "stdout",
     "output_type": "stream",
     "text": [
      "===== Val ROC AUC 기준 가중치 적용 =====\n",
      "===== Stratified K-Fold 평균 성능 =====\n",
      "\n",
      "== CatBoost Model ==\n",
      "Fold weights: [0.1995821322687741, 0.2000959138286657, 0.1998887843986564, 0.20008561826298119, 0.20034755124092254]\n",
      "Accuracy: 0.746250\n",
      "Precision: 0.540034\n",
      "Recall: 0.120220\n",
      "F1 Score: 0.196651\n",
      "ROC AUC Score: 0.740274\n"
     ]
    }
   ],
   "source": [
    "# Val ROC AUC 기준 가중치 적용\n",
    "print(\"===== Val ROC AUC 기준 가중치 적용 =====\")\n",
    "print(\"===== Stratified K-Fold 평균 성능 =====\")\n",
    "for model_name, model_metrics in metrics.items():\n",
    "    # 모든 fold의 ROC AUC 점수 합계 계산\n",
    "    total_val_auc = sum(fold_metric['ROC AUC Score'] for fold_metric in model_metrics)\n",
    "    \n",
    "    # 각 fold의 가중치 계산\n",
    "    fold_weights = [fold_metric['ROC AUC Score'] / total_val_auc for fold_metric in model_metrics]\n",
    "    \n",
    "    # 각 metric별 가중 평균 계산\n",
    "    weighted_avg_metrics = {\n",
    "        metric: sum((fold_metric['ROC AUC Score'] / total_val_auc) * fold_metric[metric]\n",
    "                    for fold_metric in model_metrics)\n",
    "        for metric in model_metrics[0]\n",
    "    }\n",
    "    \n",
    "    print(f\"\\n== {model_name} Model ==\")\n",
    "    print(\"Fold weights:\", fold_weights)\n",
    "    for metric, value in weighted_avg_metrics.items():\n",
    "        print(f\"{metric}: {value:.6f}\")"
   ]
  },
  {
   "cell_type": "code",
   "execution_count": 29,
   "metadata": {},
   "outputs": [
    {
     "name": "stdout",
     "output_type": "stream",
     "text": [
      "===== Val ROC AUC 계산 후 Softmax 변환 (정규화)  =====\n",
      "===== Stratified K-Fold 평균 성능 =====\n",
      "\n",
      "== CatBoost Model ==\n",
      "Fold weights: [0.1938736143400048, 0.20138939132092226, 0.19832499709954313, 0.2012359604106853, 0.20517603682884436]\n",
      "Accuracy: 0.746242\n",
      "Precision: 0.539966\n",
      "Recall: 0.120210\n",
      "F1 Score: 0.196633\n",
      "ROC AUC Score: 0.740290\n"
     ]
    }
   ],
   "source": [
    "# Val ROC AUC 계산 후 Softmax 변환 (정규화) \n",
    "print(\"===== Val ROC AUC 계산 후 Softmax 변환 (정규화)  =====\")\n",
    "print(\"===== Stratified K-Fold 평균 성능 =====\")\n",
    "T = 0.05 # T가 작을수록 차이가 더 극대화됨\n",
    "\n",
    "for model_name, model_metrics in metrics.items():\n",
    "    roc_auc_scores = np.array([fold_metric['ROC AUC Score'] for fold_metric in model_metrics])\n",
    "    \n",
    "    # Softmax 변환 적용: 지수 함수를 통해 가중치를 계산하고 정규화\n",
    "    exp_scores = np.exp(roc_auc_scores / T)\n",
    "    total_exp = np.sum(exp_scores)\n",
    "    fold_weights = exp_scores / total_exp\n",
    "    \n",
    "    # 각 metric별 가중 평균 계산\n",
    "    weighted_avg_metrics = {\n",
    "        metric: sum(fw * fold_metric[metric] for fw, fold_metric in zip(fold_weights, model_metrics))\n",
    "        for metric in model_metrics[0]\n",
    "    }\n",
    "    \n",
    "    print(f\"\\n== {model_name} Model ==\")\n",
    "    print(\"Fold weights:\", fold_weights.tolist())\n",
    "    for metric, value in weighted_avg_metrics.items():\n",
    "        print(f\"{metric}: {value:.6f}\")"
   ]
  },
  {
   "cell_type": "code",
   "execution_count": 30,
   "metadata": {
    "scrolled": true
   },
   "outputs": [
    {
     "name": "stdout",
     "output_type": "stream",
     "text": [
      "                   Feature  CatBoost\n",
      "0          배아 이식 대비 출산 성공률    25.716\n",
      "1                 이식된 배아 수    23.156\n",
      "2          이식된 배아 대비 이식 기간     8.677\n",
      "3                 시술 당시 나이     8.197\n",
      "4                 배아 저장 비율     3.273\n",
      "5   경과일 차이 - 난자 혼합 * 배아 이식     2.895\n",
      "6          배아 이식 대비 임신 성공률     2.115\n",
      "7                 배아 이식 확률     1.885\n",
      "8               총 배아 생성 확률     1.755\n",
      "9                 시술 시기 코드     1.596\n",
      "10               총 생성 배아 수     1.350\n",
      "11        IVF 시술 대비 임신 성공률     1.126\n",
      "12                   난자 출처     1.104\n",
      "13           클리닉 내 총 시술 횟수     0.942\n",
      "14                저장된 배아 수     0.940\n",
      "15           미세주입 배아 생성 확률     0.905\n",
      "16               난자 채취 경과일     0.717\n",
      "17                  총 난자 수     0.698\n",
      "18         시술 대비 임신 성공률_전체     0.697\n",
      "19               배아 이식 경과일     0.658\n"
     ]
    }
   ],
   "source": [
    "# 최종 변수 중요도 평균 계산\n",
    "df_fi_list = []\n",
    "for model_name, fi_list in feature_importances.items():\n",
    "    avg_importance = np.mean(fi_list, axis=0)\n",
    "    df_fi = pd.DataFrame({\n",
    "        'Feature': X_train.columns,\n",
    "        model_name: avg_importance \n",
    "    })\n",
    "    df_fi = df_fi.sort_values(by=model_name, ascending=False).reset_index(drop=True)\n",
    "    df_fi_list.append(df_fi)\n",
    "    \n",
    "df_fi_final = pd.concat(df_fi_list, axis=1)\n",
    "print(df_fi_final.round(3)[:20])"
   ]
  },
  {
   "cell_type": "code",
   "execution_count": 31,
   "metadata": {
    "scrolled": true
   },
   "outputs": [
    {
     "name": "stdout",
     "output_type": "stream",
     "text": [
      "임신 성공 여부                  1.000000\n",
      "배아 이식 대비 임신 성공률           0.239867\n",
      "배아 이식 대비 출산 성공률           0.239861\n",
      "이식된 배아 대비 이식 기간           0.239224\n",
      "경과일 차이 - 난자 혼합 * 배아 이식    0.176005\n",
      "배아 이식 경과일                 0.175869\n",
      "경과일 합                     0.173727\n",
      "이식된 배아 수                  0.161080\n",
      "총 배아 수                    0.156188\n",
      "시술 당시 나이                  0.151635\n",
      "총 생성 배아 수                 0.151343\n",
      "단일 배아 이식 여부               0.139127\n",
      "배아 이식 확률                  0.138464\n",
      "배란자극 * 단일이식               0.137126\n",
      "바이너리 합                    0.123613\n",
      "혼합된 난자 수                  0.122375\n",
      "배아 이유 - 현재 시술용            0.116305\n",
      "파트너 정자와 혼합된 난자 수          0.111067\n",
      "미세주입에서 생성된 배아 수           0.095394\n",
      "총 난자 수                    0.090106\n",
      "Name: 임신 성공 여부, dtype: float64\n"
     ]
    }
   ],
   "source": [
    "print(abs(df_train.corr()['임신 성공 여부']).sort_values(ascending=False)[:20])"
   ]
  },
  {
   "cell_type": "code",
   "execution_count": 32,
   "metadata": {
    "scrolled": true
   },
   "outputs": [],
   "source": [
    "# # catboost 기준 변수 중요도 0.05 미만 변수 제거\n",
    "# df_cat = df_fi_final.iloc[:, :2]\n",
    "# df_selected = df_cat[df_cat['CatBoost'] > 0.05]\n",
    "# selected_features = df_selected['Feature'].tolist()\n",
    "\n",
    "# # 중요도가 높은 피처만 선택하여 새로운 데이터 생성\n",
    "# X = X[selected_features]\n",
    "# X_test = X_test[selected_features]"
   ]
  },
  {
   "cell_type": "markdown",
   "metadata": {},
   "source": [
    "### Re-modeling"
   ]
  },
  {
   "cell_type": "code",
   "execution_count": 33,
   "metadata": {
    "scrolled": true
   },
   "outputs": [],
   "source": [
    "# # Stratified K-Fold 설정\n",
    "# n_splits = 5\n",
    "# skf = StratifiedKFold(n_splits=n_splits, shuffle=True, random_state=123)\n",
    "\n",
    "# metrics = {model: [] for model in ['CatBoost']} # Ensemble\n",
    "# feature_importances = {model: [] for model in ['CatBoost']}\n",
    "# test_proba = {model: [] for model in ['CatBoost']} # Ensemble\n",
    "\n",
    "# # metrics = {model: [] for model in ['CatBoost', 'XGBoost', 'LightGBM', 'AdaBoost']} # Ensemble\n",
    "# # feature_importances = {model: [] for model in ['CatBoost', 'XGBoost', 'LightGBM', 'AdaBoost']}\n",
    "# # test_proba = {model: [] for model in ['CatBoost', 'XGBoost', 'LightGBM', 'AdaBoost']} # Ensemble\n",
    "\n",
    "# for fold, (train_idx, val_idx) in enumerate(skf.split(X, y), 1):\n",
    "#     print(f\"===== Fold {fold} =====\")\n",
    "\n",
    "#     X_train, X_val = X.iloc[train_idx], X.iloc[val_idx]\n",
    "#     y_train, y_val = y.iloc[train_idx], y.iloc[val_idx]\n",
    "\n",
    "#     # 모델 정의\n",
    "#     cat_model = CatBoostClassifier(\n",
    "#     iterations=745, \n",
    "#     learning_rate=0.038577, \n",
    "#     depth=8, \n",
    "#     l2_leaf_reg=9.587765,\n",
    "#     subsample=0.748324, \n",
    "#     random_strength=0.0,  # 0으로 설정\n",
    "#     min_data_in_leaf=59, \n",
    "#     leaf_estimation_iterations=1, \n",
    "#     loss_function='Logloss', \n",
    "#     eval_metric='AUC', \n",
    "#     verbose=100, \n",
    "#     random_seed=123)\n",
    "\n",
    "#     # xgb_model = XGBClassifier(\n",
    "#     #     n_estimators=700, learning_rate=0.03, max_depth=7, min_child_weight=3,\n",
    "#     #     gamma=0.1, subsample=0.8, colsample_bytree=0.8, reg_alpha=0.1,\n",
    "#     #     reg_lambda=1.0, verbosity=1, random_state=123\n",
    "#     # )\n",
    "\n",
    "#     # lgbm_model = LGBMClassifier(\n",
    "#     #     n_estimators=700, learning_rate=0.03, max_depth=-1, num_leaves=64,\n",
    "#     #     min_child_samples=20, subsample=0.8, colsample_bytree=0.8,\n",
    "#     #     reg_alpha=0.1, reg_lambda=1.0, verbosity=1, random_state=123\n",
    "#     # )\n",
    "    \n",
    "#     # adaboost_model = AdaBoostClassifier(\n",
    "#     #     estimator=DecisionTreeClassifier(max_depth=2, min_samples_split=10, min_samples_leaf=5, random_state=123),\n",
    "#     #     n_estimators=500, learning_rate=0.05,\n",
    "#     #     algorithm=\"SAMME\", random_state=123\n",
    "#     # )\n",
    "    \n",
    "# #     ensemble_model = VotingClassifier(\n",
    "# #         estimators=[('catboost', cat_model), ('xgboost', xgb_model), ('lightgbm', lgbm_model), ('adaboost', adaboost_model)],\n",
    "# #         voting='soft', weights=[1, 1, 1, 0.8]\n",
    "# #     )\n",
    "\n",
    "\n",
    "#     # 모델 학습\n",
    "#     for model in [cat_model]: # ensemble_model\n",
    "# #     for model in [cat_model, xgb_model, lgbm_model, adaboost_model]: # ensemble_model\n",
    "#         model.fit(X_train, y_train)\n",
    "\n",
    "#     # 평가 함수\n",
    "#     def evaluate_model(model, X_val, y_true):\n",
    "#         y_pred = model.predict(X_val)\n",
    "#         y_pred_proba = model.predict_proba(X_val)[:, 1]\n",
    "        \n",
    "#         # X_val의 이식된 배아 수가 0이면 y_pred_proba가 0이 되게 함\n",
    "#         y_pred_proba = np.where(X_val['이식된 배아 수'] == 0, 0, y_pred_proba)\n",
    "\n",
    "#         return {\n",
    "#             'Accuracy': accuracy_score(y_true, y_pred),\n",
    "#             'Precision': precision_score(y_true, y_pred),\n",
    "#             'Recall': recall_score(y_true, y_pred),\n",
    "#             'F1 Score': f1_score(y_true, y_pred),\n",
    "#             'ROC AUC Score': roc_auc_score(y_true, y_pred_proba)\n",
    "#         }\n",
    "\n",
    "#     # 평가 및 변수 중요도 저장\n",
    "#     for model_name, model in zip(metrics.keys(), [cat_model]): # ensemble_model\n",
    "#         metrics[model_name].append(evaluate_model(model, X_val, y_val))\n",
    "\n",
    "#     for model_name, model in zip(['CatBoost'], [cat_model]):\n",
    "#         feature_importances[model_name].append(model.feature_importances_)\n",
    "        \n",
    "#     # 테스트 데이터 예측 확률 저장\n",
    "#     # [ADD] 이식된 배아 수가 0이면 0으로 예측하도록 함.\n",
    "#     y_test_proba = cat_model.predict_proba(X_test)[:, 1]\n",
    "#     y_test_proba = np.where(X_test['이식된 배아 수'] == 0, 0, y_test_proba)\n",
    "    \n",
    "#     test_proba['CatBoost'].append(y_test_proba)\n",
    "# #     test_proba['XGBoost'].append(xgb_model.predict_proba(X_test)[:, 1])\n",
    "# #     test_proba['LightGBM'].append(lgbm_model.predict_proba(X_test)[:, 1])\n",
    "# #     test_proba['AdaBoost'].append(adaboost_model.predict_proba(X_test)[:, 1])\n",
    "# #     test_proba['Ensemble'].append(ensemble_model.predict_proba(X_test)[:, 1])"
   ]
  },
  {
   "cell_type": "code",
   "execution_count": 34,
   "metadata": {},
   "outputs": [],
   "source": [
    "# # 평가 지표 평균 출력\n",
    "# print(\"===== Stratified K-Fold 평균 성능 =====\")\n",
    "# for model_name, model_metrics in metrics.items():\n",
    "#     avg_metrics = {metric: np.mean([fold_metric[metric] for fold_metric in model_metrics]) for metric in model_metrics[0]}\n",
    "    \n",
    "#     print(f\"\\n== {model_name} Model ==\")\n",
    "#     for metric, value in avg_metrics.items():\n",
    "#         print(f\"{metric}: {value:.6f}\")"
   ]
  },
  {
   "cell_type": "markdown",
   "metadata": {},
   "source": [
    "### Prediction"
   ]
  },
  {
   "cell_type": "code",
   "execution_count": 35,
   "metadata": {
    "scrolled": true
   },
   "outputs": [],
   "source": [
    "# # Best AUC 기록한 모델의 pred_proba로 선택\n",
    "# pred_proba = np.mean(test_proba['CatBoost'], axis=0)\n",
    "# # pred_proba = np.mean(test_proba['XGBoost'], axis=0)\n",
    "# # pred_proba = np.mean(test_proba['LightGBM'], axis=0)\n",
    "# # pred_proba = np.mean(test_proba['AdaBoost'], axis=0)\n",
    "# # pred_proba = np.mean(test_proba['Ensemble'], axis=0)"
   ]
  },
  {
   "cell_type": "code",
   "execution_count": 36,
   "metadata": {},
   "outputs": [],
   "source": [
    "# Fold별 Val ROC AUC 기준 가중치 적용한 pred_proba\n",
    "model = 'CatBoost'\n",
    "roc_auc_scores = np.array([fold_metrics['ROC AUC Score'] for fold_metrics in metrics[model]])\n",
    "weights = roc_auc_scores / np.sum(roc_auc_scores)  # 합이 1이 되도록 정규화\n",
    "test_proba_array = np.array(test_proba[model])\n",
    "pred_proba = np.average(test_proba_array, axis=0, weights=fold_weights) # fold_weights: 정규화된 가중치"
   ]
  },
  {
   "cell_type": "markdown",
   "metadata": {},
   "source": [
    "### Submission"
   ]
  },
  {
   "cell_type": "code",
   "execution_count": 37,
   "metadata": {},
   "outputs": [
    {
     "data": {
      "text/html": [
       "<div>\n",
       "<style scoped>\n",
       "    .dataframe tbody tr th:only-of-type {\n",
       "        vertical-align: middle;\n",
       "    }\n",
       "\n",
       "    .dataframe tbody tr th {\n",
       "        vertical-align: top;\n",
       "    }\n",
       "\n",
       "    .dataframe thead th {\n",
       "        text-align: right;\n",
       "    }\n",
       "</style>\n",
       "<table border=\"1\" class=\"dataframe\">\n",
       "  <thead>\n",
       "    <tr style=\"text-align: right;\">\n",
       "      <th></th>\n",
       "      <th>ID</th>\n",
       "      <th>probability</th>\n",
       "    </tr>\n",
       "  </thead>\n",
       "  <tbody>\n",
       "    <tr>\n",
       "      <th>0</th>\n",
       "      <td>TEST_00000</td>\n",
       "      <td>0.0</td>\n",
       "    </tr>\n",
       "    <tr>\n",
       "      <th>1</th>\n",
       "      <td>TEST_00001</td>\n",
       "      <td>0.0</td>\n",
       "    </tr>\n",
       "    <tr>\n",
       "      <th>2</th>\n",
       "      <td>TEST_00002</td>\n",
       "      <td>0.0</td>\n",
       "    </tr>\n",
       "    <tr>\n",
       "      <th>3</th>\n",
       "      <td>TEST_00003</td>\n",
       "      <td>0.0</td>\n",
       "    </tr>\n",
       "    <tr>\n",
       "      <th>4</th>\n",
       "      <td>TEST_00004</td>\n",
       "      <td>0.0</td>\n",
       "    </tr>\n",
       "  </tbody>\n",
       "</table>\n",
       "</div>"
      ],
      "text/plain": [
       "           ID  probability\n",
       "0  TEST_00000          0.0\n",
       "1  TEST_00001          0.0\n",
       "2  TEST_00002          0.0\n",
       "3  TEST_00003          0.0\n",
       "4  TEST_00004          0.0"
      ]
     },
     "execution_count": 37,
     "metadata": {},
     "output_type": "execute_result"
    }
   ],
   "source": [
    "# sample_submission = pd.read_csv('data/sample_submission.csv')\n",
    "# sample_submission.head()\n",
    "\n",
    "sample_submission = pd.read_csv(os.getenv('SUBMISSION_DATA_PATH'))\n",
    "sample_submission.head()"
   ]
  },
  {
   "cell_type": "code",
   "execution_count": 38,
   "metadata": {},
   "outputs": [
    {
     "data": {
      "text/html": [
       "<div>\n",
       "<style scoped>\n",
       "    .dataframe tbody tr th:only-of-type {\n",
       "        vertical-align: middle;\n",
       "    }\n",
       "\n",
       "    .dataframe tbody tr th {\n",
       "        vertical-align: top;\n",
       "    }\n",
       "\n",
       "    .dataframe thead th {\n",
       "        text-align: right;\n",
       "    }\n",
       "</style>\n",
       "<table border=\"1\" class=\"dataframe\">\n",
       "  <thead>\n",
       "    <tr style=\"text-align: right;\">\n",
       "      <th></th>\n",
       "      <th>ID</th>\n",
       "      <th>probability</th>\n",
       "    </tr>\n",
       "  </thead>\n",
       "  <tbody>\n",
       "    <tr>\n",
       "      <th>0</th>\n",
       "      <td>TEST_00000</td>\n",
       "      <td>0.002470</td>\n",
       "    </tr>\n",
       "    <tr>\n",
       "      <th>1</th>\n",
       "      <td>TEST_00001</td>\n",
       "      <td>0.003691</td>\n",
       "    </tr>\n",
       "    <tr>\n",
       "      <th>2</th>\n",
       "      <td>TEST_00002</td>\n",
       "      <td>0.144988</td>\n",
       "    </tr>\n",
       "    <tr>\n",
       "      <th>3</th>\n",
       "      <td>TEST_00003</td>\n",
       "      <td>0.117381</td>\n",
       "    </tr>\n",
       "    <tr>\n",
       "      <th>4</th>\n",
       "      <td>TEST_00004</td>\n",
       "      <td>0.491083</td>\n",
       "    </tr>\n",
       "  </tbody>\n",
       "</table>\n",
       "</div>"
      ],
      "text/plain": [
       "           ID  probability\n",
       "0  TEST_00000     0.002470\n",
       "1  TEST_00001     0.003691\n",
       "2  TEST_00002     0.144988\n",
       "3  TEST_00003     0.117381\n",
       "4  TEST_00004     0.491083"
      ]
     },
     "execution_count": 38,
     "metadata": {},
     "output_type": "execute_result"
    }
   ],
   "source": [
    "# sample_submission['probability'] = pred_proba\n",
    "# # 저장\n",
    "# sample_submission.to_csv('data/submission.csv', index=False)\n",
    "# sample_submission.head()\n",
    "\n",
    "sample_submission['probability'] = pred_proba\n",
    "# 저장\n",
    "import datetime \n",
    "now = datetime.datetime.now()\n",
    "save_path = os.path.join(f'./log/submission/{now.strftime(\"%Y%m%d_%H%M%S\")}_{weighted_avg_metrics[\"ROC AUC Score\"]:.5f}_eiden.csv')\n",
    "sample_submission.to_csv(save_path, index=False)\n",
    "sample_submission.head()"
   ]
  },
  {
   "cell_type": "code",
   "execution_count": 39,
   "metadata": {},
   "outputs": [
    {
     "data": {
      "text/html": [
       "<div>\n",
       "<style scoped>\n",
       "    .dataframe tbody tr th:only-of-type {\n",
       "        vertical-align: middle;\n",
       "    }\n",
       "\n",
       "    .dataframe tbody tr th {\n",
       "        vertical-align: top;\n",
       "    }\n",
       "\n",
       "    .dataframe thead th {\n",
       "        text-align: right;\n",
       "    }\n",
       "</style>\n",
       "<table border=\"1\" class=\"dataframe\">\n",
       "  <thead>\n",
       "    <tr style=\"text-align: right;\">\n",
       "      <th></th>\n",
       "      <th>ID</th>\n",
       "      <th>probability</th>\n",
       "    </tr>\n",
       "  </thead>\n",
       "  <tbody>\n",
       "    <tr>\n",
       "      <th>0</th>\n",
       "      <td>TEST_00000</td>\n",
       "      <td>0.002470</td>\n",
       "    </tr>\n",
       "    <tr>\n",
       "      <th>1</th>\n",
       "      <td>TEST_00001</td>\n",
       "      <td>0.003691</td>\n",
       "    </tr>\n",
       "    <tr>\n",
       "      <th>2</th>\n",
       "      <td>TEST_00002</td>\n",
       "      <td>0.144988</td>\n",
       "    </tr>\n",
       "    <tr>\n",
       "      <th>3</th>\n",
       "      <td>TEST_00003</td>\n",
       "      <td>0.117381</td>\n",
       "    </tr>\n",
       "    <tr>\n",
       "      <th>4</th>\n",
       "      <td>TEST_00004</td>\n",
       "      <td>0.491083</td>\n",
       "    </tr>\n",
       "  </tbody>\n",
       "</table>\n",
       "</div>"
      ],
      "text/plain": [
       "           ID  probability\n",
       "0  TEST_00000     0.002470\n",
       "1  TEST_00001     0.003691\n",
       "2  TEST_00002     0.144988\n",
       "3  TEST_00003     0.117381\n",
       "4  TEST_00004     0.491083"
      ]
     },
     "execution_count": 39,
     "metadata": {},
     "output_type": "execute_result"
    }
   ],
   "source": [
    "# 확인용\n",
    "submission = pd.read_csv(save_path)\n",
    "submission.head()"
   ]
  }
 ],
 "metadata": {
  "kernelspec": {
   "display_name": "Python 3",
   "language": "python",
   "name": "python3"
  },
  "language_info": {
   "codemirror_mode": {
    "name": "ipython",
    "version": 3
   },
   "file_extension": ".py",
   "mimetype": "text/x-python",
   "name": "python",
   "nbconvert_exporter": "python",
   "pygments_lexer": "ipython3",
   "version": "3.8.10"
  }
 },
 "nbformat": 4,
 "nbformat_minor": 4
}
