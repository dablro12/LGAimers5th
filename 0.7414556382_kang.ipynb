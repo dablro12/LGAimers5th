{
 "cells": [
  {
   "cell_type": "markdown",
   "metadata": {},
   "source": [
    "### Libraries"
   ]
  },
  {
   "cell_type": "code",
   "execution_count": 1,
   "metadata": {},
   "outputs": [],
   "source": [
    "import numpy as np\n",
    "import pandas as pd\n",
    "import warnings\n",
    "\n",
    "from catboost import CatBoostClassifier\n",
    "from xgboost import XGBClassifier\n",
    "from lightgbm import LGBMClassifier\n",
    "from sklearn.model_selection import train_test_split, StratifiedKFold\n",
    "from sklearn.preprocessing import LabelEncoder, StandardScaler, MinMaxScaler\n",
    "from sklearn.ensemble import VotingClassifier, AdaBoostClassifier\n",
    "from sklearn.tree import DecisionTreeClassifier\n",
    "from sklearn.metrics import accuracy_score, precision_score, recall_score, f1_score, roc_auc_score, confusion_matrix"
   ]
  },
  {
   "cell_type": "code",
   "execution_count": 2,
   "metadata": {},
   "outputs": [],
   "source": [
    "warnings.filterwarnings(\"ignore\")\n",
    "\n",
    "# 한글 처리\n",
    "import matplotlib.pyplot as plt\n",
    "import matplotlib.font_manager as fm\n",
    "\n",
    "# 한글 폰트 경로 설정\n",
    "font_path = '/usr/share/fonts/truetype/nanum/NanumBarunGothic.ttf'\n",
    "\n",
    "# 폰트 이름 얻어오기\n",
    "font_name = fm.FontProperties(fname=font_path).get_name()\n",
    "\n",
    "# 폰트 설정\n",
    "plt.rcParams['font.family'] = font_name\n"
   ]
  },
  {
   "cell_type": "markdown",
   "metadata": {},
   "source": [
    "### Load data"
   ]
  },
  {
   "cell_type": "code",
   "execution_count": 3,
   "metadata": {},
   "outputs": [],
   "source": [
    "from dotenv import load_dotenv\n",
    "import os \n",
    "load_dotenv()\n",
    "df_train = pd.read_csv(os.getenv('TRAIN_DATA_PATH')).drop(columns=['ID'])\n",
    "df_test = pd.read_csv(os.getenv('TEST_DATA_PATH')).drop(columns=['ID'])\n",
    "\n",
    "df_train.head(8).to_csv('train_sample.csv', encoding = 'utf-8-sig', index = False)\n",
    "\n",
    "# df_train = pd.read_csv('data/train.csv').drop(columns=['ID'])\n",
    "# df_test = pd.read_csv('data/test.csv').drop(columns=['ID'])"
   ]
  },
  {
   "cell_type": "code",
   "execution_count": 4,
   "metadata": {},
   "outputs": [],
   "source": [
    "# print(df_train.shape)\n",
    "# df_train.head(2)"
   ]
  },
  {
   "cell_type": "code",
   "execution_count": 5,
   "metadata": {},
   "outputs": [],
   "source": [
    "# print(df_test.shape)\n",
    "# df_test.head(2)"
   ]
  },
  {
   "cell_type": "markdown",
   "metadata": {},
   "source": [
    "### Preprocessing"
   ]
  },
  {
   "cell_type": "markdown",
   "metadata": {},
   "source": [
    "#### 컬럼 제거"
   ]
  },
  {
   "cell_type": "code",
   "execution_count": 6,
   "metadata": {},
   "outputs": [
    {
     "name": "stdout",
     "output_type": "stream",
     "text": [
      "제거된 컬럼 개수: 9\n",
      "제거된 컬럼: ['PGS 시술 여부', 'PGD 시술 여부', '착상 전 유전 검사 사용 여부', '배아 해동 경과일', '난자 해동 경과일', '난자 채취 경과일', '불임 원인 - 여성 요인', '배란 유도 유형', '임신 시도 또는 마지막 임신 경과 연수']\n",
      "df_train.shape: (256351, 59)\n",
      "df_test.shape: (90067, 58)\n"
     ]
    }
   ],
   "source": [
    "# 결측 비율 80% 이상 제거\n",
    "missing_ratio = df_train.isnull().mean()\n",
    "column_missing = missing_ratio[missing_ratio >= 0.8].index.tolist()\n",
    "\n",
    "# nunique = 1 제거 \n",
    "unique_counts = df_train.nunique()\n",
    "column_nunique = unique_counts[unique_counts == 1].index.tolist()\n",
    "\n",
    "# 컬럼 제거\n",
    "dropped_columns = list(set(column_missing + column_nunique + ['배란 유도 유형']))\n",
    "\n",
    "df_train = df_train.drop(columns=dropped_columns)\n",
    "df_test = df_test.drop(columns=dropped_columns)\n",
    "\n",
    "print(\"제거된 컬럼 개수:\", len(dropped_columns))\n",
    "print(\"제거된 컬럼:\", dropped_columns)\n",
    "print(\"df_train.shape:\", df_train.shape)\n",
    "print(\"df_test.shape:\", df_test.shape)"
   ]
  },
  {
   "cell_type": "markdown",
   "metadata": {},
   "source": [
    "#### 29-38. astype(int)"
   ]
  },
  {
   "cell_type": "code",
   "execution_count": 7,
   "metadata": {},
   "outputs": [
    {
     "name": "stdout",
     "output_type": "stream",
     "text": [
      "변환된 컬럼: ['총 시술 횟수', '클리닉 내 총 시술 횟수', 'IVF 시술 횟수', 'DI 시술 횟수', '총 임신 횟수', 'IVF 임신 횟수', 'DI 임신 횟수', '총 출산 횟수', 'IVF 출산 횟수', 'DI 출산 횟수']\n"
     ]
    }
   ],
   "source": [
    "# '횟수'를 포함하는 컬럼 찾기\n",
    "count_columns = [col for col in df_train.columns if '횟수' in col]\n",
    "\n",
    "def extract_number(value):\n",
    "    if isinstance(value, str):\n",
    "        return int(value[0])  # 맨 앞자리 숫자로 변환\n",
    "    return value\n",
    "\n",
    "for col in count_columns:\n",
    "    df_train[col] = df_train[col].apply(extract_number).astype(int)\n",
    "    df_test[col] = df_test[col].apply(extract_number).astype(int)\n",
    "print(\"변환된 컬럼:\", count_columns)"
   ]
  },
  {
   "cell_type": "markdown",
   "metadata": {},
   "source": [
    "#### 29,31,32. 총 시술 횟수 재정의"
   ]
  },
  {
   "cell_type": "code",
   "execution_count": 8,
   "metadata": {},
   "outputs": [],
   "source": [
    "# 총 시술 횟수 재정의\n",
    "def update_total_counts(df):\n",
    "    df['총 시술 횟수'] = df['IVF 시술 횟수'] + df['DI 시술 횟수']\n",
    "    df['총 임신 횟수'] = df['IVF 임신 횟수'] + df['DI 임신 횟수']\n",
    "    df['총 출산 횟수'] = df['IVF 출산 횟수'] + df['DI 출산 횟수']\n",
    "    return df\n",
    "\n",
    "df_train = update_total_counts(df_train)\n",
    "df_test = update_total_counts(df_test)"
   ]
  },
  {
   "cell_type": "markdown",
   "metadata": {},
   "source": [
    "#### 2. 55-56. 나이"
   ]
  },
  {
   "cell_type": "code",
   "execution_count": 9,
   "metadata": {},
   "outputs": [],
   "source": [
    "# 중앙값으로 나이 변환\n",
    "def mapping_age(df, column, age):\n",
    "    df[column] = df[column].map(age)\n",
    "    return df\n",
    "\n",
    "patient_age = {\n",
    "    '만18-34세': 26,  \n",
    "    '만35-37세': 36,  \n",
    "    '만38-39세': 38.5,  \n",
    "    '만40-42세': 41,  \n",
    "    '만43-44세': 43.5,  \n",
    "    '만45-50세': 47.5,  \n",
    "#     '알 수 없음': (38.5 + 41) / 2  # value_counts = 329 / 999 or 0 or np.nan or 중앙값으로 대체\n",
    "    '알 수 없음': 999\n",
    "}\n",
    "\n",
    "egg_age = {\n",
    "    '만20세 이하': 18,  \n",
    "    '만21-25세': 23,  \n",
    "    '만26-30세': 28,  \n",
    "    '만31-35세': 33,  \n",
    "#     '알 수 없음': (23 + 28) / 2\n",
    "    '알 수 없음': 999\n",
    "}\n",
    "\n",
    "sperm_age = {\n",
    "    '만20세 이하': 18,  \n",
    "    '만21-25세': 23,  \n",
    "    '만26-30세': 28,  \n",
    "    '만31-35세': 33,  \n",
    "    '만36-40세': 38,  \n",
    "    '만41-45세': 43,  \n",
    "#     '알 수 없음': (28 + 33) / 2\n",
    "    '알 수 없음': 999\n",
    "}\n",
    "\n",
    "df_train = mapping_age(df_train, '시술 당시 나이', patient_age)\n",
    "df_test = mapping_age(df_test, '시술 당시 나이', patient_age)\n",
    "df_train = mapping_age(df_train, '난자 기증자 나이', egg_age)\n",
    "df_test = mapping_age(df_test, '난자 기증자 나이', egg_age)\n",
    "df_train = mapping_age(df_train, '정자 기증자 나이', sperm_age)\n",
    "df_test = mapping_age(df_test, '정자 기증자 나이', sperm_age)"
   ]
  },
  {
   "cell_type": "markdown",
   "metadata": {},
   "source": [
    "#### 5. 특정 시술 유형 > One-hot encoding / 추가 시술 여부 컬럼 생성"
   ]
  },
  {
   "cell_type": "code",
   "execution_count": 10,
   "metadata": {
    "scrolled": true
   },
   "outputs": [],
   "source": [
    "# def add_trt(df):\n",
    "#     types = ['IVF', 'ICSI', 'IUI', 'ICI', 'GIFT', 'FER', 'Generic DI', 'IVI', 'BLASTOCYST', 'AH', 'Unknown']\n",
    "#     df['추가 시술 여부'] = df['특정 시술 유형'].apply(lambda x: 1 if sum(t in str(x) for t in types) >= 2 else 0)\n",
    "    \n",
    "#     return df\n",
    "\n",
    "# df_train = add_trt(df_train)\n",
    "# df_test = add_trt(df_test)"
   ]
  },
  {
   "cell_type": "code",
   "execution_count": 11,
   "metadata": {},
   "outputs": [],
   "source": [
    "def ICSI_check(df):\n",
    "    df['특정 시술 유형 - ICSI'] = np.where(df['시술 유형'] != 'IVF', -1,  # 시술 유형이 DI\n",
    "                             np.where(df['특정 시술 유형'].str.contains('ICSI', na=False), 2, 1))\n",
    "\n",
    "    df = df.drop(columns=['특정 시술 유형'])\n",
    "    \n",
    "    return df\n",
    "\n",
    "df_train = ICSI_check(df_train)\n",
    "df_test = ICSI_check(df_test)"
   ]
  },
  {
   "cell_type": "markdown",
   "metadata": {},
   "source": [
    "#### 28. 배아 생성 주요 이유: 기증용, 난자 저장용, 배아 저장용, 연구용, 현재 시술용"
   ]
  },
  {
   "cell_type": "code",
   "execution_count": 12,
   "metadata": {},
   "outputs": [],
   "source": [
    "def get_dummies(df):\n",
    "#     df['배아 생성 주요 이유 - 현재 시술용'] = np.where(df['시술 유형'] != 'IVF', -1, \n",
    "#                              np.where(df['배아 생성 주요 이유'].str.contains('현재 시술용', na=False), 2, 1))\n",
    "    \n",
    "    df = df.drop(columns=['배아 생성 주요 이유'])\n",
    "    \n",
    "    return df\n",
    "\n",
    "df_train = get_dummies(df_train)\n",
    "df_test = get_dummies(df_test)"
   ]
  },
  {
   "cell_type": "markdown",
   "metadata": {},
   "source": [
    "#### 남성/여성/부부 주/부 불임 원인 제거"
   ]
  },
  {
   "cell_type": "code",
   "execution_count": 13,
   "metadata": {},
   "outputs": [],
   "source": [
    "# # 남성, 여성, 부부의 불임 원인 통합 (주, 부)\n",
    "# def infertility_cause(df):\n",
    "#     df['남성 불임 원인'] = ((df['남성 주 불임 원인'] == 1) | (df['남성 부 불임 원인'] == 1)).astype(int)\n",
    "#     df['여성 불임 원인'] = ((df['여성 주 불임 원인'] == 1) | (df['여성 부 불임 원인'] == 1)).astype(int)\n",
    "#     df['부부 불임 원인'] = ((df['부부 주 불임 원인'] == 1) | (df['부부 부 불임 원인'] == 1)).astype(int)\n",
    "    \n",
    "#     drop_cols = ['남성 주 불임 원인', '남성 부 불임 원인',\n",
    "#                  '여성 주 불임 원인', '여성 부 불임 원인',\n",
    "#                  '부부 주 불임 원인', '부부 부 불임 원인']\n",
    "    \n",
    "#     df = df.drop(columns=drop_cols, errors='ignore')\n",
    "\n",
    "#     return df\n",
    "\n",
    "# df_train = infertility_cause(df_train)\n",
    "# df_test = infertility_cause(df_test)"
   ]
  },
  {
   "cell_type": "code",
   "execution_count": 14,
   "metadata": {},
   "outputs": [],
   "source": [
    "# def drop_cols(df):\n",
    "# #     cols = ['불임 원인 - 난관 질환', '불임 원인 - 남성 요인', \n",
    "# #             '불임 원인 - 배란 장애', '불임 원인 - 자궁경부 문제',\n",
    "# #             '불임 원인 - 자궁내막증', '불임 원인 - 정자 농도', \n",
    "# #             '불임 원인 - 정자 면역학적 요인', '불임 원인 - 정자 운동성', \n",
    "# #             '불임 원인 - 정자 형태' ]\n",
    "#     cols = ['불임 원인 - 자궁경부 문제', '불임 원인 - 정자 면역학적 요인']\n",
    "    \n",
    "#     df = df.drop(columns=cols, errors='ignore')\n",
    "\n",
    "#     return df\n",
    "\n",
    "# df_train = drop_cols(df_train)\n",
    "# df_test = drop_cols(df_test)"
   ]
  },
  {
   "cell_type": "code",
   "execution_count": 15,
   "metadata": {},
   "outputs": [],
   "source": [
    "def drop_cols(df):\n",
    "    cols = ['남성 주 불임 원인', '남성 부 불임 원인', \n",
    "            '여성 주 불임 원인', '여성 부 불임 원인',\n",
    "            '부부 주 불임 원인', '부부 부 불임 원인']\n",
    "    \n",
    "    df = df.drop(columns=cols, errors='ignore')\n",
    "\n",
    "    return df\n",
    "\n",
    "df_train = drop_cols(df_train)\n",
    "df_test = drop_cols(df_test)"
   ]
  },
  {
   "cell_type": "code",
   "execution_count": 16,
   "metadata": {},
   "outputs": [],
   "source": [
    "# 난자 혼합 경과일, 배아 이식 경과일 groupby median fillna\n",
    "def fill_nan(df_train, df_test):\n",
    "    value1 = 0\n",
    "    value2 = df_train[df_train['시술 유형'] == 'IVF'].groupby(['신선 배아 사용 여부', '총 생성 배아 수'])['배아 이식 경과일'].median().fillna(5)\n",
    "\n",
    "    for df in [df_train, df_test]:\n",
    "        df.loc[df['시술 유형'] == 'IVF', '난자 혼합 경과일'] = df.loc[df['시술 유형'] == 'IVF', '난자 혼합 경과일'].fillna(value1)\n",
    "        df.loc[df['시술 유형'] == 'IVF', '배아 이식 경과일'] = df[df['시술 유형'] == 'IVF'].apply(\n",
    "            lambda row: value2.get((row['신선 배아 사용 여부'], row['총 생성 배아 수']), 5) \n",
    "            if pd.isna(row['배아 이식 경과일']) else row['배아 이식 경과일'], axis=1\n",
    "        )\n",
    "\n",
    "    return df_train, df_test\n",
    "\n",
    "df_train, df_test = fill_nan(df_train, df_test)"
   ]
  },
  {
   "cell_type": "markdown",
   "metadata": {},
   "source": [
    "### Feature engineering"
   ]
  },
  {
   "cell_type": "code",
   "execution_count": 17,
   "metadata": {},
   "outputs": [],
   "source": [
    "def advanced_features(df):\n",
    "    epsilon = 1e-5  # 분모 0 방지를 위한 작은 값\n",
    "\n",
    "\n",
    "#  바이너리(Yes/No) 변수 조합: \n",
    "    # 배란 자극, 단일 배아 이식, 착상 전 유전 진단, 동결/신선/기증 배아 사용, 대리모 여부\n",
    "    binary_cols = [\n",
    "        '배란 자극 여부', '단일 배아 이식 여부', '착상 전 유전 진단 사용 여부',\n",
    "        '동결 배아 사용 여부', '신선 배아 사용 여부', '기증 배아 사용 여부', '대리모 여부'\n",
    "    ]\n",
    "    # 이미 0/1로 변환되어 있다고 가정하고, 총 개수 합산\n",
    "    df['바이너리_합'] = df[binary_cols].sum(axis=1)\n",
    "    # 예시로 특정 두 변수 간 상호작용 (배란 자극과 단일 배아 이식)\n",
    "    df['배란자극x단일이식'] = df['배란 자극 여부'] * df['단일 배아 이식 여부']\n",
    "    \n",
    "    # 6. 경과일 차이: 배아 이식 경과일과 난자 혼합 경과일의 차이\n",
    "    df['경과일_차이'] = np.abs(df['배아 이식 경과일'] - df['난자 혼합 경과일'])\n",
    "    \n",
    "\n",
    "    #  불임 원인 관련 피처: 여러 불임 원인 컬럼을 합쳐서 총 원인 수 산출\n",
    "    infertility_cols = [\n",
    "        '불명확 불임 원인', '불임 원인 - 난관 질환', '불임 원인 - 남성 요인',\n",
    "        '불임 원인 - 배란 장애', '불임 원인 - 자궁경부 문제', '불임 원인 - 자궁내막증',\n",
    "        '불임 원인 - 정자 농도', '불임 원인 - 정자 면역학적 요인',\n",
    "        '불임 원인 - 정자 운동성', '불임 원인 - 정자 형태'\n",
    "    ]\n",
    "    # 만약 해당 컬럼들이 문자열(Y/N)이라면 0/1로 변환\n",
    "    for col in infertility_cols:\n",
    "        if df[col].dtype == 'object':\n",
    "            df[col] = df[col].map({'Y': 1, 'N': 0})\n",
    "    df['불임원인_수'] = df[infertility_cols].sum(axis=1)\n",
    "    \n",
    "    #  ICSI와 배란자극 여부 상호작용: ICSI 효과가 배란자극 여부와 어떻게 연관되는지\n",
    "    df['ICSIx배란자극'] = df['특정 시술 유형 - ICSI'] * df['배란 자극 여부']\n",
    "    \n",
    "    #  배아 저장 비율: 생성된 배아 중 얼마나 많은 배아가 저장되었는지\n",
    "    df['배아저장비율'] = df['저장된 배아 수'] / (df['총 생성 배아 수'] + epsilon)\n",
    "    \n",
    "    return df\n",
    "\n",
    "# 학습/테스트 데이터에 적용\n",
    "df_train = advanced_features(df_train)\n",
    "df_test  = advanced_features(df_test)"
   ]
  },
  {
   "cell_type": "raw",
   "metadata": {},
   "source": [
    "IVF 시술 과정에서 난자와 정자 혼합이 이루어진 이후 배아 이식이 진행됨\n",
    "배아 이식 경과일에 난자 혼합 경과일이 포함됨\n",
    "배아 이식 경과일: 수정 -> 배아 배양 -> 자궁 이식\n",
    "    \n",
    "음수 값이 나오는 것은 \"배아 이식 경과일\"이 \"난자 혼합 경과일\"보다 작다는 의미인데, \n",
    "이것은 일반적인 시험관 시술 과정에서는 있을 수 없는 값이에요.\n",
    "\n",
    "절대값 적용"
   ]
  },
  {
   "cell_type": "code",
   "execution_count": 18,
   "metadata": {
    "scrolled": true
   },
   "outputs": [],
   "source": [
    "def feature_engineering_ivf(df):\n",
    "    # IVF에만 적용\n",
    "#     df = df[df['시술 유형'] == 'IVF']\n",
    "    \n",
    "    # 임신 성공률\n",
    "    df['IVF 임신 성공률'] = df['IVF 임신 횟수'] / df['IVF 시술 횟수']\n",
    "    df['배아 이식 대비 임신 성공률'] = df['총 임신 횟수'] / df['이식된 배아 수']\n",
    "    \n",
    "    # 출산 성공률\n",
    "    df['IVF 출산 성공률'] = df['IVF 출산 횟수'] / df['IVF 임신 횟수']\n",
    "    df['배아 이식 대비 출산 성공률'] = df['총 출산 횟수'] / df['이식된 배아 수']\n",
    "    \n",
    "    # 배아 이식\n",
    "    df[\"이식된 배아 대비 이식 기간\"] = df[\"배아 이식 경과일\"] / df[\"이식된 배아 수\"]\n",
    "#     df['이식된 배아 대비 이식 기간'].fillna(0, inplace=True)\n",
    "    \n",
    "    # 난자\n",
    "    df['총 난자 수'] = df['수집된 신선 난자 수'] + df['해동 난자 수']\n",
    "    df['난자 사용률'] = df['혼합된 난자 수'] / df['총 난자 수']\n",
    "    df['미세주입 X 난자 수'] = df['혼합된 난자 수'] - df['미세주입된 난자 수']\n",
    "    \n",
    "    # 배아\n",
    "    df['총 배아 수'] = df['총 생성 배아 수'] + df['해동된 배아 수']\n",
    "    df['미세주입 X 배아 수'] = df['총 생성 배아 수'] - df['미세주입에서 생성된 배아 수']\n",
    "    df['미세주입 배아 생성 확률'] = df['미세주입에서 생성된 배아 수'] / df['미세주입된 난자 수']\n",
    "    df['미세주입 배아 이식 확률'] = df['미세주입 배아 이식 수'] / df['미세주입에서 생성된 배아 수']\n",
    "    df['미세주입 X 배아 생성 확률'] = df['미세주입 X 배아 수'] / df['미세주입 X 난자 수']\n",
    "    df['총 배아 생성 확률'] = df['총 배아 수'] / df['총 난자 수']\n",
    "    df['배아 이식 확률'] = df['이식된 배아 수'] / df['총 배아 수']\n",
    "    df['동결&IVF 배아 이식 확률'] = (df['이식된 배아 수'] - df['미세주입 배아 이식 수']) / (df['총 배아 수'] - df['미세주입에서 생성된 배아 수'])\n",
    "    \n",
    "    # 나이\n",
    "    df.loc[df['시술 유형'] == 'IVF', '나이 그룹별 평균 생성 배아 수'] = df.groupby('시술 당시 나이')['총 배아 수'].transform('mean')\n",
    "    df.loc[df['시술 유형'] == 'IVF', '나이 그룹별 평균 이식 배아 수'] = df.groupby('시술 당시 나이')['이식된 배아 수'].transform('mean')\n",
    "    # df.loc[df['시술 유형'] == 'IVF', '나이 그룹별 평균 배아 이식 확률'] = df.groupby('시술 당시 나이')['배아 이식 확률'].transform('mean')\n",
    "    # df.loc[df['시술 유형'] == 'IVF', '나이 그룹별 평균 배아 생성 확률'] = df.groupby('시술 당시 나이')['총 배아 생성 확률'].transform('mean')\n",
    "    df.loc[df['시술 유형'] == 'IVF', '나이 그룹별 평균 배아 이식 경과일'] = df.groupby('시술 당시 나이')['배아 이식 경과일'].transform('mean')\n",
    "\n",
    "    # new\n",
    "    df['신선 + 기증 + 동결'] = df[['신선 배아 사용 여부', '기증 배아 사용 여부', '동결 배아 사용 여부']].sum(axis=1)\n",
    "    \n",
    "    cols = ['총 난자 수','미세주입 X 난자 수','미세주입 X 배아 수','미세주입 X 배아 생성 확률','동결&IVF 배아 이식 확률']\n",
    "    df = df.drop(columns=cols, errors='ignore')\n",
    "    \n",
    "    return df\n",
    "\n",
    "df_train = feature_engineering_ivf(df_train)\n",
    "df_test = feature_engineering_ivf(df_test)"
   ]
  },
  {
   "cell_type": "code",
   "execution_count": 19,
   "metadata": {},
   "outputs": [],
   "source": [
    "def di_null(df):\n",
    "    df.loc[df['시술 유형'] == 'DI'] = df.loc[df['시술 유형'] == 'DI'].fillna(-1)\n",
    "    return df\n",
    "\n",
    "df_train = di_null(df_train)\n",
    "df_test = di_null(df_test)"
   ]
  },
  {
   "cell_type": "code",
   "execution_count": 20,
   "metadata": {
    "scrolled": true
   },
   "outputs": [
    {
     "name": "stdout",
     "output_type": "stream",
     "text": [
      "시술 시기 코드               0.000000\n",
      "시술 당시 나이               0.000000\n",
      "시술 유형                  0.000000\n",
      "배란 자극 여부               0.000000\n",
      "단일 배아 이식 여부            0.000000\n",
      "                         ...   \n",
      "배아 이식 확률               5.245542\n",
      "나이 그룹별 평균 생성 배아 수      0.000000\n",
      "나이 그룹별 평균 이식 배아 수      0.000000\n",
      "나이 그룹별 평균 배아 이식 경과일    0.000000\n",
      "신선 + 기증 + 동결           0.000000\n",
      "Length: 73, dtype: float64\n"
     ]
    }
   ],
   "source": [
    "# 결측 비율\n",
    "missing_ratio = df_train.isnull().mean() * 100\n",
    "print(missing_ratio)"
   ]
  },
  {
   "cell_type": "code",
   "execution_count": 21,
   "metadata": {},
   "outputs": [],
   "source": [
    "# 결측값 대체\n",
    "def replace_inf_and_nan(df, value_inf, value_na):\n",
    "    df.replace([np.inf, -np.inf], value_inf, inplace=True)  # inf, -inf 변환\n",
    "    df.fillna(value_na, inplace=True)  # NaN 변환\n",
    "    return df\n",
    "\n",
    "# 변환 적용\n",
    "value_inf = 999 # 3 / 0\n",
    "value_na = 999 # 0 / 0\n",
    "df_train = replace_inf_and_nan(df_train, value_inf, value_na)\n",
    "df_test = replace_inf_and_nan(df_test, value_inf, value_na)"
   ]
  },
  {
   "cell_type": "code",
   "execution_count": 22,
   "metadata": {},
   "outputs": [
    {
     "data": {
      "text/plain": [
       "0         26.0\n",
       "1         47.5\n",
       "2         26.0\n",
       "3         36.0\n",
       "4         26.0\n",
       "          ... \n",
       "256346    26.0\n",
       "256347    38.5\n",
       "256348    36.0\n",
       "256349    38.5\n",
       "256350    36.0\n",
       "Name: 시술 당시 나이, Length: 256351, dtype: float64"
      ]
     },
     "execution_count": 22,
     "metadata": {},
     "output_type": "execute_result"
    }
   ],
   "source": [
    "def eiden_feature_engineering(df):\n",
    "    # 임신 대비 출산 성공률\n",
    "    df['임신 대비 출산 성공률'] = df['총 출산 횟수'] / df['총 임신 횟수']\n",
    "    df['임신 대비 출산 실패율'] = 1 - df['임신 대비 출산 성공률']\n",
    "    \n",
    "    # 이식된 배아 수 대비 나이 : 나이가 많을수록 이식된 배아 수가 적어질 것이라 가정\n",
    "    df['이식된 배아 수 대비 나이'] = df['시술 당시 나이'] / df['이식된 배아 수']\n",
    "    df['이식된 배아 수 대비 나이'] = df['이식된 배아 수 대비 나이'].fillna(0)\n",
    "    return df\n",
    "    \n",
    "    \n",
    "    # 배아 수 대비 총 출산 횟수 \n",
    "df_train = eiden_feature_engineering(df_train)\n",
    "df_test = eiden_feature_engineering(df_test)\n",
    "\n",
    "df_train['시술 당시 나이']"
   ]
  },
  {
   "cell_type": "markdown",
   "metadata": {},
   "source": [
    "### Feature selection"
   ]
  },
  {
   "cell_type": "code",
   "execution_count": 23,
   "metadata": {},
   "outputs": [
    {
     "data": {
      "text/plain": [
       "['시술 시기 코드', '시술 유형', '난자 출처', '정자 출처']"
      ]
     },
     "execution_count": 23,
     "metadata": {},
     "output_type": "execute_result"
    }
   ],
   "source": [
    "# object 타입 컬럼 확인\n",
    "cat_features = list(df_train.select_dtypes(include=['object']).columns)\n",
    "cat_features"
   ]
  },
  {
   "cell_type": "code",
   "execution_count": 24,
   "metadata": {},
   "outputs": [],
   "source": [
    "# LabelEncoder 적용\n",
    "for col in cat_features:\n",
    "    le = LabelEncoder() \n",
    "    df_train[col] = le.fit_transform(df_train[col])  \n",
    "    df_test[col] = le.transform(df_test[col]) "
   ]
  },
  {
   "cell_type": "code",
   "execution_count": 25,
   "metadata": {
    "scrolled": true
   },
   "outputs": [],
   "source": [
    "# # Scaling\n",
    "# scaling_cols = [\n",
    "#     '총 생성 배아 수', '미세주입된 난자 수', '미세주입에서 생성된 배아 수', '이식된 배아 수', \n",
    "#     '미세주입 배아 이식 수', '저장된 배아 수', '미세주입 후 저장된 배아 수', '해동된 배아 수',\n",
    "#     '해동 난자 수', '수집된 신선 난자 수', '저장된 신선 난자 수', '혼합된 난자 수',\n",
    "#     '파트너 정자와 혼합된 난자 수', '기증자 정자와 혼합된 난자 수', '난자 혼합 경과일',\n",
    "#     '배아 이식 경과일', '경과일_차이', '불임원인_수', '배아저장비율', '이식된 배아 대비 이식 기간',\n",
    "#     '총 배아 수', '나이 그룹별 평균 생성 배아 수', '나이 그룹별 평균 이식 배아 수', '나이 그룹별 평균 배아 이식 경과일'\n",
    "# ]\n",
    "\n",
    "# scaler = MinMaxScaler()\n",
    "# df_train[scaling_cols] = scaler.fit_transform(df_train[scaling_cols])\n",
    "# df_test[scaling_cols] = scaler.transform(df_test[scaling_cols])"
   ]
  },
  {
   "cell_type": "markdown",
   "metadata": {},
   "source": [
    "### Modeling"
   ]
  },
  {
   "cell_type": "code",
   "execution_count": 26,
   "metadata": {},
   "outputs": [],
   "source": [
    "X = df_train.drop('임신 성공 여부', axis=1)\n",
    "y = df_train['임신 성공 여부']\n",
    "X_test = df_test"
   ]
  },
  {
   "cell_type": "markdown",
   "metadata": {},
   "source": [
    "#### Stratified K-Fold "
   ]
  },
  {
   "cell_type": "code",
   "execution_count": 27,
   "metadata": {
    "scrolled": true
   },
   "outputs": [
    {
     "name": "stdout",
     "output_type": "stream",
     "text": [
      "===== Fold 1 =====\n",
      "0:\ttotal: 58.8ms\tremaining: 41.1s\n",
      "100:\ttotal: 1.3s\tremaining: 7.74s\n",
      "200:\ttotal: 2.59s\tremaining: 6.42s\n",
      "300:\ttotal: 3.82s\tremaining: 5.06s\n",
      "400:\ttotal: 5.07s\tremaining: 3.78s\n",
      "500:\ttotal: 6.4s\tremaining: 2.54s\n",
      "600:\ttotal: 7.79s\tremaining: 1.28s\n",
      "699:\ttotal: 9.1s\tremaining: 0us\n",
      "===== Fold 2 =====\n",
      "0:\ttotal: 12.2ms\tremaining: 8.51s\n",
      "100:\ttotal: 1.27s\tremaining: 7.52s\n",
      "200:\ttotal: 2.54s\tremaining: 6.31s\n",
      "300:\ttotal: 3.79s\tremaining: 5.02s\n",
      "400:\ttotal: 5.02s\tremaining: 3.74s\n",
      "500:\ttotal: 6.39s\tremaining: 2.54s\n",
      "600:\ttotal: 7.82s\tremaining: 1.29s\n",
      "699:\ttotal: 9.16s\tremaining: 0us\n",
      "===== Fold 3 =====\n",
      "0:\ttotal: 13ms\tremaining: 9.06s\n",
      "100:\ttotal: 1.31s\tremaining: 7.77s\n",
      "200:\ttotal: 2.6s\tremaining: 6.46s\n",
      "300:\ttotal: 3.91s\tremaining: 5.19s\n",
      "400:\ttotal: 5.25s\tremaining: 3.91s\n",
      "500:\ttotal: 6.67s\tremaining: 2.65s\n",
      "600:\ttotal: 8.79s\tremaining: 1.45s\n",
      "699:\ttotal: 10.5s\tremaining: 0us\n",
      "===== Fold 4 =====\n",
      "0:\ttotal: 13.4ms\tremaining: 9.4s\n",
      "100:\ttotal: 1.34s\tremaining: 7.93s\n",
      "200:\ttotal: 2.62s\tremaining: 6.5s\n",
      "300:\ttotal: 3.91s\tremaining: 5.18s\n",
      "400:\ttotal: 5.18s\tremaining: 3.87s\n",
      "500:\ttotal: 6.63s\tremaining: 2.63s\n",
      "600:\ttotal: 8.12s\tremaining: 1.34s\n",
      "699:\ttotal: 9.47s\tremaining: 0us\n",
      "===== Fold 5 =====\n",
      "0:\ttotal: 12.5ms\tremaining: 8.77s\n",
      "100:\ttotal: 1.31s\tremaining: 7.75s\n",
      "200:\ttotal: 2.67s\tremaining: 6.62s\n",
      "300:\ttotal: 3.92s\tremaining: 5.2s\n",
      "400:\ttotal: 5.22s\tremaining: 3.9s\n",
      "500:\ttotal: 6.66s\tremaining: 2.64s\n",
      "600:\ttotal: 8.03s\tremaining: 1.32s\n",
      "699:\ttotal: 9.35s\tremaining: 0us\n"
     ]
    }
   ],
   "source": [
    "# Stratified K-Fold 설정\n",
    "n_splits = 5\n",
    "skf = StratifiedKFold(n_splits=n_splits, shuffle=True, random_state=123)\n",
    "\n",
    "metrics = {model: [] for model in ['CatBoost']} # Ensemble\n",
    "feature_importances = {model: [] for model in ['CatBoost']}\n",
    "test_proba = {model: [] for model in ['CatBoost']} # Ensemble\n",
    "\n",
    "# metrics = {model: [] for model in ['CatBoost', 'XGBoost', 'LightGBM', 'AdaBoost']} # Ensemble\n",
    "# feature_importances = {model: [] for model in ['CatBoost', 'XGBoost', 'LightGBM', 'AdaBoost']}\n",
    "# test_proba = {model: [] for model in ['CatBoost', 'XGBoost', 'LightGBM', 'AdaBoost']} # Ensemble\n",
    "\n",
    "for fold, (train_idx, val_idx) in enumerate(skf.split(X, y), 1):\n",
    "    print(f\"===== Fold {fold} =====\")\n",
    "\n",
    "    X_train, X_val = X.iloc[train_idx], X.iloc[val_idx]\n",
    "    y_train, y_val = y.iloc[train_idx], y.iloc[val_idx]\n",
    "\n",
    "    # 모델 정의\n",
    "    cat_model = CatBoostClassifier(\n",
    "        iterations=700, learning_rate=0.03, depth=8, l2_leaf_reg=10,\n",
    "        subsample=0.8, colsample_bylevel=0.8, random_strength=10, \n",
    "#         cat_features=cat_features, # 속도 너무 느려\n",
    "        loss_function='Logloss', eval_metric='AUC', verbose=100, random_seed=123\n",
    "    )\n",
    "\n",
    "    # xgb_model = XGBClassifier(\n",
    "    #     n_estimators=700, learning_rate=0.03, max_depth=7, min_child_weight=3,\n",
    "    #     gamma=0.1, subsample=0.8, colsample_bytree=0.8, reg_alpha=0.1,\n",
    "    #     reg_lambda=1.0, verbosity=1, random_state=123\n",
    "    # )\n",
    "\n",
    "    # lgbm_model = LGBMClassifier(\n",
    "    #     n_estimators=700, learning_rate=0.03, max_depth=-1, num_leaves=64,\n",
    "    #     min_child_samples=20, subsample=0.8, colsample_bytree=0.8,\n",
    "    #     reg_alpha=0.1, reg_lambda=1.0, verbosity=1, random_state=123\n",
    "    # )\n",
    "    \n",
    "    # adaboost_model = AdaBoostClassifier(\n",
    "    #     estimator=DecisionTreeClassifier(max_depth=2, min_samples_split=10, min_samples_leaf=5, random_state=123),\n",
    "    #     n_estimators=500, learning_rate=0.05,\n",
    "    #     algorithm=\"SAMME\", random_state=123\n",
    "    # )\n",
    "    \n",
    "#     ensemble_model = VotingClassifier(\n",
    "#         estimators=[('catboost', cat_model), ('xgboost', xgb_model), ('lightgbm', lgbm_model), ('adaboost', adaboost_model)],\n",
    "#         voting='soft', weights=[1, 1, 1, 0.8]\n",
    "#     )\n",
    "\n",
    "\n",
    "    # 모델 학습\n",
    "    for model in [cat_model]: # ensemble_model\n",
    "#     for model in [cat_model, xgb_model, lgbm_model, adaboost_model]: # ensemble_model\n",
    "        model.fit(X_train, y_train)\n",
    "\n",
    "    # 평가 함수\n",
    "    def evaluate_model(model, X_val, y_true):\n",
    "        y_pred = model.predict(X_val)\n",
    "        y_pred_proba = model.predict_proba(X_val)[:, 1]\n",
    "\n",
    "        return {\n",
    "            'Accuracy': accuracy_score(y_true, y_pred),\n",
    "            'Precision': precision_score(y_true, y_pred),\n",
    "            'Recall': recall_score(y_true, y_pred),\n",
    "            'F1 Score': f1_score(y_true, y_pred),\n",
    "            'ROC AUC Score': roc_auc_score(y_true, y_pred_proba)\n",
    "        }\n",
    "\n",
    "    # 평가 및 변수 중요도 저장\n",
    "    for model_name, model in zip(metrics.keys(), [cat_model]): # ensemble_model\n",
    "        metrics[model_name].append(evaluate_model(model, X_val, y_val))\n",
    "\n",
    "    for model_name, model in zip(['CatBoost'], [cat_model]):\n",
    "        feature_importances[model_name].append(model.feature_importances_)\n",
    "        \n",
    "    # 테스트 데이터 예측 확률 저장\n",
    "    test_proba['CatBoost'].append(cat_model.predict_proba(X_test)[:, 1])\n",
    "#     test_proba['XGBoost'].append(xgb_model.predict_proba(X_test)[:, 1])\n",
    "#     test_proba['LightGBM'].append(lgbm_model.predict_proba(X_test)[:, 1])\n",
    "#     test_proba['AdaBoost'].append(adaboost_model.predict_proba(X_test)[:, 1])\n",
    "#     test_proba['Ensemble'].append(ensemble_model.predict_proba(X_test)[:, 1])"
   ]
  },
  {
   "cell_type": "code",
   "execution_count": 28,
   "metadata": {},
   "outputs": [
    {
     "name": "stdout",
     "output_type": "stream",
     "text": [
      "===== Stratified K-Fold 평균 성능 =====\n",
      "\n",
      "== CatBoost Model ==\n",
      "Accuracy: 0.746102\n",
      "Precision: 0.540776\n",
      "Recall: 0.114257\n",
      "F1 Score: 0.188644\n",
      "ROC AUC Score: 0.739799\n"
     ]
    }
   ],
   "source": [
    "# 평가 지표 평균 출력\n",
    "print(\"===== Stratified K-Fold 평균 성능 =====\")\n",
    "for model_name, model_metrics in metrics.items():\n",
    "    avg_metrics = {metric: np.mean([fold_metric[metric] for fold_metric in model_metrics]) for metric in model_metrics[0]}\n",
    "    \n",
    "    print(f\"\\n== {model_name} Model ==\")\n",
    "    for metric, value in avg_metrics.items():\n",
    "        print(f\"{metric}: {value:.6f}\")"
   ]
  },
  {
   "cell_type": "code",
   "execution_count": 29,
   "metadata": {},
   "outputs": [
    {
     "name": "stdout",
     "output_type": "stream",
     "text": [
      "               Feature   CatBoost\n",
      "0      배아 이식 대비 임신 성공률  25.615096\n",
      "1      배아 이식 대비 출산 성공률  17.492346\n",
      "2             이식된 배아 수  11.742677\n",
      "3      이식된 배아 대비 이식 기간  11.731790\n",
      "4             배아 이식 확률   3.269309\n",
      "..                 ...        ...\n",
      "70       불임 원인 - 정자 농도   0.007621\n",
      "71       불임 원인 - 정자 형태   0.002269\n",
      "72      불임 원인 - 정자 운동성   0.002094\n",
      "73     불임 원인 - 자궁경부 문제   0.000412\n",
      "74  불임 원인 - 정자 면역학적 요인   0.000009\n",
      "\n",
      "[75 rows x 2 columns]\n"
     ]
    }
   ],
   "source": [
    "# 최종 변수 중요도 평균 계산\n",
    "df_fi_list = []\n",
    "for model_name, fi_list in feature_importances.items():\n",
    "    avg_importance = np.mean(fi_list, axis=0)\n",
    "    df_fi = pd.DataFrame({\n",
    "        'Feature': X_train.columns,\n",
    "        model_name: avg_importance \n",
    "    })\n",
    "    df_fi = df_fi.sort_values(by=model_name, ascending=False).reset_index(drop=True)\n",
    "    df_fi_list.append(df_fi)\n",
    "    \n",
    "df_fi_final = pd.concat(df_fi_list, axis=1)\n",
    "print(df_fi_final)"
   ]
  },
  {
   "cell_type": "code",
   "execution_count": 30,
   "metadata": {
    "scrolled": true
   },
   "outputs": [],
   "source": [
    "# catboost 기준 변수 중요도 0.1 미만 변수 제거\n",
    "df_cat = df_fi_final.iloc[:, :2]\n",
    "df_selected = df_cat[df_cat['CatBoost'] > 0.05]\n",
    "selected_features = df_selected['Feature'].tolist()\n",
    "\n",
    "# 중요도가 높은 피처만 선택하여 새로운 데이터 생성\n",
    "X = X[selected_features]\n",
    "X_test = X_test[selected_features]"
   ]
  },
  {
   "cell_type": "markdown",
   "metadata": {},
   "source": [
    "### Re-modeling"
   ]
  },
  {
   "cell_type": "code",
   "execution_count": 31,
   "metadata": {
    "scrolled": true
   },
   "outputs": [
    {
     "name": "stdout",
     "output_type": "stream",
     "text": [
      "===== Fold 1 =====\n",
      "0:\ttotal: 12.8ms\tremaining: 8.92s\n",
      "100:\ttotal: 1.2s\tremaining: 7.13s\n",
      "200:\ttotal: 2.39s\tremaining: 5.94s\n",
      "300:\ttotal: 3.58s\tremaining: 4.75s\n",
      "400:\ttotal: 4.86s\tremaining: 3.62s\n",
      "500:\ttotal: 6.14s\tremaining: 2.44s\n",
      "600:\ttotal: 7.42s\tremaining: 1.22s\n",
      "699:\ttotal: 8.65s\tremaining: 0us\n",
      "===== Fold 2 =====\n",
      "0:\ttotal: 12.2ms\tremaining: 8.51s\n",
      "100:\ttotal: 1.21s\tremaining: 7.16s\n",
      "200:\ttotal: 2.38s\tremaining: 5.91s\n",
      "300:\ttotal: 3.63s\tremaining: 4.81s\n",
      "400:\ttotal: 4.82s\tremaining: 3.59s\n",
      "500:\ttotal: 6.08s\tremaining: 2.41s\n",
      "600:\ttotal: 7.36s\tremaining: 1.21s\n",
      "699:\ttotal: 8.57s\tremaining: 0us\n",
      "===== Fold 3 =====\n",
      "0:\ttotal: 13.1ms\tremaining: 9.16s\n",
      "100:\ttotal: 1.28s\tremaining: 7.61s\n",
      "200:\ttotal: 2.44s\tremaining: 6.07s\n",
      "300:\ttotal: 3.57s\tremaining: 4.74s\n",
      "400:\ttotal: 4.75s\tremaining: 3.55s\n",
      "500:\ttotal: 6.02s\tremaining: 2.39s\n",
      "600:\ttotal: 7.31s\tremaining: 1.2s\n"
     ]
    }
   ],
   "source": [
    "# Stratified K-Fold 설정\n",
    "n_splits = 5\n",
    "skf = StratifiedKFold(n_splits=n_splits, shuffle=True, random_state=123)\n",
    "\n",
    "metrics = {model: [] for model in ['CatBoost']} # Ensemble\n",
    "feature_importances = {model: [] for model in ['CatBoost']}\n",
    "test_proba = {model: [] for model in ['CatBoost']} # Ensemble\n",
    "\n",
    "# metrics = {model: [] for model in ['CatBoost', 'XGBoost', 'LightGBM', 'AdaBoost']} # Ensemble\n",
    "# feature_importances = {model: [] for model in ['CatBoost', 'XGBoost', 'LightGBM', 'AdaBoost']}\n",
    "# test_proba = {model: [] for model in ['CatBoost', 'XGBoost', 'LightGBM', 'AdaBoost']} # Ensemble\n",
    "\n",
    "for fold, (train_idx, val_idx) in enumerate(skf.split(X, y), 1):\n",
    "    print(f\"===== Fold {fold} =====\")\n",
    "\n",
    "    X_train, X_val = X.iloc[train_idx], X.iloc[val_idx]\n",
    "    y_train, y_val = y.iloc[train_idx], y.iloc[val_idx]\n",
    "\n",
    "    # 모델 정의\n",
    "    cat_model = CatBoostClassifier(\n",
    "        iterations=700, learning_rate=0.03, depth=8, l2_leaf_reg=10,\n",
    "        subsample=0.8, colsample_bylevel=0.8, random_strength=10,\n",
    "        loss_function='Logloss', eval_metric='AUC', verbose=100, random_seed=123\n",
    "    )\n",
    "\n",
    "    # xgb_model = XGBClassifier(\n",
    "    #     n_estimators=700, learning_rate=0.03, max_depth=7, min_child_weight=3,\n",
    "    #     gamma=0.1, subsample=0.8, colsample_bytree=0.8, reg_alpha=0.1,\n",
    "    #     reg_lambda=1.0, verbosity=1, random_state=123\n",
    "    # )\n",
    "\n",
    "    # lgbm_model = LGBMClassifier(\n",
    "    #     n_estimators=700, learning_rate=0.03, max_depth=-1, num_leaves=64,\n",
    "    #     min_child_samples=20, subsample=0.8, colsample_bytree=0.8,\n",
    "    #     reg_alpha=0.1, reg_lambda=1.0, verbosity=1, random_state=123\n",
    "    # )\n",
    "    \n",
    "    # adaboost_model = AdaBoostClassifier(\n",
    "    #     estimator=DecisionTreeClassifier(max_depth=2, min_samples_split=10, min_samples_leaf=5, random_state=123),\n",
    "    #     n_estimators=500, learning_rate=0.05,\n",
    "    #     algorithm=\"SAMME\", random_state=123\n",
    "    # )\n",
    "    \n",
    "#     ensemble_model = VotingClassifier(\n",
    "#         estimators=[('catboost', cat_model), ('xgboost', xgb_model), ('lightgbm', lgbm_model), ('adaboost', adaboost_model)],\n",
    "#         voting='soft', weights=[1, 1, 1, 0.8]\n",
    "#     )\n",
    "\n",
    "\n",
    "    # 모델 학습\n",
    "    for model in [cat_model]: # ensemble_model\n",
    "#     for model in [cat_model, xgb_model, lgbm_model, adaboost_model]: # ensemble_model\n",
    "        model.fit(X_train, y_train)\n",
    "\n",
    "    # 평가 함수\n",
    "    def evaluate_model(model, X_val, y_true):\n",
    "        y_pred = model.predict(X_val)\n",
    "        y_pred_proba = model.predict_proba(X_val)[:, 1]\n",
    "\n",
    "        return {\n",
    "            'Accuracy': accuracy_score(y_true, y_pred),\n",
    "            'Precision': precision_score(y_true, y_pred),\n",
    "            'Recall': recall_score(y_true, y_pred),\n",
    "            'F1 Score': f1_score(y_true, y_pred),\n",
    "            'ROC AUC Score': roc_auc_score(y_true, y_pred_proba)\n",
    "        }\n",
    "\n",
    "    # 평가 및 변수 중요도 저장\n",
    "    for model_name, model in zip(metrics.keys(), [cat_model]): # ensemble_model\n",
    "        metrics[model_name].append(evaluate_model(model, X_val, y_val))\n",
    "\n",
    "    for model_name, model in zip(['CatBoost'], [cat_model]):\n",
    "        feature_importances[model_name].append(model.feature_importances_)\n",
    "        \n",
    "    # 테스트 데이터 예측 확률 저장\n",
    "    test_proba['CatBoost'].append(cat_model.predict_proba(X_test)[:, 1])\n",
    "#     test_proba['XGBoost'].append(xgb_model.predict_proba(X_test)[:, 1])\n",
    "#     test_proba['LightGBM'].append(lgbm_model.predict_proba(X_test)[:, 1])\n",
    "#     test_proba['AdaBoost'].append(adaboost_model.predict_proba(X_test)[:, 1])\n",
    "#     test_proba['Ensemble'].append(ensemble_model.predict_proba(X_test)[:, 1])"
   ]
  },
  {
   "cell_type": "code",
   "execution_count": null,
   "metadata": {},
   "outputs": [],
   "source": []
  },
  {
   "cell_type": "code",
   "execution_count": null,
   "metadata": {},
   "outputs": [
    {
     "name": "stdout",
     "output_type": "stream",
     "text": [
      "===== Stratified K-Fold 평균 성능 =====\n",
      "\n",
      "== CatBoost Model ==\n",
      "Accuracy: 0.745977\n",
      "Precision: 0.539010\n",
      "Recall: 0.115737\n",
      "F1 Score: 0.190541\n",
      "ROC AUC Score: 0.739762\n",
      "            Feature   CatBoost\n",
      "0   배아 이식 대비 출산 성공률  23.247615\n",
      "1          이식된 배아 수  18.960683\n",
      "2   배아 이식 대비 임신 성공률  14.459185\n",
      "3   이식된 배아 대비 이식 기간   6.831933\n",
      "4    이식된 배아 수 대비 나이   4.118792\n",
      "..              ...        ...\n",
      "56         해동된 배아 수   0.115576\n",
      "57    불임 원인 - 배란 장애   0.089752\n",
      "58        불명확 불임 원인   0.075395\n",
      "59     신선 + 기증 + 동결   0.070905\n",
      "60      저장된 신선 난자 수   0.063429\n",
      "\n",
      "[61 rows x 2 columns]\n"
     ]
    }
   ],
   "source": [
    "# 평가 지표 평균 출력\n",
    "print(\"===== Stratified K-Fold 평균 성능 =====\")\n",
    "for model_name, model_metrics in metrics.items():\n",
    "    avg_metrics = {metric: np.mean([fold_metric[metric] for fold_metric in model_metrics]) for metric in model_metrics[0]}\n",
    "    \n",
    "    print(f\"\\n== {model_name} Model ==\")\n",
    "    for metric, value in avg_metrics.items():\n",
    "        print(f\"{metric}: {value:.6f}\")\n",
    "        \n",
    "# 최종 변수 중요도 평균 계산\n",
    "df_fi_list = []\n",
    "for model_name, fi_list in feature_importances.items():\n",
    "    avg_importance = np.mean(fi_list, axis=0)\n",
    "    df_fi = pd.DataFrame({\n",
    "        'Feature': X_train.columns,\n",
    "        model_name: avg_importance \n",
    "    })\n",
    "    df_fi = df_fi.sort_values(by=model_name, ascending=False).reset_index(drop=True)\n",
    "    df_fi_list.append(df_fi)\n",
    "    \n",
    "df_fi_final = pd.concat(df_fi_list, axis=1)\n",
    "print(df_fi_final)"
   ]
  },
  {
   "cell_type": "markdown",
   "metadata": {},
   "source": [
    "### Prediction"
   ]
  },
  {
   "cell_type": "code",
   "execution_count": null,
   "metadata": {
    "scrolled": true
   },
   "outputs": [],
   "source": [
    "# Best AUC 기록한 모델의 pred_proba로 선택\n",
    "pred_proba = np.mean(test_proba['CatBoost'], axis=0)\n",
    "# pred_proba = np.mean(test_proba['XGBoost'], axis=0)\n",
    "# pred_proba = np.mean(test_proba['LightGBM'], axis=0)\n",
    "# pred_proba = np.mean(test_proba['AdaBoost'], axis=0)\n",
    "# pred_proba = np.mean(test_proba['Ensemble'], axis=0)"
   ]
  },
  {
   "cell_type": "markdown",
   "metadata": {},
   "source": [
    "### Submission"
   ]
  },
  {
   "cell_type": "code",
   "execution_count": null,
   "metadata": {},
   "outputs": [
    {
     "data": {
      "text/html": [
       "<div>\n",
       "<style scoped>\n",
       "    .dataframe tbody tr th:only-of-type {\n",
       "        vertical-align: middle;\n",
       "    }\n",
       "\n",
       "    .dataframe tbody tr th {\n",
       "        vertical-align: top;\n",
       "    }\n",
       "\n",
       "    .dataframe thead th {\n",
       "        text-align: right;\n",
       "    }\n",
       "</style>\n",
       "<table border=\"1\" class=\"dataframe\">\n",
       "  <thead>\n",
       "    <tr style=\"text-align: right;\">\n",
       "      <th></th>\n",
       "      <th>ID</th>\n",
       "      <th>probability</th>\n",
       "    </tr>\n",
       "  </thead>\n",
       "  <tbody>\n",
       "    <tr>\n",
       "      <th>0</th>\n",
       "      <td>TEST_00000</td>\n",
       "      <td>0.0</td>\n",
       "    </tr>\n",
       "    <tr>\n",
       "      <th>1</th>\n",
       "      <td>TEST_00001</td>\n",
       "      <td>0.0</td>\n",
       "    </tr>\n",
       "    <tr>\n",
       "      <th>2</th>\n",
       "      <td>TEST_00002</td>\n",
       "      <td>0.0</td>\n",
       "    </tr>\n",
       "    <tr>\n",
       "      <th>3</th>\n",
       "      <td>TEST_00003</td>\n",
       "      <td>0.0</td>\n",
       "    </tr>\n",
       "    <tr>\n",
       "      <th>4</th>\n",
       "      <td>TEST_00004</td>\n",
       "      <td>0.0</td>\n",
       "    </tr>\n",
       "  </tbody>\n",
       "</table>\n",
       "</div>"
      ],
      "text/plain": [
       "           ID  probability\n",
       "0  TEST_00000          0.0\n",
       "1  TEST_00001          0.0\n",
       "2  TEST_00002          0.0\n",
       "3  TEST_00003          0.0\n",
       "4  TEST_00004          0.0"
      ]
     },
     "execution_count": 34,
     "metadata": {},
     "output_type": "execute_result"
    }
   ],
   "source": [
    "# sample_submission = pd.read_csv('data/sample_submission.csv')\n",
    "# sample_submission.head()\n",
    "\n",
    "sample_submission = pd.read_csv(os.getenv('SUBMISSION_DATA_PATH'))\n",
    "sample_submission.head()"
   ]
  },
  {
   "cell_type": "code",
   "execution_count": null,
   "metadata": {},
   "outputs": [
    {
     "data": {
      "text/html": [
       "<div>\n",
       "<style scoped>\n",
       "    .dataframe tbody tr th:only-of-type {\n",
       "        vertical-align: middle;\n",
       "    }\n",
       "\n",
       "    .dataframe tbody tr th {\n",
       "        vertical-align: top;\n",
       "    }\n",
       "\n",
       "    .dataframe thead th {\n",
       "        text-align: right;\n",
       "    }\n",
       "</style>\n",
       "<table border=\"1\" class=\"dataframe\">\n",
       "  <thead>\n",
       "    <tr style=\"text-align: right;\">\n",
       "      <th></th>\n",
       "      <th>ID</th>\n",
       "      <th>probability</th>\n",
       "    </tr>\n",
       "  </thead>\n",
       "  <tbody>\n",
       "    <tr>\n",
       "      <th>0</th>\n",
       "      <td>TEST_00000</td>\n",
       "      <td>0.001165</td>\n",
       "    </tr>\n",
       "    <tr>\n",
       "      <th>1</th>\n",
       "      <td>TEST_00001</td>\n",
       "      <td>0.001003</td>\n",
       "    </tr>\n",
       "    <tr>\n",
       "      <th>2</th>\n",
       "      <td>TEST_00002</td>\n",
       "      <td>0.150727</td>\n",
       "    </tr>\n",
       "    <tr>\n",
       "      <th>3</th>\n",
       "      <td>TEST_00003</td>\n",
       "      <td>0.117681</td>\n",
       "    </tr>\n",
       "    <tr>\n",
       "      <th>4</th>\n",
       "      <td>TEST_00004</td>\n",
       "      <td>0.497603</td>\n",
       "    </tr>\n",
       "  </tbody>\n",
       "</table>\n",
       "</div>"
      ],
      "text/plain": [
       "           ID  probability\n",
       "0  TEST_00000     0.001165\n",
       "1  TEST_00001     0.001003\n",
       "2  TEST_00002     0.150727\n",
       "3  TEST_00003     0.117681\n",
       "4  TEST_00004     0.497603"
      ]
     },
     "execution_count": 35,
     "metadata": {},
     "output_type": "execute_result"
    }
   ],
   "source": [
    "# sample_submission['probability'] = pred_proba\n",
    "# # 저장\n",
    "# sample_submission.to_csv('data/submission.csv', index=False)\n",
    "# sample_submission.head()\n",
    "\n",
    "sample_submission['probability'] = pred_proba\n",
    "# 저장\n",
    "import datetime \n",
    "now = datetime.datetime.now()\n",
    "save_path = os.path.join(f'./log/submission/{now.strftime(\"%Y%m%d_%H%M%S\")}_{avg_metrics[\"ROC AUC Score\"]:.5f}_eiden.csv')\n",
    "sample_submission.to_csv(save_path, index=False)\n",
    "sample_submission.head()"
   ]
  },
  {
   "cell_type": "code",
   "execution_count": null,
   "metadata": {},
   "outputs": [
    {
     "data": {
      "text/html": [
       "<div>\n",
       "<style scoped>\n",
       "    .dataframe tbody tr th:only-of-type {\n",
       "        vertical-align: middle;\n",
       "    }\n",
       "\n",
       "    .dataframe tbody tr th {\n",
       "        vertical-align: top;\n",
       "    }\n",
       "\n",
       "    .dataframe thead th {\n",
       "        text-align: right;\n",
       "    }\n",
       "</style>\n",
       "<table border=\"1\" class=\"dataframe\">\n",
       "  <thead>\n",
       "    <tr style=\"text-align: right;\">\n",
       "      <th></th>\n",
       "      <th>ID</th>\n",
       "      <th>probability</th>\n",
       "    </tr>\n",
       "  </thead>\n",
       "  <tbody>\n",
       "    <tr>\n",
       "      <th>0</th>\n",
       "      <td>TEST_00000</td>\n",
       "      <td>0.001165</td>\n",
       "    </tr>\n",
       "    <tr>\n",
       "      <th>1</th>\n",
       "      <td>TEST_00001</td>\n",
       "      <td>0.001003</td>\n",
       "    </tr>\n",
       "    <tr>\n",
       "      <th>2</th>\n",
       "      <td>TEST_00002</td>\n",
       "      <td>0.150727</td>\n",
       "    </tr>\n",
       "    <tr>\n",
       "      <th>3</th>\n",
       "      <td>TEST_00003</td>\n",
       "      <td>0.117681</td>\n",
       "    </tr>\n",
       "    <tr>\n",
       "      <th>4</th>\n",
       "      <td>TEST_00004</td>\n",
       "      <td>0.497603</td>\n",
       "    </tr>\n",
       "  </tbody>\n",
       "</table>\n",
       "</div>"
      ],
      "text/plain": [
       "           ID  probability\n",
       "0  TEST_00000     0.001165\n",
       "1  TEST_00001     0.001003\n",
       "2  TEST_00002     0.150727\n",
       "3  TEST_00003     0.117681\n",
       "4  TEST_00004     0.497603"
      ]
     },
     "execution_count": 36,
     "metadata": {},
     "output_type": "execute_result"
    }
   ],
   "source": [
    "# 확인용\n",
    "submission = pd.read_csv(save_path)\n",
    "submission.head()"
   ]
  },
  {
   "cell_type": "code",
   "execution_count": null,
   "metadata": {},
   "outputs": [],
   "source": []
  }
 ],
 "metadata": {
  "kernelspec": {
   "display_name": "Python 3",
   "language": "python",
   "name": "python3"
  },
  "language_info": {
   "codemirror_mode": {
    "name": "ipython",
    "version": 3
   },
   "file_extension": ".py",
   "mimetype": "text/x-python",
   "name": "python",
   "nbconvert_exporter": "python",
   "pygments_lexer": "ipython3",
   "version": "3.8.10"
  }
 },
 "nbformat": 4,
 "nbformat_minor": 2
}
