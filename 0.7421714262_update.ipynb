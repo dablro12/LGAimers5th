{
 "cells": [
  {
   "cell_type": "markdown",
   "metadata": {},
   "source": [
    "### Libraries"
   ]
  },
  {
   "cell_type": "code",
   "execution_count": 1,
   "metadata": {},
   "outputs": [],
   "source": [
    "# pip install catboost"
   ]
  },
  {
   "cell_type": "code",
   "execution_count": 2,
   "metadata": {},
   "outputs": [],
   "source": [
    "import numpy as np\n",
    "import pandas as pd\n",
    "import warnings\n",
    "\n",
    "from catboost import CatBoostClassifier\n",
    "from sklearn.model_selection import StratifiedKFold\n",
    "from sklearn.preprocessing import LabelEncoder, MinMaxScaler\n",
    "from sklearn.metrics import accuracy_score, precision_score, recall_score, f1_score, roc_auc_score, confusion_matrix"
   ]
  },
  {
   "cell_type": "code",
   "execution_count": 3,
   "metadata": {},
   "outputs": [],
   "source": [
    "warnings.filterwarnings(\"ignore\")\n",
    "\n",
    "# 한글 처리\n",
    "import matplotlib.pyplot as plt\n",
    "import matplotlib.font_manager as fm\n",
    "\n",
    "# 한글 폰트 경로 설정\n",
    "font_path = '/usr/share/fonts/truetype/nanum/NanumBarunGothic.ttf'\n",
    "\n",
    "# 폰트 이름 얻어오기\n",
    "font_name = fm.FontProperties(fname=font_path).get_name()\n",
    "\n",
    "# 폰트 설정\n",
    "plt.rcParams['font.family'] = font_name\n"
   ]
  },
  {
   "cell_type": "markdown",
   "metadata": {},
   "source": [
    "### Load data"
   ]
  },
  {
   "cell_type": "code",
   "execution_count": 4,
   "metadata": {},
   "outputs": [],
   "source": [
    "from dotenv import load_dotenv\n",
    "import os\n",
    "from utils.EDA import analysis_임신성공여부, vis_numeric_corr_matrix\n",
    "load_dotenv()\n",
    "df_train = pd.read_csv(os.getenv('TRAIN_DATA_PATH')).drop(columns=['ID'])\n",
    "df_test = pd.read_csv(os.getenv('TEST_DATA_PATH')).drop(columns=['ID'])\n",
    "\n",
    "df_train.head(8).to_csv('train_sample.csv', encoding = 'utf-8-sig', index = False)\n",
    "\n",
    "# df_train = pd.read_csv('data/train.csv').drop(columns=['ID'])\n",
    "# df_test = pd.read_csv('data/test.csv').drop(columns=['ID'])"
   ]
  },
  {
   "cell_type": "markdown",
   "metadata": {},
   "source": [
    "### Preprocessing"
   ]
  },
  {
   "cell_type": "markdown",
   "metadata": {},
   "source": [
    "#### 컬럼 제거"
   ]
  },
  {
   "cell_type": "code",
   "execution_count": 5,
   "metadata": {},
   "outputs": [
    {
     "name": "stdout",
     "output_type": "stream",
     "text": [
      "제거된 컬럼 개수: 1\n",
      "제거된 컬럼: ['불임 원인 - 여성 요인']\n",
      "df_train.shape: (256351, 67)\n",
      "df_test.shape: (90067, 66)\n"
     ]
    }
   ],
   "source": [
    "# 컬럼 제거\n",
    "dropped_columns = ['불임 원인 - 여성 요인']\n",
    "\n",
    "df_train = df_train.drop(columns=dropped_columns, axis=1)\n",
    "df_test = df_test.drop(columns=dropped_columns, axis=1)\n",
    "\n",
    "print(\"제거된 컬럼 개수:\", len(dropped_columns))\n",
    "print(\"제거된 컬럼:\", dropped_columns)\n",
    "print(\"df_train.shape:\", df_train.shape)\n",
    "print(\"df_test.shape:\", df_test.shape)"
   ]
  },
  {
   "cell_type": "markdown",
   "metadata": {},
   "source": [
    "#### astype(int)"
   ]
  },
  {
   "cell_type": "code",
   "execution_count": 6,
   "metadata": {},
   "outputs": [
    {
     "name": "stdout",
     "output_type": "stream",
     "text": [
      "변환된 컬럼: ['총 시술 횟수', '클리닉 내 총 시술 횟수', 'IVF 시술 횟수', 'DI 시술 횟수', '총 임신 횟수', 'IVF 임신 횟수', 'DI 임신 횟수', '총 출산 횟수', 'IVF 출산 횟수', 'DI 출산 횟수']\n"
     ]
    }
   ],
   "source": [
    "# '횟수'를 포함하는 컬럼 찾기\n",
    "count_columns = [col for col in df_train.columns if '횟수' in col]\n",
    "\n",
    "def extract_number(value):\n",
    "    if isinstance(value, str):\n",
    "        return int(value[0])  # 맨 앞자리 숫자로 변환\n",
    "    return value\n",
    "\n",
    "for col in count_columns:\n",
    "    df_train[col] = df_train[col].apply(extract_number).astype(int)\n",
    "    df_test[col] = df_test[col].apply(extract_number).astype(int)\n",
    "print(\"변환된 컬럼:\", count_columns)"
   ]
  },
  {
   "cell_type": "markdown",
   "metadata": {},
   "source": [
    "#### 특정 시술 유형 - ICSI / 배아 생성 주요 이유 - 현재 시술용"
   ]
  },
  {
   "cell_type": "code",
   "execution_count": 7,
   "metadata": {},
   "outputs": [],
   "source": [
    "def get_dummies(df):\n",
    "    # 특정 시술 유형\n",
    "    df['특정 시술 유형 - ICSI'] = np.where(df['시술 유형'] != 'IVF', np.nan,  # 시술 유형이 DI\n",
    "                                     np.where(df['특정 시술 유형'].str.contains('ICSI', na=False), 1, 0))\n",
    "    df['특정 시술 유형 - Unknown'] = np.where(df['시술 유형'] != 'IVF', np.nan,  # 시술 유형이 DI\n",
    "                                        np.where(df['특정 시술 유형'].str.contains('Unknown', na=False), 1, 0))\n",
    "\n",
    "    # 배아 생성 주요 이유\n",
    "    df['배아 이유 - 현재 시술용'] = np.where(df['시술 유형'] != 'IVF', np.nan,  # 시술 유형이 DI\n",
    "                                    np.where(df['배아 생성 주요 이유'].str.contains('현재 시술용', na=False), 1, 0))\n",
    "    df['배아 이유 - 배아 저장용'] = np.where(df['시술 유형'] != 'IVF', np.nan,  # 시술 유형이 DI\n",
    "                                    np.where(df['배아 생성 주요 이유'].str.contains('배아 저장용', na=False), 1, 0))\n",
    "    df['배아 이유 - 기증용'] = np.where(df['시술 유형'] != 'IVF', np.nan,  # 시술 유형이 DI\n",
    "                                 np.where(df['배아 생성 주요 이유'].str.contains('기증용', na=False), 1, 0))\n",
    "    \n",
    "    df = df.drop(columns=['특정 시술 유형', '배아 생성 주요 이유'])\n",
    "    \n",
    "    return df\n",
    "\n",
    "df_train = get_dummies(df_train)\n",
    "df_test = get_dummies(df_test)"
   ]
  },
  {
   "cell_type": "markdown",
   "metadata": {},
   "source": [
    "#### 남성/여성/부부 주/부 불임 원인 제거"
   ]
  },
  {
   "cell_type": "code",
   "execution_count": 8,
   "metadata": {},
   "outputs": [],
   "source": [
    "# 남성, 여성, 부부의 불임 원인 통합 (주, 부)\n",
    "def infertility_cause(df):\n",
    "    df['남성 불임 원인'] = ((df['남성 주 불임 원인'] == 1) | (df['남성 부 불임 원인'] == 1)).astype(int)\n",
    "    df['여성 불임 원인'] = ((df['여성 주 불임 원인'] == 1) | (df['여성 부 불임 원인'] == 1)).astype(int)\n",
    "    df['부부 불임 원인'] = ((df['부부 주 불임 원인'] == 1) | (df['부부 부 불임 원인'] == 1)).astype(int)\n",
    "    \n",
    "    drop_cols = ['남성 주 불임 원인', '남성 부 불임 원인',\n",
    "                 '여성 주 불임 원인', '여성 부 불임 원인',\n",
    "                 '부부 주 불임 원인', '부부 부 불임 원인']\n",
    "    \n",
    "    df = df.drop(columns=drop_cols, errors='ignore')\n",
    "\n",
    "    return df\n",
    "\n",
    "df_train = infertility_cause(df_train)\n",
    "df_test = infertility_cause(df_test)"
   ]
  },
  {
   "cell_type": "markdown",
   "metadata": {},
   "source": [
    "#### 배아 해동 경과일이 0보다 큰 값을 가지는 경우 동결 배아 사용 여부 1로 바꾸기"
   ]
  },
  {
   "cell_type": "code",
   "execution_count": 9,
   "metadata": {},
   "outputs": [],
   "source": [
    "def process(df):\n",
    "    df.loc[(df['배아 해동 경과일'] > 0), '동결 배아 사용 여부'] = 1\n",
    "    # df.loc[(df['미세주입된 난자 수'] > 0), '특정 시술 유형 - ICSI'] = 1\n",
    "    return df\n",
    "\n",
    "df_train = process(df_train)\n",
    "df_test = process(df_test)"
   ]
  },
  {
   "cell_type": "markdown",
   "metadata": {},
   "source": [
    "### Feature engineering"
   ]
  },
  {
   "cell_type": "code",
   "execution_count": 10,
   "metadata": {
    "scrolled": true
   },
   "outputs": [],
   "source": [
    "def feature_engineering(df):\n",
    "   \n",
    "    # 임신/출산 성공률\n",
    "    df['IVF 시술 대비 임신 성공률'] = df['IVF 임신 횟수'] / df['IVF 시술 횟수']\n",
    "    \n",
    "    # 난자\n",
    "    df['총 난자 수'] = df['수집된 신선 난자 수'] + df['해동 난자 수']\n",
    "    df['난자 사용률'] = df['혼합된 난자 수'] / df['총 난자 수']\n",
    "    \n",
    "    # 배아\n",
    "    df['총 배아 수'] = df['총 생성 배아 수'] + df['해동된 배아 수']\n",
    "    df['미세주입 배아 생성 확률'] = df['미세주입에서 생성된 배아 수'] / df['미세주입된 난자 수']\n",
    "    df['미세주입 배아 이식 확률'] = df['미세주입 배아 이식 수'] / df['미세주입에서 생성된 배아 수']\n",
    "    df['총 배아 생성 확률'] = df['총 배아 수'] / df['총 난자 수']\n",
    "    df['신선 + 기증 + 동결'] = df[['신선 배아 사용 여부', '기증 배아 사용 여부', '동결 배아 사용 여부']].sum(axis=1)\n",
    "    df['배아 저장 비율'] = df['저장된 배아 수'] / (df['총 생성 배아 수'] + 1e-5)\n",
    "    \n",
    "    # 이식된 배아 수 관련\n",
    "    df['배아 이식 대비 임신 성공률'] = df['총 임신 횟수'] / df['이식된 배아 수']\n",
    "    # df['배아 이식 대비 임신 성공률'] = df['배아 이식 대비 임신 성공률'].apply(lambda x: 1 if (x > 1 and x != np.inf) else x)\n",
    "    df['배아 이식 대비 출산 성공률'] = df['총 출산 횟수'] / df['이식된 배아 수']\n",
    "    # df['배아 이식 대비 출산 성공률'] = df['배아 이식 대비 출산 성공률'].apply(lambda x: 1 if (x > 1 and x != np.inf) else x)\n",
    "    df['배아 이식 확률'] = df['이식된 배아 수'] / df['총 배아 수']\n",
    "    df['이식된 배아 대비 이식 기간'] = df['배아 이식 경과일'] / df['이식된 배아 수']\n",
    "\n",
    "    # 기타\n",
    "    df['배란자극 * 단일이식'] = df['배란 자극 여부'] * df['단일 배아 이식 여부']\n",
    "    df['배란자극 * ICSI'] = df['배란 자극 여부'] * df['특정 시술 유형 - ICSI'] \n",
    "    df['경과일 차이 - 난자 혼합 * 배아 이식'] = df['배아 이식 경과일'] - df['난자 혼합 경과일']\n",
    "    df['경과일 차이 - 배아 해동 * 배아 이식'] = df['배아 이식 경과일'] - df['배아 해동 경과일']\n",
    "    df['경과일 차이 - 난자 혼합 * 배아 해동'] = df['배아 해동 경과일'] - df['난자 혼합 경과일']\n",
    "    \n",
    "    # 바이너리 합\n",
    "    binary_cols = ['배란 자극 여부', '단일 배아 이식 여부', '동결 배아 사용 여부', '신선 배아 사용 여부', '기증 배아 사용 여부', '대리모 여부']\n",
    "    df['바이너리 합'] = df[binary_cols].sum(axis=1)\n",
    "\n",
    "    # PGD, PGS 합\n",
    "    pgd_pgs = ['착상 전 유전 검사 사용 여부', '착상 전 유전 진단 사용 여부', 'PGD 시술 여부', 'PGS 시술 여부']\n",
    "    df['PGD * PGS 합'] = df[pgd_pgs].sum(axis=1)\n",
    "    \n",
    "    # 불임 원인 점수\n",
    "    infertility_cols = ['불명확 불임 원인', '불임 원인 - 난관 질환', '불임 원인 - 남성 요인', '불임 원인 - 배란 장애', \n",
    "                        '불임 원인 - 자궁경부 문제', '불임 원인 - 자궁내막증', '불임 원인 - 정자 농도', '불임 원인 - 정자 면역학적 요인',\n",
    "                        '불임 원인 - 정자 운동성', '불임 원인 - 정자 형태']\n",
    "    for col in infertility_cols:\n",
    "        if df[col].dtype == 'object':\n",
    "            df[col] = df[col].map({'Y': 1, 'N': 0})\n",
    "    df['불임원인 수'] = df[infertility_cols].sum(axis=1)\n",
    "\n",
    "    # 변수 제거\n",
    "    cols = ['총 난자 수', '난자 해동 경과일']\n",
    "    df = df.drop(columns=cols, errors='ignore')\n",
    "\n",
    "    return df\n",
    "\n",
    "df_train = feature_engineering(df_train)\n",
    "df_test = feature_engineering(df_test)"
   ]
  },
  {
   "cell_type": "markdown",
   "metadata": {},
   "source": [
    "#### 환자 & 난자 기증자 나이 비교"
   ]
  },
  {
   "cell_type": "code",
   "execution_count": 11,
   "metadata": {},
   "outputs": [],
   "source": [
    "def compare_age(df):\n",
    "    patient_age_map = {'만18-34세': 4, '만35-37세': 5, '만38-39세': 5, '만40-42세': 6, '만43-44세': 6, '만45-50세': 7, '알 수 없음': np.nan}\n",
    "    egg_age_map = {'만20세 이하': 1, '만21-25세': 2, '만26-30세': 3, '만31-35세': 4, '만36-40세': 5, '만41-45세': 6, '알 수 없음': np.nan}\n",
    "    sper_age_map = {'만20세 이하': 1, '만21-25세': 2, '만26-30세': 3, '만31-35세': 4, '만36-40세': 5, '만41-45세': 6, '알 수 없음': np.nan}\n",
    "    \n",
    "    df['시술 당시 나이 순위'] = df['시술 당시 나이'].map(patient_age_map)\n",
    "    df['난자 기증자 나이 순위'] = df['난자 기증자 나이'].map(egg_age_map)\n",
    "    df['정자 기증자 나이 순위'] = df['정자 기증자 나이'].map(sper_age_map)\n",
    "\n",
    "    df['여성 나이 순위'] = np.where(\n",
    "        df['난자 출처'] == '기증 제공', df['난자 기증자 나이 순위'],\n",
    "        np.where(df['난자 출처'] == '본인 제공', df['시술 당시 나이 순위'], np.nan)\n",
    "    )\n",
    "\n",
    "    df['여성 나이 비교'] = df.apply(\n",
    "        lambda row: np.nan if pd.isna(row['시술 당시 나이 순위']) or pd.isna(row['난자 기증자 나이 순위']) \n",
    "        else (2 if row['시술 당시 나이 순위'] > row['난자 기증자 나이 순위']\n",
    "        else (1 if row['시술 당시 나이 순위'] == row['난자 기증자 나이 순위']\n",
    "        else 0)), \n",
    "        axis=1\n",
    "    )\n",
    "    df.loc[df['난자 출처'] == '본인 제공', '여성 나이 비교'] = df['여성 나이 비교'].fillna(1)\n",
    "\n",
    "    df['남성 나이 비교'] = df.apply(\n",
    "        lambda row: np.nan if pd.isna(row['여성 나이 순위']) or pd.isna(row['정자 기증자 나이 순위']) \n",
    "        else (2 if row['여성 나이 순위'] > row['정자 기증자 나이 순위']\n",
    "        else (1 if row['여성 나이 순위'] == row['정자 기증자 나이 순위'] \n",
    "        else 0)), \n",
    "        axis=1\n",
    "    )\n",
    "\n",
    "    df = df.drop(columns=['시술 당시 나이 순위', '난자 기증자 나이 순위', '정자 기증자 나이 순위', '여성 나이 순위'], errors='ignore')\n",
    "\n",
    "    return df\n",
    "\n",
    "df_train = compare_age(df_train)\n",
    "df_test = compare_age(df_test)"
   ]
  },
  {
   "cell_type": "markdown",
   "metadata": {},
   "source": [
    "#### 시술 유형이 DI인 경우 -1로 채우기"
   ]
  },
  {
   "cell_type": "code",
   "execution_count": 12,
   "metadata": {},
   "outputs": [],
   "source": [
    "def di_null(df):\n",
    "    mask = df['시술 유형'] == 'DI'\n",
    "    columns_to_fill = [col for col in df.columns if col != '임신 시도 또는 마지막 임신 경과 연수']\n",
    "    df.loc[mask, columns_to_fill] = df.loc[mask, columns_to_fill].fillna(-1)\n",
    "    return df\n",
    "\n",
    "df_train = di_null(df_train)\n",
    "df_test = di_null(df_test)"
   ]
  },
  {
   "cell_type": "code",
   "execution_count": 13,
   "metadata": {
    "scrolled": true
   },
   "outputs": [
    {
     "name": "stdout",
     "output_type": "stream",
     "text": [
      "시술 시기 코드                  0.000000\n",
      "시술 당시 나이                  0.000000\n",
      "임신 시도 또는 마지막 임신 경과 연수    96.344855\n",
      "시술 유형                     0.000000\n",
      "배란 자극 여부                  0.000000\n",
      "                           ...    \n",
      "바이너리 합                    0.000000\n",
      "PGD * PGS 합               0.000000\n",
      "불임원인 수                    0.000000\n",
      "여성 나이 비교                  0.701772\n",
      "남성 나이 비교                 90.083908\n",
      "Length: 88, dtype: float64\n"
     ]
    }
   ],
   "source": [
    "# 결측 비율\n",
    "missing_ratio = df_train.isnull().mean() * 100\n",
    "print(missing_ratio)"
   ]
  },
  {
   "cell_type": "markdown",
   "metadata": {},
   "source": [
    "#### NaN, inf 처리"
   ]
  },
  {
   "cell_type": "code",
   "execution_count": 14,
   "metadata": {},
   "outputs": [],
   "source": [
    "# 결측값 대체\n",
    "def replace_inf_and_nan(df, value_inf, value_na):\n",
    "    df.replace([np.inf, -np.inf], value_inf, inplace=True)  # inf, -inf 변환\n",
    "    df.fillna(value_na, inplace=True)  # NaN 변환\n",
    "    return df\n",
    "\n",
    "# 변환 적용\n",
    "value_inf = 999 # 3 / 0\n",
    "value_na = 999 # 0 / 0\n",
    "df_train = replace_inf_and_nan(df_train, value_inf, value_na)\n",
    "df_test = replace_inf_and_nan(df_test, value_inf, value_na)"
   ]
  },
  {
   "cell_type": "markdown",
   "metadata": {},
   "source": [
    "#### Encoding"
   ]
  },
  {
   "cell_type": "code",
   "execution_count": 15,
   "metadata": {},
   "outputs": [
    {
     "data": {
      "text/plain": [
       "['시술 시기 코드',\n",
       " '시술 당시 나이',\n",
       " '시술 유형',\n",
       " '배란 유도 유형',\n",
       " '난자 출처',\n",
       " '정자 출처',\n",
       " '난자 기증자 나이',\n",
       " '정자 기증자 나이']"
      ]
     },
     "execution_count": 15,
     "metadata": {},
     "output_type": "execute_result"
    }
   ],
   "source": [
    "# object 타입 컬럼 확인\n",
    "cat_features = list(df_train.select_dtypes(include=['object']).columns)\n",
    "cat_features"
   ]
  },
  {
   "cell_type": "code",
   "execution_count": 16,
   "metadata": {},
   "outputs": [],
   "source": [
    "# LabelEncoder 적용\n",
    "for col in cat_features:\n",
    "    le = LabelEncoder() \n",
    "    df_train[col] = le.fit_transform(df_train[col])  \n",
    "    df_test[col] = le.transform(df_test[col]) "
   ]
  },
  {
   "cell_type": "markdown",
   "metadata": {},
   "source": [
    "#### Scaling"
   ]
  },
  {
   "cell_type": "code",
   "execution_count": 17,
   "metadata": {
    "scrolled": true
   },
   "outputs": [],
   "source": [
    "# scaling_cols = [\n",
    "#     '총 생성 배아 수', '미세주입된 난자 수', '미세주입에서 생성된 배아 수', '이식된 배아 수', \n",
    "#     '미세주입 배아 이식 수', '저장된 배아 수', '미세주입 후 저장된 배아 수', '해동된 배아 수',\n",
    "#     '해동 난자 수', '수집된 신선 난자 수', '저장된 신선 난자 수', '혼합된 난자 수',\n",
    "#     '파트너 정자와 혼합된 난자 수', '기증자 정자와 혼합된 난자 수', '난자 혼합 경과일',\n",
    "#     '배아 이식 경과일', '경과일_차이', '불임원인_수', '배아저장비율', '이식된 배아 대비 이식 기간',\n",
    "#     '총 배아 수', '나이 그룹별 평균 생성 배아 수', '나이 그룹별 평균 이식 배아 수', '나이 그룹별 평균 배아 이식 경과일'\n",
    "# ]\n",
    "\n",
    "# scaler = MinMaxScaler()\n",
    "# df_train[scaling_cols] = scaler.fit_transform(df_train[scaling_cols])\n",
    "# df_test[scaling_cols] = scaler.transform(df_test[scaling_cols])"
   ]
  },
  {
   "cell_type": "code",
   "execution_count": null,
   "metadata": {},
   "outputs": [],
   "source": []
  },
  {
   "cell_type": "markdown",
   "metadata": {},
   "source": [
    "### Modeling"
   ]
  },
  {
   "cell_type": "code",
   "execution_count": 18,
   "metadata": {},
   "outputs": [],
   "source": [
    "X = df_train.drop('임신 성공 여부', axis=1)\n",
    "y = df_train['임신 성공 여부']\n",
    "X_test = df_test"
   ]
  },
  {
   "cell_type": "markdown",
   "metadata": {},
   "source": [
    "#### Stratified K-Fold "
   ]
  },
  {
   "cell_type": "code",
   "execution_count": 19,
   "metadata": {
    "scrolled": true
   },
   "outputs": [
    {
     "name": "stdout",
     "output_type": "stream",
     "text": [
      "===== Fold 1 =====\n",
      "0:\ttotal: 72.4ms\tremaining: 53.8s\n",
      "100:\ttotal: 1.09s\tremaining: 6.98s\n",
      "200:\ttotal: 2.08s\tremaining: 5.63s\n",
      "300:\ttotal: 2.88s\tremaining: 4.25s\n",
      "400:\ttotal: 3.71s\tremaining: 3.19s\n",
      "500:\ttotal: 4.5s\tremaining: 2.19s\n",
      "600:\ttotal: 5.3s\tremaining: 1.27s\n",
      "700:\ttotal: 6.12s\tremaining: 384ms\n",
      "744:\ttotal: 6.47s\tremaining: 0us\n",
      "===== Fold 2 =====\n",
      "0:\ttotal: 12.8ms\tremaining: 9.54s\n",
      "100:\ttotal: 1.09s\tremaining: 6.92s\n",
      "200:\ttotal: 2.03s\tremaining: 5.5s\n",
      "300:\ttotal: 2.92s\tremaining: 4.32s\n",
      "400:\ttotal: 3.79s\tremaining: 3.25s\n",
      "500:\ttotal: 4.59s\tremaining: 2.23s\n",
      "600:\ttotal: 5.41s\tremaining: 1.3s\n",
      "700:\ttotal: 6.25s\tremaining: 393ms\n",
      "744:\ttotal: 6.62s\tremaining: 0us\n",
      "===== Fold 3 =====\n",
      "0:\ttotal: 12.9ms\tremaining: 9.63s\n",
      "100:\ttotal: 1.04s\tremaining: 6.64s\n",
      "200:\ttotal: 2.02s\tremaining: 5.47s\n",
      "300:\ttotal: 2.91s\tremaining: 4.29s\n",
      "400:\ttotal: 3.71s\tremaining: 3.19s\n",
      "500:\ttotal: 4.57s\tremaining: 2.23s\n",
      "600:\ttotal: 5.43s\tremaining: 1.3s\n",
      "700:\ttotal: 6.28s\tremaining: 394ms\n",
      "744:\ttotal: 6.64s\tremaining: 0us\n",
      "===== Fold 4 =====\n",
      "0:\ttotal: 10.7ms\tremaining: 7.97s\n",
      "100:\ttotal: 1.03s\tremaining: 6.59s\n",
      "200:\ttotal: 1.98s\tremaining: 5.35s\n",
      "300:\ttotal: 2.87s\tremaining: 4.23s\n",
      "400:\ttotal: 3.7s\tremaining: 3.17s\n",
      "500:\ttotal: 4.52s\tremaining: 2.2s\n",
      "600:\ttotal: 5.33s\tremaining: 1.28s\n",
      "700:\ttotal: 6.12s\tremaining: 384ms\n",
      "744:\ttotal: 6.47s\tremaining: 0us\n",
      "===== Fold 5 =====\n",
      "0:\ttotal: 10.7ms\tremaining: 7.97s\n",
      "100:\ttotal: 1.01s\tremaining: 6.45s\n",
      "200:\ttotal: 1.96s\tremaining: 5.32s\n",
      "300:\ttotal: 2.79s\tremaining: 4.11s\n",
      "400:\ttotal: 3.59s\tremaining: 3.08s\n",
      "500:\ttotal: 4.41s\tremaining: 2.15s\n",
      "600:\ttotal: 5.18s\tremaining: 1.24s\n",
      "700:\ttotal: 6.01s\tremaining: 377ms\n",
      "744:\ttotal: 6.35s\tremaining: 0us\n"
     ]
    }
   ],
   "source": [
    "# Stratified K-Fold 설정\n",
    "n_splits = 5\n",
    "skf = StratifiedKFold(n_splits=n_splits, shuffle=True, random_state=123)\n",
    "\n",
    "metrics = {model: [] for model in ['CatBoost']} # Ensemble\n",
    "feature_importances = {model: [] for model in ['CatBoost']}\n",
    "test_proba = {model: [] for model in ['CatBoost']} # Ensemble\n",
    "\n",
    "\n",
    "for fold, (train_idx, val_idx) in enumerate(skf.split(X, y), 1):\n",
    "    print(f\"===== Fold {fold} =====\")\n",
    "\n",
    "    X_train, X_val = X.iloc[train_idx], X.iloc[val_idx]\n",
    "    y_train, y_val = y.iloc[train_idx], y.iloc[val_idx]\n",
    "\n",
    "    # 모델 정의\n",
    "    cat_model = CatBoostClassifier(\n",
    "        iterations=745, learning_rate=0.038577, depth=8, l2_leaf_reg=9.587765,subsample=0.748324, random_strength=0.0,\n",
    "        min_data_in_leaf=59, leaf_estimation_iterations=1, loss_function='Logloss', eval_metric='AUC', verbose=100, random_seed=123\n",
    "    )\n",
    "\n",
    "\n",
    "    # 모델 학습\n",
    "    for model in [cat_model]: # ensemble_model\n",
    "        model.fit(X_train, y_train)\n",
    "\n",
    "    # 평가 함수\n",
    "    def evaluate_model(model, X_val, y_true):\n",
    "        y_pred = model.predict(X_val)\n",
    "        y_pred_proba = model.predict_proba(X_val)[:, 1]\n",
    "\n",
    "        y_pred_proba = np.where(X_val['시술 당시 나이'] == 6, 0, y_pred_proba)\n",
    "        # y_pred_proba = np.where(X_val['이식된 배아 수'] == 0, 0, y_pred_proba)\n",
    "\n",
    "        return {\n",
    "            'Accuracy': accuracy_score(y_true, y_pred),\n",
    "            'Precision': precision_score(y_true, y_pred),\n",
    "            'Recall': recall_score(y_true, y_pred),\n",
    "            'F1 Score': f1_score(y_true, y_pred),\n",
    "            'ROC AUC Score': roc_auc_score(y_true, y_pred_proba)\n",
    "        }\n",
    "\n",
    "    # 평가 및 변수 중요도 저장\n",
    "    for model_name, model in zip(metrics.keys(), [cat_model]): # ensemble_model\n",
    "        metrics[model_name].append(evaluate_model(model, X_val, y_val))\n",
    "\n",
    "    for model_name, model in zip(['CatBoost'], [cat_model]):\n",
    "        feature_importances[model_name].append(model.feature_importances_)\n",
    "\n",
    "    y_test_proba = cat_model.predict_proba(X_test)[:, 1]\n",
    "    y_test_proba = np.where(X_test['시술 당시 나이'] == 6, 0, y_test_proba)\n",
    "    \n",
    "    # y_test_proba = np.where(X_test['이식된 배아 수'] == 0, 0, y_test_proba)\n",
    "    \n",
    "    # 테스트 데이터 예측 확률 저장\n",
    "    test_proba['CatBoost'].append(y_test_proba)"
   ]
  },
  {
   "cell_type": "code",
   "execution_count": 20,
   "metadata": {},
   "outputs": [
    {
     "name": "stdout",
     "output_type": "stream",
     "text": [
      "===== Val ROC AUC 기준 가중치 적용 =====\n",
      "===== Stratified K-Fold 평균 성능 =====\n",
      "\n",
      "== CatBoost Model ==\n",
      "Fold weights: [0.1995958547639919, 0.19999727236737666, 0.1998985586600518, 0.20013871140137166, 0.20036960280720795]\n",
      "Accuracy: 0.746203\n",
      "Precision: 0.539453\n",
      "Recall: 0.120522\n",
      "F1 Score: 0.197012\n",
      "ROC AUC Score: 0.740370\n"
     ]
    }
   ],
   "source": [
    "# Val ROC AUC 기준 가중치 적용\n",
    "print(\"===== Val ROC AUC 기준 가중치 적용 =====\")\n",
    "print(\"===== Stratified K-Fold 평균 성능 =====\")\n",
    "for model_name, model_metrics in metrics.items():\n",
    "    # 모든 fold의 ROC AUC 점수 합계 계산\n",
    "    total_val_auc = sum(fold_metric['ROC AUC Score'] for fold_metric in model_metrics)\n",
    "    \n",
    "    # 각 fold의 가중치 계산\n",
    "    fold_weights = [fold_metric['ROC AUC Score'] / total_val_auc for fold_metric in model_metrics]\n",
    "    \n",
    "    # 각 metric별 가중 평균 계산\n",
    "    weighted_avg_metrics = {\n",
    "        metric: sum((fold_metric['ROC AUC Score'] / total_val_auc) * fold_metric[metric]\n",
    "                    for fold_metric in model_metrics)\n",
    "        for metric in model_metrics[0]\n",
    "    }\n",
    "    \n",
    "    print(f\"\\n== {model_name} Model ==\")\n",
    "    print(\"Fold weights:\", fold_weights)\n",
    "    for metric, value in weighted_avg_metrics.items():\n",
    "        print(f\"{metric}: {value:.6f}\")"
   ]
  },
  {
   "cell_type": "code",
   "execution_count": 21,
   "metadata": {},
   "outputs": [
    {
     "name": "stdout",
     "output_type": "stream",
     "text": [
      "===== Val ROC AUC 계산 후 Softmax 변환 (정규화)  =====\n",
      "===== Stratified K-Fold 평균 성능 =====\n",
      "\n",
      "== CatBoost Model ==\n",
      "Fold weights: [0.1940692961768846, 0.19992354361233328, 0.19846773712450846, 0.20202808466239897, 0.20551133842387478]\n",
      "Accuracy: 0.746198\n",
      "Precision: 0.539406\n",
      "Recall: 0.120511\n",
      "F1 Score: 0.196993\n",
      "ROC AUC Score: 0.740387\n"
     ]
    }
   ],
   "source": [
    "# Val ROC AUC 계산 후 Softmax 변환 (정규화) \n",
    "print(\"===== Val ROC AUC 계산 후 Softmax 변환 (정규화)  =====\")\n",
    "print(\"===== Stratified K-Fold 평균 성능 =====\")\n",
    "T = 0.05\n",
    "for model_name, model_metrics in metrics.items():\n",
    "    roc_auc_scores = np.array([fold_metric['ROC AUC Score'] for fold_metric in model_metrics])\n",
    "    \n",
    "    # Softmax 변환 적용: 지수 함수를 통해 가중치를 계산하고 정규화\n",
    "    exp_scores = np.exp(roc_auc_scores / T)\n",
    "    total_exp = np.sum(exp_scores)\n",
    "    fold_weights = exp_scores / total_exp\n",
    "    \n",
    "    # 각 metric별 가중 평균 계산\n",
    "    weighted_avg_metrics = {\n",
    "        metric: sum(fw * fold_metric[metric] for fw, fold_metric in zip(fold_weights, model_metrics))\n",
    "        for metric in model_metrics[0]\n",
    "    }\n",
    "    \n",
    "    print(f\"\\n== {model_name} Model ==\")\n",
    "    print(\"Fold weights:\", fold_weights.tolist())\n",
    "    for metric, value in weighted_avg_metrics.items():\n",
    "        print(f\"{metric}: {value:.6f}\")"
   ]
  },
  {
   "cell_type": "code",
   "execution_count": 22,
   "metadata": {},
   "outputs": [],
   "source": [
    "# 0.740387 -> 0.740374"
   ]
  },
  {
   "cell_type": "code",
   "execution_count": 23,
   "metadata": {
    "scrolled": true
   },
   "outputs": [
    {
     "data": {
      "text/html": [
       "<div>\n",
       "<style scoped>\n",
       "    .dataframe tbody tr th:only-of-type {\n",
       "        vertical-align: middle;\n",
       "    }\n",
       "\n",
       "    .dataframe tbody tr th {\n",
       "        vertical-align: top;\n",
       "    }\n",
       "\n",
       "    .dataframe thead th {\n",
       "        text-align: right;\n",
       "    }\n",
       "</style>\n",
       "<table border=\"1\" class=\"dataframe\">\n",
       "  <thead>\n",
       "    <tr style=\"text-align: right;\">\n",
       "      <th></th>\n",
       "      <th>Feature</th>\n",
       "      <th>CatBoost</th>\n",
       "    </tr>\n",
       "  </thead>\n",
       "  <tbody>\n",
       "    <tr>\n",
       "      <th>0</th>\n",
       "      <td>이식된 배아 수</td>\n",
       "      <td>32.881075</td>\n",
       "    </tr>\n",
       "    <tr>\n",
       "      <th>1</th>\n",
       "      <td>배아 이식 대비 출산 성공률</td>\n",
       "      <td>16.348744</td>\n",
       "    </tr>\n",
       "    <tr>\n",
       "      <th>2</th>\n",
       "      <td>배아 이식 경과일</td>\n",
       "      <td>9.338451</td>\n",
       "    </tr>\n",
       "    <tr>\n",
       "      <th>3</th>\n",
       "      <td>시술 당시 나이</td>\n",
       "      <td>7.770922</td>\n",
       "    </tr>\n",
       "    <tr>\n",
       "      <th>4</th>\n",
       "      <td>배아 저장 비율</td>\n",
       "      <td>3.259943</td>\n",
       "    </tr>\n",
       "    <tr>\n",
       "      <th>...</th>\n",
       "      <td>...</td>\n",
       "      <td>...</td>\n",
       "    </tr>\n",
       "    <tr>\n",
       "      <th>82</th>\n",
       "      <td>신선 배아 사용 여부</td>\n",
       "      <td>0.000194</td>\n",
       "    </tr>\n",
       "    <tr>\n",
       "      <th>83</th>\n",
       "      <td>불임 원인 - 자궁경부 문제</td>\n",
       "      <td>0.000064</td>\n",
       "    </tr>\n",
       "    <tr>\n",
       "      <th>84</th>\n",
       "      <td>불임 원인 - 정자 면역학적 요인</td>\n",
       "      <td>0.000000</td>\n",
       "    </tr>\n",
       "    <tr>\n",
       "      <th>85</th>\n",
       "      <td>시술 유형</td>\n",
       "      <td>0.000000</td>\n",
       "    </tr>\n",
       "    <tr>\n",
       "      <th>86</th>\n",
       "      <td>배아 이유 - 현재 시술용</td>\n",
       "      <td>0.000000</td>\n",
       "    </tr>\n",
       "  </tbody>\n",
       "</table>\n",
       "<p>87 rows × 2 columns</p>\n",
       "</div>"
      ],
      "text/plain": [
       "               Feature   CatBoost\n",
       "0             이식된 배아 수  32.881075\n",
       "1      배아 이식 대비 출산 성공률  16.348744\n",
       "2            배아 이식 경과일   9.338451\n",
       "3             시술 당시 나이   7.770922\n",
       "4             배아 저장 비율   3.259943\n",
       "..                 ...        ...\n",
       "82         신선 배아 사용 여부   0.000194\n",
       "83     불임 원인 - 자궁경부 문제   0.000064\n",
       "84  불임 원인 - 정자 면역학적 요인   0.000000\n",
       "85               시술 유형   0.000000\n",
       "86      배아 이유 - 현재 시술용   0.000000\n",
       "\n",
       "[87 rows x 2 columns]"
      ]
     },
     "execution_count": 23,
     "metadata": {},
     "output_type": "execute_result"
    }
   ],
   "source": [
    "# 최종 변수 중요도 평균 계산\n",
    "df_fi_list = []\n",
    "for model_name, fi_list in feature_importances.items():\n",
    "    avg_importance = np.mean(fi_list, axis=0)\n",
    "    df_fi = pd.DataFrame({\n",
    "        'Feature': X_train.columns,\n",
    "        model_name: avg_importance \n",
    "    })\n",
    "    df_fi = df_fi.sort_values(by=model_name, ascending=False).reset_index(drop=True)\n",
    "    df_fi_list.append(df_fi)\n",
    "    \n",
    "df_fi_final = pd.concat(df_fi_list, axis=1)\n",
    "df_fi_final.round(6)"
   ]
  },
  {
   "cell_type": "code",
   "execution_count": 24,
   "metadata": {
    "scrolled": true
   },
   "outputs": [
    {
     "data": {
      "text/plain": [
       "임신 성공 여부              1.000000\n",
       "배아 이식 대비 임신 성공률       0.239867\n",
       "배아 이식 대비 출산 성공률       0.239861\n",
       "이식된 배아 대비 이식 기간       0.237093\n",
       "배아 이식 경과일             0.237010\n",
       "                        ...   \n",
       "불명확 불임 원인             0.001473\n",
       "여성 나이 비교              0.001203\n",
       "불임 원인 - 정자 면역학적 요인    0.001166\n",
       "불임 원인 - 정자 농도         0.000626\n",
       "불임 원인 - 난관 질환         0.000544\n",
       "Name: 임신 성공 여부, Length: 88, dtype: float64"
      ]
     },
     "execution_count": 24,
     "metadata": {},
     "output_type": "execute_result"
    }
   ],
   "source": [
    "abs(df_train.corr()['임신 성공 여부']).sort_values(ascending=False)"
   ]
  },
  {
   "cell_type": "code",
   "execution_count": 25,
   "metadata": {
    "scrolled": true
   },
   "outputs": [],
   "source": [
    "# # catboost 기준 변수 중요도 0.05 미만 변수 제거\n",
    "# df_cat = df_fi_final.iloc[:, :2]\n",
    "# df_selected = df_cat[df_cat['CatBoost'] > 0.05]\n",
    "# selected_features = df_selected['Feature'].tolist()\n",
    "\n",
    "# # 중요도가 높은 피처만 선택하여 새로운 데이터 생성\n",
    "# X = X[selected_features]\n",
    "# X_test = X_test[selected_features]"
   ]
  },
  {
   "cell_type": "markdown",
   "metadata": {},
   "source": [
    "### Re-modeling"
   ]
  },
  {
   "cell_type": "code",
   "execution_count": 26,
   "metadata": {
    "scrolled": true
   },
   "outputs": [],
   "source": [
    "# # Stratified K-Fold 설정\n",
    "# n_splits = 5\n",
    "# skf = StratifiedKFold(n_splits=n_splits, shuffle=True, random_state=123)\n",
    "\n",
    "# metrics = {model: [] for model in ['CatBoost']} # Ensemble\n",
    "# feature_importances = {model: [] for model in ['CatBoost']}\n",
    "# test_proba = {model: [] for model in ['CatBoost']} # Ensemble\n",
    "\n",
    "# # metrics = {model: [] for model in ['CatBoost', 'XGBoost', 'LightGBM', 'AdaBoost']} # Ensemble\n",
    "# # feature_importances = {model: [] for model in ['CatBoost', 'XGBoost', 'LightGBM', 'AdaBoost']}\n",
    "# # test_proba = {model: [] for model in ['CatBoost', 'XGBoost', 'LightGBM', 'AdaBoost']} # Ensemble\n",
    "\n",
    "# for fold, (train_idx, val_idx) in enumerate(skf.split(X, y), 1):\n",
    "#     print(f\"===== Fold {fold} =====\")\n",
    "\n",
    "#     X_train, X_val = X.iloc[train_idx], X.iloc[val_idx]\n",
    "#     y_train, y_val = y.iloc[train_idx], y.iloc[val_idx]\n",
    "\n",
    "#     # 모델 정의\n",
    "#     cat_model = CatBoostClassifier(\n",
    "#     iterations=745, \n",
    "#     learning_rate=0.038577, \n",
    "#     depth=8, \n",
    "#     l2_leaf_reg=9.587765,\n",
    "#     subsample=0.748324, \n",
    "#     random_strength=0.0,  # 0으로 설정\n",
    "#     min_data_in_leaf=59, \n",
    "#     leaf_estimation_iterations=1, \n",
    "#     loss_function='Logloss', \n",
    "#     eval_metric='AUC', \n",
    "#     verbose=100, \n",
    "#     random_seed=123)\n",
    "\n",
    "#     # xgb_model = XGBClassifier(\n",
    "#     #     n_estimators=700, learning_rate=0.03, max_depth=7, min_child_weight=3,\n",
    "#     #     gamma=0.1, subsample=0.8, colsample_bytree=0.8, reg_alpha=0.1,\n",
    "#     #     reg_lambda=1.0, verbosity=1, random_state=123\n",
    "#     # )\n",
    "\n",
    "#     # lgbm_model = LGBMClassifier(\n",
    "#     #     n_estimators=700, learning_rate=0.03, max_depth=-1, num_leaves=64,\n",
    "#     #     min_child_samples=20, subsample=0.8, colsample_bytree=0.8,\n",
    "#     #     reg_alpha=0.1, reg_lambda=1.0, verbosity=1, random_state=123\n",
    "#     # )\n",
    "    \n",
    "#     # adaboost_model = AdaBoostClassifier(\n",
    "#     #     estimator=DecisionTreeClassifier(max_depth=2, min_samples_split=10, min_samples_leaf=5, random_state=123),\n",
    "#     #     n_estimators=500, learning_rate=0.05,\n",
    "#     #     algorithm=\"SAMME\", random_state=123\n",
    "#     # )\n",
    "    \n",
    "# #     ensemble_model = VotingClassifier(\n",
    "# #         estimators=[('catboost', cat_model), ('xgboost', xgb_model), ('lightgbm', lgbm_model), ('adaboost', adaboost_model)],\n",
    "# #         voting='soft', weights=[1, 1, 1, 0.8]\n",
    "# #     )\n",
    "\n",
    "\n",
    "#     # 모델 학습\n",
    "#     for model in [cat_model]: # ensemble_model\n",
    "# #     for model in [cat_model, xgb_model, lgbm_model, adaboost_model]: # ensemble_model\n",
    "#         model.fit(X_train, y_train)\n",
    "\n",
    "#     # 평가 함수\n",
    "#     def evaluate_model(model, X_val, y_true):\n",
    "#         y_pred = model.predict(X_val)\n",
    "#         y_pred_proba = model.predict_proba(X_val)[:, 1]\n",
    "        \n",
    "#         # X_val의 이식된 배아 수가 0이면 y_pred_proba가 0이 되게 함\n",
    "#         y_pred_proba = np.where(X_val['이식된 배아 수'] == 0, 0, y_pred_proba)\n",
    "\n",
    "#         return {\n",
    "#             'Accuracy': accuracy_score(y_true, y_pred),\n",
    "#             'Precision': precision_score(y_true, y_pred),\n",
    "#             'Recall': recall_score(y_true, y_pred),\n",
    "#             'F1 Score': f1_score(y_true, y_pred),\n",
    "#             'ROC AUC Score': roc_auc_score(y_true, y_pred_proba)\n",
    "#         }\n",
    "\n",
    "#     # 평가 및 변수 중요도 저장\n",
    "#     for model_name, model in zip(metrics.keys(), [cat_model]): # ensemble_model\n",
    "#         metrics[model_name].append(evaluate_model(model, X_val, y_val))\n",
    "\n",
    "#     for model_name, model in zip(['CatBoost'], [cat_model]):\n",
    "#         feature_importances[model_name].append(model.feature_importances_)\n",
    "        \n",
    "#     # 테스트 데이터 예측 확률 저장\n",
    "#     # [ADD] 이식된 배아 수가 0이면 0으로 예측하도록 함.\n",
    "#     y_test_proba = cat_model.predict_proba(X_test)[:, 1]\n",
    "#     y_test_proba = np.where(X_test['이식된 배아 수'] == 0, 0, y_test_proba)\n",
    "    \n",
    "#     test_proba['CatBoost'].append(y_test_proba)\n",
    "# #     test_proba['XGBoost'].append(xgb_model.predict_proba(X_test)[:, 1])\n",
    "# #     test_proba['LightGBM'].append(lgbm_model.predict_proba(X_test)[:, 1])\n",
    "# #     test_proba['AdaBoost'].append(adaboost_model.predict_proba(X_test)[:, 1])\n",
    "# #     test_proba['Ensemble'].append(ensemble_model.predict_proba(X_test)[:, 1])"
   ]
  },
  {
   "cell_type": "code",
   "execution_count": 27,
   "metadata": {},
   "outputs": [],
   "source": [
    "# # 평가 지표 평균 출력\n",
    "# print(\"===== Stratified K-Fold 평균 성능 =====\")\n",
    "# for model_name, model_metrics in metrics.items():\n",
    "#     avg_metrics = {metric: np.mean([fold_metric[metric] for fold_metric in model_metrics]) for metric in model_metrics[0]}\n",
    "    \n",
    "#     print(f\"\\n== {model_name} Model ==\")\n",
    "#     for metric, value in avg_metrics.items():\n",
    "#         print(f\"{metric}: {value:.6f}\")"
   ]
  },
  {
   "cell_type": "markdown",
   "metadata": {},
   "source": [
    "### Prediction"
   ]
  },
  {
   "cell_type": "code",
   "execution_count": 28,
   "metadata": {
    "scrolled": true
   },
   "outputs": [],
   "source": [
    "# # Best AUC 기록한 모델의 pred_proba로 선택\n",
    "# pred_proba = np.mean(test_proba['CatBoost'], axis=0)\n",
    "# # pred_proba = np.mean(test_proba['XGBoost'], axis=0)\n",
    "# # pred_proba = np.mean(test_proba['LightGBM'], axis=0)\n",
    "# # pred_proba = np.mean(test_proba['AdaBoost'], axis=0)\n",
    "# # pred_proba = np.mean(test_proba['Ensemble'], axis=0)"
   ]
  },
  {
   "cell_type": "code",
   "execution_count": 29,
   "metadata": {},
   "outputs": [],
   "source": [
    "# Fold별 Val ROC AUC 기준 가중치 적용한 pred_proba\n",
    "model = 'CatBoost'\n",
    "roc_auc_scores = np.array([fold_metrics['ROC AUC Score'] for fold_metrics in metrics[model]])\n",
    "weights = roc_auc_scores / np.sum(roc_auc_scores)  # 합이 1이 되도록 정규화\n",
    "test_proba_array = np.array(test_proba[model])\n",
    "pred_proba = np.average(test_proba_array, axis=0, weights=fold_weights) # fold_weights: 정규화된 가중치"
   ]
  },
  {
   "cell_type": "markdown",
   "metadata": {},
   "source": [
    "### Submission"
   ]
  },
  {
   "cell_type": "code",
   "execution_count": 30,
   "metadata": {},
   "outputs": [
    {
     "data": {
      "text/html": [
       "<div>\n",
       "<style scoped>\n",
       "    .dataframe tbody tr th:only-of-type {\n",
       "        vertical-align: middle;\n",
       "    }\n",
       "\n",
       "    .dataframe tbody tr th {\n",
       "        vertical-align: top;\n",
       "    }\n",
       "\n",
       "    .dataframe thead th {\n",
       "        text-align: right;\n",
       "    }\n",
       "</style>\n",
       "<table border=\"1\" class=\"dataframe\">\n",
       "  <thead>\n",
       "    <tr style=\"text-align: right;\">\n",
       "      <th></th>\n",
       "      <th>ID</th>\n",
       "      <th>probability</th>\n",
       "    </tr>\n",
       "  </thead>\n",
       "  <tbody>\n",
       "    <tr>\n",
       "      <th>0</th>\n",
       "      <td>TEST_00000</td>\n",
       "      <td>0.0</td>\n",
       "    </tr>\n",
       "    <tr>\n",
       "      <th>1</th>\n",
       "      <td>TEST_00001</td>\n",
       "      <td>0.0</td>\n",
       "    </tr>\n",
       "    <tr>\n",
       "      <th>2</th>\n",
       "      <td>TEST_00002</td>\n",
       "      <td>0.0</td>\n",
       "    </tr>\n",
       "    <tr>\n",
       "      <th>3</th>\n",
       "      <td>TEST_00003</td>\n",
       "      <td>0.0</td>\n",
       "    </tr>\n",
       "    <tr>\n",
       "      <th>4</th>\n",
       "      <td>TEST_00004</td>\n",
       "      <td>0.0</td>\n",
       "    </tr>\n",
       "  </tbody>\n",
       "</table>\n",
       "</div>"
      ],
      "text/plain": [
       "           ID  probability\n",
       "0  TEST_00000          0.0\n",
       "1  TEST_00001          0.0\n",
       "2  TEST_00002          0.0\n",
       "3  TEST_00003          0.0\n",
       "4  TEST_00004          0.0"
      ]
     },
     "execution_count": 30,
     "metadata": {},
     "output_type": "execute_result"
    }
   ],
   "source": [
    "# sample_submission = pd.read_csv('data/sample_submission.csv')\n",
    "# sample_submission.head()\n",
    "\n",
    "sample_submission = pd.read_csv(os.getenv('SUBMISSION_DATA_PATH'))\n",
    "sample_submission.head()"
   ]
  },
  {
   "cell_type": "code",
   "execution_count": 31,
   "metadata": {},
   "outputs": [
    {
     "ename": "IndexError",
     "evalue": "index 90068 is out of bounds for axis 0 with size 90067",
     "output_type": "error",
     "traceback": [
      "\u001b[0;31m---------------------------------------------------------------------------\u001b[0m",
      "\u001b[0;31mIndexError\u001b[0m                                Traceback (most recent call last)",
      "Cell \u001b[0;32mIn[31], line 3\u001b[0m\n\u001b[1;32m      1\u001b[0m \u001b[38;5;66;03m#%% \u001b[39;00m\n\u001b[1;32m      2\u001b[0m index \u001b[38;5;241m=\u001b[39m X_train[X_train[\u001b[38;5;124m'\u001b[39m\u001b[38;5;124m이식된 배아 수\u001b[39m\u001b[38;5;124m'\u001b[39m] \u001b[38;5;241m==\u001b[39m \u001b[38;5;241m0\u001b[39m][[\u001b[38;5;124m'\u001b[39m\u001b[38;5;124m이식된 배아 수\u001b[39m\u001b[38;5;124m'\u001b[39m]]\u001b[38;5;241m.\u001b[39mindex\n\u001b[0;32m----> 3\u001b[0m \u001b[43mpred_proba\u001b[49m\u001b[43m[\u001b[49m\u001b[43mindex\u001b[49m\u001b[43m]\u001b[49m\u001b[38;5;241m.\u001b[39mmin(), pred_proba[index]\u001b[38;5;241m.\u001b[39mmax()\n\u001b[1;32m      5\u001b[0m \u001b[38;5;66;03m# index.shape\u001b[39;00m\n",
      "\u001b[0;31mIndexError\u001b[0m: index 90068 is out of bounds for axis 0 with size 90067"
     ]
    }
   ],
   "source": [
    "#%% \n",
    "index = X_train[X_train['이식된 배아 수'] == 0][['이식된 배아 수']].index\n",
    "pred_proba[index].min(), pred_proba[index].max()\n",
    "\n",
    "# index.shape\n"
   ]
  },
  {
   "cell_type": "code",
   "execution_count": null,
   "metadata": {},
   "outputs": [
    {
     "data": {
      "text/plain": [
       "(0.0, 0.042472807310189764)"
      ]
     },
     "execution_count": 39,
     "metadata": {},
     "output_type": "execute_result"
    }
   ],
   "source": [
    "#%% \n",
    "index = X_test[X_test['이식된 배아 수'] == 0][['이식된 배아 수']].index\n",
    "pred_proba[index].min(), pred_proba[index].max()\n",
    "\n",
    "# index.shape\n"
   ]
  },
  {
   "cell_type": "code",
   "execution_count": null,
   "metadata": {},
   "outputs": [
    {
     "ename": "NameError",
     "evalue": "name 'y_' is not defined",
     "output_type": "error",
     "traceback": [
      "\u001b[0;31m---------------------------------------------------------------------------\u001b[0m",
      "\u001b[0;31mNameError\u001b[0m                                 Traceback (most recent call last)",
      "Cell \u001b[0;32mIn[31], line 5\u001b[0m\n\u001b[1;32m      1\u001b[0m \u001b[38;5;66;03m# sample_submission['probability'] = pred_proba\u001b[39;00m\n\u001b[1;32m      2\u001b[0m \u001b[38;5;66;03m# # 저장\u001b[39;00m\n\u001b[1;32m      3\u001b[0m \u001b[38;5;66;03m# sample_submission.to_csv('data/submission.csv', index=False)\u001b[39;00m\n\u001b[1;32m      4\u001b[0m \u001b[38;5;66;03m# sample_submission.head()\u001b[39;00m\n\u001b[0;32m----> 5\u001b[0m \u001b[43my_\u001b[49m[y_[\u001b[38;5;124m'\u001b[39m\u001b[38;5;124m이식된 배아 수\u001b[39m\u001b[38;5;124m'\u001b[39m] \u001b[38;5;241m==\u001b[39m \u001b[38;5;241m0\u001b[39m][[\u001b[38;5;124m'\u001b[39m\u001b[38;5;124m이식된 배아 수\u001b[39m\u001b[38;5;124m'\u001b[39m, \u001b[38;5;124m'\u001b[39m\u001b[38;5;124m임신 성공 여부\u001b[39m\u001b[38;5;124m'\u001b[39m]]\u001b[38;5;241m.\u001b[39mindex\n\u001b[1;32m      8\u001b[0m sample_submission[\u001b[38;5;124m'\u001b[39m\u001b[38;5;124mprobability\u001b[39m\u001b[38;5;124m'\u001b[39m] \u001b[38;5;241m=\u001b[39m pred_proba\n\u001b[1;32m      9\u001b[0m \u001b[38;5;66;03m# 저장\u001b[39;00m\n",
      "\u001b[0;31mNameError\u001b[0m: name 'y_' is not defined"
     ]
    }
   ],
   "source": [
    "# sample_submission['probability'] = pred_proba\n",
    "# # 저장\n",
    "# sample_submission.to_csv('data/submission.csv', index=False)\n",
    "# sample_submission.head()\n",
    "\n",
    "\n",
    "sample_submission['probability'] = pred_proba\n",
    "# 저장\n",
    "import datetime \n",
    "now = datetime.datetime.now()\n",
    "save_path = os.path.join(f'./log/submission/{now.strftime(\"%Y%m%d_%H%M%S\")}_{weighted_avg_metrics[\"ROC AUC Score\"]:.5f}_eiden.csv')\n",
    "sample_submission.to_csv(save_path, index=False)\n",
    "sample_submission.head()"
   ]
  },
  {
   "cell_type": "code",
   "execution_count": null,
   "metadata": {},
   "outputs": [
    {
     "data": {
      "text/html": [
       "<div>\n",
       "<style scoped>\n",
       "    .dataframe tbody tr th:only-of-type {\n",
       "        vertical-align: middle;\n",
       "    }\n",
       "\n",
       "    .dataframe tbody tr th {\n",
       "        vertical-align: top;\n",
       "    }\n",
       "\n",
       "    .dataframe thead th {\n",
       "        text-align: right;\n",
       "    }\n",
       "</style>\n",
       "<table border=\"1\" class=\"dataframe\">\n",
       "  <thead>\n",
       "    <tr style=\"text-align: right;\">\n",
       "      <th></th>\n",
       "      <th>ID</th>\n",
       "      <th>probability</th>\n",
       "    </tr>\n",
       "  </thead>\n",
       "  <tbody>\n",
       "    <tr>\n",
       "      <th>0</th>\n",
       "      <td>TEST_00000</td>\n",
       "      <td>0.002249</td>\n",
       "    </tr>\n",
       "    <tr>\n",
       "      <th>1</th>\n",
       "      <td>TEST_00001</td>\n",
       "      <td>0.004002</td>\n",
       "    </tr>\n",
       "    <tr>\n",
       "      <th>2</th>\n",
       "      <td>TEST_00002</td>\n",
       "      <td>0.144358</td>\n",
       "    </tr>\n",
       "    <tr>\n",
       "      <th>3</th>\n",
       "      <td>TEST_00003</td>\n",
       "      <td>0.114534</td>\n",
       "    </tr>\n",
       "    <tr>\n",
       "      <th>4</th>\n",
       "      <td>TEST_00004</td>\n",
       "      <td>0.500987</td>\n",
       "    </tr>\n",
       "  </tbody>\n",
       "</table>\n",
       "</div>"
      ],
      "text/plain": [
       "           ID  probability\n",
       "0  TEST_00000     0.002249\n",
       "1  TEST_00001     0.004002\n",
       "2  TEST_00002     0.144358\n",
       "3  TEST_00003     0.114534\n",
       "4  TEST_00004     0.500987"
      ]
     },
     "execution_count": 31,
     "metadata": {},
     "output_type": "execute_result"
    }
   ],
   "source": [
    "# 확인용\n",
    "submission = pd.read_csv(save_path)\n",
    "submission.head()"
   ]
  },
  {
   "cell_type": "code",
   "execution_count": null,
   "metadata": {},
   "outputs": [],
   "source": []
  }
 ],
 "metadata": {
  "kernelspec": {
   "display_name": "cv",
   "language": "python",
   "name": "python3"
  },
  "language_info": {
   "codemirror_mode": {
    "name": "ipython",
    "version": 3
   },
   "file_extension": ".py",
   "mimetype": "text/x-python",
   "name": "python",
   "nbconvert_exporter": "python",
   "pygments_lexer": "ipython3",
   "version": "3.8.10"
  }
 },
 "nbformat": 4,
 "nbformat_minor": 4
}
